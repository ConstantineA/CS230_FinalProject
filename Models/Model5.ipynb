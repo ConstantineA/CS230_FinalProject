{
  "nbformat": 4,
  "nbformat_minor": 0,
  "metadata": {
    "colab": {
      "name": "Model5.ipynb",
      "provenance": [],
      "collapsed_sections": []
    },
    "kernelspec": {
      "name": "python3",
      "display_name": "Python 3"
    },
    "language_info": {
      "name": "python"
    },
    "accelerator": "GPU"
  },
  "cells": [
    {
      "cell_type": "code",
      "metadata": {
        "colab": {
          "base_uri": "https://localhost:8080/"
        },
        "id": "lUbp8-MVIYHv",
        "outputId": "4f10f14c-aa02-4f6d-ef84-0ba97833d398"
      },
      "source": [
        "from google.colab import drive\n",
        "drive.mount('/content/drive')"
      ],
      "execution_count": null,
      "outputs": [
        {
          "output_type": "stream",
          "name": "stdout",
          "text": [
            "Drive already mounted at /content/drive; to attempt to forcibly remount, call drive.mount(\"/content/drive\", force_remount=True).\n"
          ]
        }
      ]
    },
    {
      "cell_type": "code",
      "metadata": {
        "id": "hEpQBx34_FqI"
      },
      "source": [
        "from keras.models import Sequential, load_model\n",
        "from keras.layers import Dense, BatchNormalization\n",
        "from keras.initializers import HeNormal\n",
        "from matplotlib import image\n",
        "from matplotlib import pyplot\n",
        "import os\n",
        "import shutil\n",
        "import numpy as np\n",
        "from PIL import Image\n",
        "import pickle\n",
        "from sklearn.preprocessing import MultiLabelBinarizer\n"
      ],
      "execution_count": null,
      "outputs": []
    },
    {
      "cell_type": "markdown",
      "metadata": {
        "id": "rA23pJmlxK63"
      },
      "source": [
        "# **Binary Basic NN**"
      ]
    },
    {
      "cell_type": "code",
      "metadata": {
        "colab": {
          "base_uri": "https://localhost:8080/"
        },
        "id": "diX-WnxEIj9q",
        "outputId": "755748c5-5903-4627-df77-2ab2cfeaaaa5"
      },
      "source": [
        "pathToDataBinary = \"drive/MyDrive/CS 230 Final Project/Final Data and CSVs/Final CSV Files and Data/Binary Split/\"\n",
        "print(pathToDataBinary + \"train_X.p\")"
      ],
      "execution_count": null,
      "outputs": [
        {
          "output_type": "stream",
          "name": "stdout",
          "text": [
            "drive/MyDrive/CS 230 Final Project/Final Data and CSVs/Final CSV Files and Data/Binary Split/train_X.p\n"
          ]
        }
      ]
    },
    {
      "cell_type": "code",
      "metadata": {
        "colab": {
          "base_uri": "https://localhost:8080/"
        },
        "id": "J89iEqLK_5w1",
        "outputId": "e26f6191-a850-4114-efd5-ffdb72c0d0dc"
      },
      "source": [
        "# load the test BINARY dataset to check loaded in Model\n",
        "X_testUnflatB = pickle.load(open(pathToDataBinary+\"test_X.p\", 'rb'))\n",
        "y_testUnflatB = pickle.load(open(pathToDataBinary+\"test_Y.p\", 'rb'))\n",
        "\n",
        "print(X_testUnflatB.shape)\n",
        "print(y_testUnflatB.shape)\n",
        "\n",
        "X_testB = X_testUnflatB.reshape(X_testUnflatB.shape[0],-1)\n",
        "y_testB = y_testUnflatB.reshape(y_testUnflatB.shape[0],-1)\n",
        "\n",
        "print(X_testB.shape)\n",
        "print(y_testB.shape)\n"
      ],
      "execution_count": null,
      "outputs": [
        {
          "output_type": "stream",
          "name": "stdout",
          "text": [
            "(910, 208, 160, 3)\n",
            "(910,)\n",
            "(910, 99840)\n",
            "(910, 1)\n"
          ]
        }
      ]
    },
    {
      "cell_type": "code",
      "metadata": {
        "colab": {
          "base_uri": "https://localhost:8080/"
        },
        "id": "bfEJ8OUod01B",
        "outputId": "a59969a3-1dc2-44d9-8258-cb18f8be4d2a"
      },
      "source": [
        "pathToData = \"drive/MyDrive/CS 230 Final Project/Final Data and CSVs/Final CSV Files and Data/Multi Split/\"\n",
        "print(pathToData + \"train_X.p\")"
      ],
      "execution_count": null,
      "outputs": [
        {
          "output_type": "stream",
          "name": "stdout",
          "text": [
            "drive/MyDrive/CS 230 Final Project/Final Data and CSVs/Final CSV Files and Data/Multi Split/train_X.p\n"
          ]
        }
      ]
    },
    {
      "cell_type": "code",
      "metadata": {
        "colab": {
          "base_uri": "https://localhost:8080/"
        },
        "id": "gwZ0xcJldpn4",
        "outputId": "0e145176-5a84-427a-9ad4-062bfa79af7b"
      },
      "source": [
        "#LOADING IN MULTI DATASET\n",
        "mlb = MultiLabelBinarizer()\n",
        "# load the train dataset\n",
        "X_trainUnflat = pickle.load(open(pathToData+\"train_X.p\", 'rb'))\n",
        "y_trainUnflat = pickle.load(open(pathToData+\"train_Y.p\", 'rb'))\n",
        "\n",
        "print(X_trainUnflat.shape)\n",
        "print(y_trainUnflat.shape)\n",
        "\n",
        "X_train = X_trainUnflat.reshape(X_trainUnflat.shape[0],-1)\n",
        "y_train = y_trainUnflat.reshape(y_trainUnflat.shape[0],-1)\n",
        "y_train = mlb.fit_transform(y_train)\n",
        "\n",
        "print(X_train.shape)\n",
        "print(y_train.shape)\n",
        "\n",
        "# load the dev dataset\n",
        "X_devUnflat = pickle.load(open(pathToData+\"dev_X.p\", 'rb'))\n",
        "y_devUnflat = pickle.load(open(pathToData+\"dev_Y.p\", 'rb'))\n",
        "\n",
        "print(X_devUnflat.shape)\n",
        "print(y_devUnflat.shape)\n",
        "\n",
        "X_dev = X_devUnflat.reshape(X_devUnflat.shape[0],-1)\n",
        "y_dev = y_devUnflat.reshape(y_devUnflat.shape[0],-1)\n",
        "y_dev = mlb.fit_transform(y_dev)\n",
        "\n",
        "print(X_dev.shape)\n",
        "print(y_dev.shape)\n",
        "\n",
        "# load the test dataset\n",
        "X_testUnflat = pickle.load(open(pathToData+\"test_X.p\", 'rb'))\n",
        "y_testUnflat = pickle.load(open(pathToData+\"test_Y.p\", 'rb'))\n",
        "\n",
        "print(X_testUnflat.shape)\n",
        "print(y_testUnflat.shape)\n",
        "\n",
        "X_test = X_testUnflat.reshape(X_testUnflat.shape[0],-1)\n",
        "y_test = y_testUnflat.reshape(y_testUnflat.shape[0],-1)\n",
        "y_test = mlb.fit_transform(y_test)\n",
        "\n",
        "print(X_test.shape)\n",
        "print(y_test.shape)"
      ],
      "execution_count": null,
      "outputs": [
        {
          "output_type": "stream",
          "name": "stdout",
          "text": [
            "(4246, 208, 160, 3)\n",
            "(4246,)\n",
            "(4246, 99840)\n",
            "(4246, 3)\n",
            "(910, 208, 160, 3)\n",
            "(910,)\n",
            "(910, 99840)\n",
            "(910, 3)\n",
            "(910, 208, 160, 3)\n",
            "(910,)\n",
            "(910, 99840)\n",
            "(910, 3)\n"
          ]
        }
      ]
    },
    {
      "cell_type": "code",
      "metadata": {
        "colab": {
          "base_uri": "https://localhost:8080/"
        },
        "id": "OwsCxKZWuxax",
        "outputId": "e79110d3-842a-4484-afd5-157f9886506f"
      },
      "source": [
        "pathToModels = \"drive/MyDrive/CS 230 Final Project/Models/\"\n",
        "print(pathToData+\"bestBinaryNNModel.h5\")\n"
      ],
      "execution_count": null,
      "outputs": [
        {
          "output_type": "stream",
          "name": "stdout",
          "text": [
            "drive/MyDrive/CS 230 Final Project/Final Data and CSVs/Final CSV Files and Data/Multi Split/bestBinaryNNModel.h5\n"
          ]
        }
      ]
    },
    {
      "cell_type": "code",
      "metadata": {
        "id": "zQyirpTmwbdW"
      },
      "source": [
        "loadedBestModel = load_model(pathToModels+\"bestBinaryNNModel.h5\")"
      ],
      "execution_count": null,
      "outputs": []
    },
    {
      "cell_type": "code",
      "metadata": {
        "colab": {
          "base_uri": "https://localhost:8080/"
        },
        "id": "voG-xs7HxBvJ",
        "outputId": "40eb94ea-fe44-4bfd-beea-cf3ddf9b9ed8"
      },
      "source": [
        "_, accuracy = loadedBestModel.evaluate(X_testB, y_testB)\n",
        "print('Test Accuracy: %.2f' % (accuracy*100))"
      ],
      "execution_count": null,
      "outputs": [
        {
          "output_type": "stream",
          "name": "stdout",
          "text": [
            "29/29 [==============================] - 1s 10ms/step - loss: 1.4191 - accuracy: 0.8077\n",
            "Test Accuracy: 80.77\n"
          ]
        }
      ]
    },
    {
      "cell_type": "code",
      "metadata": {
        "colab": {
          "base_uri": "https://localhost:8080/"
        },
        "id": "tFlIOxmwa3pm",
        "outputId": "60a70050-6e2f-4081-d0e4-944a52bf77c6"
      },
      "source": [
        "loadedBestModel.summary()"
      ],
      "execution_count": null,
      "outputs": [
        {
          "output_type": "stream",
          "name": "stdout",
          "text": [
            "Model: \"sequential_2\"\n",
            "_________________________________________________________________\n",
            " Layer (type)                Output Shape              Param #   \n",
            "=================================================================\n",
            " dense_14 (Dense)            (None, 416)               41533856  \n",
            "                                                                 \n",
            " dense_15 (Dense)            (None, 208)               86736     \n",
            "                                                                 \n",
            " dense_16 (Dense)            (None, 104)               21736     \n",
            "                                                                 \n",
            " dense_17 (Dense)            (None, 52)                5460      \n",
            "                                                                 \n",
            " dense_18 (Dense)            (None, 26)                1378      \n",
            "                                                                 \n",
            " dense_19 (Dense)            (None, 13)                351       \n",
            "                                                                 \n",
            " dense_20 (Dense)            (None, 1)                 14        \n",
            "                                                                 \n",
            "=================================================================\n",
            "Total params: 41,649,531\n",
            "Trainable params: 41,649,531\n",
            "Non-trainable params: 0\n",
            "_________________________________________________________________\n"
          ]
        }
      ]
    },
    {
      "cell_type": "code",
      "metadata": {
        "id": "Lmzfse9_hlZi"
      },
      "source": [
        "#restarting\n",
        "for layer in loadedBestModel.layers:\n",
        "  layer.trainable = True"
      ],
      "execution_count": null,
      "outputs": []
    },
    {
      "cell_type": "code",
      "metadata": {
        "id": "Q4UhSKVRcKF4"
      },
      "source": [
        "for layer in loadedBestModel.layers[:2]:\n",
        "  layer.trainable = False"
      ],
      "execution_count": null,
      "outputs": []
    },
    {
      "cell_type": "code",
      "metadata": {
        "colab": {
          "base_uri": "https://localhost:8080/"
        },
        "id": "Pr0NQ4K4dBx_",
        "outputId": "3fd927c5-e541-443b-b0c0-f44c66366471"
      },
      "source": [
        "loadedBestModel.summary()"
      ],
      "execution_count": null,
      "outputs": [
        {
          "output_type": "stream",
          "name": "stdout",
          "text": [
            "Model: \"sequential_2\"\n",
            "_________________________________________________________________\n",
            " Layer (type)                Output Shape              Param #   \n",
            "=================================================================\n",
            " dense_14 (Dense)            (None, 416)               41533856  \n",
            "                                                                 \n",
            " dense_15 (Dense)            (None, 208)               86736     \n",
            "                                                                 \n",
            " dense_16 (Dense)            (None, 104)               21736     \n",
            "                                                                 \n",
            " dense_17 (Dense)            (None, 52)                5460      \n",
            "                                                                 \n",
            " dense_18 (Dense)            (None, 26)                1378      \n",
            "                                                                 \n",
            " dense_19 (Dense)            (None, 13)                351       \n",
            "                                                                 \n",
            " dense_20 (Dense)            (None, 1)                 14        \n",
            "                                                                 \n",
            "=================================================================\n",
            "Total params: 41,649,531\n",
            "Trainable params: 28,939\n",
            "Non-trainable params: 41,620,592\n",
            "_________________________________________________________________\n"
          ]
        }
      ]
    },
    {
      "cell_type": "code",
      "metadata": {
        "colab": {
          "base_uri": "https://localhost:8080/"
        },
        "id": "6kb6z7UDiSah",
        "outputId": "e598b3b2-2597-46a2-af18-09ff9cd820cf"
      },
      "source": [
        "#HYPERPARAMETER SEARCH, freezing first 2 layers\n",
        "batchSizes = [100,200,300]\n",
        "numEpochs = 50\n",
        "print(batchSizes)"
      ],
      "execution_count": null,
      "outputs": [
        {
          "output_type": "stream",
          "name": "stdout",
          "text": [
            "[100, 200, 300]\n"
          ]
        }
      ]
    },
    {
      "cell_type": "code",
      "metadata": {
        "colab": {
          "base_uri": "https://localhost:8080/"
        },
        "id": "2RPxCAidio2X",
        "outputId": "d6cd6870-d8d8-433f-a176-4b14c43f24c2"
      },
      "source": [
        "trainAccuracy = []\n",
        "valAccuracy = []\n",
        "trainLoss = []\n",
        "valLoss = []\n",
        "\n",
        "for batchSize in batchSizes:\n",
        "  loadedBestModel = load_model(pathToModels+\"bestBinaryNNModel.h5\")\n",
        "  for layer in loadedBestModel.layers[:2]:\n",
        "    layer.trainable = False\n",
        "  print(\"BatchSize : \", batchSize)\n",
        "  model = Sequential()\n",
        "  for layer in loadedBestModel.layers[:-1]:\n",
        "    model.add(layer)\n",
        "    model.add(BatchNormalization())\n",
        "  model.add(Dense(3, activation='softmax'))\n",
        "  model.compile(loss='categorical_crossentropy', optimizer='adam', metrics=['categorical_accuracy'])\n",
        "  history = model.fit(X_train, y_train, epochs=numEpochs, batch_size=batchSize, validation_data = (X_dev, y_dev))\n",
        "  historyDict = history.history\n",
        "  #print(historyDict.keys())\n",
        "  #trainAccuracy.append(historyDict[\"accuracy\"])\n",
        "  #valAccuracy.append(historyDict[\"val_accuracy\"])\n",
        "  trainLoss.append(historyDict['loss'])\n",
        "  valLoss.append(historyDict['val_loss'])"
      ],
      "execution_count": null,
      "outputs": [
        {
          "output_type": "stream",
          "name": "stdout",
          "text": [
            "BatchSize :  100\n",
            "Epoch 1/50\n",
            "43/43 [==============================] - 3s 38ms/step - loss: 0.9006 - categorical_accuracy: 0.5704 - val_loss: 1.0703 - val_categorical_accuracy: 0.4769\n",
            "Epoch 2/50\n",
            "43/43 [==============================] - 1s 28ms/step - loss: 0.6467 - categorical_accuracy: 0.7106 - val_loss: 0.9939 - val_categorical_accuracy: 0.5187\n",
            "Epoch 3/50\n",
            "43/43 [==============================] - 1s 27ms/step - loss: 0.5646 - categorical_accuracy: 0.7586 - val_loss: 0.8262 - val_categorical_accuracy: 0.6604\n",
            "Epoch 4/50\n",
            "43/43 [==============================] - 1s 27ms/step - loss: 0.5154 - categorical_accuracy: 0.7869 - val_loss: 0.7626 - val_categorical_accuracy: 0.6868\n",
            "Epoch 5/50\n",
            "43/43 [==============================] - 1s 27ms/step - loss: 0.4844 - categorical_accuracy: 0.7977 - val_loss: 0.7046 - val_categorical_accuracy: 0.7187\n",
            "Epoch 6/50\n",
            "43/43 [==============================] - 1s 27ms/step - loss: 0.4583 - categorical_accuracy: 0.8085 - val_loss: 0.6166 - val_categorical_accuracy: 0.7385\n",
            "Epoch 7/50\n",
            "43/43 [==============================] - 1s 28ms/step - loss: 0.4269 - categorical_accuracy: 0.8267 - val_loss: 0.5602 - val_categorical_accuracy: 0.7527\n",
            "Epoch 8/50\n",
            "43/43 [==============================] - 1s 28ms/step - loss: 0.4277 - categorical_accuracy: 0.8323 - val_loss: 0.5428 - val_categorical_accuracy: 0.7835\n",
            "Epoch 9/50\n",
            "43/43 [==============================] - 1s 28ms/step - loss: 0.4046 - categorical_accuracy: 0.8373 - val_loss: 0.4787 - val_categorical_accuracy: 0.8022\n",
            "Epoch 10/50\n",
            "43/43 [==============================] - 1s 28ms/step - loss: 0.3741 - categorical_accuracy: 0.8526 - val_loss: 0.4453 - val_categorical_accuracy: 0.8187\n",
            "Epoch 11/50\n",
            "43/43 [==============================] - 1s 28ms/step - loss: 0.3549 - categorical_accuracy: 0.8603 - val_loss: 0.4723 - val_categorical_accuracy: 0.8264\n",
            "Epoch 12/50\n",
            "43/43 [==============================] - 1s 28ms/step - loss: 0.3597 - categorical_accuracy: 0.8585 - val_loss: 0.4575 - val_categorical_accuracy: 0.8396\n",
            "Epoch 13/50\n",
            "43/43 [==============================] - 1s 28ms/step - loss: 0.3426 - categorical_accuracy: 0.8625 - val_loss: 0.5044 - val_categorical_accuracy: 0.8275\n",
            "Epoch 14/50\n",
            "43/43 [==============================] - 1s 28ms/step - loss: 0.3287 - categorical_accuracy: 0.8721 - val_loss: 0.7237 - val_categorical_accuracy: 0.8516\n",
            "Epoch 15/50\n",
            "43/43 [==============================] - 1s 28ms/step - loss: 0.3158 - categorical_accuracy: 0.8775 - val_loss: 0.7500 - val_categorical_accuracy: 0.8308\n",
            "Epoch 16/50\n",
            "43/43 [==============================] - 1s 27ms/step - loss: 0.3097 - categorical_accuracy: 0.8829 - val_loss: 0.8629 - val_categorical_accuracy: 0.8352\n",
            "Epoch 17/50\n",
            "43/43 [==============================] - 1s 27ms/step - loss: 0.2862 - categorical_accuracy: 0.8891 - val_loss: 0.4547 - val_categorical_accuracy: 0.8659\n",
            "Epoch 18/50\n",
            "43/43 [==============================] - 1s 27ms/step - loss: 0.2796 - categorical_accuracy: 0.8895 - val_loss: 0.7154 - val_categorical_accuracy: 0.8538\n",
            "Epoch 19/50\n",
            "43/43 [==============================] - 1s 28ms/step - loss: 0.2773 - categorical_accuracy: 0.8924 - val_loss: 0.9101 - val_categorical_accuracy: 0.8560\n",
            "Epoch 20/50\n",
            "43/43 [==============================] - 1s 28ms/step - loss: 0.2620 - categorical_accuracy: 0.9011 - val_loss: 1.0502 - val_categorical_accuracy: 0.8615\n",
            "Epoch 21/50\n",
            "43/43 [==============================] - 1s 28ms/step - loss: 0.2621 - categorical_accuracy: 0.8985 - val_loss: 1.1197 - val_categorical_accuracy: 0.8615\n",
            "Epoch 22/50\n",
            "43/43 [==============================] - 1s 28ms/step - loss: 0.2545 - categorical_accuracy: 0.9056 - val_loss: 1.2556 - val_categorical_accuracy: 0.8791\n",
            "Epoch 23/50\n",
            "43/43 [==============================] - 1s 27ms/step - loss: 0.2554 - categorical_accuracy: 0.9004 - val_loss: 0.6946 - val_categorical_accuracy: 0.8538\n",
            "Epoch 24/50\n",
            "43/43 [==============================] - 1s 28ms/step - loss: 0.2494 - categorical_accuracy: 0.9079 - val_loss: 0.9844 - val_categorical_accuracy: 0.8714\n",
            "Epoch 25/50\n",
            "43/43 [==============================] - 1s 27ms/step - loss: 0.2372 - categorical_accuracy: 0.9093 - val_loss: 0.4753 - val_categorical_accuracy: 0.8736\n",
            "Epoch 26/50\n",
            "43/43 [==============================] - 1s 27ms/step - loss: 0.2295 - categorical_accuracy: 0.9183 - val_loss: 0.5817 - val_categorical_accuracy: 0.9011\n",
            "Epoch 27/50\n",
            "43/43 [==============================] - 1s 27ms/step - loss: 0.2229 - categorical_accuracy: 0.9147 - val_loss: 0.9348 - val_categorical_accuracy: 0.8747\n",
            "Epoch 28/50\n",
            "43/43 [==============================] - 1s 27ms/step - loss: 0.2264 - categorical_accuracy: 0.9166 - val_loss: 0.5641 - val_categorical_accuracy: 0.8923\n",
            "Epoch 29/50\n",
            "43/43 [==============================] - 1s 27ms/step - loss: 0.2097 - categorical_accuracy: 0.9279 - val_loss: 1.2524 - val_categorical_accuracy: 0.8846\n",
            "Epoch 30/50\n",
            "43/43 [==============================] - 1s 28ms/step - loss: 0.2048 - categorical_accuracy: 0.9289 - val_loss: 0.4073 - val_categorical_accuracy: 0.8978\n",
            "Epoch 31/50\n",
            "43/43 [==============================] - 1s 28ms/step - loss: 0.1834 - categorical_accuracy: 0.9293 - val_loss: 0.3468 - val_categorical_accuracy: 0.9033\n",
            "Epoch 32/50\n",
            "43/43 [==============================] - 1s 28ms/step - loss: 0.1736 - categorical_accuracy: 0.9399 - val_loss: 0.7559 - val_categorical_accuracy: 0.8945\n",
            "Epoch 33/50\n",
            "43/43 [==============================] - 1s 27ms/step - loss: 0.1905 - categorical_accuracy: 0.9324 - val_loss: 0.8755 - val_categorical_accuracy: 0.9022\n",
            "Epoch 34/50\n",
            "43/43 [==============================] - 1s 27ms/step - loss: 0.1856 - categorical_accuracy: 0.9336 - val_loss: 0.6186 - val_categorical_accuracy: 0.8868\n",
            "Epoch 35/50\n",
            "43/43 [==============================] - 1s 27ms/step - loss: 0.1735 - categorical_accuracy: 0.9381 - val_loss: 1.1198 - val_categorical_accuracy: 0.9000\n",
            "Epoch 36/50\n",
            "43/43 [==============================] - 1s 31ms/step - loss: 0.1681 - categorical_accuracy: 0.9395 - val_loss: 0.3441 - val_categorical_accuracy: 0.9044\n",
            "Epoch 37/50\n",
            "43/43 [==============================] - 1s 28ms/step - loss: 0.1685 - categorical_accuracy: 0.9364 - val_loss: 1.4015 - val_categorical_accuracy: 0.9066\n",
            "Epoch 38/50\n",
            "43/43 [==============================] - 1s 27ms/step - loss: 0.1752 - categorical_accuracy: 0.9376 - val_loss: 1.0077 - val_categorical_accuracy: 0.9022\n",
            "Epoch 39/50\n",
            "43/43 [==============================] - 1s 27ms/step - loss: 0.1705 - categorical_accuracy: 0.9395 - val_loss: 0.8433 - val_categorical_accuracy: 0.9088\n",
            "Epoch 40/50\n",
            "43/43 [==============================] - 1s 28ms/step - loss: 0.1673 - categorical_accuracy: 0.9414 - val_loss: 0.3252 - val_categorical_accuracy: 0.9088\n",
            "Epoch 41/50\n",
            "43/43 [==============================] - 1s 28ms/step - loss: 0.1578 - categorical_accuracy: 0.9423 - val_loss: 0.3216 - val_categorical_accuracy: 0.9011\n",
            "Epoch 42/50\n",
            "43/43 [==============================] - 1s 28ms/step - loss: 0.1629 - categorical_accuracy: 0.9383 - val_loss: 0.3536 - val_categorical_accuracy: 0.9044\n",
            "Epoch 43/50\n",
            "43/43 [==============================] - 1s 31ms/step - loss: 0.1672 - categorical_accuracy: 0.9388 - val_loss: 0.6529 - val_categorical_accuracy: 0.8967\n",
            "Epoch 44/50\n",
            "43/43 [==============================] - 1s 28ms/step - loss: 0.1602 - categorical_accuracy: 0.9444 - val_loss: 0.6505 - val_categorical_accuracy: 0.8967\n",
            "Epoch 45/50\n",
            "43/43 [==============================] - 1s 28ms/step - loss: 0.1645 - categorical_accuracy: 0.9402 - val_loss: 0.3239 - val_categorical_accuracy: 0.9055\n",
            "Epoch 46/50\n",
            "43/43 [==============================] - 1s 28ms/step - loss: 0.1590 - categorical_accuracy: 0.9404 - val_loss: 0.3482 - val_categorical_accuracy: 0.9088\n",
            "Epoch 47/50\n",
            "43/43 [==============================] - 1s 28ms/step - loss: 0.1566 - categorical_accuracy: 0.9449 - val_loss: 0.9461 - val_categorical_accuracy: 0.8835\n",
            "Epoch 48/50\n",
            "43/43 [==============================] - 1s 27ms/step - loss: 0.1493 - categorical_accuracy: 0.9470 - val_loss: 1.0486 - val_categorical_accuracy: 0.9033\n",
            "Epoch 49/50\n",
            "43/43 [==============================] - 1s 28ms/step - loss: 0.1359 - categorical_accuracy: 0.9503 - val_loss: 0.9573 - val_categorical_accuracy: 0.9121\n",
            "Epoch 50/50\n",
            "43/43 [==============================] - 1s 27ms/step - loss: 0.1499 - categorical_accuracy: 0.9468 - val_loss: 1.1111 - val_categorical_accuracy: 0.8989\n",
            "BatchSize :  200\n",
            "Epoch 1/50\n",
            "22/22 [==============================] - 3s 62ms/step - loss: 0.9915 - categorical_accuracy: 0.5384 - val_loss: 1.1651 - val_categorical_accuracy: 0.3330\n",
            "Epoch 2/50\n",
            "22/22 [==============================] - 1s 42ms/step - loss: 0.6856 - categorical_accuracy: 0.7230 - val_loss: 1.0928 - val_categorical_accuracy: 0.3824\n",
            "Epoch 3/50\n",
            "22/22 [==============================] - 1s 42ms/step - loss: 0.5946 - categorical_accuracy: 0.7706 - val_loss: 1.0498 - val_categorical_accuracy: 0.4637\n",
            "Epoch 4/50\n",
            "22/22 [==============================] - 1s 42ms/step - loss: 0.5451 - categorical_accuracy: 0.7824 - val_loss: 1.0083 - val_categorical_accuracy: 0.5198\n",
            "Epoch 5/50\n",
            "22/22 [==============================] - 1s 41ms/step - loss: 0.5037 - categorical_accuracy: 0.7991 - val_loss: 0.9106 - val_categorical_accuracy: 0.5890\n",
            "Epoch 6/50\n",
            "22/22 [==============================] - 1s 42ms/step - loss: 0.4715 - categorical_accuracy: 0.8109 - val_loss: 0.8199 - val_categorical_accuracy: 0.6176\n",
            "Epoch 7/50\n",
            "22/22 [==============================] - 1s 43ms/step - loss: 0.4641 - categorical_accuracy: 0.8184 - val_loss: 0.7757 - val_categorical_accuracy: 0.6429\n",
            "Epoch 8/50\n",
            "22/22 [==============================] - 1s 43ms/step - loss: 0.4247 - categorical_accuracy: 0.8363 - val_loss: 0.6674 - val_categorical_accuracy: 0.7187\n",
            "Epoch 9/50\n",
            "22/22 [==============================] - 1s 41ms/step - loss: 0.4012 - categorical_accuracy: 0.8521 - val_loss: 0.6111 - val_categorical_accuracy: 0.7484\n",
            "Epoch 10/50\n",
            "22/22 [==============================] - 1s 43ms/step - loss: 0.3700 - categorical_accuracy: 0.8563 - val_loss: 0.5764 - val_categorical_accuracy: 0.7604\n",
            "Epoch 11/50\n",
            "22/22 [==============================] - 1s 42ms/step - loss: 0.3553 - categorical_accuracy: 0.8700 - val_loss: 0.5610 - val_categorical_accuracy: 0.7791\n",
            "Epoch 12/50\n",
            "22/22 [==============================] - 1s 43ms/step - loss: 0.3513 - categorical_accuracy: 0.8714 - val_loss: 0.5246 - val_categorical_accuracy: 0.7934\n",
            "Epoch 13/50\n",
            "22/22 [==============================] - 1s 44ms/step - loss: 0.3183 - categorical_accuracy: 0.8895 - val_loss: 0.4844 - val_categorical_accuracy: 0.8099\n",
            "Epoch 14/50\n",
            "22/22 [==============================] - 1s 43ms/step - loss: 0.3177 - categorical_accuracy: 0.8846 - val_loss: 0.4851 - val_categorical_accuracy: 0.8319\n",
            "Epoch 15/50\n",
            "22/22 [==============================] - 1s 42ms/step - loss: 0.2997 - categorical_accuracy: 0.8976 - val_loss: 0.4571 - val_categorical_accuracy: 0.8319\n",
            "Epoch 16/50\n",
            "22/22 [==============================] - 1s 42ms/step - loss: 0.2954 - categorical_accuracy: 0.8898 - val_loss: 0.4380 - val_categorical_accuracy: 0.8549\n",
            "Epoch 17/50\n",
            "22/22 [==============================] - 1s 42ms/step - loss: 0.2675 - categorical_accuracy: 0.9006 - val_loss: 0.4370 - val_categorical_accuracy: 0.8527\n",
            "Epoch 18/50\n",
            "22/22 [==============================] - 1s 42ms/step - loss: 0.2689 - categorical_accuracy: 0.9023 - val_loss: 0.4504 - val_categorical_accuracy: 0.8516\n",
            "Epoch 19/50\n",
            "22/22 [==============================] - 1s 42ms/step - loss: 0.2519 - categorical_accuracy: 0.9096 - val_loss: 0.4475 - val_categorical_accuracy: 0.8571\n",
            "Epoch 20/50\n",
            "22/22 [==============================] - 1s 42ms/step - loss: 0.2355 - categorical_accuracy: 0.9185 - val_loss: 0.4120 - val_categorical_accuracy: 0.8769\n",
            "Epoch 21/50\n",
            "22/22 [==============================] - 1s 42ms/step - loss: 0.2424 - categorical_accuracy: 0.9178 - val_loss: 0.4132 - val_categorical_accuracy: 0.8857\n",
            "Epoch 22/50\n",
            "22/22 [==============================] - 1s 42ms/step - loss: 0.2190 - categorical_accuracy: 0.9279 - val_loss: 0.4452 - val_categorical_accuracy: 0.8714\n",
            "Epoch 23/50\n",
            "22/22 [==============================] - 1s 42ms/step - loss: 0.2079 - categorical_accuracy: 0.9336 - val_loss: 0.4402 - val_categorical_accuracy: 0.8802\n",
            "Epoch 24/50\n",
            "22/22 [==============================] - 1s 43ms/step - loss: 0.1977 - categorical_accuracy: 0.9355 - val_loss: 0.4421 - val_categorical_accuracy: 0.8769\n",
            "Epoch 25/50\n",
            "22/22 [==============================] - 1s 43ms/step - loss: 0.2139 - categorical_accuracy: 0.9263 - val_loss: 0.4199 - val_categorical_accuracy: 0.8934\n",
            "Epoch 26/50\n",
            "22/22 [==============================] - 1s 43ms/step - loss: 0.2192 - categorical_accuracy: 0.9232 - val_loss: 0.5096 - val_categorical_accuracy: 0.8791\n",
            "Epoch 27/50\n",
            "22/22 [==============================] - 1s 42ms/step - loss: 0.1965 - categorical_accuracy: 0.9333 - val_loss: 0.5338 - val_categorical_accuracy: 0.8670\n",
            "Epoch 28/50\n",
            "22/22 [==============================] - 1s 43ms/step - loss: 0.1899 - categorical_accuracy: 0.9341 - val_loss: 0.5487 - val_categorical_accuracy: 0.8923\n",
            "Epoch 29/50\n",
            "22/22 [==============================] - 1s 43ms/step - loss: 0.1736 - categorical_accuracy: 0.9421 - val_loss: 0.5408 - val_categorical_accuracy: 0.8890\n",
            "Epoch 30/50\n",
            "22/22 [==============================] - 1s 43ms/step - loss: 0.1718 - categorical_accuracy: 0.9397 - val_loss: 0.4729 - val_categorical_accuracy: 0.9044\n",
            "Epoch 31/50\n",
            "22/22 [==============================] - 1s 44ms/step - loss: 0.1678 - categorical_accuracy: 0.9447 - val_loss: 0.5635 - val_categorical_accuracy: 0.9011\n",
            "Epoch 32/50\n",
            "22/22 [==============================] - 1s 42ms/step - loss: 0.1603 - categorical_accuracy: 0.9461 - val_loss: 0.5180 - val_categorical_accuracy: 0.8989\n",
            "Epoch 33/50\n",
            "22/22 [==============================] - 1s 41ms/step - loss: 0.1614 - categorical_accuracy: 0.9456 - val_loss: 0.5599 - val_categorical_accuracy: 0.8835\n",
            "Epoch 34/50\n",
            "22/22 [==============================] - 1s 43ms/step - loss: 0.1492 - categorical_accuracy: 0.9555 - val_loss: 0.6161 - val_categorical_accuracy: 0.9022\n",
            "Epoch 35/50\n",
            "22/22 [==============================] - 1s 43ms/step - loss: 0.1525 - categorical_accuracy: 0.9510 - val_loss: 0.6768 - val_categorical_accuracy: 0.9066\n",
            "Epoch 36/50\n",
            "22/22 [==============================] - 1s 43ms/step - loss: 0.1554 - categorical_accuracy: 0.9482 - val_loss: 0.6974 - val_categorical_accuracy: 0.8945\n",
            "Epoch 37/50\n",
            "22/22 [==============================] - 1s 42ms/step - loss: 0.1519 - categorical_accuracy: 0.9512 - val_loss: 0.6177 - val_categorical_accuracy: 0.9011\n",
            "Epoch 38/50\n",
            "22/22 [==============================] - 1s 43ms/step - loss: 0.1315 - categorical_accuracy: 0.9571 - val_loss: 0.5524 - val_categorical_accuracy: 0.8989\n",
            "Epoch 39/50\n",
            "22/22 [==============================] - 1s 43ms/step - loss: 0.1280 - categorical_accuracy: 0.9607 - val_loss: 0.7071 - val_categorical_accuracy: 0.8769\n",
            "Epoch 40/50\n",
            "22/22 [==============================] - 1s 42ms/step - loss: 0.1543 - categorical_accuracy: 0.9432 - val_loss: 0.7050 - val_categorical_accuracy: 0.8967\n",
            "Epoch 41/50\n",
            "22/22 [==============================] - 1s 49ms/step - loss: 0.1312 - categorical_accuracy: 0.9585 - val_loss: 0.5255 - val_categorical_accuracy: 0.9066\n",
            "Epoch 42/50\n",
            "22/22 [==============================] - 1s 43ms/step - loss: 0.1177 - categorical_accuracy: 0.9621 - val_loss: 0.4610 - val_categorical_accuracy: 0.9033\n",
            "Epoch 43/50\n",
            "22/22 [==============================] - 1s 44ms/step - loss: 0.1126 - categorical_accuracy: 0.9623 - val_loss: 0.6112 - val_categorical_accuracy: 0.9077\n",
            "Epoch 44/50\n",
            "22/22 [==============================] - 1s 43ms/step - loss: 0.1059 - categorical_accuracy: 0.9696 - val_loss: 0.5163 - val_categorical_accuracy: 0.9033\n",
            "Epoch 45/50\n",
            "22/22 [==============================] - 1s 42ms/step - loss: 0.1203 - categorical_accuracy: 0.9595 - val_loss: 0.5129 - val_categorical_accuracy: 0.9033\n",
            "Epoch 46/50\n",
            "22/22 [==============================] - 1s 43ms/step - loss: 0.1120 - categorical_accuracy: 0.9623 - val_loss: 0.5290 - val_categorical_accuracy: 0.8978\n",
            "Epoch 47/50\n",
            "22/22 [==============================] - 1s 42ms/step - loss: 0.1132 - categorical_accuracy: 0.9644 - val_loss: 0.5526 - val_categorical_accuracy: 0.8989\n",
            "Epoch 48/50\n",
            "22/22 [==============================] - 1s 42ms/step - loss: 0.1081 - categorical_accuracy: 0.9637 - val_loss: 0.7155 - val_categorical_accuracy: 0.8934\n",
            "Epoch 49/50\n",
            "22/22 [==============================] - 1s 41ms/step - loss: 0.1104 - categorical_accuracy: 0.9614 - val_loss: 0.6623 - val_categorical_accuracy: 0.8989\n",
            "Epoch 50/50\n",
            "22/22 [==============================] - 1s 42ms/step - loss: 0.0960 - categorical_accuracy: 0.9687 - val_loss: 0.6305 - val_categorical_accuracy: 0.9044\n",
            "BatchSize :  300\n",
            "Epoch 1/50\n",
            "15/15 [==============================] - 3s 76ms/step - loss: 0.9557 - categorical_accuracy: 0.5643 - val_loss: 1.4394 - val_categorical_accuracy: 0.3220\n",
            "Epoch 2/50\n",
            "15/15 [==============================] - 1s 49ms/step - loss: 0.6811 - categorical_accuracy: 0.7084 - val_loss: 1.1510 - val_categorical_accuracy: 0.3132\n",
            "Epoch 3/50\n",
            "15/15 [==============================] - 1s 50ms/step - loss: 0.6120 - categorical_accuracy: 0.7419 - val_loss: 1.1087 - val_categorical_accuracy: 0.4319\n",
            "Epoch 4/50\n",
            "15/15 [==============================] - 1s 48ms/step - loss: 0.5656 - categorical_accuracy: 0.7701 - val_loss: 1.0973 - val_categorical_accuracy: 0.4626\n",
            "Epoch 5/50\n",
            "15/15 [==============================] - 1s 47ms/step - loss: 0.5252 - categorical_accuracy: 0.7847 - val_loss: 1.1049 - val_categorical_accuracy: 0.4890\n",
            "Epoch 6/50\n",
            "15/15 [==============================] - 1s 48ms/step - loss: 0.4971 - categorical_accuracy: 0.8052 - val_loss: 1.0722 - val_categorical_accuracy: 0.5132\n",
            "Epoch 7/50\n",
            "15/15 [==============================] - 1s 48ms/step - loss: 0.4755 - categorical_accuracy: 0.8088 - val_loss: 0.9460 - val_categorical_accuracy: 0.5626\n",
            "Epoch 8/50\n",
            "15/15 [==============================] - 1s 47ms/step - loss: 0.4641 - categorical_accuracy: 0.8187 - val_loss: 0.9533 - val_categorical_accuracy: 0.5725\n",
            "Epoch 9/50\n",
            "15/15 [==============================] - 1s 48ms/step - loss: 0.4498 - categorical_accuracy: 0.8238 - val_loss: 0.8308 - val_categorical_accuracy: 0.6385\n",
            "Epoch 10/50\n",
            "15/15 [==============================] - 1s 47ms/step - loss: 0.4181 - categorical_accuracy: 0.8413 - val_loss: 0.7999 - val_categorical_accuracy: 0.6626\n",
            "Epoch 11/50\n",
            "15/15 [==============================] - 1s 47ms/step - loss: 0.3985 - categorical_accuracy: 0.8516 - val_loss: 0.7334 - val_categorical_accuracy: 0.7044\n",
            "Epoch 12/50\n",
            "15/15 [==============================] - 1s 49ms/step - loss: 0.3691 - categorical_accuracy: 0.8653 - val_loss: 0.7414 - val_categorical_accuracy: 0.7022\n",
            "Epoch 13/50\n",
            "15/15 [==============================] - 1s 48ms/step - loss: 0.3563 - categorical_accuracy: 0.8665 - val_loss: 0.6859 - val_categorical_accuracy: 0.7264\n",
            "Epoch 14/50\n",
            "15/15 [==============================] - 1s 48ms/step - loss: 0.3424 - categorical_accuracy: 0.8773 - val_loss: 0.6593 - val_categorical_accuracy: 0.7264\n",
            "Epoch 15/50\n",
            "15/15 [==============================] - 1s 48ms/step - loss: 0.3300 - categorical_accuracy: 0.8813 - val_loss: 0.6583 - val_categorical_accuracy: 0.7341\n",
            "Epoch 16/50\n",
            "15/15 [==============================] - 1s 51ms/step - loss: 0.3234 - categorical_accuracy: 0.8862 - val_loss: 0.6383 - val_categorical_accuracy: 0.7385\n",
            "Epoch 17/50\n",
            "15/15 [==============================] - 1s 49ms/step - loss: 0.3192 - categorical_accuracy: 0.8797 - val_loss: 0.5993 - val_categorical_accuracy: 0.7582\n",
            "Epoch 18/50\n",
            "15/15 [==============================] - 1s 47ms/step - loss: 0.2936 - categorical_accuracy: 0.8978 - val_loss: 0.5797 - val_categorical_accuracy: 0.7714\n",
            "Epoch 19/50\n",
            "15/15 [==============================] - 1s 47ms/step - loss: 0.2887 - categorical_accuracy: 0.9030 - val_loss: 0.5414 - val_categorical_accuracy: 0.7890\n",
            "Epoch 20/50\n",
            "15/15 [==============================] - 1s 47ms/step - loss: 0.2736 - categorical_accuracy: 0.9063 - val_loss: 0.4948 - val_categorical_accuracy: 0.7912\n",
            "Epoch 21/50\n",
            "15/15 [==============================] - 1s 50ms/step - loss: 0.2758 - categorical_accuracy: 0.9063 - val_loss: 0.4821 - val_categorical_accuracy: 0.8143\n",
            "Epoch 22/50\n",
            "15/15 [==============================] - 1s 49ms/step - loss: 0.2588 - categorical_accuracy: 0.9107 - val_loss: 0.4584 - val_categorical_accuracy: 0.8253\n",
            "Epoch 23/50\n",
            "15/15 [==============================] - 1s 47ms/step - loss: 0.2493 - categorical_accuracy: 0.9157 - val_loss: 0.4462 - val_categorical_accuracy: 0.8286\n",
            "Epoch 24/50\n",
            "15/15 [==============================] - 1s 48ms/step - loss: 0.2429 - categorical_accuracy: 0.9197 - val_loss: 0.4471 - val_categorical_accuracy: 0.8330\n",
            "Epoch 25/50\n",
            "15/15 [==============================] - 1s 50ms/step - loss: 0.2306 - categorical_accuracy: 0.9209 - val_loss: 0.4297 - val_categorical_accuracy: 0.8385\n",
            "Epoch 26/50\n",
            "15/15 [==============================] - 1s 49ms/step - loss: 0.2243 - categorical_accuracy: 0.9242 - val_loss: 0.4425 - val_categorical_accuracy: 0.8527\n",
            "Epoch 27/50\n",
            "15/15 [==============================] - 1s 51ms/step - loss: 0.2207 - categorical_accuracy: 0.9260 - val_loss: 0.4486 - val_categorical_accuracy: 0.8396\n",
            "Epoch 28/50\n",
            "15/15 [==============================] - 1s 49ms/step - loss: 0.2061 - categorical_accuracy: 0.9352 - val_loss: 0.4124 - val_categorical_accuracy: 0.8582\n",
            "Epoch 29/50\n",
            "15/15 [==============================] - 1s 52ms/step - loss: 0.2258 - categorical_accuracy: 0.9213 - val_loss: 0.4462 - val_categorical_accuracy: 0.8571\n",
            "Epoch 30/50\n",
            "15/15 [==============================] - 1s 49ms/step - loss: 0.2165 - categorical_accuracy: 0.9298 - val_loss: 0.3969 - val_categorical_accuracy: 0.8615\n",
            "Epoch 31/50\n",
            "15/15 [==============================] - 1s 47ms/step - loss: 0.1932 - categorical_accuracy: 0.9378 - val_loss: 0.3653 - val_categorical_accuracy: 0.8791\n",
            "Epoch 32/50\n",
            "15/15 [==============================] - 1s 47ms/step - loss: 0.1778 - categorical_accuracy: 0.9437 - val_loss: 0.3788 - val_categorical_accuracy: 0.8769\n",
            "Epoch 33/50\n",
            "15/15 [==============================] - 1s 47ms/step - loss: 0.1670 - categorical_accuracy: 0.9463 - val_loss: 0.3770 - val_categorical_accuracy: 0.8868\n",
            "Epoch 34/50\n",
            "15/15 [==============================] - 1s 49ms/step - loss: 0.1661 - categorical_accuracy: 0.9458 - val_loss: 0.3847 - val_categorical_accuracy: 0.8769\n",
            "Epoch 35/50\n",
            "15/15 [==============================] - 1s 48ms/step - loss: 0.1604 - categorical_accuracy: 0.9501 - val_loss: 0.3968 - val_categorical_accuracy: 0.8714\n",
            "Epoch 36/50\n",
            "15/15 [==============================] - 1s 48ms/step - loss: 0.1843 - categorical_accuracy: 0.9392 - val_loss: 0.3811 - val_categorical_accuracy: 0.8868\n",
            "Epoch 37/50\n",
            "15/15 [==============================] - 1s 48ms/step - loss: 0.1840 - categorical_accuracy: 0.9407 - val_loss: 0.3847 - val_categorical_accuracy: 0.8780\n",
            "Epoch 38/50\n",
            "15/15 [==============================] - 1s 48ms/step - loss: 0.1727 - categorical_accuracy: 0.9407 - val_loss: 0.3574 - val_categorical_accuracy: 0.8923\n",
            "Epoch 39/50\n",
            "15/15 [==============================] - 1s 48ms/step - loss: 0.1488 - categorical_accuracy: 0.9536 - val_loss: 0.3855 - val_categorical_accuracy: 0.8945\n",
            "Epoch 40/50\n",
            "15/15 [==============================] - 1s 49ms/step - loss: 0.1551 - categorical_accuracy: 0.9520 - val_loss: 0.3952 - val_categorical_accuracy: 0.8769\n",
            "Epoch 41/50\n",
            "15/15 [==============================] - 1s 46ms/step - loss: 0.1416 - categorical_accuracy: 0.9581 - val_loss: 0.3553 - val_categorical_accuracy: 0.8879\n",
            "Epoch 42/50\n",
            "15/15 [==============================] - 1s 48ms/step - loss: 0.1604 - categorical_accuracy: 0.9472 - val_loss: 0.3602 - val_categorical_accuracy: 0.8857\n",
            "Epoch 43/50\n",
            "15/15 [==============================] - 1s 49ms/step - loss: 0.1496 - categorical_accuracy: 0.9512 - val_loss: 0.3754 - val_categorical_accuracy: 0.8890\n",
            "Epoch 44/50\n",
            "15/15 [==============================] - 1s 48ms/step - loss: 0.1501 - categorical_accuracy: 0.9501 - val_loss: 0.3797 - val_categorical_accuracy: 0.8901\n",
            "Epoch 45/50\n",
            "15/15 [==============================] - 1s 48ms/step - loss: 0.1414 - categorical_accuracy: 0.9517 - val_loss: 0.3700 - val_categorical_accuracy: 0.8923\n",
            "Epoch 46/50\n",
            "15/15 [==============================] - 1s 48ms/step - loss: 0.1205 - categorical_accuracy: 0.9659 - val_loss: 0.3730 - val_categorical_accuracy: 0.8923\n",
            "Epoch 47/50\n",
            "15/15 [==============================] - 1s 46ms/step - loss: 0.1493 - categorical_accuracy: 0.9531 - val_loss: 0.4061 - val_categorical_accuracy: 0.8747\n",
            "Epoch 48/50\n",
            "15/15 [==============================] - 1s 49ms/step - loss: 0.1496 - categorical_accuracy: 0.9494 - val_loss: 0.4531 - val_categorical_accuracy: 0.8725\n",
            "Epoch 49/50\n",
            "15/15 [==============================] - 1s 48ms/step - loss: 0.1479 - categorical_accuracy: 0.9508 - val_loss: 0.4251 - val_categorical_accuracy: 0.8791\n",
            "Epoch 50/50\n",
            "15/15 [==============================] - 1s 47ms/step - loss: 0.1270 - categorical_accuracy: 0.9583 - val_loss: 0.3903 - val_categorical_accuracy: 0.8923\n"
          ]
        }
      ]
    },
    {
      "cell_type": "code",
      "metadata": {
        "colab": {
          "base_uri": "https://localhost:8080/",
          "height": 296
        },
        "id": "nxsI86TXi-Ym",
        "outputId": "5d967e41-21c7-4022-d317-aa87d1adc514"
      },
      "source": [
        "#For Loss Plotting\n",
        "num_epochs = numEpochs\n",
        "\n",
        "x = [i for i in range(1,num_epochs+1)]\n",
        "print(x)\n",
        "yTrainLoss = trainLoss\n",
        "#Train Loss\n",
        "for i in range(len(batchSizes)):\n",
        "  currBatchSize = batchSizes[i]\n",
        "  labelName = \"Batch Size \" + str(currBatchSize)\n",
        "  pyplot.plot(x, yTrainLoss[i],label=labelName)\n",
        "\n",
        "pyplot.legend()\n",
        "pyplot.xlabel(\"Number of Epochs\")\n",
        "pyplot.ylabel(\"Train Loss\")\n",
        "pyplot.show()"
      ],
      "execution_count": null,
      "outputs": [
        {
          "output_type": "stream",
          "name": "stdout",
          "text": [
            "[1, 2, 3, 4, 5, 6, 7, 8, 9, 10, 11, 12, 13, 14, 15, 16, 17, 18, 19, 20, 21, 22, 23, 24, 25, 26, 27, 28, 29, 30, 31, 32, 33, 34, 35, 36, 37, 38, 39, 40, 41, 42, 43, 44, 45, 46, 47, 48, 49, 50]\n"
          ]
        },
        {
          "output_type": "display_data",
          "data": {
            "image/png": "[encoded data removed]",
            "text/plain": [
              "<Figure size 432x288 with 1 Axes>"
            ]
          },
          "metadata": {
            "needs_background": "light"
          }
        }
      ]
    },
    {
      "cell_type": "code",
      "metadata": {
        "colab": {
          "base_uri": "https://localhost:8080/",
          "height": 296
        },
        "id": "EruzK1lzjBJo",
        "outputId": "a9b5153c-3637-43d0-fff3-564ec7f1614c"
      },
      "source": [
        "#For Loss Plotting\n",
        "\n",
        "x = [i for i in range(1,num_epochs+1)]\n",
        "print(x)\n",
        "yValLoss = valLoss\n",
        "#Val Loss\n",
        "for i in range(len(batchSizes)):\n",
        "  currBatchSize = batchSizes[i]\n",
        "  labelName = \"Batch Size \" + str(currBatchSize)\n",
        "  pyplot.plot(x, yValLoss[i],label=labelName)\n",
        "\n",
        "pyplot.legend()\n",
        "pyplot.xlabel(\"Number of Epochs\")\n",
        "pyplot.ylabel(\"Val Loss\")\n",
        "pyplot.show()"
      ],
      "execution_count": null,
      "outputs": [
        {
          "output_type": "stream",
          "name": "stdout",
          "text": [
            "[1, 2, 3, 4, 5, 6, 7, 8, 9, 10, 11, 12, 13, 14, 15, 16, 17, 18, 19, 20, 21, 22, 23, 24, 25, 26, 27, 28, 29, 30, 31, 32, 33, 34, 35, 36, 37, 38, 39, 40, 41, 42, 43, 44, 45, 46, 47, 48, 49, 50]\n"
          ]
        },
        {
          "output_type": "display_data",
          "data": {
            "image/png": "[encoded data removed]",
            "text/plain": [
              "<Figure size 432x288 with 1 Axes>"
            ]
          },
          "metadata": {
            "needs_background": "light"
          }
        }
      ]
    },
    {
      "cell_type": "code",
      "metadata": {
        "colab": {
          "base_uri": "https://localhost:8080/"
        },
        "id": "Hak5pMrXk6LD",
        "outputId": "fa777094-8aea-40b1-c266-f6fc811d3724"
      },
      "source": [
        "batchSizes = [100,200,300]\n",
        "print(batchSizes)"
      ],
      "execution_count": null,
      "outputs": [
        {
          "output_type": "stream",
          "name": "stdout",
          "text": [
            "[100, 200, 300]\n"
          ]
        }
      ]
    },
    {
      "cell_type": "code",
      "metadata": {
        "colab": {
          "base_uri": "https://localhost:8080/",
          "height": 296
        },
        "id": "i1h2tEMtkUpJ",
        "outputId": "ef37f525-eba4-4bdb-cc35-af8ed8938e2a"
      },
      "source": [
        "#For Loss Plotting\n",
        "\n",
        "x = [i for i in range(1,numEpochs+1)]\n",
        "print(x)\n",
        "yValLoss = valLoss\n",
        "for i in range(len(batchSizes)):\n",
        "  currBatchSize = batchSizes[i]\n",
        "  labelName = \"Batch Size \" + str(currBatchSize)\n",
        "  pyplot.plot(x, yValLoss[i],label=\"Val\"+str(currBatchSize))\n",
        "  pyplot.plot(x, yTrainLoss[i],label=\"Train\"+str(currBatchSize))\n",
        "\n",
        "#pyplot.xlim([5,21])\n",
        "#pyplot.ylim([0,5])\n",
        "pyplot.legend()\n",
        "pyplot.xlabel(\"Number of Epochs\")\n",
        "pyplot.ylabel(\"Loss\")\n",
        "pyplot.show()"
      ],
      "execution_count": null,
      "outputs": [
        {
          "output_type": "stream",
          "name": "stdout",
          "text": [
            "[1, 2, 3, 4, 5, 6, 7, 8, 9, 10, 11, 12, 13, 14, 15, 16, 17, 18, 19, 20, 21, 22, 23, 24, 25, 26, 27, 28, 29, 30, 31, 32, 33, 34, 35, 36, 37, 38, 39, 40, 41, 42, 43, 44, 45, 46, 47, 48, 49, 50]\n"
          ]
        },
        {
          "output_type": "display_data",
          "data": {
            "image/png": "[encoded data removed]",
            "text/plain": [
              "<Figure size 432x288 with 1 Axes>"
            ]
          },
          "metadata": {
            "needs_background": "light"
          }
        }
      ]
    },
    {
      "cell_type": "code",
      "metadata": {
        "id": "gXrU0jlujDck"
      },
      "source": [
        "bestBatchSize = 100 #must decide based on graphs\n",
        "bestEpoch = 10"
      ],
      "execution_count": null,
      "outputs": []
    },
    {
      "cell_type": "code",
      "metadata": {
        "colab": {
          "base_uri": "https://localhost:8080/"
        },
        "id": "2NEyeHv9jFgQ",
        "outputId": "fca9698d-e838-47c6-ec3c-22f3beaaa5fb"
      },
      "source": [
        "loadedBestModel = load_model(pathToModels+\"bestBinaryNNModel.h5\")\n",
        "for layer in loadedBestModel.layers[:2]:\n",
        "  layer.trainable = False\n",
        "bestmodel5 = Sequential()\n",
        "for layer in loadedBestModel.layers[:-1]:\n",
        "  bestmodel5.add(layer)\n",
        "  bestmodel5.add(BatchNormalization())\n",
        "bestmodel5.add(Dense(3, activation='softmax'))\n",
        "bestmodel5.compile(loss='categorical_crossentropy', optimizer='adam', metrics=['categorical_accuracy'])\n",
        "bestmodel5.fit(X_train, y_train, epochs=bestEpoch, batch_size=bestBatchSize, validation_data = (X_dev, y_dev))\n"
      ],
      "execution_count": null,
      "outputs": [
        {
          "output_type": "stream",
          "name": "stdout",
          "text": [
            "Epoch 1/10\n",
            "43/43 [==============================] - 3s 39ms/step - loss: 0.8398 - categorical_accuracy: 0.6222 - val_loss: 1.1323 - val_categorical_accuracy: 0.4011\n",
            "Epoch 2/10\n",
            "43/43 [==============================] - 1s 27ms/step - loss: 0.6021 - categorical_accuracy: 0.7593 - val_loss: 1.0078 - val_categorical_accuracy: 0.5143\n",
            "Epoch 3/10\n",
            "43/43 [==============================] - 1s 28ms/step - loss: 0.5387 - categorical_accuracy: 0.7866 - val_loss: 0.8721 - val_categorical_accuracy: 0.6000\n",
            "Epoch 4/10\n",
            "43/43 [==============================] - 1s 28ms/step - loss: 0.4905 - categorical_accuracy: 0.8090 - val_loss: 0.7702 - val_categorical_accuracy: 0.6791\n",
            "Epoch 5/10\n",
            "43/43 [==============================] - 1s 28ms/step - loss: 0.4573 - categorical_accuracy: 0.8170 - val_loss: 0.7149 - val_categorical_accuracy: 0.7110\n",
            "Epoch 6/10\n",
            "43/43 [==============================] - 1s 28ms/step - loss: 0.4330 - categorical_accuracy: 0.8330 - val_loss: 0.5754 - val_categorical_accuracy: 0.7593\n",
            "Epoch 7/10\n",
            "43/43 [==============================] - 1s 27ms/step - loss: 0.4131 - categorical_accuracy: 0.8406 - val_loss: 0.5683 - val_categorical_accuracy: 0.7670\n",
            "Epoch 8/10\n",
            "43/43 [==============================] - 1s 28ms/step - loss: 0.3954 - categorical_accuracy: 0.8436 - val_loss: 0.5033 - val_categorical_accuracy: 0.8088\n",
            "Epoch 9/10\n",
            "43/43 [==============================] - 1s 28ms/step - loss: 0.3770 - categorical_accuracy: 0.8575 - val_loss: 0.5262 - val_categorical_accuracy: 0.7780\n",
            "Epoch 10/10\n",
            "43/43 [==============================] - 1s 27ms/step - loss: 0.3578 - categorical_accuracy: 0.8655 - val_loss: 0.5065 - val_categorical_accuracy: 0.8209\n"
          ]
        },
        {
          "output_type": "execute_result",
          "data": {
            "text/plain": [
              "<keras.callbacks.History at 0x7fdfa833a0d0>"
            ]
          },
          "metadata": {},
          "execution_count": 35
        }
      ]
    },
    {
      "cell_type": "code",
      "metadata": {
        "colab": {
          "base_uri": "https://localhost:8080/"
        },
        "id": "VkUu_zUNjTdI",
        "outputId": "d00894b2-56a7-4a3c-caec-936e03d139f4"
      },
      "source": [
        "predictions = bestmodel5.predict(X_test)\n",
        "yTestNew = y_test.argmax(axis=1)\n",
        "yPredNew = predictions.argmax(axis=1)\n",
        "\n",
        "print(yTestNew)\n",
        "print(yPredNew)"
      ],
      "execution_count": null,
      "outputs": [
        {
          "output_type": "stream",
          "name": "stdout",
          "text": [
            "[1 0 0 0 2 1 1 0 1 1 2 0 1 1 1 0 0 1 2 2 0 0 2 0 1 0 0 2 2 1 0 1 2 0 1 0 0\n",
            " 0 0 0 1 1 1 2 1 2 1 2 1 2 0 1 1 1 1 1 0 1 1 0 1 2 0 1 0 0 1 0 1 2 2 1 2 1\n",
            " 1 1 1 1 1 1 1 2 2 1 1 1 1 2 2 1 0 2 1 1 1 1 1 0 2 1 2 1 1 1 0 0 1 1 0 1 0\n",
            " 0 2 1 1 1 1 0 2 0 0 0 2 0 1 1 1 0 0 1 1 0 1 1 1 1 0 1 2 2 1 2 1 0 0 0 0 0\n",
            " 1 1 1 1 1 1 1 2 1 0 2 1 0 2 1 0 1 0 0 0 2 1 1 1 2 1 1 1 1 0 1 1 1 1 1 0 0\n",
            " 1 0 2 1 0 2 0 2 1 2 2 2 2 1 1 1 0 1 1 0 1 0 1 1 1 1 1 1 1 0 0 0 0 0 1 0 0\n",
            " 2 0 0 1 0 1 2 1 1 1 1 0 0 2 1 1 1 2 2 0 1 0 1 0 1 2 1 0 1 1 0 0 2 0 1 1 1\n",
            " 1 2 1 0 1 1 0 1 1 1 1 1 0 1 2 2 2 1 0 2 2 1 0 1 1 1 2 2 1 0 0 2 0 1 2 2 1\n",
            " 2 1 1 0 2 2 1 2 0 1 1 1 1 1 0 1 0 0 1 0 2 0 0 1 1 2 1 0 2 0 1 1 0 0 1 1 2\n",
            " 2 0 1 1 0 1 1 1 0 0 1 1 0 1 0 2 1 0 2 1 1 1 1 1 0 1 2 1 1 1 0 1 1 1 2 0 2\n",
            " 0 0 0 1 2 2 2 1 1 1 1 0 1 0 0 2 1 1 1 1 1 0 1 1 2 0 0 2 0 1 0 1 1 2 0 0 1\n",
            " 1 0 1 2 2 0 2 0 2 2 1 1 1 1 1 2 2 0 2 0 0 1 0 0 1 0 0 2 2 0 0 1 0 1 1 0 0\n",
            " 1 0 1 1 1 0 2 0 1 0 1 0 1 0 1 0 1 2 2 0 0 0 1 1 2 0 1 0 0 1 2 1 0 0 2 1 2\n",
            " 1 1 0 1 1 0 2 0 1 0 1 0 0 0 2 2 1 0 0 0 0 1 0 1 1 1 1 2 0 2 2 0 1 0 1 1 0\n",
            " 0 2 2 0 1 0 2 0 2 2 2 1 0 1 1 2 0 1 2 0 0 0 0 0 2 0 1 1 2 1 1 2 0 2 1 1 0\n",
            " 0 1 0 1 2 2 1 0 1 0 0 1 1 1 1 2 0 2 2 1 1 2 1 0 2 2 1 1 2 0 1 0 1 0 1 1 1\n",
            " 1 0 1 1 2 1 2 1 0 1 0 1 1 2 2 1 0 2 2 0 2 0 1 0 1 2 0 2 1 0 1 0 1 1 0 0 0\n",
            " 0 1 1 0 1 2 1 1 2 1 1 0 1 1 1 1 0 1 0 2 1 0 1 0 0 0 1 0 2 0 1 1 1 1 2 1 1\n",
            " 1 0 0 1 1 0 1 1 1 0 1 0 0 0 0 0 0 0 1 1 0 0 1 0 1 0 0 0 1 1 2 1 0 0 0 0 1\n",
            " 0 1 1 1 1 2 1 1 1 1 1 1 0 1 2 1 2 1 1 1 2 2 0 0 0 1 0 2 1 1 0 1 2 1 1 0 0\n",
            " 0 1 2 0 1 1 0 2 0 1 1 1 0 1 1 0 2 0 1 1 1 1 1 0 1 1 0 1 1 0 0 1 0 0 2 2 0\n",
            " 1 0 0 0 2 1 0 0 0 0 0 1 0 1 0 0 0 0 1 0 1 0 1 0 1 2 2 1 1 1 0 1 0 1 1 0 0\n",
            " 0 1 2 0 0 1 1 1 1 0 2 2 1 0 1 1 0 1 0 0 0 1 0 1 0 1 1 1 1 0 1 0 1 2 0 0 1\n",
            " 0 2 0 1 1 1 1 0 1 0 1 0 1 0 2 0 0 2 1 1 1 0 0 1 1 1 0 1 2 1 0 1 0 1 1 1 1\n",
            " 1 0 1 2 2 2 0 1 0 1 1 1 1 2 1 2 2 1 1 1 0 1]\n",
            "[1 0 0 1 1 1 1 0 1 1 1 0 1 1 1 0 0 1 1 1 1 0 1 0 1 0 0 2 1 0 0 1 2 0 1 0 0\n",
            " 0 0 0 1 2 1 1 1 2 1 1 1 1 0 1 1 0 1 1 0 1 1 0 1 1 1 2 0 0 1 1 1 1 2 1 2 1\n",
            " 1 1 1 2 1 1 1 1 1 1 1 1 1 2 2 1 0 2 1 1 2 1 1 0 2 1 2 1 1 1 0 2 1 1 0 1 0\n",
            " 0 1 1 1 1 1 0 2 0 1 0 1 0 1 1 1 0 0 1 1 0 1 1 1 1 0 1 1 1 1 1 1 0 0 0 0 0\n",
            " 1 1 1 1 1 1 1 1 1 0 2 1 0 2 1 0 1 0 0 0 1 1 1 1 1 1 1 1 1 0 1 1 1 1 1 1 1\n",
            " 1 0 1 0 0 0 1 2 1 1 2 2 2 1 1 1 0 1 1 0 1 0 1 1 1 1 0 2 1 1 0 0 0 0 1 0 0\n",
            " 2 0 1 1 0 1 1 1 1 1 1 0 0 2 2 1 1 1 2 0 1 0 1 0 1 2 1 0 1 1 0 0 2 1 0 1 1\n",
            " 1 1 1 0 1 1 1 1 2 1 1 1 0 2 1 2 2 1 0 2 1 1 0 2 1 1 2 1 1 0 0 1 0 1 1 2 2\n",
            " 1 1 1 0 1 2 1 1 0 1 2 1 1 1 0 1 0 0 1 0 2 1 0 1 1 2 1 0 2 0 1 1 0 0 1 1 2\n",
            " 1 0 2 1 0 1 1 1 0 0 1 1 0 1 0 1 1 0 1 1 1 1 1 1 0 1 1 1 1 1 0 1 1 0 2 0 2\n",
            " 0 0 0 1 1 1 2 1 1 1 1 0 1 0 0 2 1 1 1 1 1 0 1 1 2 0 0 1 0 1 1 1 1 2 0 0 1\n",
            " 1 0 1 1 0 0 2 0 2 1 1 1 1 1 1 1 2 0 2 0 1 1 0 0 1 1 0 1 2 0 0 1 0 1 1 0 0\n",
            " 1 0 1 0 0 1 1 0 1 0 1 0 2 0 1 0 1 1 2 0 0 0 1 1 2 0 1 0 0 1 1 1 0 0 2 1 1\n",
            " 2 1 0 1 1 0 2 0 2 0 1 0 0 0 2 2 1 0 0 0 0 0 0 1 1 1 1 1 0 1 2 0 0 0 1 1 0\n",
            " 0 1 2 0 1 0 2 0 1 1 1 1 0 1 1 2 0 1 1 0 0 1 1 0 2 1 1 1 1 1 1 2 0 2 1 1 0\n",
            " 0 1 0 1 1 1 1 0 1 0 0 1 2 1 1 2 0 2 0 1 1 2 1 1 1 2 1 1 2 1 1 0 1 0 1 1 1\n",
            " 1 0 1 2 2 1 1 1 0 1 1 1 1 1 0 1 0 1 2 0 2 0 1 0 1 1 0 2 1 0 2 0 1 0 1 0 0\n",
            " 0 1 1 1 1 2 1 2 2 1 1 1 1 1 1 1 0 1 0 2 1 0 1 0 0 0 1 0 2 0 1 1 1 1 2 1 1\n",
            " 1 0 1 1 1 0 0 1 1 0 1 0 0 0 1 0 1 0 1 1 0 0 1 0 1 0 0 0 1 1 1 1 0 0 0 0 1\n",
            " 0 1 1 1 1 2 1 1 1 1 1 1 0 1 1 1 2 1 1 1 2 1 0 0 1 0 0 1 1 1 0 1 0 1 1 0 1\n",
            " 0 1 0 0 1 1 0 1 0 2 1 1 0 1 1 1 2 0 1 1 1 1 1 0 1 1 0 1 1 1 0 1 1 2 2 2 0\n",
            " 1 0 0 0 1 1 0 1 0 0 0 1 0 1 0 0 0 0 1 0 1 0 1 1 1 1 2 1 1 1 0 1 0 1 1 0 0\n",
            " 0 1 2 1 0 1 1 1 1 0 2 1 1 0 1 1 0 1 0 0 0 2 0 1 0 1 1 0 1 0 1 0 1 2 0 0 1\n",
            " 0 1 1 1 1 1 1 0 1 0 1 0 1 1 0 0 0 1 2 1 1 0 0 1 1 1 0 1 1 1 0 1 0 1 1 1 1\n",
            " 1 0 1 2 2 2 0 1 0 1 1 1 1 2 1 2 1 1 1 1 1 1]\n"
          ]
        }
      ]
    },
    {
      "cell_type": "code",
      "metadata": {
        "colab": {
          "base_uri": "https://localhost:8080/",
          "height": 296
        },
        "id": "cZVbokqnjY9p",
        "outputId": "aa45b8a3-ffbb-425c-8c63-423048647173"
      },
      "source": [
        "from sklearn.metrics import confusion_matrix, ConfusionMatrixDisplay, f1_score\n",
        "\n",
        "cM = confusion_matrix(yTestNew,yPredNew)\n",
        "\n",
        "displayClasses = [i for i in range(3)]\n",
        "\n",
        "print(f1_score(yTestNew, yPredNew, average='macro'))\n",
        "\n",
        "disp = ConfusionMatrixDisplay(confusion_matrix=cM, display_labels=displayClasses)\n",
        "disp.plot()\n",
        "pyplot.show()"
      ],
      "execution_count": null,
      "outputs": [
        {
          "output_type": "stream",
          "name": "stdout",
          "text": [
            "0.7825120407686024\n"
          ]
        },
        {
          "output_type": "display_data",
          "data": {
            "image/png": "[encoded data removed]",
            "text/plain": [
              "<Figure size 432x288 with 2 Axes>"
            ]
          },
          "metadata": {
            "needs_background": "light"
          }
        }
      ]
    },
    {
      "cell_type": "code",
      "metadata": {
        "colab": {
          "base_uri": "https://localhost:8080/"
        },
        "id": "oT2qzU3Ds5_w",
        "outputId": "c1334c9a-7f8c-4288-fe2e-e6123d419f71"
      },
      "source": [
        "#HYPERPARAMETER SEARCH while freezing first 4 layers!\n",
        "batchSizes = [100,200,300]\n",
        "numEpochs = 50\n",
        "print(batchSizes)"
      ],
      "execution_count": null,
      "outputs": [
        {
          "output_type": "stream",
          "name": "stdout",
          "text": [
            "[100, 200, 300]\n"
          ]
        }
      ]
    },
    {
      "cell_type": "code",
      "metadata": {
        "colab": {
          "base_uri": "https://localhost:8080/"
        },
        "id": "vNHoLNlQs7vB",
        "outputId": "b9b1c0d5-9abc-4e22-abdf-32008f3a7bba"
      },
      "source": [
        "trainAccuracy = []\n",
        "valAccuracy = []\n",
        "trainLoss = []\n",
        "valLoss = []\n",
        "\n",
        "for batchSize in batchSizes:\n",
        "  loadedBestModel = load_model(pathToModels+\"bestBinaryNNModel.h5\")\n",
        "  for layer in loadedBestModel.layers[:4]:\n",
        "    layer.trainable = False\n",
        "  print(\"BatchSize : \", batchSize)\n",
        "  model = Sequential()\n",
        "  for layer in loadedBestModel.layers[:-1]:\n",
        "    model.add(layer)\n",
        "    model.add(BatchNormalization())\n",
        "  model.add(Dense(3, activation='softmax'))\n",
        "  model.compile(loss='categorical_crossentropy', optimizer='adam', metrics=['categorical_accuracy'])\n",
        "  history = model.fit(X_train, y_train, epochs=numEpochs, batch_size=batchSize, validation_data = (X_dev, y_dev))\n",
        "  historyDict = history.history\n",
        "  #print(historyDict.keys())\n",
        "  #trainAccuracy.append(historyDict[\"accuracy\"])\n",
        "  #valAccuracy.append(historyDict[\"val_accuracy\"])\n",
        "  trainLoss.append(historyDict['loss'])\n",
        "  valLoss.append(historyDict['val_loss'])"
      ],
      "execution_count": null,
      "outputs": [
        {
          "output_type": "stream",
          "name": "stdout",
          "text": [
            "BatchSize :  100\n",
            "Epoch 1/50\n",
            "43/43 [==============================] - 4s 40ms/step - loss: 1.2092 - categorical_accuracy: 0.4133 - val_loss: 1.1149 - val_categorical_accuracy: 0.2571\n",
            "Epoch 2/50\n",
            "43/43 [==============================] - 1s 29ms/step - loss: 0.9561 - categorical_accuracy: 0.5391 - val_loss: 1.0643 - val_categorical_accuracy: 0.4505\n",
            "Epoch 3/50\n",
            "43/43 [==============================] - 1s 31ms/step - loss: 0.8287 - categorical_accuracy: 0.6192 - val_loss: 1.0292 - val_categorical_accuracy: 0.5165\n",
            "Epoch 4/50\n",
            "43/43 [==============================] - 1s 28ms/step - loss: 0.7648 - categorical_accuracy: 0.6651 - val_loss: 0.9503 - val_categorical_accuracy: 0.5802\n",
            "Epoch 5/50\n",
            "43/43 [==============================] - 1s 29ms/step - loss: 0.7151 - categorical_accuracy: 0.6861 - val_loss: 0.8716 - val_categorical_accuracy: 0.6275\n",
            "Epoch 6/50\n",
            "43/43 [==============================] - 1s 28ms/step - loss: 0.6783 - categorical_accuracy: 0.7063 - val_loss: 0.8014 - val_categorical_accuracy: 0.6813\n",
            "Epoch 7/50\n",
            "43/43 [==============================] - 1s 29ms/step - loss: 0.6571 - categorical_accuracy: 0.7113 - val_loss: 0.7894 - val_categorical_accuracy: 0.7055\n",
            "Epoch 8/50\n",
            "43/43 [==============================] - 1s 28ms/step - loss: 0.6265 - categorical_accuracy: 0.7275 - val_loss: 0.8105 - val_categorical_accuracy: 0.7209\n",
            "Epoch 9/50\n",
            "43/43 [==============================] - 1s 27ms/step - loss: 0.6183 - categorical_accuracy: 0.7379 - val_loss: 0.8448 - val_categorical_accuracy: 0.7242\n",
            "Epoch 10/50\n",
            "43/43 [==============================] - 1s 28ms/step - loss: 0.6023 - categorical_accuracy: 0.7343 - val_loss: 0.8635 - val_categorical_accuracy: 0.7319\n",
            "Epoch 11/50\n",
            "43/43 [==============================] - 1s 28ms/step - loss: 0.5877 - categorical_accuracy: 0.7513 - val_loss: 0.8640 - val_categorical_accuracy: 0.7385\n",
            "Epoch 12/50\n",
            "43/43 [==============================] - 1s 28ms/step - loss: 0.5782 - categorical_accuracy: 0.7591 - val_loss: 1.0318 - val_categorical_accuracy: 0.7374\n",
            "Epoch 13/50\n",
            "43/43 [==============================] - 1s 28ms/step - loss: 0.5683 - categorical_accuracy: 0.7598 - val_loss: 1.1024 - val_categorical_accuracy: 0.7505\n",
            "Epoch 14/50\n",
            "43/43 [==============================] - 1s 28ms/step - loss: 0.5538 - categorical_accuracy: 0.7666 - val_loss: 1.2484 - val_categorical_accuracy: 0.7549\n",
            "Epoch 15/50\n",
            "43/43 [==============================] - 1s 27ms/step - loss: 0.5469 - categorical_accuracy: 0.7704 - val_loss: 1.3980 - val_categorical_accuracy: 0.7505\n",
            "Epoch 16/50\n",
            "43/43 [==============================] - 1s 28ms/step - loss: 0.5412 - categorical_accuracy: 0.7699 - val_loss: 1.5422 - val_categorical_accuracy: 0.7571\n",
            "Epoch 17/50\n",
            "43/43 [==============================] - 1s 28ms/step - loss: 0.5286 - categorical_accuracy: 0.7854 - val_loss: 1.5824 - val_categorical_accuracy: 0.7582\n",
            "Epoch 18/50\n",
            "43/43 [==============================] - 1s 28ms/step - loss: 0.5317 - categorical_accuracy: 0.7748 - val_loss: 1.8513 - val_categorical_accuracy: 0.7758\n",
            "Epoch 19/50\n",
            "43/43 [==============================] - 1s 28ms/step - loss: 0.5062 - categorical_accuracy: 0.7878 - val_loss: 2.0419 - val_categorical_accuracy: 0.7703\n",
            "Epoch 20/50\n",
            "43/43 [==============================] - 1s 29ms/step - loss: 0.5140 - categorical_accuracy: 0.7902 - val_loss: 2.1626 - val_categorical_accuracy: 0.7747\n",
            "Epoch 21/50\n",
            "43/43 [==============================] - 1s 28ms/step - loss: 0.4949 - categorical_accuracy: 0.8017 - val_loss: 2.2775 - val_categorical_accuracy: 0.7791\n",
            "Epoch 22/50\n",
            "43/43 [==============================] - 1s 28ms/step - loss: 0.4872 - categorical_accuracy: 0.7989 - val_loss: 2.5705 - val_categorical_accuracy: 0.7747\n",
            "Epoch 23/50\n",
            "43/43 [==============================] - 1s 28ms/step - loss: 0.4891 - categorical_accuracy: 0.8026 - val_loss: 2.4699 - val_categorical_accuracy: 0.7835\n",
            "Epoch 24/50\n",
            "43/43 [==============================] - 1s 32ms/step - loss: 0.4822 - categorical_accuracy: 0.8019 - val_loss: 2.5451 - val_categorical_accuracy: 0.7901\n",
            "Epoch 25/50\n",
            "43/43 [==============================] - 1s 28ms/step - loss: 0.4787 - categorical_accuracy: 0.8052 - val_loss: 2.2286 - val_categorical_accuracy: 0.7934\n",
            "Epoch 26/50\n",
            "43/43 [==============================] - 1s 27ms/step - loss: 0.4706 - categorical_accuracy: 0.8062 - val_loss: 2.5036 - val_categorical_accuracy: 0.7846\n",
            "Epoch 27/50\n",
            "43/43 [==============================] - 1s 29ms/step - loss: 0.4667 - categorical_accuracy: 0.8083 - val_loss: 2.4973 - val_categorical_accuracy: 0.7967\n",
            "Epoch 28/50\n",
            "43/43 [==============================] - 1s 28ms/step - loss: 0.4610 - categorical_accuracy: 0.8118 - val_loss: 2.7911 - val_categorical_accuracy: 0.7956\n",
            "Epoch 29/50\n",
            "43/43 [==============================] - 1s 28ms/step - loss: 0.4454 - categorical_accuracy: 0.8191 - val_loss: 3.0283 - val_categorical_accuracy: 0.7978\n",
            "Epoch 30/50\n",
            "43/43 [==============================] - 1s 31ms/step - loss: 0.4627 - categorical_accuracy: 0.8158 - val_loss: 3.1236 - val_categorical_accuracy: 0.7967\n",
            "Epoch 31/50\n",
            "43/43 [==============================] - 1s 30ms/step - loss: 0.4486 - categorical_accuracy: 0.8125 - val_loss: 3.1518 - val_categorical_accuracy: 0.7912\n",
            "Epoch 32/50\n",
            "43/43 [==============================] - 1s 29ms/step - loss: 0.4411 - categorical_accuracy: 0.8274 - val_loss: 3.0919 - val_categorical_accuracy: 0.8044\n",
            "Epoch 33/50\n",
            "43/43 [==============================] - 1s 29ms/step - loss: 0.4483 - categorical_accuracy: 0.8189 - val_loss: 3.1928 - val_categorical_accuracy: 0.8033\n",
            "Epoch 34/50\n",
            "43/43 [==============================] - 1s 29ms/step - loss: 0.4354 - categorical_accuracy: 0.8222 - val_loss: 3.0299 - val_categorical_accuracy: 0.8198\n",
            "Epoch 35/50\n",
            "43/43 [==============================] - 1s 29ms/step - loss: 0.4201 - categorical_accuracy: 0.8344 - val_loss: 3.0205 - val_categorical_accuracy: 0.8066\n",
            "Epoch 36/50\n",
            "43/43 [==============================] - 1s 29ms/step - loss: 0.4372 - categorical_accuracy: 0.8234 - val_loss: 2.8873 - val_categorical_accuracy: 0.8066\n",
            "Epoch 37/50\n",
            "43/43 [==============================] - 1s 28ms/step - loss: 0.4241 - categorical_accuracy: 0.8307 - val_loss: 2.7563 - val_categorical_accuracy: 0.8066\n",
            "Epoch 38/50\n",
            "43/43 [==============================] - 1s 28ms/step - loss: 0.4231 - categorical_accuracy: 0.8323 - val_loss: 2.4700 - val_categorical_accuracy: 0.8121\n",
            "Epoch 39/50\n",
            "43/43 [==============================] - 1s 28ms/step - loss: 0.4040 - categorical_accuracy: 0.8417 - val_loss: 2.8064 - val_categorical_accuracy: 0.8187\n",
            "Epoch 40/50\n",
            "43/43 [==============================] - 1s 28ms/step - loss: 0.4107 - categorical_accuracy: 0.8401 - val_loss: 2.7930 - val_categorical_accuracy: 0.8121\n",
            "Epoch 41/50\n",
            "43/43 [==============================] - 1s 28ms/step - loss: 0.4020 - categorical_accuracy: 0.8387 - val_loss: 2.7356 - val_categorical_accuracy: 0.8198\n",
            "Epoch 42/50\n",
            "43/43 [==============================] - 1s 28ms/step - loss: 0.3879 - categorical_accuracy: 0.8441 - val_loss: 2.6266 - val_categorical_accuracy: 0.8253\n",
            "Epoch 43/50\n",
            "43/43 [==============================] - 1s 27ms/step - loss: 0.3907 - categorical_accuracy: 0.8495 - val_loss: 2.9007 - val_categorical_accuracy: 0.8253\n",
            "Epoch 44/50\n",
            "43/43 [==============================] - 1s 27ms/step - loss: 0.3924 - categorical_accuracy: 0.8474 - val_loss: 2.9763 - val_categorical_accuracy: 0.8319\n",
            "Epoch 45/50\n",
            "43/43 [==============================] - 1s 28ms/step - loss: 0.3981 - categorical_accuracy: 0.8479 - val_loss: 2.7798 - val_categorical_accuracy: 0.8253\n",
            "Epoch 46/50\n",
            "43/43 [==============================] - 1s 28ms/step - loss: 0.3956 - categorical_accuracy: 0.8467 - val_loss: 2.9089 - val_categorical_accuracy: 0.8132\n",
            "Epoch 47/50\n",
            "43/43 [==============================] - 1s 29ms/step - loss: 0.3882 - categorical_accuracy: 0.8441 - val_loss: 2.7021 - val_categorical_accuracy: 0.8341\n",
            "Epoch 48/50\n",
            "43/43 [==============================] - 1s 27ms/step - loss: 0.3913 - categorical_accuracy: 0.8495 - val_loss: 2.7004 - val_categorical_accuracy: 0.8275\n",
            "Epoch 49/50\n",
            "43/43 [==============================] - 1s 28ms/step - loss: 0.3868 - categorical_accuracy: 0.8434 - val_loss: 2.7593 - val_categorical_accuracy: 0.8352\n",
            "Epoch 50/50\n",
            "43/43 [==============================] - 1s 29ms/step - loss: 0.3782 - categorical_accuracy: 0.8504 - val_loss: 3.1183 - val_categorical_accuracy: 0.8253\n",
            "BatchSize :  200\n",
            "Epoch 1/50\n",
            "22/22 [==============================] - 4s 74ms/step - loss: 1.2601 - categorical_accuracy: 0.3895 - val_loss: 1.1604 - val_categorical_accuracy: 0.4747\n",
            "Epoch 2/50\n",
            "22/22 [==============================] - 1s 43ms/step - loss: 1.0157 - categorical_accuracy: 0.5059 - val_loss: 1.1131 - val_categorical_accuracy: 0.4736\n",
            "Epoch 3/50\n",
            "22/22 [==============================] - 1s 42ms/step - loss: 0.8955 - categorical_accuracy: 0.5909 - val_loss: 1.0950 - val_categorical_accuracy: 0.4769\n",
            "Epoch 4/50\n",
            "22/22 [==============================] - 1s 43ms/step - loss: 0.8189 - categorical_accuracy: 0.6401 - val_loss: 1.0751 - val_categorical_accuracy: 0.4868\n",
            "Epoch 5/50\n",
            "22/22 [==============================] - 1s 42ms/step - loss: 0.7693 - categorical_accuracy: 0.6799 - val_loss: 1.0378 - val_categorical_accuracy: 0.5220\n",
            "Epoch 6/50\n",
            "22/22 [==============================] - 1s 43ms/step - loss: 0.7261 - categorical_accuracy: 0.7011 - val_loss: 0.9862 - val_categorical_accuracy: 0.5615\n",
            "Epoch 7/50\n",
            "22/22 [==============================] - 1s 42ms/step - loss: 0.7031 - categorical_accuracy: 0.7087 - val_loss: 0.9324 - val_categorical_accuracy: 0.6033\n",
            "Epoch 8/50\n",
            "22/22 [==============================] - 1s 43ms/step - loss: 0.6775 - categorical_accuracy: 0.7143 - val_loss: 0.9034 - val_categorical_accuracy: 0.6286\n",
            "Epoch 9/50\n",
            "22/22 [==============================] - 1s 42ms/step - loss: 0.6552 - categorical_accuracy: 0.7261 - val_loss: 0.8733 - val_categorical_accuracy: 0.6703\n",
            "Epoch 10/50\n",
            "22/22 [==============================] - 1s 42ms/step - loss: 0.6304 - categorical_accuracy: 0.7320 - val_loss: 0.8742 - val_categorical_accuracy: 0.6758\n",
            "Epoch 11/50\n",
            "22/22 [==============================] - 1s 43ms/step - loss: 0.6208 - categorical_accuracy: 0.7454 - val_loss: 0.8647 - val_categorical_accuracy: 0.7011\n",
            "Epoch 12/50\n",
            "22/22 [==============================] - 1s 43ms/step - loss: 0.6132 - categorical_accuracy: 0.7527 - val_loss: 0.8788 - val_categorical_accuracy: 0.6989\n",
            "Epoch 13/50\n",
            "22/22 [==============================] - 1s 43ms/step - loss: 0.5983 - categorical_accuracy: 0.7558 - val_loss: 0.8969 - val_categorical_accuracy: 0.7077\n",
            "Epoch 14/50\n",
            "22/22 [==============================] - 1s 42ms/step - loss: 0.5804 - categorical_accuracy: 0.7642 - val_loss: 0.9438 - val_categorical_accuracy: 0.7165\n",
            "Epoch 15/50\n",
            "22/22 [==============================] - 1s 44ms/step - loss: 0.5640 - categorical_accuracy: 0.7699 - val_loss: 0.9864 - val_categorical_accuracy: 0.7187\n",
            "Epoch 16/50\n",
            "22/22 [==============================] - 1s 43ms/step - loss: 0.5528 - categorical_accuracy: 0.7718 - val_loss: 1.0477 - val_categorical_accuracy: 0.7275\n",
            "Epoch 17/50\n",
            "22/22 [==============================] - 1s 42ms/step - loss: 0.5438 - categorical_accuracy: 0.7767 - val_loss: 1.1155 - val_categorical_accuracy: 0.7440\n",
            "Epoch 18/50\n",
            "22/22 [==============================] - 1s 44ms/step - loss: 0.5346 - categorical_accuracy: 0.7831 - val_loss: 1.1264 - val_categorical_accuracy: 0.7429\n",
            "Epoch 19/50\n",
            "22/22 [==============================] - 1s 42ms/step - loss: 0.5239 - categorical_accuracy: 0.7876 - val_loss: 1.2031 - val_categorical_accuracy: 0.7538\n",
            "Epoch 20/50\n",
            "22/22 [==============================] - 1s 43ms/step - loss: 0.5230 - categorical_accuracy: 0.7852 - val_loss: 1.3058 - val_categorical_accuracy: 0.7527\n",
            "Epoch 21/50\n",
            "22/22 [==============================] - 1s 43ms/step - loss: 0.5136 - categorical_accuracy: 0.7932 - val_loss: 1.3749 - val_categorical_accuracy: 0.7560\n",
            "Epoch 22/50\n",
            "22/22 [==============================] - 1s 43ms/step - loss: 0.4976 - categorical_accuracy: 0.7979 - val_loss: 1.5049 - val_categorical_accuracy: 0.7582\n",
            "Epoch 23/50\n",
            "22/22 [==============================] - 1s 43ms/step - loss: 0.4953 - categorical_accuracy: 0.8012 - val_loss: 1.6113 - val_categorical_accuracy: 0.7703\n",
            "Epoch 24/50\n",
            "22/22 [==============================] - 1s 42ms/step - loss: 0.4850 - categorical_accuracy: 0.8033 - val_loss: 1.6726 - val_categorical_accuracy: 0.7736\n",
            "Epoch 25/50\n",
            "22/22 [==============================] - 1s 42ms/step - loss: 0.4788 - categorical_accuracy: 0.8062 - val_loss: 1.8553 - val_categorical_accuracy: 0.7769\n",
            "Epoch 26/50\n",
            "22/22 [==============================] - 1s 43ms/step - loss: 0.4871 - categorical_accuracy: 0.8005 - val_loss: 1.9701 - val_categorical_accuracy: 0.7813\n",
            "Epoch 27/50\n",
            "22/22 [==============================] - 1s 50ms/step - loss: 0.4644 - categorical_accuracy: 0.8165 - val_loss: 2.1328 - val_categorical_accuracy: 0.7846\n",
            "Epoch 28/50\n",
            "22/22 [==============================] - 1s 43ms/step - loss: 0.4678 - categorical_accuracy: 0.8052 - val_loss: 2.3660 - val_categorical_accuracy: 0.7879\n",
            "Epoch 29/50\n",
            "22/22 [==============================] - 1s 43ms/step - loss: 0.4508 - categorical_accuracy: 0.8224 - val_loss: 2.5550 - val_categorical_accuracy: 0.7945\n",
            "Epoch 30/50\n",
            "22/22 [==============================] - 1s 43ms/step - loss: 0.4518 - categorical_accuracy: 0.8217 - val_loss: 2.7693 - val_categorical_accuracy: 0.7989\n",
            "Epoch 31/50\n",
            "22/22 [==============================] - 1s 43ms/step - loss: 0.4474 - categorical_accuracy: 0.8220 - val_loss: 2.8493 - val_categorical_accuracy: 0.7890\n",
            "Epoch 32/50\n",
            "22/22 [==============================] - 1s 42ms/step - loss: 0.4397 - categorical_accuracy: 0.8330 - val_loss: 3.0552 - val_categorical_accuracy: 0.7956\n",
            "Epoch 33/50\n",
            "22/22 [==============================] - 1s 41ms/step - loss: 0.4364 - categorical_accuracy: 0.8243 - val_loss: 3.2146 - val_categorical_accuracy: 0.7923\n",
            "Epoch 34/50\n",
            "22/22 [==============================] - 1s 42ms/step - loss: 0.4287 - categorical_accuracy: 0.8250 - val_loss: 3.4376 - val_categorical_accuracy: 0.8066\n",
            "Epoch 35/50\n",
            "22/22 [==============================] - 1s 43ms/step - loss: 0.4248 - categorical_accuracy: 0.8295 - val_loss: 3.6703 - val_categorical_accuracy: 0.7978\n",
            "Epoch 36/50\n",
            "22/22 [==============================] - 1s 43ms/step - loss: 0.4105 - categorical_accuracy: 0.8349 - val_loss: 3.7677 - val_categorical_accuracy: 0.8011\n",
            "Epoch 37/50\n",
            "22/22 [==============================] - 1s 42ms/step - loss: 0.4138 - categorical_accuracy: 0.8375 - val_loss: 3.6714 - val_categorical_accuracy: 0.8154\n",
            "Epoch 38/50\n",
            "22/22 [==============================] - 1s 43ms/step - loss: 0.4081 - categorical_accuracy: 0.8382 - val_loss: 3.8062 - val_categorical_accuracy: 0.8121\n",
            "Epoch 39/50\n",
            "22/22 [==============================] - 1s 43ms/step - loss: 0.4113 - categorical_accuracy: 0.8380 - val_loss: 3.8413 - val_categorical_accuracy: 0.8132\n",
            "Epoch 40/50\n",
            "22/22 [==============================] - 1s 44ms/step - loss: 0.4053 - categorical_accuracy: 0.8394 - val_loss: 3.7627 - val_categorical_accuracy: 0.8033\n",
            "Epoch 41/50\n",
            "22/22 [==============================] - 1s 42ms/step - loss: 0.4061 - categorical_accuracy: 0.8389 - val_loss: 4.0512 - val_categorical_accuracy: 0.8066\n",
            "Epoch 42/50\n",
            "22/22 [==============================] - 1s 43ms/step - loss: 0.3958 - categorical_accuracy: 0.8479 - val_loss: 4.1695 - val_categorical_accuracy: 0.8044\n",
            "Epoch 43/50\n",
            "22/22 [==============================] - 1s 42ms/step - loss: 0.3929 - categorical_accuracy: 0.8455 - val_loss: 4.0105 - val_categorical_accuracy: 0.8077\n",
            "Epoch 44/50\n",
            "22/22 [==============================] - 1s 43ms/step - loss: 0.3859 - categorical_accuracy: 0.8439 - val_loss: 4.0190 - val_categorical_accuracy: 0.8165\n",
            "Epoch 45/50\n",
            "22/22 [==============================] - 1s 42ms/step - loss: 0.3809 - categorical_accuracy: 0.8507 - val_loss: 4.1680 - val_categorical_accuracy: 0.8066\n",
            "Epoch 46/50\n",
            "22/22 [==============================] - 1s 43ms/step - loss: 0.3767 - categorical_accuracy: 0.8547 - val_loss: 4.1867 - val_categorical_accuracy: 0.8143\n",
            "Epoch 47/50\n",
            "22/22 [==============================] - 1s 43ms/step - loss: 0.3872 - categorical_accuracy: 0.8493 - val_loss: 4.3111 - val_categorical_accuracy: 0.8121\n",
            "Epoch 48/50\n",
            "22/22 [==============================] - 1s 43ms/step - loss: 0.3786 - categorical_accuracy: 0.8554 - val_loss: 4.5024 - val_categorical_accuracy: 0.8176\n",
            "Epoch 49/50\n",
            "22/22 [==============================] - 1s 43ms/step - loss: 0.3715 - categorical_accuracy: 0.8582 - val_loss: 4.4914 - val_categorical_accuracy: 0.8121\n",
            "Epoch 50/50\n",
            "22/22 [==============================] - 1s 43ms/step - loss: 0.3750 - categorical_accuracy: 0.8540 - val_loss: 4.7498 - val_categorical_accuracy: 0.8132\n",
            "BatchSize :  300\n",
            "Epoch 1/50\n",
            "15/15 [==============================] - 3s 79ms/step - loss: 1.2754 - categorical_accuracy: 0.3702 - val_loss: 1.1021 - val_categorical_accuracy: 0.3440\n",
            "Epoch 2/50\n",
            "15/15 [==============================] - 1s 53ms/step - loss: 1.0708 - categorical_accuracy: 0.4602 - val_loss: 1.0722 - val_categorical_accuracy: 0.4747\n",
            "Epoch 3/50\n",
            "15/15 [==============================] - 1s 48ms/step - loss: 0.9634 - categorical_accuracy: 0.5330 - val_loss: 1.0662 - val_categorical_accuracy: 0.4769\n",
            "Epoch 4/50\n",
            "15/15 [==============================] - 1s 47ms/step - loss: 0.8839 - categorical_accuracy: 0.6029 - val_loss: 1.0635 - val_categorical_accuracy: 0.4769\n",
            "Epoch 5/50\n",
            "15/15 [==============================] - 1s 46ms/step - loss: 0.8319 - categorical_accuracy: 0.6345 - val_loss: 1.0576 - val_categorical_accuracy: 0.4791\n",
            "Epoch 6/50\n",
            "15/15 [==============================] - 1s 47ms/step - loss: 0.7870 - categorical_accuracy: 0.6578 - val_loss: 1.0455 - val_categorical_accuracy: 0.4901\n",
            "Epoch 7/50\n",
            "15/15 [==============================] - 1s 48ms/step - loss: 0.7460 - categorical_accuracy: 0.6844 - val_loss: 1.0218 - val_categorical_accuracy: 0.5011\n",
            "Epoch 8/50\n",
            "15/15 [==============================] - 1s 50ms/step - loss: 0.7197 - categorical_accuracy: 0.6997 - val_loss: 0.9918 - val_categorical_accuracy: 0.5209\n",
            "Epoch 9/50\n",
            "15/15 [==============================] - 1s 48ms/step - loss: 0.6904 - categorical_accuracy: 0.7075 - val_loss: 0.9580 - val_categorical_accuracy: 0.5407\n",
            "Epoch 10/50\n",
            "15/15 [==============================] - 1s 51ms/step - loss: 0.6627 - categorical_accuracy: 0.7204 - val_loss: 0.9028 - val_categorical_accuracy: 0.5846\n",
            "Epoch 11/50\n",
            "15/15 [==============================] - 1s 47ms/step - loss: 0.6415 - categorical_accuracy: 0.7296 - val_loss: 0.8638 - val_categorical_accuracy: 0.6099\n",
            "Epoch 12/50\n",
            "15/15 [==============================] - 1s 48ms/step - loss: 0.6256 - categorical_accuracy: 0.7407 - val_loss: 0.8305 - val_categorical_accuracy: 0.6154\n",
            "Epoch 13/50\n",
            "15/15 [==============================] - 1s 50ms/step - loss: 0.6056 - categorical_accuracy: 0.7447 - val_loss: 0.8037 - val_categorical_accuracy: 0.6429\n",
            "Epoch 14/50\n",
            "15/15 [==============================] - 1s 49ms/step - loss: 0.5958 - categorical_accuracy: 0.7447 - val_loss: 0.7714 - val_categorical_accuracy: 0.6593\n",
            "Epoch 15/50\n",
            "15/15 [==============================] - 1s 51ms/step - loss: 0.5825 - categorical_accuracy: 0.7537 - val_loss: 0.7480 - val_categorical_accuracy: 0.6747\n",
            "Epoch 16/50\n",
            "15/15 [==============================] - 1s 48ms/step - loss: 0.5718 - categorical_accuracy: 0.7577 - val_loss: 0.7336 - val_categorical_accuracy: 0.6747\n",
            "Epoch 17/50\n",
            "15/15 [==============================] - 1s 51ms/step - loss: 0.5552 - categorical_accuracy: 0.7659 - val_loss: 0.7130 - val_categorical_accuracy: 0.6813\n",
            "Epoch 18/50\n",
            "15/15 [==============================] - 1s 46ms/step - loss: 0.5474 - categorical_accuracy: 0.7704 - val_loss: 0.7048 - val_categorical_accuracy: 0.6846\n",
            "Epoch 19/50\n",
            "15/15 [==============================] - 1s 47ms/step - loss: 0.5365 - categorical_accuracy: 0.7718 - val_loss: 0.6924 - val_categorical_accuracy: 0.6890\n",
            "Epoch 20/50\n",
            "15/15 [==============================] - 1s 49ms/step - loss: 0.5298 - categorical_accuracy: 0.7772 - val_loss: 0.6776 - val_categorical_accuracy: 0.6945\n",
            "Epoch 21/50\n",
            "15/15 [==============================] - 1s 47ms/step - loss: 0.5262 - categorical_accuracy: 0.7744 - val_loss: 0.6618 - val_categorical_accuracy: 0.7088\n",
            "Epoch 22/50\n",
            "15/15 [==============================] - 1s 50ms/step - loss: 0.5096 - categorical_accuracy: 0.7826 - val_loss: 0.6505 - val_categorical_accuracy: 0.7275\n",
            "Epoch 23/50\n",
            "15/15 [==============================] - 1s 48ms/step - loss: 0.5076 - categorical_accuracy: 0.7847 - val_loss: 0.6425 - val_categorical_accuracy: 0.7341\n",
            "Epoch 24/50\n",
            "15/15 [==============================] - 1s 49ms/step - loss: 0.5019 - categorical_accuracy: 0.7880 - val_loss: 0.6417 - val_categorical_accuracy: 0.7407\n",
            "Epoch 25/50\n",
            "15/15 [==============================] - 1s 47ms/step - loss: 0.4944 - categorical_accuracy: 0.7935 - val_loss: 0.6415 - val_categorical_accuracy: 0.7484\n",
            "Epoch 26/50\n",
            "15/15 [==============================] - 1s 49ms/step - loss: 0.4944 - categorical_accuracy: 0.7967 - val_loss: 0.6396 - val_categorical_accuracy: 0.7495\n",
            "Epoch 27/50\n",
            "15/15 [==============================] - 1s 47ms/step - loss: 0.4776 - categorical_accuracy: 0.8022 - val_loss: 0.6347 - val_categorical_accuracy: 0.7505\n",
            "Epoch 28/50\n",
            "15/15 [==============================] - 1s 51ms/step - loss: 0.4767 - categorical_accuracy: 0.8055 - val_loss: 0.6257 - val_categorical_accuracy: 0.7560\n",
            "Epoch 29/50\n",
            "15/15 [==============================] - 1s 46ms/step - loss: 0.4610 - categorical_accuracy: 0.8116 - val_loss: 0.6211 - val_categorical_accuracy: 0.7571\n",
            "Epoch 30/50\n",
            "15/15 [==============================] - 1s 51ms/step - loss: 0.4638 - categorical_accuracy: 0.8106 - val_loss: 0.6232 - val_categorical_accuracy: 0.7648\n",
            "Epoch 31/50\n",
            "15/15 [==============================] - 1s 49ms/step - loss: 0.4548 - categorical_accuracy: 0.8177 - val_loss: 0.6453 - val_categorical_accuracy: 0.7659\n",
            "Epoch 32/50\n",
            "15/15 [==============================] - 1s 48ms/step - loss: 0.4476 - categorical_accuracy: 0.8175 - val_loss: 0.6629 - val_categorical_accuracy: 0.7736\n",
            "Epoch 33/50\n",
            "15/15 [==============================] - 1s 48ms/step - loss: 0.4501 - categorical_accuracy: 0.8234 - val_loss: 0.6618 - val_categorical_accuracy: 0.7736\n",
            "Epoch 34/50\n",
            "15/15 [==============================] - 1s 48ms/step - loss: 0.4405 - categorical_accuracy: 0.8241 - val_loss: 0.6750 - val_categorical_accuracy: 0.7791\n",
            "Epoch 35/50\n",
            "15/15 [==============================] - 1s 48ms/step - loss: 0.4346 - categorical_accuracy: 0.8276 - val_loss: 0.6743 - val_categorical_accuracy: 0.7901\n",
            "Epoch 36/50\n",
            "15/15 [==============================] - 1s 49ms/step - loss: 0.4294 - categorical_accuracy: 0.8323 - val_loss: 0.6696 - val_categorical_accuracy: 0.7791\n",
            "Epoch 37/50\n",
            "15/15 [==============================] - 1s 51ms/step - loss: 0.4206 - categorical_accuracy: 0.8361 - val_loss: 0.7062 - val_categorical_accuracy: 0.7846\n",
            "Epoch 38/50\n",
            "15/15 [==============================] - 1s 47ms/step - loss: 0.4238 - categorical_accuracy: 0.8333 - val_loss: 0.7453 - val_categorical_accuracy: 0.7879\n",
            "Epoch 39/50\n",
            "15/15 [==============================] - 1s 46ms/step - loss: 0.4228 - categorical_accuracy: 0.8349 - val_loss: 0.7222 - val_categorical_accuracy: 0.7890\n",
            "Epoch 40/50\n",
            "15/15 [==============================] - 1s 50ms/step - loss: 0.4177 - categorical_accuracy: 0.8366 - val_loss: 0.7592 - val_categorical_accuracy: 0.7923\n",
            "Epoch 41/50\n",
            "15/15 [==============================] - 1s 48ms/step - loss: 0.4094 - categorical_accuracy: 0.8427 - val_loss: 0.7593 - val_categorical_accuracy: 0.7890\n",
            "Epoch 42/50\n",
            "15/15 [==============================] - 1s 48ms/step - loss: 0.4060 - categorical_accuracy: 0.8417 - val_loss: 0.8676 - val_categorical_accuracy: 0.8011\n",
            "Epoch 43/50\n",
            "15/15 [==============================] - 1s 50ms/step - loss: 0.3945 - categorical_accuracy: 0.8464 - val_loss: 0.9209 - val_categorical_accuracy: 0.7901\n",
            "Epoch 44/50\n",
            "15/15 [==============================] - 1s 49ms/step - loss: 0.3910 - categorical_accuracy: 0.8460 - val_loss: 0.9414 - val_categorical_accuracy: 0.7912\n",
            "Epoch 45/50\n",
            "15/15 [==============================] - 1s 49ms/step - loss: 0.3886 - categorical_accuracy: 0.8464 - val_loss: 1.0184 - val_categorical_accuracy: 0.8011\n",
            "Epoch 46/50\n",
            "15/15 [==============================] - 1s 50ms/step - loss: 0.3852 - categorical_accuracy: 0.8530 - val_loss: 0.9799 - val_categorical_accuracy: 0.8044\n",
            "Epoch 47/50\n",
            "15/15 [==============================] - 1s 48ms/step - loss: 0.3885 - categorical_accuracy: 0.8521 - val_loss: 0.9775 - val_categorical_accuracy: 0.8066\n",
            "Epoch 48/50\n",
            "15/15 [==============================] - 1s 50ms/step - loss: 0.3779 - categorical_accuracy: 0.8566 - val_loss: 0.9414 - val_categorical_accuracy: 0.8011\n",
            "Epoch 49/50\n",
            "15/15 [==============================] - 1s 49ms/step - loss: 0.3797 - categorical_accuracy: 0.8577 - val_loss: 0.8546 - val_categorical_accuracy: 0.8011\n",
            "Epoch 50/50\n",
            "15/15 [==============================] - 1s 50ms/step - loss: 0.3730 - categorical_accuracy: 0.8620 - val_loss: 0.8827 - val_categorical_accuracy: 0.8055\n"
          ]
        }
      ]
    },
    {
      "cell_type": "code",
      "metadata": {
        "colab": {
          "base_uri": "https://localhost:8080/",
          "height": 316
        },
        "id": "Oxw1iAVNtEH8",
        "outputId": "5ff5e59e-bc05-4633-aec9-9a1d252b3c1d"
      },
      "source": [
        "#For Loss Plotting\n",
        "num_epochs = numEpochs\n",
        "\n",
        "x = [i for i in range(1,num_epochs+1)]\n",
        "print(x)\n",
        "yTrainLoss = trainLoss\n",
        "#Train Loss\n",
        "for i in range(len(batchSizes)):\n",
        "  currBatchSize = batchSizes[i]\n",
        "  labelName = \"Batch Size \" + str(currBatchSize)\n",
        "  pyplot.plot(x, yTrainLoss[i],label=labelName)\n",
        "\n",
        "pyplot.legend()\n",
        "pyplot.xlabel(\"Number of Epochs\")\n",
        "pyplot.ylabel(\"Train Loss\")\n",
        "pyplot.show()"
      ],
      "execution_count": null,
      "outputs": [
        {
          "output_type": "stream",
          "name": "stdout",
          "text": [
            "[1, 2, 3, 4, 5, 6, 7, 8, 9, 10, 11, 12, 13, 14, 15, 16, 17, 18, 19, 20, 21, 22, 23, 24, 25, 26, 27, 28, 29, 30, 31, 32, 33, 34, 35, 36, 37, 38, 39, 40, 41, 42, 43, 44, 45, 46, 47, 48, 49, 50]\n"
          ]
        },
        {
          "output_type": "display_data",
          "data": {
            "image/png": "[encoded data removed]",
            "text/plain": [
              "<Figure size 432x288 with 1 Axes>"
            ]
          },
          "metadata": {
            "needs_background": "light"
          }
        }
      ]
    },
    {
      "cell_type": "code",
      "metadata": {
        "colab": {
          "base_uri": "https://localhost:8080/",
          "height": 316
        },
        "id": "VTHUU1qXtGmr",
        "outputId": "a958b09f-2a6d-49ef-cd6e-565d8046dc6e"
      },
      "source": [
        "#For Loss Plotting\n",
        "\n",
        "x = [i for i in range(1,num_epochs+1)]\n",
        "print(x)\n",
        "yValLoss = valLoss\n",
        "#Val Loss\n",
        "for i in range(len(batchSizes)):\n",
        "  currBatchSize = batchSizes[i]\n",
        "  labelName = \"Batch Size \" + str(currBatchSize)\n",
        "  pyplot.plot(x, yValLoss[i],label=labelName)\n",
        "\n",
        "pyplot.legend()\n",
        "pyplot.xlabel(\"Number of Epochs\")\n",
        "pyplot.ylabel(\"Val Loss\")\n",
        "pyplot.show()"
      ],
      "execution_count": null,
      "outputs": [
        {
          "output_type": "stream",
          "name": "stdout",
          "text": [
            "[1, 2, 3, 4, 5, 6, 7, 8, 9, 10, 11, 12, 13, 14, 15, 16, 17, 18, 19, 20, 21, 22, 23, 24, 25, 26, 27, 28, 29, 30, 31, 32, 33, 34, 35, 36, 37, 38, 39, 40, 41, 42, 43, 44, 45, 46, 47, 48, 49, 50]\n"
          ]
        },
        {
          "output_type": "display_data",
          "data": {
            "image/png": "[encoded data removed]",
            "text/plain": [
              "<Figure size 432x288 with 1 Axes>"
            ]
          },
          "metadata": {
            "needs_background": "light"
          }
        }
      ]
    },
    {
      "cell_type": "code",
      "metadata": {
        "id": "dpbP_nQDtJ8O"
      },
      "source": [
        "batchSizes = [100,200,300]\n",
        "print(batchSizes)"
      ],
      "execution_count": null,
      "outputs": []
    },
    {
      "cell_type": "code",
      "metadata": {
        "colab": {
          "base_uri": "https://localhost:8080/",
          "height": 320
        },
        "id": "KO_dx5TgtK7p",
        "outputId": "6dee0711-b4fc-4611-a7e6-7c54452775e0"
      },
      "source": [
        "#For Loss Plotting\n",
        "\n",
        "x = [i for i in range(1,numEpochs+1)]\n",
        "print(x)\n",
        "yValLoss = valLoss\n",
        "for i in range(len(batchSizes)):\n",
        "  currBatchSize = batchSizes[i]\n",
        "  labelName = \"Batch Size \" + str(currBatchSize)\n",
        "  pyplot.plot(x, yValLoss[i],label=\"Val\"+str(currBatchSize))\n",
        "  pyplot.plot(x, yTrainLoss[i],label=\"Train\"+str(currBatchSize))\n",
        "\n",
        "pyplot.xlim([0,20])\n",
        "pyplot.ylim([0,2])\n",
        "pyplot.legend()\n",
        "pyplot.xlabel(\"Number of Epochs\")\n",
        "pyplot.ylabel(\"Loss\")\n",
        "pyplot.show()"
      ],
      "execution_count": null,
      "outputs": [
        {
          "output_type": "stream",
          "name": "stdout",
          "text": [
            "[1, 2, 3, 4, 5, 6, 7, 8, 9, 10, 11, 12, 13, 14, 15, 16, 17, 18, 19, 20, 21, 22, 23, 24, 25, 26, 27, 28, 29, 30, 31, 32, 33, 34, 35, 36, 37, 38, 39, 40, 41, 42, 43, 44, 45, 46, 47, 48, 49, 50]\n"
          ]
        },
        {
          "output_type": "display_data",
          "data": {
            "image/png": "[encoded data removed]",
            "text/plain": [
              "<Figure size 432x288 with 1 Axes>"
            ]
          },
          "metadata": {
            "needs_background": "light"
          }
        }
      ]
    },
    {
      "cell_type": "code",
      "metadata": {
        "id": "Gl-Ug8JntMII"
      },
      "source": [
        "bestBatchSize = 100 #must decide based on graphs\n",
        "bestEpoch = 6\n"
      ],
      "execution_count": null,
      "outputs": []
    },
    {
      "cell_type": "code",
      "metadata": {
        "colab": {
          "base_uri": "https://localhost:8080/"
        },
        "id": "upC2jYmStN3w",
        "outputId": "62cee0d9-225a-48bb-9d90-745450e99787"
      },
      "source": [
        "loadedBestModel = load_model(pathToModels+\"bestBinaryNNModel.h5\")\n",
        "for layer in loadedBestModel.layers[:4]:\n",
        "  layer.trainable = False\n",
        "bestmodel5 = Sequential()\n",
        "for layer in loadedBestModel.layers[:-1]:\n",
        "  bestmodel5.add(layer)\n",
        "  bestmodel5.add(BatchNormalization())\n",
        "bestmodel5.add(Dense(3, activation='softmax'))\n",
        "bestmodel5.compile(loss='categorical_crossentropy', optimizer='adam', metrics=['categorical_accuracy'])\n",
        "bestmodel5.fit(X_train, y_train, epochs=bestEpoch, batch_size=bestBatchSize, validation_data = (X_dev, y_dev))\n"
      ],
      "execution_count": null,
      "outputs": [
        {
          "output_type": "stream",
          "name": "stdout",
          "text": [
            "Epoch 1/6\n",
            "43/43 [==============================] - 4s 43ms/step - loss: 1.0831 - categorical_accuracy: 0.5057 - val_loss: 1.0669 - val_categorical_accuracy: 0.4626\n",
            "Epoch 2/6\n",
            "43/43 [==============================] - 1s 30ms/step - loss: 0.8828 - categorical_accuracy: 0.6159 - val_loss: 1.0492 - val_categorical_accuracy: 0.4923\n",
            "Epoch 3/6\n",
            "43/43 [==============================] - 1s 29ms/step - loss: 0.7925 - categorical_accuracy: 0.6778 - val_loss: 0.9770 - val_categorical_accuracy: 0.5604\n",
            "Epoch 4/6\n",
            "43/43 [==============================] - 1s 28ms/step - loss: 0.7404 - categorical_accuracy: 0.6962 - val_loss: 0.8807 - val_categorical_accuracy: 0.6582\n",
            "Epoch 5/6\n",
            "43/43 [==============================] - 1s 28ms/step - loss: 0.7032 - categorical_accuracy: 0.7141 - val_loss: 0.8271 - val_categorical_accuracy: 0.6758\n",
            "Epoch 6/6\n",
            "43/43 [==============================] - 1s 28ms/step - loss: 0.6749 - categorical_accuracy: 0.7219 - val_loss: 0.8303 - val_categorical_accuracy: 0.7055\n"
          ]
        },
        {
          "output_type": "execute_result",
          "data": {
            "text/plain": [
              "<keras.callbacks.History at 0x7fdfa4992990>"
            ]
          },
          "metadata": {},
          "execution_count": 47
        }
      ]
    },
    {
      "cell_type": "code",
      "metadata": {
        "colab": {
          "base_uri": "https://localhost:8080/"
        },
        "id": "DWcSv0QqtQm-",
        "outputId": "3a86ea57-c249-4d9e-d4a1-53792b7d020f"
      },
      "source": [
        "predictions = bestmodel5.predict(X_test)\n",
        "yTestNew = y_test.argmax(axis=1)\n",
        "yPredNew = predictions.argmax(axis=1)\n",
        "\n",
        "print(yTestNew)\n",
        "print(yPredNew)"
      ],
      "execution_count": null,
      "outputs": [
        {
          "output_type": "stream",
          "name": "stdout",
          "text": [
            "[1 0 0 0 2 1 1 0 1 1 2 0 1 1 1 0 0 1 2 2 0 0 2 0 1 0 0 2 2 1 0 1 2 0 1 0 0\n",
            " 0 0 0 1 1 1 2 1 2 1 2 1 2 0 1 1 1 1 1 0 1 1 0 1 2 0 1 0 0 1 0 1 2 2 1 2 1\n",
            " 1 1 1 1 1 1 1 2 2 1 1 1 1 2 2 1 0 2 1 1 1 1 1 0 2 1 2 1 1 1 0 0 1 1 0 1 0\n",
            " 0 2 1 1 1 1 0 2 0 0 0 2 0 1 1 1 0 0 1 1 0 1 1 1 1 0 1 2 2 1 2 1 0 0 0 0 0\n",
            " 1 1 1 1 1 1 1 2 1 0 2 1 0 2 1 0 1 0 0 0 2 1 1 1 2 1 1 1 1 0 1 1 1 1 1 0 0\n",
            " 1 0 2 1 0 2 0 2 1 2 2 2 2 1 1 1 0 1 1 0 1 0 1 1 1 1 1 1 1 0 0 0 0 0 1 0 0\n",
            " 2 0 0 1 0 1 2 1 1 1 1 0 0 2 1 1 1 2 2 0 1 0 1 0 1 2 1 0 1 1 0 0 2 0 1 1 1\n",
            " 1 2 1 0 1 1 0 1 1 1 1 1 0 1 2 2 2 1 0 2 2 1 0 1 1 1 2 2 1 0 0 2 0 1 2 2 1\n",
            " 2 1 1 0 2 2 1 2 0 1 1 1 1 1 0 1 0 0 1 0 2 0 0 1 1 2 1 0 2 0 1 1 0 0 1 1 2\n",
            " 2 0 1 1 0 1 1 1 0 0 1 1 0 1 0 2 1 0 2 1 1 1 1 1 0 1 2 1 1 1 0 1 1 1 2 0 2\n",
            " 0 0 0 1 2 2 2 1 1 1 1 0 1 0 0 2 1 1 1 1 1 0 1 1 2 0 0 2 0 1 0 1 1 2 0 0 1\n",
            " 1 0 1 2 2 0 2 0 2 2 1 1 1 1 1 2 2 0 2 0 0 1 0 0 1 0 0 2 2 0 0 1 0 1 1 0 0\n",
            " 1 0 1 1 1 0 2 0 1 0 1 0 1 0 1 0 1 2 2 0 0 0 1 1 2 0 1 0 0 1 2 1 0 0 2 1 2\n",
            " 1 1 0 1 1 0 2 0 1 0 1 0 0 0 2 2 1 0 0 0 0 1 0 1 1 1 1 2 0 2 2 0 1 0 1 1 0\n",
            " 0 2 2 0 1 0 2 0 2 2 2 1 0 1 1 2 0 1 2 0 0 0 0 0 2 0 1 1 2 1 1 2 0 2 1 1 0\n",
            " 0 1 0 1 2 2 1 0 1 0 0 1 1 1 1 2 0 2 2 1 1 2 1 0 2 2 1 1 2 0 1 0 1 0 1 1 1\n",
            " 1 0 1 1 2 1 2 1 0 1 0 1 1 2 2 1 0 2 2 0 2 0 1 0 1 2 0 2 1 0 1 0 1 1 0 0 0\n",
            " 0 1 1 0 1 2 1 1 2 1 1 0 1 1 1 1 0 1 0 2 1 0 1 0 0 0 1 0 2 0 1 1 1 1 2 1 1\n",
            " 1 0 0 1 1 0 1 1 1 0 1 0 0 0 0 0 0 0 1 1 0 0 1 0 1 0 0 0 1 1 2 1 0 0 0 0 1\n",
            " 0 1 1 1 1 2 1 1 1 1 1 1 0 1 2 1 2 1 1 1 2 2 0 0 0 1 0 2 1 1 0 1 2 1 1 0 0\n",
            " 0 1 2 0 1 1 0 2 0 1 1 1 0 1 1 0 2 0 1 1 1 1 1 0 1 1 0 1 1 0 0 1 0 0 2 2 0\n",
            " 1 0 0 0 2 1 0 0 0 0 0 1 0 1 0 0 0 0 1 0 1 0 1 0 1 2 2 1 1 1 0 1 0 1 1 0 0\n",
            " 0 1 2 0 0 1 1 1 1 0 2 2 1 0 1 1 0 1 0 0 0 1 0 1 0 1 1 1 1 0 1 0 1 2 0 0 1\n",
            " 0 2 0 1 1 1 1 0 1 0 1 0 1 0 2 0 0 2 1 1 1 0 0 1 1 1 0 1 2 1 0 1 0 1 1 1 1\n",
            " 1 0 1 2 2 2 0 1 0 1 1 1 1 2 1 2 2 1 1 1 0 1]\n",
            "[1 0 1 1 0 1 1 0 1 1 1 0 1 1 0 0 0 1 1 1 0 0 1 0 1 0 0 1 1 0 0 1 1 0 1 0 0\n",
            " 0 0 0 0 1 1 1 1 1 1 1 1 2 0 1 1 0 1 1 0 1 1 0 1 1 1 1 0 0 1 1 1 1 1 0 2 1\n",
            " 1 0 0 0 1 1 1 2 1 1 1 0 1 0 1 1 0 1 1 1 1 1 1 0 1 1 0 1 1 2 1 1 0 1 0 1 0\n",
            " 0 1 1 1 1 1 0 2 0 1 0 1 0 1 1 1 0 0 1 0 0 1 0 1 1 0 1 1 1 1 1 1 1 0 0 0 0\n",
            " 1 1 1 1 1 1 1 1 1 0 2 1 0 1 1 0 1 0 0 0 1 1 1 1 1 1 1 1 1 0 1 1 1 1 1 1 0\n",
            " 1 0 1 0 1 1 1 1 1 0 1 1 2 1 1 1 0 1 1 0 1 0 1 1 0 1 1 1 1 1 0 1 0 0 0 1 0\n",
            " 1 0 1 1 1 1 1 1 1 1 1 1 0 1 1 1 0 1 2 0 1 0 1 0 0 1 1 0 1 1 0 0 0 0 0 1 1\n",
            " 1 1 1 0 1 1 1 1 1 1 1 1 0 0 1 1 1 1 0 1 2 1 0 1 1 1 1 1 1 0 0 1 0 1 1 2 2\n",
            " 1 1 1 0 1 1 2 1 0 1 1 1 1 1 0 1 0 0 1 0 1 1 0 1 1 2 1 0 1 0 1 0 1 0 1 1 2\n",
            " 1 0 2 1 0 1 1 1 0 0 1 1 0 1 0 1 2 0 1 1 1 1 1 1 0 1 0 1 1 1 0 1 1 0 2 0 1\n",
            " 0 0 0 1 1 1 1 1 1 1 1 0 1 0 0 1 1 1 1 1 1 0 1 1 2 0 0 0 0 1 1 1 1 2 0 1 1\n",
            " 1 0 1 2 0 0 1 0 2 1 1 1 1 1 1 1 1 0 2 0 0 1 0 0 1 0 1 1 1 0 0 1 0 1 1 0 0\n",
            " 2 0 1 0 1 0 1 0 2 0 1 1 2 1 1 1 1 1 1 0 0 0 1 1 1 1 1 0 0 1 1 1 0 1 1 1 1\n",
            " 1 1 0 1 1 1 1 0 1 0 1 0 0 0 1 2 0 0 1 0 0 1 0 1 1 2 1 1 0 1 1 0 0 0 1 1 0\n",
            " 0 1 2 0 1 0 1 0 1 1 1 1 0 1 1 2 0 1 0 1 0 1 1 0 1 0 1 1 1 1 1 0 0 1 1 1 0\n",
            " 0 1 0 1 1 1 1 0 1 0 0 1 1 1 0 1 0 2 0 1 1 1 1 1 1 0 1 1 1 0 1 0 1 0 1 0 0\n",
            " 1 1 1 1 1 1 1 1 1 1 1 1 1 1 2 1 1 1 0 0 0 0 1 0 1 1 0 1 1 0 1 0 1 1 0 0 0\n",
            " 0 1 1 1 1 2 1 1 1 1 0 1 1 1 1 1 0 0 0 1 1 0 2 0 0 0 1 0 0 1 1 1 1 1 1 0 1\n",
            " 1 0 1 1 1 0 0 1 1 0 1 1 2 0 1 0 1 0 2 1 0 0 1 0 1 0 0 0 1 1 1 1 0 0 0 0 1\n",
            " 0 1 2 0 1 1 0 1 1 1 0 1 1 1 1 1 0 1 1 1 2 1 0 0 1 0 0 1 1 2 0 0 0 0 2 0 2\n",
            " 0 1 2 0 1 1 1 1 0 1 1 1 0 1 1 1 1 0 1 1 2 1 1 0 1 1 0 1 1 0 0 1 1 1 1 1 0\n",
            " 1 0 0 0 1 1 0 1 0 1 0 2 0 1 1 0 0 0 1 0 1 0 1 1 1 1 1 1 1 1 0 1 0 1 1 0 0\n",
            " 0 1 1 1 0 1 1 1 1 0 1 1 1 0 1 0 0 1 0 0 0 1 0 1 0 1 1 1 1 0 1 0 1 1 0 0 1\n",
            " 1 1 1 1 1 0 1 0 1 0 1 0 1 1 0 0 1 1 1 1 1 0 0 1 1 1 0 1 1 1 0 1 1 0 1 1 1\n",
            " 1 0 1 1 2 1 0 1 0 1 1 1 1 1 1 1 1 1 1 0 0 1]\n"
          ]
        }
      ]
    },
    {
      "cell_type": "code",
      "metadata": {
        "colab": {
          "base_uri": "https://localhost:8080/",
          "height": 296
        },
        "id": "7aWQ9ioAtR9D",
        "outputId": "34e3cab6-7e1c-4f0d-ea9d-dde20feb269d"
      },
      "source": [
        "from sklearn.metrics import confusion_matrix, ConfusionMatrixDisplay, f1_score\n",
        "\n",
        "cM = confusion_matrix(yTestNew,yPredNew)\n",
        "\n",
        "displayClasses = [i for i in range(3)]\n",
        "\n",
        "print(f1_score(yTestNew, yPredNew, average='macro'))\n",
        "\n",
        "disp = ConfusionMatrixDisplay(confusion_matrix=cM, display_labels=displayClasses)\n",
        "disp.plot()\n",
        "pyplot.show()"
      ],
      "execution_count": null,
      "outputs": [
        {
          "output_type": "stream",
          "name": "stdout",
          "text": [
            "0.6012784130018368\n"
          ]
        },
        {
          "output_type": "display_data",
          "data": {
            "image/png": "[encoded data removed]",
            "text/plain": [
              "<Figure size 432x288 with 2 Axes>"
            ]
          },
          "metadata": {
            "needs_background": "light"
          }
        }
      ]
    }
  ]
}
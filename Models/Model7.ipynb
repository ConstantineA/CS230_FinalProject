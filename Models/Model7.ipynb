{
  "nbformat": 4,
  "nbformat_minor": 0,
  "metadata": {
    "colab": {
      "name": "Model7.ipynb",
      "provenance": [],
      "collapsed_sections": []
    },
    "kernelspec": {
      "name": "python3",
      "display_name": "Python 3"
    },
    "language_info": {
      "name": "python"
    },
    "accelerator": "GPU"
  },
  "cells": [
    {
      "cell_type": "code",
      "metadata": {
        "colab": {
          "base_uri": "https://localhost:8080/"
        },
        "id": "lUbp8-MVIYHv",
        "outputId": "5ecb7144-fae6-4269-8c88-3f1e2e64472b"
      },
      "source": [
        "from google.colab import drive\n",
        "drive.mount('/content/drive')"
      ],
      "execution_count": null,
      "outputs": [
        {
          "output_type": "stream",
          "name": "stdout",
          "text": [
            "Mounted at /content/drive\n"
          ]
        }
      ]
    },
    {
      "cell_type": "code",
      "metadata": {
        "id": "hEpQBx34_FqI"
      },
      "source": [
        "from keras.models import Sequential, load_model\n",
        "from keras.layers import Dense, Conv2D, Flatten, MaxPooling2D, AveragePooling2D, BatchNormalization\n",
        "from keras.initializers import HeNormal\n",
        "from keras.callbacks import ModelCheckpoint\n",
        "from matplotlib import image\n",
        "from matplotlib import pyplot\n",
        "import os\n",
        "import shutil\n",
        "import numpy as np\n",
        "from PIL import Image\n",
        "import pickle\n",
        "from sklearn.preprocessing import MultiLabelBinarizer\n",
        "\n"
      ],
      "execution_count": null,
      "outputs": []
    },
    {
      "cell_type": "code",
      "metadata": {
        "id": "uzx7ZhoU5-bW"
      },
      "source": [
        "from keras.applications.resnet import ResNet50, decode_predictions"
      ],
      "execution_count": null,
      "outputs": []
    },
    {
      "cell_type": "code",
      "metadata": {
        "colab": {
          "base_uri": "https://localhost:8080/"
        },
        "id": "iP3cL8zt7Ha_",
        "outputId": "da0c1b96-01b1-4926-8fb0-03da6fc23936"
      },
      "source": [
        "pathToData = \"drive/MyDrive/CS 230 Final Project/ResNet Data/\"\n",
        "print(pathToData + \"trainRes_X.p\")\n",
        "pathToModels = \"drive/MyDrive/CS 230 Final Project/SavedModelsFromTraining/\"\n",
        "print(pathToModels)"
      ],
      "execution_count": null,
      "outputs": [
        {
          "output_type": "stream",
          "name": "stdout",
          "text": [
            "drive/MyDrive/CS 230 Final Project/ResNet Data/trainRes_X.p\n",
            "drive/MyDrive/CS 230 Final Project/SavedModelsFromTraining/\n"
          ]
        }
      ]
    },
    {
      "cell_type": "code",
      "metadata": {
        "colab": {
          "base_uri": "https://localhost:8080/"
        },
        "id": "zfeiQt5A7Psv",
        "outputId": "288c5dba-6a84-47f1-acf8-e9a8f67ea4b6"
      },
      "source": [
        "mlb = MultiLabelBinarizer()\n",
        "# load the train dataset\n",
        "X_train = pickle.load(open(pathToData+\"trainRes_X.p\", 'rb'))\n",
        "y_trainUnflat = pickle.load(open(pathToData+\"trainRes_Y.p\", 'rb'))\n",
        "y_train = y_trainUnflat.reshape(y_trainUnflat.shape[0],-1)\n",
        "y_train = mlb.fit_transform(y_train)\n",
        "\n",
        "print(X_train.shape)\n",
        "print(y_train.shape)\n",
        "\n",
        "# load the dev dataset\n",
        "X_dev = pickle.load(open(pathToData+\"devRes_X.p\", 'rb'))\n",
        "y_devUnflat = pickle.load(open(pathToData+\"devRes_Y.p\", 'rb'))\n",
        "y_dev = y_devUnflat.reshape(y_devUnflat.shape[0],-1)\n",
        "y_dev = mlb.fit_transform(y_dev)\n",
        "\n",
        "print(X_dev.shape)\n",
        "print(y_dev.shape)\n",
        "\n",
        "# load the test dataset\n",
        "X_test = pickle.load(open(pathToData+\"testRes_X.p\", 'rb'))\n",
        "y_testUnflat = pickle.load(open(pathToData+\"testRes_Y.p\", 'rb'))\n",
        "y_test = y_testUnflat.reshape(y_testUnflat.shape[0],-1)\n",
        "y_test = mlb.fit_transform(y_test)\n",
        "\n",
        "print(X_test.shape)\n",
        "print(y_test.shape)"
      ],
      "execution_count": null,
      "outputs": [
        {
          "output_type": "stream",
          "name": "stdout",
          "text": [
            "(4246, 224, 224, 3)\n",
            "(4246, 3)\n",
            "(910, 224, 224, 3)\n",
            "(910, 3)\n",
            "(910, 224, 224, 3)\n",
            "(910, 3)\n"
          ]
        }
      ]
    },
    {
      "cell_type": "code",
      "metadata": {
        "colab": {
          "base_uri": "https://localhost:8080/"
        },
        "id": "XwNzPKfw7fl8",
        "outputId": "738a9ffd-e6df-4173-fe00-3117d5f438a1"
      },
      "source": [
        "print(y_trainUnflat)"
      ],
      "execution_count": null,
      "outputs": [
        {
          "output_type": "stream",
          "name": "stdout",
          "text": [
            "[0 2 1 ... 0 1 0]\n"
          ]
        }
      ]
    },
    {
      "cell_type": "code",
      "metadata": {
        "colab": {
          "base_uri": "https://localhost:8080/"
        },
        "id": "tSpPSzxy7hB2",
        "outputId": "5974f97c-0ae6-4424-84bf-9db8791488f4"
      },
      "source": [
        "numExamples = X_train.shape[0]\n",
        "print(numExamples)"
      ],
      "execution_count": null,
      "outputs": [
        {
          "output_type": "stream",
          "name": "stdout",
          "text": [
            "4246\n"
          ]
        }
      ]
    },
    {
      "cell_type": "code",
      "metadata": {
        "colab": {
          "base_uri": "https://localhost:8080/"
        },
        "id": "JGs5nqtM0qWC",
        "outputId": "3985c022-ef47-4cf8-c262-0e55c910e696"
      },
      "source": [
        "print(X_train.shape)"
      ],
      "execution_count": null,
      "outputs": [
        {
          "output_type": "stream",
          "name": "stdout",
          "text": [
            "(4246, 224, 224, 3)\n"
          ]
        }
      ]
    },
    {
      "cell_type": "code",
      "metadata": {
        "colab": {
          "base_uri": "https://localhost:8080/"
        },
        "id": "rFJQZDElGtPC",
        "outputId": "5b885953-6c2a-478a-c63c-d9c0e814536f"
      },
      "source": [
        "print(X_train.shape[1:])"
      ],
      "execution_count": null,
      "outputs": [
        {
          "output_type": "stream",
          "name": "stdout",
          "text": [
            "(224, 224, 3)\n"
          ]
        }
      ]
    },
    {
      "cell_type": "code",
      "metadata": {
        "id": "WRBuFtVP6ZKq"
      },
      "source": [
        "model = ResNet50(include_top=True, weights=None, input_shape=(X_train.shape[1:]), classes=3)\n"
      ],
      "execution_count": null,
      "outputs": []
    },
    {
      "cell_type": "code",
      "metadata": {
        "id": "Vc1wSKQr6hor"
      },
      "source": [
        "model.summary()"
      ],
      "execution_count": null,
      "outputs": []
    },
    {
      "cell_type": "code",
      "metadata": {
        "colab": {
          "base_uri": "https://localhost:8080/"
        },
        "id": "dtO0nJzu42PY",
        "outputId": "6ddb6e96-c67d-4d59-cd29-c9098dc00364"
      },
      "source": [
        "batchSizes = [100, 64, 32] #128 leads to OOM\n",
        "numEpochs = 50\n",
        "print(batchSizes)"
      ],
      "execution_count": null,
      "outputs": [
        {
          "output_type": "stream",
          "name": "stdout",
          "text": [
            "[100, 64, 32]\n"
          ]
        }
      ]
    },
    {
      "cell_type": "code",
      "metadata": {
        "id": "1PQsoeu85dr7"
      },
      "source": [
        "trainAccuracy = []\n",
        "valAccuracy = []\n",
        "trainLoss = []\n",
        "valLoss = []"
      ],
      "execution_count": null,
      "outputs": []
    },
    {
      "cell_type": "code",
      "metadata": {
        "colab": {
          "base_uri": "https://localhost:8080/"
        },
        "id": "w6sd3NnY5Kl_",
        "outputId": "3c4225ea-03d3-4a0c-c5be-b7bf90c2a578"
      },
      "source": [
        "for batchSize in batchSizes:\n",
        "  print(\"BatchSize : \", batchSize)\n",
        "\n",
        "  firstPart = pathToModels+\"weights_\"+str(batchSize)\n",
        "  checkpoint_filepath = firstPart+'.{epoch:02d}-{val_loss:.2f}.h5'\n",
        "  print(checkpoint_filepath)\n",
        "  model_checkpoint_callback = ModelCheckpoint(\n",
        "    filepath=checkpoint_filepath,\n",
        "    monitor='val_categorical_accuracy',\n",
        "    mode='max',\n",
        "    save_best_only=True)\n",
        "\n",
        "\n",
        "\n",
        "  model.compile(loss='categorical_crossentropy', optimizer='adam', metrics=['categorical_accuracy'])\n",
        "  history = model.fit(X_train, y_train, epochs=numEpochs, batch_size=batchSize, validation_data = (X_dev, y_dev), callbacks=[model_checkpoint_callback])\n",
        "  historyDict = history.history\n",
        "  #print(historyDict.keys())\n",
        "  trainAccuracy.append(historyDict['categorical_accuracy'])\n",
        "  valAccuracy.append(historyDict['val_categorical_accuracy'])\n",
        "  trainLoss.append(historyDict['loss'])\n",
        "  valLoss.append(historyDict['val_loss'])"
      ],
      "execution_count": null,
      "outputs": [
        {
          "output_type": "stream",
          "name": "stdout",
          "text": [
            "BatchSize :  100\n",
            "drive/MyDrive/CS 230 Final Project/SavedModelsFromTraining/weights_100.{epoch:02d}-{val_loss:.2f}.h5\n",
            "Epoch 1/50\n",
            "43/43 [==============================] - ETA: 0s - loss: 1.5106 - categorical_accuracy: 0.4788"
          ]
        },
        {
          "output_type": "stream",
          "name": "stderr",
          "text": [
            "/usr/local/lib/python3.7/dist-packages/keras/engine/functional.py:1410: CustomMaskWarning: Custom mask layers require a config and must override get_config. When loading, the custom mask layer must be passed to the custom_objects argument.\n",
            "  layer_config = serialize_layer_fn(layer)\n"
          ]
        },
        {
          "output_type": "stream",
          "name": "stdout",
          "text": [
            "\b\b\b\b\b\b\b\b\b\b\b\b\b\b\b\b\b\b\b\b\b\b\b\b\b\b\b\b\b\b\b\b\b\b\b\b\b\b\b\b\b\b\b\b\b\b\b\b\b\b\b\b\b\b\b\b\b\b\b\b\b\b\b\b\b\b\b\b\b\b\b\b\b\b\b\b\b\b\b\b\b\b\b\b\b\b\b\b\b\b\b\b\b\b\r43/43 [==============================] - 114s 2s/step - loss: 1.5106 - categorical_accuracy: 0.4788 - val_loss: 4.4536 - val_categorical_accuracy: 0.3231\n",
            "Epoch 2/50\n",
            "43/43 [==============================] - 90s 2s/step - loss: 0.7738 - categorical_accuracy: 0.6851 - val_loss: 1.1943 - val_categorical_accuracy: 0.4099\n",
            "Epoch 3/50\n",
            "43/43 [==============================] - 88s 2s/step - loss: 0.5651 - categorical_accuracy: 0.7763 - val_loss: 2.1156 - val_categorical_accuracy: 0.3242\n",
            "Epoch 4/50\n",
            "43/43 [==============================] - 88s 2s/step - loss: 0.4642 - categorical_accuracy: 0.8264 - val_loss: 3.6263 - val_categorical_accuracy: 0.3308\n",
            "Epoch 5/50\n",
            "43/43 [==============================] - 90s 2s/step - loss: 0.4763 - categorical_accuracy: 0.8238 - val_loss: 0.8468 - val_categorical_accuracy: 0.6297\n",
            "Epoch 6/50\n",
            "43/43 [==============================] - 90s 2s/step - loss: 0.2066 - categorical_accuracy: 0.9225 - val_loss: 0.6956 - val_categorical_accuracy: 0.7659\n",
            "Epoch 7/50\n",
            "43/43 [==============================] - 88s 2s/step - loss: 0.1549 - categorical_accuracy: 0.9432 - val_loss: 0.9055 - val_categorical_accuracy: 0.7242\n",
            "Epoch 8/50\n",
            "43/43 [==============================] - 88s 2s/step - loss: 0.1557 - categorical_accuracy: 0.9435 - val_loss: 1.4271 - val_categorical_accuracy: 0.6593\n",
            "Epoch 9/50\n",
            "43/43 [==============================] - 88s 2s/step - loss: 0.1653 - categorical_accuracy: 0.9416 - val_loss: 1.2767 - val_categorical_accuracy: 0.6747\n",
            "Epoch 10/50\n",
            "43/43 [==============================] - 88s 2s/step - loss: 0.0911 - categorical_accuracy: 0.9673 - val_loss: 1.1036 - val_categorical_accuracy: 0.7527\n",
            "Epoch 11/50\n",
            "43/43 [==============================] - 88s 2s/step - loss: 0.1541 - categorical_accuracy: 0.9480 - val_loss: 4.9037 - val_categorical_accuracy: 0.4385\n",
            "Epoch 12/50\n",
            "43/43 [==============================] - 90s 2s/step - loss: 0.1151 - categorical_accuracy: 0.9590 - val_loss: 0.8852 - val_categorical_accuracy: 0.8088\n",
            "Epoch 13/50\n",
            "43/43 [==============================] - 91s 2s/step - loss: 0.0813 - categorical_accuracy: 0.9729 - val_loss: 0.9478 - val_categorical_accuracy: 0.8253\n",
            "Epoch 14/50\n",
            "43/43 [==============================] - 88s 2s/step - loss: 0.0907 - categorical_accuracy: 0.9713 - val_loss: 0.9408 - val_categorical_accuracy: 0.8088\n",
            "Epoch 15/50\n",
            "43/43 [==============================] - 93s 2s/step - loss: 0.0541 - categorical_accuracy: 0.9823 - val_loss: 1.0756 - val_categorical_accuracy: 0.7725\n",
            "Epoch 16/50\n",
            "43/43 [==============================] - 90s 2s/step - loss: 0.0390 - categorical_accuracy: 0.9880 - val_loss: 0.7647 - val_categorical_accuracy: 0.8560\n",
            "Epoch 17/50\n",
            "43/43 [==============================] - 90s 2s/step - loss: 0.0159 - categorical_accuracy: 0.9943 - val_loss: 0.6855 - val_categorical_accuracy: 0.8659\n",
            "Epoch 18/50\n",
            "43/43 [==============================] - 88s 2s/step - loss: 0.0075 - categorical_accuracy: 0.9981 - val_loss: 0.8119 - val_categorical_accuracy: 0.8659\n",
            "Epoch 19/50\n",
            "43/43 [==============================] - 90s 2s/step - loss: 0.0033 - categorical_accuracy: 0.9998 - val_loss: 0.7976 - val_categorical_accuracy: 0.8802\n",
            "Epoch 20/50\n",
            "43/43 [==============================] - 88s 2s/step - loss: 0.0141 - categorical_accuracy: 0.9934 - val_loss: 1.0697 - val_categorical_accuracy: 0.8286\n",
            "Epoch 21/50\n",
            "43/43 [==============================] - 88s 2s/step - loss: 0.1136 - categorical_accuracy: 0.9630 - val_loss: 5.9301 - val_categorical_accuracy: 0.3868\n",
            "Epoch 22/50\n",
            "43/43 [==============================] - 88s 2s/step - loss: 0.1815 - categorical_accuracy: 0.9374 - val_loss: 1.2680 - val_categorical_accuracy: 0.6835\n",
            "Epoch 23/50\n",
            "43/43 [==============================] - 88s 2s/step - loss: 0.1431 - categorical_accuracy: 0.9489 - val_loss: 11.6258 - val_categorical_accuracy: 0.3934\n",
            "Epoch 24/50\n",
            "43/43 [==============================] - 88s 2s/step - loss: 0.1526 - categorical_accuracy: 0.9494 - val_loss: 4.0919 - val_categorical_accuracy: 0.5110\n",
            "Epoch 25/50\n",
            "43/43 [==============================] - 88s 2s/step - loss: 0.0668 - categorical_accuracy: 0.9797 - val_loss: 1.0326 - val_categorical_accuracy: 0.8011\n",
            "Epoch 26/50\n",
            "43/43 [==============================] - 88s 2s/step - loss: 0.0329 - categorical_accuracy: 0.9882 - val_loss: 0.9181 - val_categorical_accuracy: 0.8462\n",
            "Epoch 27/50\n",
            "43/43 [==============================] - 88s 2s/step - loss: 0.0213 - categorical_accuracy: 0.9941 - val_loss: 0.8027 - val_categorical_accuracy: 0.8527\n",
            "Epoch 28/50\n",
            "43/43 [==============================] - 88s 2s/step - loss: 0.0195 - categorical_accuracy: 0.9929 - val_loss: 0.9416 - val_categorical_accuracy: 0.8308\n",
            "Epoch 29/50\n",
            "43/43 [==============================] - 88s 2s/step - loss: 0.0470 - categorical_accuracy: 0.9828 - val_loss: 1.8287 - val_categorical_accuracy: 0.7165\n",
            "Epoch 30/50\n",
            "43/43 [==============================] - 88s 2s/step - loss: 0.0366 - categorical_accuracy: 0.9870 - val_loss: 1.0187 - val_categorical_accuracy: 0.8352\n",
            "Epoch 31/50\n",
            "43/43 [==============================] - 88s 2s/step - loss: 0.0436 - categorical_accuracy: 0.9847 - val_loss: 1.8398 - val_categorical_accuracy: 0.6923\n",
            "Epoch 32/50\n",
            "43/43 [==============================] - 88s 2s/step - loss: 0.1039 - categorical_accuracy: 0.9633 - val_loss: 2.4319 - val_categorical_accuracy: 0.5813\n",
            "Epoch 33/50\n",
            "43/43 [==============================] - 93s 2s/step - loss: 0.1171 - categorical_accuracy: 0.9578 - val_loss: 2.0494 - val_categorical_accuracy: 0.6220\n",
            "Epoch 34/50\n",
            "43/43 [==============================] - 88s 2s/step - loss: 0.0690 - categorical_accuracy: 0.9769 - val_loss: 2.4639 - val_categorical_accuracy: 0.6527\n",
            "Epoch 35/50\n",
            "43/43 [==============================] - 88s 2s/step - loss: 0.0263 - categorical_accuracy: 0.9913 - val_loss: 0.8511 - val_categorical_accuracy: 0.8484\n",
            "Epoch 36/50\n",
            "43/43 [==============================] - 88s 2s/step - loss: 0.0107 - categorical_accuracy: 0.9960 - val_loss: 0.8068 - val_categorical_accuracy: 0.8670\n",
            "Epoch 37/50\n",
            "43/43 [==============================] - 88s 2s/step - loss: 0.0044 - categorical_accuracy: 0.9984 - val_loss: 0.7834 - val_categorical_accuracy: 0.8593\n",
            "Epoch 38/50\n",
            "43/43 [==============================] - 88s 2s/step - loss: 0.0066 - categorical_accuracy: 0.9981 - val_loss: 0.9170 - val_categorical_accuracy: 0.8549\n",
            "Epoch 39/50\n",
            "43/43 [==============================] - 88s 2s/step - loss: 0.0039 - categorical_accuracy: 0.9988 - val_loss: 0.8098 - val_categorical_accuracy: 0.8714\n",
            "Epoch 40/50\n",
            "43/43 [==============================] - 90s 2s/step - loss: 0.0035 - categorical_accuracy: 0.9991 - val_loss: 0.7521 - val_categorical_accuracy: 0.8890\n",
            "Epoch 41/50\n",
            "43/43 [==============================] - 90s 2s/step - loss: 0.0028 - categorical_accuracy: 0.9991 - val_loss: 0.8073 - val_categorical_accuracy: 0.8912\n",
            "Epoch 42/50\n",
            "43/43 [==============================] - 88s 2s/step - loss: 0.0017 - categorical_accuracy: 0.9993 - val_loss: 0.8611 - val_categorical_accuracy: 0.8758\n",
            "Epoch 43/50\n",
            "43/43 [==============================] - 88s 2s/step - loss: 0.0016 - categorical_accuracy: 0.9995 - val_loss: 0.9024 - val_categorical_accuracy: 0.8890\n",
            "Epoch 44/50\n",
            "43/43 [==============================] - 88s 2s/step - loss: 0.0019 - categorical_accuracy: 0.9993 - val_loss: 0.9595 - val_categorical_accuracy: 0.8846\n",
            "Epoch 45/50\n",
            "43/43 [==============================] - 88s 2s/step - loss: 0.0027 - categorical_accuracy: 0.9993 - val_loss: 1.0745 - val_categorical_accuracy: 0.8725\n",
            "Epoch 46/50\n",
            "43/43 [==============================] - 88s 2s/step - loss: 0.0026 - categorical_accuracy: 0.9986 - val_loss: 0.9731 - val_categorical_accuracy: 0.8703\n",
            "Epoch 47/50\n",
            "43/43 [==============================] - 88s 2s/step - loss: 0.0088 - categorical_accuracy: 0.9967 - val_loss: 1.0567 - val_categorical_accuracy: 0.8495\n",
            "Epoch 48/50\n",
            "43/43 [==============================] - 88s 2s/step - loss: 0.0489 - categorical_accuracy: 0.9842 - val_loss: 1.0759 - val_categorical_accuracy: 0.7725\n",
            "Epoch 49/50\n",
            "43/43 [==============================] - 88s 2s/step - loss: 0.1301 - categorical_accuracy: 0.9536 - val_loss: 13.1011 - val_categorical_accuracy: 0.3780\n",
            "Epoch 50/50\n",
            "43/43 [==============================] - 88s 2s/step - loss: 0.1714 - categorical_accuracy: 0.9423 - val_loss: 4.8273 - val_categorical_accuracy: 0.4758\n",
            "BatchSize :  64\n",
            "drive/MyDrive/CS 230 Final Project/SavedModelsFromTraining/weights_64.{epoch:02d}-{val_loss:.2f}.h5\n",
            "Epoch 1/50\n",
            "67/67 [==============================] - 105s 1s/step - loss: 0.3810 - categorical_accuracy: 0.8738 - val_loss: 3.4153 - val_categorical_accuracy: 0.5297\n",
            "Epoch 2/50\n",
            "67/67 [==============================] - 88s 1s/step - loss: 0.1594 - categorical_accuracy: 0.9411 - val_loss: 4.4365 - val_categorical_accuracy: 0.4813\n",
            "Epoch 3/50\n",
            "67/67 [==============================] - 91s 1s/step - loss: 0.1495 - categorical_accuracy: 0.9517 - val_loss: 2.8780 - val_categorical_accuracy: 0.5593\n",
            "Epoch 4/50\n",
            "67/67 [==============================] - 91s 1s/step - loss: 0.1547 - categorical_accuracy: 0.9477 - val_loss: 3.5597 - val_categorical_accuracy: 0.5736\n",
            "Epoch 5/50\n",
            "67/67 [==============================] - 91s 1s/step - loss: 0.0985 - categorical_accuracy: 0.9647 - val_loss: 2.9470 - val_categorical_accuracy: 0.5934\n",
            "Epoch 6/50\n",
            "67/67 [==============================] - 89s 1s/step - loss: 0.0989 - categorical_accuracy: 0.9611 - val_loss: 3.8406 - val_categorical_accuracy: 0.5407\n",
            "Epoch 7/50\n",
            "67/67 [==============================] - 91s 1s/step - loss: 0.1530 - categorical_accuracy: 0.9463 - val_loss: 2.8840 - val_categorical_accuracy: 0.6308\n",
            "Epoch 8/50\n",
            "67/67 [==============================] - 89s 1s/step - loss: 0.1091 - categorical_accuracy: 0.9602 - val_loss: 5.9431 - val_categorical_accuracy: 0.4736\n",
            "Epoch 9/50\n",
            "67/67 [==============================] - 91s 1s/step - loss: 0.0643 - categorical_accuracy: 0.9755 - val_loss: 0.8519 - val_categorical_accuracy: 0.8473\n",
            "Epoch 10/50\n",
            "67/67 [==============================] - 91s 1s/step - loss: 0.0347 - categorical_accuracy: 0.9887 - val_loss: 0.7995 - val_categorical_accuracy: 0.8549\n",
            "Epoch 11/50\n",
            "67/67 [==============================] - 88s 1s/step - loss: 0.0445 - categorical_accuracy: 0.9845 - val_loss: 1.2100 - val_categorical_accuracy: 0.7736\n",
            "Epoch 12/50\n",
            "67/67 [==============================] - 88s 1s/step - loss: 0.1028 - categorical_accuracy: 0.9642 - val_loss: 3.0379 - val_categorical_accuracy: 0.5857\n",
            "Epoch 13/50\n",
            "67/67 [==============================] - 88s 1s/step - loss: 0.0570 - categorical_accuracy: 0.9797 - val_loss: 1.3383 - val_categorical_accuracy: 0.7648\n",
            "Epoch 14/50\n",
            "67/67 [==============================] - 89s 1s/step - loss: 0.0170 - categorical_accuracy: 0.9948 - val_loss: 0.8670 - val_categorical_accuracy: 0.8418\n",
            "Epoch 15/50\n",
            "67/67 [==============================] - 91s 1s/step - loss: 0.0239 - categorical_accuracy: 0.9906 - val_loss: 0.8910 - val_categorical_accuracy: 0.8582\n",
            "Epoch 16/50\n",
            "67/67 [==============================] - 89s 1s/step - loss: 0.0705 - categorical_accuracy: 0.9750 - val_loss: 1.0157 - val_categorical_accuracy: 0.8000\n",
            "Epoch 17/50\n",
            "67/67 [==============================] - 88s 1s/step - loss: 0.0982 - categorical_accuracy: 0.9670 - val_loss: 1.4606 - val_categorical_accuracy: 0.7055\n",
            "Epoch 18/50\n",
            "67/67 [==============================] - 88s 1s/step - loss: 0.1065 - categorical_accuracy: 0.9644 - val_loss: 1.6866 - val_categorical_accuracy: 0.7000\n",
            "Epoch 19/50\n",
            "67/67 [==============================] - 89s 1s/step - loss: 0.0706 - categorical_accuracy: 0.9772 - val_loss: 1.1509 - val_categorical_accuracy: 0.7846\n",
            "Epoch 20/50\n",
            "67/67 [==============================] - 91s 1s/step - loss: 0.0144 - categorical_accuracy: 0.9953 - val_loss: 0.7616 - val_categorical_accuracy: 0.8802\n",
            "Epoch 21/50\n",
            "67/67 [==============================] - 88s 1s/step - loss: 0.0032 - categorical_accuracy: 0.9991 - val_loss: 0.7125 - val_categorical_accuracy: 0.8703\n",
            "Epoch 22/50\n",
            "67/67 [==============================] - 89s 1s/step - loss: 7.4730e-04 - categorical_accuracy: 1.0000 - val_loss: 0.7112 - val_categorical_accuracy: 0.8681\n",
            "Epoch 23/50\n",
            "67/67 [==============================] - 88s 1s/step - loss: 2.0085e-04 - categorical_accuracy: 1.0000 - val_loss: 0.7179 - val_categorical_accuracy: 0.8736\n",
            "Epoch 24/50\n",
            "67/67 [==============================] - 88s 1s/step - loss: 1.2771e-04 - categorical_accuracy: 1.0000 - val_loss: 0.7176 - val_categorical_accuracy: 0.8758\n",
            "Epoch 25/50\n",
            "67/67 [==============================] - 88s 1s/step - loss: 1.1194e-04 - categorical_accuracy: 1.0000 - val_loss: 0.7211 - val_categorical_accuracy: 0.8747\n",
            "Epoch 26/50\n",
            "67/67 [==============================] - 88s 1s/step - loss: 7.0940e-05 - categorical_accuracy: 1.0000 - val_loss: 0.7249 - val_categorical_accuracy: 0.8736\n",
            "Epoch 27/50\n",
            "67/67 [==============================] - 89s 1s/step - loss: 7.8647e-05 - categorical_accuracy: 1.0000 - val_loss: 0.7288 - val_categorical_accuracy: 0.8736\n",
            "Epoch 28/50\n",
            "67/67 [==============================] - 88s 1s/step - loss: 5.4302e-05 - categorical_accuracy: 1.0000 - val_loss: 0.7343 - val_categorical_accuracy: 0.8747\n",
            "Epoch 29/50\n",
            "67/67 [==============================] - 88s 1s/step - loss: 5.1409e-05 - categorical_accuracy: 1.0000 - val_loss: 0.7368 - val_categorical_accuracy: 0.8725\n",
            "Epoch 30/50\n",
            "67/67 [==============================] - 88s 1s/step - loss: 2.8131e-05 - categorical_accuracy: 1.0000 - val_loss: 0.7393 - val_categorical_accuracy: 0.8725\n",
            "Epoch 31/50\n",
            "67/67 [==============================] - 88s 1s/step - loss: 3.9085e-05 - categorical_accuracy: 1.0000 - val_loss: 0.7422 - val_categorical_accuracy: 0.8747\n",
            "Epoch 32/50\n",
            "67/67 [==============================] - 89s 1s/step - loss: 3.2126e-05 - categorical_accuracy: 1.0000 - val_loss: 0.7443 - val_categorical_accuracy: 0.8736\n",
            "Epoch 33/50\n",
            "67/67 [==============================] - 88s 1s/step - loss: 2.9086e-05 - categorical_accuracy: 1.0000 - val_loss: 0.7484 - val_categorical_accuracy: 0.8758\n",
            "Epoch 34/50\n",
            "67/67 [==============================] - 88s 1s/step - loss: 2.8695e-05 - categorical_accuracy: 1.0000 - val_loss: 0.7511 - val_categorical_accuracy: 0.8758\n",
            "Epoch 35/50\n",
            "67/67 [==============================] - 89s 1s/step - loss: 3.1155e-05 - categorical_accuracy: 1.0000 - val_loss: 0.7536 - val_categorical_accuracy: 0.8769\n",
            "Epoch 36/50\n",
            "67/67 [==============================] - 88s 1s/step - loss: 2.0118e-05 - categorical_accuracy: 1.0000 - val_loss: 0.7555 - val_categorical_accuracy: 0.8769\n",
            "Epoch 37/50\n",
            "67/67 [==============================] - 88s 1s/step - loss: 1.9155e-05 - categorical_accuracy: 1.0000 - val_loss: 0.7579 - val_categorical_accuracy: 0.8758\n",
            "Epoch 38/50\n",
            "67/67 [==============================] - 89s 1s/step - loss: 1.6049e-05 - categorical_accuracy: 1.0000 - val_loss: 0.7603 - val_categorical_accuracy: 0.8758\n",
            "Epoch 39/50\n",
            "67/67 [==============================] - 88s 1s/step - loss: 1.5475e-05 - categorical_accuracy: 1.0000 - val_loss: 0.7627 - val_categorical_accuracy: 0.8758\n",
            "Epoch 40/50\n",
            "67/67 [==============================] - 88s 1s/step - loss: 1.7685e-05 - categorical_accuracy: 1.0000 - val_loss: 0.7648 - val_categorical_accuracy: 0.8758\n",
            "Epoch 41/50\n",
            "67/67 [==============================] - 93s 1s/step - loss: 1.8344e-05 - categorical_accuracy: 1.0000 - val_loss: 0.7678 - val_categorical_accuracy: 0.8758\n",
            "Epoch 42/50\n",
            "67/67 [==============================] - 89s 1s/step - loss: 1.5494e-05 - categorical_accuracy: 1.0000 - val_loss: 0.7693 - val_categorical_accuracy: 0.8769\n",
            "Epoch 43/50\n",
            "67/67 [==============================] - 89s 1s/step - loss: 1.6602e-05 - categorical_accuracy: 1.0000 - val_loss: 0.7708 - val_categorical_accuracy: 0.8758\n",
            "Epoch 44/50\n",
            "67/67 [==============================] - 88s 1s/step - loss: 1.0266e-05 - categorical_accuracy: 1.0000 - val_loss: 0.7728 - val_categorical_accuracy: 0.8758\n",
            "Epoch 45/50\n",
            "67/67 [==============================] - 93s 1s/step - loss: 1.0717e-05 - categorical_accuracy: 1.0000 - val_loss: 0.7748 - val_categorical_accuracy: 0.8769\n",
            "Epoch 46/50\n",
            "67/67 [==============================] - 89s 1s/step - loss: 1.2923e-05 - categorical_accuracy: 1.0000 - val_loss: 0.7763 - val_categorical_accuracy: 0.8769\n",
            "Epoch 47/50\n",
            "67/67 [==============================] - 88s 1s/step - loss: 9.6159e-06 - categorical_accuracy: 1.0000 - val_loss: 0.7782 - val_categorical_accuracy: 0.8769\n",
            "Epoch 48/50\n",
            "67/67 [==============================] - 88s 1s/step - loss: 6.8856e-06 - categorical_accuracy: 1.0000 - val_loss: 0.7800 - val_categorical_accuracy: 0.8769\n",
            "Epoch 49/50\n",
            "67/67 [==============================] - 89s 1s/step - loss: 1.0596e-05 - categorical_accuracy: 1.0000 - val_loss: 0.7832 - val_categorical_accuracy: 0.8769\n",
            "Epoch 50/50\n",
            "67/67 [==============================] - 88s 1s/step - loss: 6.6902e-06 - categorical_accuracy: 1.0000 - val_loss: 0.7838 - val_categorical_accuracy: 0.8769\n",
            "BatchSize :  32\n",
            "drive/MyDrive/CS 230 Final Project/SavedModelsFromTraining/weights_32.{epoch:02d}-{val_loss:.2f}.h5\n",
            "Epoch 1/50\n",
            "133/133 [==============================] - 107s 735ms/step - loss: 0.2144 - categorical_accuracy: 0.9357 - val_loss: 0.9693 - val_categorical_accuracy: 0.8275\n",
            "Epoch 2/50\n",
            "133/133 [==============================] - 94s 709ms/step - loss: 0.0908 - categorical_accuracy: 0.9668 - val_loss: 1.1532 - val_categorical_accuracy: 0.7615\n",
            "Epoch 3/50\n",
            "133/133 [==============================] - 94s 709ms/step - loss: 0.1644 - categorical_accuracy: 0.9498 - val_loss: 1.9602 - val_categorical_accuracy: 0.6538\n",
            "Epoch 4/50\n",
            "133/133 [==============================] - 94s 708ms/step - loss: 0.0797 - categorical_accuracy: 0.9710 - val_loss: 0.7890 - val_categorical_accuracy: 0.8198\n",
            "Epoch 5/50\n",
            "133/133 [==============================] - 96s 725ms/step - loss: 0.0411 - categorical_accuracy: 0.9861 - val_loss: 0.7388 - val_categorical_accuracy: 0.8418\n",
            "Epoch 6/50\n",
            "133/133 [==============================] - 94s 708ms/step - loss: 0.0773 - categorical_accuracy: 0.9720 - val_loss: 0.9943 - val_categorical_accuracy: 0.8066\n",
            "Epoch 7/50\n",
            "133/133 [==============================] - 94s 707ms/step - loss: 0.1055 - categorical_accuracy: 0.9637 - val_loss: 1.0604 - val_categorical_accuracy: 0.7440\n",
            "Epoch 8/50\n",
            "133/133 [==============================] - 96s 724ms/step - loss: 0.0593 - categorical_accuracy: 0.9772 - val_loss: 0.8565 - val_categorical_accuracy: 0.8440\n",
            "Epoch 9/50\n",
            "133/133 [==============================] - 97s 729ms/step - loss: 0.0406 - categorical_accuracy: 0.9854 - val_loss: 0.8615 - val_categorical_accuracy: 0.8451\n",
            "Epoch 10/50\n",
            "133/133 [==============================] - 94s 708ms/step - loss: 0.0551 - categorical_accuracy: 0.9802 - val_loss: 1.5298 - val_categorical_accuracy: 0.8033\n",
            "Epoch 11/50\n",
            "133/133 [==============================] - 99s 742ms/step - loss: 0.0605 - categorical_accuracy: 0.9757 - val_loss: 1.0876 - val_categorical_accuracy: 0.8121\n",
            "Epoch 12/50\n",
            "133/133 [==============================] - 94s 709ms/step - loss: 0.1220 - categorical_accuracy: 0.9597 - val_loss: 1.0486 - val_categorical_accuracy: 0.7582\n",
            "Epoch 13/50\n",
            "133/133 [==============================] - 97s 727ms/step - loss: 0.0569 - categorical_accuracy: 0.9793 - val_loss: 0.8000 - val_categorical_accuracy: 0.8703\n",
            "Epoch 14/50\n",
            "133/133 [==============================] - 99s 743ms/step - loss: 0.0179 - categorical_accuracy: 0.9953 - val_loss: 0.7971 - val_categorical_accuracy: 0.8703\n",
            "Epoch 15/50\n",
            "133/133 [==============================] - 94s 709ms/step - loss: 0.0023 - categorical_accuracy: 0.9995 - val_loss: 0.8525 - val_categorical_accuracy: 0.8648\n",
            "Epoch 16/50\n",
            "133/133 [==============================] - 94s 709ms/step - loss: 0.0037 - categorical_accuracy: 0.9986 - val_loss: 0.8560 - val_categorical_accuracy: 0.8703\n",
            "Epoch 17/50\n",
            "133/133 [==============================] - 94s 710ms/step - loss: 0.0083 - categorical_accuracy: 0.9960 - val_loss: 0.9117 - val_categorical_accuracy: 0.8352\n",
            "Epoch 18/50\n",
            "133/133 [==============================] - 94s 708ms/step - loss: 0.0894 - categorical_accuracy: 0.9715 - val_loss: 3.1082 - val_categorical_accuracy: 0.5527\n",
            "Epoch 19/50\n",
            "133/133 [==============================] - 99s 743ms/step - loss: 0.1641 - categorical_accuracy: 0.9444 - val_loss: 1.0887 - val_categorical_accuracy: 0.7978\n",
            "Epoch 20/50\n",
            "133/133 [==============================] - 94s 709ms/step - loss: 0.0383 - categorical_accuracy: 0.9868 - val_loss: 0.8470 - val_categorical_accuracy: 0.8549\n",
            "Epoch 21/50\n",
            "133/133 [==============================] - 94s 709ms/step - loss: 0.0130 - categorical_accuracy: 0.9965 - val_loss: 0.7753 - val_categorical_accuracy: 0.8681\n",
            "Epoch 22/50\n",
            "133/133 [==============================] - 97s 727ms/step - loss: 0.0024 - categorical_accuracy: 0.9995 - val_loss: 0.7985 - val_categorical_accuracy: 0.8725\n",
            "Epoch 23/50\n",
            "133/133 [==============================] - 94s 710ms/step - loss: 3.0888e-04 - categorical_accuracy: 1.0000 - val_loss: 0.8021 - val_categorical_accuracy: 0.8714\n",
            "Epoch 24/50\n",
            "133/133 [==============================] - 97s 727ms/step - loss: 2.7809e-04 - categorical_accuracy: 1.0000 - val_loss: 0.8286 - val_categorical_accuracy: 0.8758\n",
            "Epoch 25/50\n",
            "133/133 [==============================] - 94s 709ms/step - loss: 1.4819e-04 - categorical_accuracy: 1.0000 - val_loss: 0.8381 - val_categorical_accuracy: 0.8714\n",
            "Epoch 26/50\n",
            "133/133 [==============================] - 94s 709ms/step - loss: 1.5121e-04 - categorical_accuracy: 1.0000 - val_loss: 0.8462 - val_categorical_accuracy: 0.8725\n",
            "Epoch 27/50\n",
            "133/133 [==============================] - 94s 709ms/step - loss: 8.1275e-05 - categorical_accuracy: 1.0000 - val_loss: 0.8503 - val_categorical_accuracy: 0.8725\n",
            "Epoch 28/50\n",
            " 86/133 [==================>...........] - ETA: 31s - loss: 6.1717e-05 - categorical_accuracy: 1.0000"
          ]
        }
      ]
    },
    {
      "cell_type": "code",
      "metadata": {
        "id": "hMZJt1h_7Qv_"
      },
      "source": [
        "best64 = load_model(pathToModels + \"weights_64.20-0.76.h5\") #batch size 64, epoch 20 gave lowest non-overfit dev loss\n"
      ],
      "execution_count": null,
      "outputs": []
    },
    {
      "cell_type": "code",
      "metadata": {
        "id": "YNil_-wL8DAL"
      },
      "source": [
        "predictions64 = best64.predict(X_test)"
      ],
      "execution_count": null,
      "outputs": []
    },
    {
      "cell_type": "code",
      "metadata": {
        "id": "X0i5kSin8DAL"
      },
      "source": [
        "# print(predictions)\n",
        "# print(y_test)\n",
        "yTestNew = y_test.argmax(axis=1)\n",
        "\n",
        "yPredNew64 = predictions64.argmax(axis=1)\n",
        "\n",
        "print(yTestNew)\n",
        "\n",
        "print(yPredNew64)\n"
      ],
      "execution_count": null,
      "outputs": []
    },
    {
      "cell_type": "code",
      "metadata": {
        "id": "6RoNqKyQ8b6X"
      },
      "source": [
        "from sklearn.metrics import confusion_matrix, ConfusionMatrixDisplay, f1_score"
      ],
      "execution_count": null,
      "outputs": []
    },
    {
      "cell_type": "code",
      "metadata": {
        "colab": {
          "base_uri": "https://localhost:8080/",
          "height": 296
        },
        "id": "DFUwQJUq8hkH",
        "outputId": "476f9444-30db-419c-8f78-bf86bfef2c5b"
      },
      "source": [
        "#For Model batch size 64\n",
        "\n",
        "cM = confusion_matrix(yTestNew,yPredNew64)\n",
        "\n",
        "displayClasses = [i for i in range(3)]\n",
        "\n",
        "print(f1_score(yTestNew, yPredNew64, average='macro'))\n",
        "\n",
        "disp = ConfusionMatrixDisplay(confusion_matrix=cM, display_labels=displayClasses)\n",
        "disp.plot()\n",
        "pyplot.show()"
      ],
      "execution_count": null,
      "outputs": [
        {
          "output_type": "stream",
          "name": "stdout",
          "text": [
            "0.8728785154809886\n"
          ]
        },
        {
          "output_type": "display_data",
          "data": {
            "image/png": "[encoded data removed]",
            "text/plain": [
              "<Figure size 432x288 with 2 Axes>"
            ]
          },
          "metadata": {
            "needs_background": "light"
          }
        }
      ]
    }
  ]
}
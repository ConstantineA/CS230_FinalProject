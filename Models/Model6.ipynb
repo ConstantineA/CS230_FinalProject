{
  "nbformat": 4,
  "nbformat_minor": 0,
  "metadata": {
    "colab": {
      "name": "Model6.ipynb",
      "provenance": [],
      "collapsed_sections": []
    },
    "kernelspec": {
      "name": "python3",
      "display_name": "Python 3"
    },
    "language_info": {
      "name": "python"
    },
    "accelerator": "GPU"
  },
  "cells": [
    {
      "cell_type": "code",
      "metadata": {
        "colab": {
          "base_uri": "https://localhost:8080/"
        },
        "id": "lUbp8-MVIYHv",
        "outputId": "95465a01-f4ef-4b6b-9658-efee0274daf1"
      },
      "source": [
        "from google.colab import drive\n",
        "drive.mount('/content/drive')"
      ],
      "execution_count": null,
      "outputs": [
        {
          "output_type": "stream",
          "name": "stdout",
          "text": [
            "Mounted at /content/drive\n"
          ]
        }
      ]
    },
    {
      "cell_type": "code",
      "metadata": {
        "id": "hEpQBx34_FqI"
      },
      "source": [
        "from keras.models import Sequential, load_model\n",
        "from keras.layers import Dense\n",
        "from keras.initializers import HeNormal\n",
        "from matplotlib import image\n",
        "from matplotlib import pyplot\n",
        "import os\n",
        "import shutil\n",
        "import numpy as np\n",
        "from PIL import Image\n",
        "import pickle\n",
        "from sklearn.preprocessing import MultiLabelBinarizer\n"
      ],
      "execution_count": null,
      "outputs": []
    },
    {
      "cell_type": "markdown",
      "metadata": {
        "id": "ZmpCQpylxObc"
      },
      "source": [
        "# **Binary CNN**"
      ]
    },
    {
      "cell_type": "code",
      "metadata": {
        "id": "g_KaTobjxc7e"
      },
      "source": [
        "from keras.models import Sequential\n",
        "from keras.layers import Dense, Conv2D, Flatten, MaxPooling2D, AveragePooling2D, BatchNormalization\n",
        "from matplotlib import image\n",
        "from matplotlib import pyplot\n",
        "import os\n",
        "import shutil\n",
        "import numpy as np\n",
        "from PIL import Image\n",
        "import pickle"
      ],
      "execution_count": null,
      "outputs": []
    },
    {
      "cell_type": "code",
      "metadata": {
        "colab": {
          "base_uri": "https://localhost:8080/"
        },
        "id": "KqadxjSlxf-L",
        "outputId": "a9c7190b-44a5-4d50-c0b8-af901a8f5718"
      },
      "source": [
        "pathToData = \"drive/MyDrive/CS 230 Final Project/Final Data and CSVs/Final CSV Files and Data/Binary Split/\"\n",
        "print(pathToData + \"train_X.p\")"
      ],
      "execution_count": null,
      "outputs": [
        {
          "output_type": "stream",
          "name": "stdout",
          "text": [
            "drive/MyDrive/CS 230 Final Project/Final Data and CSVs/Final CSV Files and Data/Binary Split/train_X.p\n"
          ]
        }
      ]
    },
    {
      "cell_type": "code",
      "metadata": {
        "colab": {
          "base_uri": "https://localhost:8080/"
        },
        "id": "MeDfDYfyxipL",
        "outputId": "e28806a5-3ea4-45e2-a8fe-922694fe6540"
      },
      "source": [
        "# load the train dataset\n",
        "X_train = pickle.load(open(pathToData+\"train_X.p\", 'rb'))\n",
        "y_train = pickle.load(open(pathToData+\"train_Y.p\", 'rb'))\n",
        "#y_train = y_train.reshape(y_train.shape[0],-1)\n",
        "\n",
        "print(X_train.shape)\n",
        "print(y_train.shape)\n",
        "\n",
        "\n",
        "# load the dev dataset\n",
        "X_dev = pickle.load(open(pathToData+\"dev_X.p\", 'rb'))\n",
        "y_dev = pickle.load(open(pathToData+\"dev_Y.p\", 'rb'))\n",
        "#y_dev = y_dev.reshape(y_dev.shape[0],-1)\n",
        "\n",
        "print(X_dev.shape)\n",
        "print(y_dev.shape)\n",
        "\n",
        "# load the test dataset\n",
        "X_test = pickle.load(open(pathToData+\"test_X.p\", 'rb'))\n",
        "y_test = pickle.load(open(pathToData+\"test_Y.p\", 'rb'))\n",
        "#y_test= y_test.reshape(y_test.shape[0],-1)\n",
        "\n",
        "print(X_test.shape)\n",
        "print(y_test.shape)\n",
        "\n",
        "print(X_train.shape[1:])"
      ],
      "execution_count": null,
      "outputs": [
        {
          "output_type": "stream",
          "name": "stdout",
          "text": [
            "(4246, 208, 160, 3)\n",
            "(4246,)\n",
            "(910, 208, 160, 3)\n",
            "(910,)\n",
            "(910, 208, 160, 3)\n",
            "(910,)\n",
            "(208, 160, 3)\n"
          ]
        }
      ]
    },
    {
      "cell_type": "code",
      "metadata": {
        "colab": {
          "base_uri": "https://localhost:8080/"
        },
        "id": "NwRvfwNExjq6",
        "outputId": "e957000f-b03f-4f74-9120-72baa8269583"
      },
      "source": [
        "numExamples = X_train.shape[0]\n",
        "print(numExamples)"
      ],
      "execution_count": null,
      "outputs": [
        {
          "output_type": "stream",
          "name": "stdout",
          "text": [
            "4246\n"
          ]
        }
      ]
    },
    {
      "cell_type": "code",
      "metadata": {
        "colab": {
          "base_uri": "https://localhost:8080/"
        },
        "id": "p1vUtd7hx9dt",
        "outputId": "0ee7e0ad-d883-42ba-c61a-594135f8646b"
      },
      "source": [
        "pathToModels = \"drive/MyDrive/CS 230 Final Project/Models/\"\n",
        "print(pathToModels+\"bestBinaryCNNModel.h5\")\n"
      ],
      "execution_count": null,
      "outputs": [
        {
          "output_type": "stream",
          "name": "stdout",
          "text": [
            "drive/MyDrive/CS 230 Final Project/Models/bestBinaryCNNModel.h5\n"
          ]
        }
      ]
    },
    {
      "cell_type": "code",
      "metadata": {
        "id": "XYEx_1jVx9du"
      },
      "source": [
        "loadedBestCNNModel = load_model(pathToModels+\"bestBinaryCNNModel.h5\")"
      ],
      "execution_count": null,
      "outputs": []
    },
    {
      "cell_type": "code",
      "metadata": {
        "colab": {
          "base_uri": "https://localhost:8080/"
        },
        "id": "8S4T4t03x9du",
        "outputId": "8642d690-22ef-4852-96d3-8ce70e229d5a"
      },
      "source": [
        "_, accuracy = loadedBestCNNModel.evaluate(X_test, y_test)\n",
        "print('Test Accuracy: %.2f' % (accuracy*100))"
      ],
      "execution_count": null,
      "outputs": [
        {
          "output_type": "stream",
          "name": "stdout",
          "text": [
            "29/29 [==============================] - 11s 51ms/step - loss: 0.3227 - accuracy: 0.8681\n",
            "Test Accuracy: 86.81\n"
          ]
        }
      ]
    },
    {
      "cell_type": "code",
      "metadata": {
        "id": "b1oluea5vt0m"
      },
      "source": [
        "from keras.models import Sequential\n",
        "from keras.layers import Dense, Conv2D, Flatten, MaxPooling2D, AveragePooling2D, BatchNormalization\n",
        "from matplotlib import image\n",
        "from matplotlib import pyplot\n",
        "import os\n",
        "import shutil\n",
        "import numpy as np\n",
        "from PIL import Image\n",
        "import pickle\n",
        "from sklearn.preprocessing import MultiLabelBinarizer"
      ],
      "execution_count": null,
      "outputs": []
    },
    {
      "cell_type": "code",
      "metadata": {
        "colab": {
          "base_uri": "https://localhost:8080/"
        },
        "id": "x-tsJU5xvwQ1",
        "outputId": "35737bc1-2bd7-4de6-cc60-bdd31fd00fa9"
      },
      "source": [
        "pathToData = \"drive/MyDrive/CS 230 Final Project/Final Data and CSVs/Final CSV Files and Data/Multi Split/\"\n",
        "print(pathToData + \"train_X.p\")"
      ],
      "execution_count": null,
      "outputs": [
        {
          "output_type": "stream",
          "name": "stdout",
          "text": [
            "drive/MyDrive/CS 230 Final Project/Final Data and CSVs/Final CSV Files and Data/Multi Split/train_X.p\n"
          ]
        }
      ]
    },
    {
      "cell_type": "code",
      "metadata": {
        "colab": {
          "base_uri": "https://localhost:8080/"
        },
        "id": "XuXNHaaFvxy0",
        "outputId": "2eb8b78d-969d-4169-d5d3-de0577634ef9"
      },
      "source": [
        "mlb = MultiLabelBinarizer()\n",
        "# load the train dataset\n",
        "X_train = pickle.load(open(pathToData+\"train_X.p\", 'rb'))\n",
        "y_trainUnflat = pickle.load(open(pathToData+\"train_Y.p\", 'rb'))\n",
        "y_train = y_trainUnflat.reshape(y_trainUnflat.shape[0],-1)\n",
        "y_train = mlb.fit_transform(y_train)\n",
        "\n",
        "print(X_train.shape)\n",
        "print(y_train.shape)\n",
        "\n",
        "# load the dev dataset\n",
        "X_dev = pickle.load(open(pathToData+\"dev_X.p\", 'rb'))\n",
        "y_devUnflat = pickle.load(open(pathToData+\"dev_Y.p\", 'rb'))\n",
        "y_dev = y_devUnflat.reshape(y_devUnflat.shape[0],-1)\n",
        "y_dev = mlb.fit_transform(y_dev)\n",
        "\n",
        "print(X_dev.shape)\n",
        "print(y_dev.shape)\n",
        "\n",
        "# load the test dataset\n",
        "X_test = pickle.load(open(pathToData+\"test_X.p\", 'rb'))\n",
        "y_testUnflat = pickle.load(open(pathToData+\"test_Y.p\", 'rb'))\n",
        "y_test = y_testUnflat.reshape(y_testUnflat.shape[0],-1)\n",
        "y_test = mlb.fit_transform(y_test)\n",
        "\n",
        "print(X_test.shape)\n",
        "print(y_test.shape)"
      ],
      "execution_count": null,
      "outputs": [
        {
          "output_type": "stream",
          "name": "stdout",
          "text": [
            "(4246, 208, 160, 3)\n",
            "(4246, 3)\n",
            "(910, 208, 160, 3)\n",
            "(910, 3)\n",
            "(910, 208, 160, 3)\n",
            "(910, 3)\n"
          ]
        }
      ]
    },
    {
      "cell_type": "code",
      "metadata": {
        "colab": {
          "base_uri": "https://localhost:8080/"
        },
        "id": "ChTPlCmKvz9H",
        "outputId": "29eac7c6-4639-45a8-c1a5-1be93e7171d2"
      },
      "source": [
        "print(y_trainUnflat)"
      ],
      "execution_count": null,
      "outputs": [
        {
          "output_type": "stream",
          "name": "stdout",
          "text": [
            "[0 2 1 ... 0 1 0]\n"
          ]
        }
      ]
    },
    {
      "cell_type": "code",
      "metadata": {
        "colab": {
          "base_uri": "https://localhost:8080/"
        },
        "id": "bbbmcR5Zv0rW",
        "outputId": "9f0aa1c4-c70a-4189-b358-4ffcfdfb48ed"
      },
      "source": [
        "numExamples = X_train.shape[0]\n",
        "print(numExamples)"
      ],
      "execution_count": null,
      "outputs": [
        {
          "output_type": "stream",
          "name": "stdout",
          "text": [
            "4246\n"
          ]
        }
      ]
    },
    {
      "cell_type": "code",
      "metadata": {
        "colab": {
          "base_uri": "https://localhost:8080/"
        },
        "id": "46_P8G5Fv1iJ",
        "outputId": "4af7e63d-3ff9-4d6a-ae4c-fc518067bbe2"
      },
      "source": [
        "print(X_train.shape[1:])"
      ],
      "execution_count": null,
      "outputs": [
        {
          "output_type": "stream",
          "name": "stdout",
          "text": [
            "(208, 160, 3)\n"
          ]
        }
      ]
    },
    {
      "cell_type": "code",
      "metadata": {
        "colab": {
          "base_uri": "https://localhost:8080/"
        },
        "id": "VjR90Ai9wc-e",
        "outputId": "698d4c4b-ebf4-46fd-bdd8-6d3c8c5c9373"
      },
      "source": [
        "loadedBestCNNModel.summary()"
      ],
      "execution_count": null,
      "outputs": [
        {
          "output_type": "stream",
          "name": "stdout",
          "text": [
            "Model: \"sequential_4\"\n",
            "_________________________________________________________________\n",
            " Layer (type)                Output Shape              Param #   \n",
            "=================================================================\n",
            " conv2d_5 (Conv2D)           (None, 208, 160, 32)      2432      \n",
            "                                                                 \n",
            " batch_normalization_5 (Batc  (None, 208, 160, 32)     128       \n",
            " hNormalization)                                                 \n",
            "                                                                 \n",
            " max_pooling2d_5 (MaxPooling  (None, 103, 79, 32)      0         \n",
            " 2D)                                                             \n",
            "                                                                 \n",
            " conv2d_6 (Conv2D)           (None, 103, 79, 64)       51264     \n",
            "                                                                 \n",
            " batch_normalization_6 (Batc  (None, 103, 79, 64)      256       \n",
            " hNormalization)                                                 \n",
            "                                                                 \n",
            " max_pooling2d_6 (MaxPooling  (None, 51, 39, 64)       0         \n",
            " 2D)                                                             \n",
            "                                                                 \n",
            " conv2d_7 (Conv2D)           (None, 51, 39, 64)        102464    \n",
            "                                                                 \n",
            " batch_normalization_7 (Batc  (None, 51, 39, 64)       256       \n",
            " hNormalization)                                                 \n",
            "                                                                 \n",
            " max_pooling2d_7 (MaxPooling  (None, 25, 19, 64)       0         \n",
            " 2D)                                                             \n",
            "                                                                 \n",
            " conv2d_8 (Conv2D)           (None, 25, 19, 128)       204928    \n",
            "                                                                 \n",
            " batch_normalization_8 (Batc  (None, 25, 19, 128)      512       \n",
            " hNormalization)                                                 \n",
            "                                                                 \n",
            " max_pooling2d_8 (MaxPooling  (None, 12, 9, 128)       0         \n",
            " 2D)                                                             \n",
            "                                                                 \n",
            " conv2d_9 (Conv2D)           (None, 12, 9, 256)        819456    \n",
            "                                                                 \n",
            " batch_normalization_9 (Batc  (None, 12, 9, 256)       1024      \n",
            " hNormalization)                                                 \n",
            "                                                                 \n",
            " max_pooling2d_9 (MaxPooling  (None, 5, 4, 256)        0         \n",
            " 2D)                                                             \n",
            "                                                                 \n",
            " flatten_1 (Flatten)         (None, 5120)              0         \n",
            "                                                                 \n",
            " dense_23 (Dense)            (None, 5120)              26219520  \n",
            "                                                                 \n",
            " dense_24 (Dense)            (None, 1)                 5121      \n",
            "                                                                 \n",
            "=================================================================\n",
            "Total params: 27,407,361\n",
            "Trainable params: 27,406,273\n",
            "Non-trainable params: 1,088\n",
            "_________________________________________________________________\n"
          ]
        }
      ]
    },
    {
      "cell_type": "code",
      "metadata": {
        "colab": {
          "base_uri": "https://localhost:8080/"
        },
        "id": "aQ34fkriv3-u",
        "outputId": "81be9e45-5cab-4ad7-8fd9-7f3553364ba4"
      },
      "source": [
        "#HYPERPARAMETER SEARCH OVER EPOCH NUMBER and BATCH SIZE\n",
        "#We keep number of layers, neuron per layer, activation in each layer constant\n",
        "batchSizes = [100,200,300]\n",
        "\n",
        "#print(numEpochsToTest)\n",
        "print(batchSizes)\n",
        "numEpochs = 30"
      ],
      "execution_count": null,
      "outputs": [
        {
          "output_type": "stream",
          "name": "stdout",
          "text": [
            "[100, 200, 300]\n"
          ]
        }
      ]
    },
    {
      "cell_type": "code",
      "metadata": {
        "colab": {
          "base_uri": "https://localhost:8080/"
        },
        "id": "MvpYJR5rwpqv",
        "outputId": "4414ddaa-60c5-4279-d6c4-362f71042260"
      },
      "source": [
        "trainAccuracy = []\n",
        "valAccuracy = []\n",
        "trainLoss = []\n",
        "valLoss = []\n",
        "\n",
        "for batchSize in batchSizes:\n",
        "  loadedBestModel = load_model(pathToModels+\"bestBinaryCNNModel.h5\")\n",
        "  for layer in loadedBestModel.layers[:6]:\n",
        "    layer.trainable = False\n",
        "  print(\"BatchSize : \", batchSize)\n",
        "  model = Sequential()\n",
        "  for layer in loadedBestModel.layers[:-1]:\n",
        "    model.add(layer)\n",
        "\n",
        "  model.add(Dense(3, activation='softmax'))\n",
        "  model.compile(loss='categorical_crossentropy', optimizer='adam', metrics=['categorical_accuracy'])\n",
        "  history = model.fit(X_train, y_train, epochs=numEpochs, batch_size=batchSize, validation_data = (X_dev, y_dev))\n",
        "  historyDict = history.history\n",
        "  #print(historyDict.keys())\n",
        "  #trainAccuracy.append(historyDict[\"accuracy\"])\n",
        "  #valAccuracy.append(historyDict[\"val_accuracy\"])\n",
        "  trainLoss.append(historyDict['loss'])\n",
        "  valLoss.append(historyDict['val_loss'])"
      ],
      "execution_count": null,
      "outputs": [
        {
          "output_type": "stream",
          "name": "stdout",
          "text": [
            "BatchSize :  100\n",
            "Epoch 1/30\n",
            "43/43 [==============================] - 13s 205ms/step - loss: 0.6500 - categorical_accuracy: 0.7143 - val_loss: 0.5559 - val_categorical_accuracy: 0.7495\n",
            "Epoch 2/30\n",
            "43/43 [==============================] - 7s 158ms/step - loss: 0.3917 - categorical_accuracy: 0.8260 - val_loss: 0.4449 - val_categorical_accuracy: 0.7846\n",
            "Epoch 3/30\n",
            "43/43 [==============================] - 7s 159ms/step - loss: 0.2434 - categorical_accuracy: 0.9034 - val_loss: 0.3982 - val_categorical_accuracy: 0.8198\n",
            "Epoch 4/30\n",
            "43/43 [==============================] - 7s 159ms/step - loss: 0.1332 - categorical_accuracy: 0.9522 - val_loss: 0.4828 - val_categorical_accuracy: 0.8209\n",
            "Epoch 5/30\n",
            "43/43 [==============================] - 7s 172ms/step - loss: 0.0498 - categorical_accuracy: 0.9856 - val_loss: 0.3048 - val_categorical_accuracy: 0.8945\n",
            "Epoch 6/30\n",
            "43/43 [==============================] - 7s 159ms/step - loss: 0.0304 - categorical_accuracy: 0.9922 - val_loss: 0.3402 - val_categorical_accuracy: 0.9209\n",
            "Epoch 7/30\n",
            "43/43 [==============================] - 7s 160ms/step - loss: 0.0506 - categorical_accuracy: 0.9830 - val_loss: 0.6743 - val_categorical_accuracy: 0.8495\n",
            "Epoch 8/30\n",
            "43/43 [==============================] - 7s 160ms/step - loss: 0.0415 - categorical_accuracy: 0.9859 - val_loss: 0.3159 - val_categorical_accuracy: 0.9319\n",
            "Epoch 9/30\n",
            "43/43 [==============================] - 7s 160ms/step - loss: 0.0046 - categorical_accuracy: 0.9991 - val_loss: 0.3478 - val_categorical_accuracy: 0.9363\n",
            "Epoch 10/30\n",
            "43/43 [==============================] - 7s 160ms/step - loss: 0.0017 - categorical_accuracy: 0.9998 - val_loss: 0.3524 - val_categorical_accuracy: 0.9341\n",
            "Epoch 11/30\n",
            "43/43 [==============================] - 7s 160ms/step - loss: 3.4938e-04 - categorical_accuracy: 1.0000 - val_loss: 0.4082 - val_categorical_accuracy: 0.9374\n",
            "Epoch 12/30\n",
            "43/43 [==============================] - 7s 161ms/step - loss: 1.7494e-04 - categorical_accuracy: 1.0000 - val_loss: 0.4231 - val_categorical_accuracy: 0.9352\n",
            "Epoch 13/30\n",
            "43/43 [==============================] - 7s 172ms/step - loss: 9.6609e-05 - categorical_accuracy: 1.0000 - val_loss: 0.4450 - val_categorical_accuracy: 0.9341\n",
            "Epoch 14/30\n",
            "43/43 [==============================] - 7s 161ms/step - loss: 5.8392e-05 - categorical_accuracy: 1.0000 - val_loss: 0.4640 - val_categorical_accuracy: 0.9341\n",
            "Epoch 15/30\n",
            "43/43 [==============================] - 7s 161ms/step - loss: 3.5613e-05 - categorical_accuracy: 1.0000 - val_loss: 0.5002 - val_categorical_accuracy: 0.9330\n",
            "Epoch 16/30\n",
            "43/43 [==============================] - 7s 161ms/step - loss: 2.0233e-05 - categorical_accuracy: 1.0000 - val_loss: 0.5262 - val_categorical_accuracy: 0.9374\n",
            "Epoch 17/30\n",
            "43/43 [==============================] - 7s 160ms/step - loss: 1.3487e-05 - categorical_accuracy: 1.0000 - val_loss: 0.5748 - val_categorical_accuracy: 0.9396\n",
            "Epoch 18/30\n",
            "43/43 [==============================] - 7s 160ms/step - loss: 1.2328e-05 - categorical_accuracy: 1.0000 - val_loss: 0.5672 - val_categorical_accuracy: 0.9385\n",
            "Epoch 19/30\n",
            "43/43 [==============================] - 7s 160ms/step - loss: 6.0050e-06 - categorical_accuracy: 1.0000 - val_loss: 0.5948 - val_categorical_accuracy: 0.9396\n",
            "Epoch 20/30\n",
            "43/43 [==============================] - 7s 160ms/step - loss: 5.3231e-06 - categorical_accuracy: 1.0000 - val_loss: 0.6024 - val_categorical_accuracy: 0.9385\n",
            "Epoch 21/30\n",
            "43/43 [==============================] - 7s 160ms/step - loss: 3.5404e-06 - categorical_accuracy: 1.0000 - val_loss: 0.6172 - val_categorical_accuracy: 0.9352\n",
            "Epoch 22/30\n",
            "43/43 [==============================] - 7s 160ms/step - loss: 3.7381e-06 - categorical_accuracy: 1.0000 - val_loss: 0.6379 - val_categorical_accuracy: 0.9352\n",
            "Epoch 23/30\n",
            "43/43 [==============================] - 7s 160ms/step - loss: 2.4099e-06 - categorical_accuracy: 1.0000 - val_loss: 0.6299 - val_categorical_accuracy: 0.9363\n",
            "Epoch 24/30\n",
            "43/43 [==============================] - 7s 172ms/step - loss: 1.6165e-06 - categorical_accuracy: 1.0000 - val_loss: 0.6404 - val_categorical_accuracy: 0.9352\n",
            "Epoch 25/30\n",
            "43/43 [==============================] - 7s 160ms/step - loss: 1.3629e-06 - categorical_accuracy: 1.0000 - val_loss: 0.6482 - val_categorical_accuracy: 0.9352\n",
            "Epoch 26/30\n",
            "43/43 [==============================] - 7s 160ms/step - loss: 3.0218e-06 - categorical_accuracy: 1.0000 - val_loss: 0.6697 - val_categorical_accuracy: 0.9374\n",
            "Epoch 27/30\n",
            "43/43 [==============================] - 7s 160ms/step - loss: 1.5646e-06 - categorical_accuracy: 1.0000 - val_loss: 0.6712 - val_categorical_accuracy: 0.9374\n",
            "Epoch 28/30\n",
            "43/43 [==============================] - 7s 160ms/step - loss: 9.4937e-07 - categorical_accuracy: 1.0000 - val_loss: 0.6713 - val_categorical_accuracy: 0.9374\n",
            "Epoch 29/30\n",
            "43/43 [==============================] - 7s 160ms/step - loss: 7.8676e-07 - categorical_accuracy: 1.0000 - val_loss: 0.6828 - val_categorical_accuracy: 0.9374\n",
            "Epoch 30/30\n",
            "43/43 [==============================] - 7s 160ms/step - loss: 8.1226e-07 - categorical_accuracy: 1.0000 - val_loss: 0.6825 - val_categorical_accuracy: 0.9363\n",
            "BatchSize :  200\n",
            "Epoch 1/30\n",
            "22/22 [==============================] - 14s 434ms/step - loss: 0.6768 - categorical_accuracy: 0.7110 - val_loss: 0.5084 - val_categorical_accuracy: 0.7637\n",
            "Epoch 2/30\n",
            "22/22 [==============================] - 6s 284ms/step - loss: 0.4178 - categorical_accuracy: 0.8231 - val_loss: 0.4655 - val_categorical_accuracy: 0.7934\n",
            "Epoch 3/30\n",
            "22/22 [==============================] - 6s 285ms/step - loss: 0.2872 - categorical_accuracy: 0.8848 - val_loss: 0.3913 - val_categorical_accuracy: 0.8220\n",
            "Epoch 4/30\n",
            "22/22 [==============================] - 6s 286ms/step - loss: 0.1593 - categorical_accuracy: 0.9430 - val_loss: 0.3853 - val_categorical_accuracy: 0.8495\n",
            "Epoch 5/30\n",
            "22/22 [==============================] - 6s 286ms/step - loss: 0.0833 - categorical_accuracy: 0.9713 - val_loss: 0.3341 - val_categorical_accuracy: 0.8901\n",
            "Epoch 6/30\n",
            "22/22 [==============================] - 6s 285ms/step - loss: 0.0312 - categorical_accuracy: 0.9929 - val_loss: 0.3216 - val_categorical_accuracy: 0.9066\n",
            "Epoch 7/30\n",
            "22/22 [==============================] - 6s 287ms/step - loss: 0.0188 - categorical_accuracy: 0.9951 - val_loss: 0.2739 - val_categorical_accuracy: 0.9209\n",
            "Epoch 8/30\n",
            "22/22 [==============================] - 6s 287ms/step - loss: 0.0084 - categorical_accuracy: 0.9984 - val_loss: 0.3734 - val_categorical_accuracy: 0.9088\n",
            "Epoch 9/30\n",
            "22/22 [==============================] - 6s 287ms/step - loss: 0.0055 - categorical_accuracy: 0.9986 - val_loss: 0.2547 - val_categorical_accuracy: 0.9341\n",
            "Epoch 10/30\n",
            "22/22 [==============================] - 6s 288ms/step - loss: 0.0019 - categorical_accuracy: 1.0000 - val_loss: 0.2622 - val_categorical_accuracy: 0.9407\n",
            "Epoch 11/30\n",
            "22/22 [==============================] - 6s 287ms/step - loss: 5.2488e-04 - categorical_accuracy: 1.0000 - val_loss: 0.2776 - val_categorical_accuracy: 0.9407\n",
            "Epoch 12/30\n",
            "22/22 [==============================] - 6s 287ms/step - loss: 2.3625e-04 - categorical_accuracy: 1.0000 - val_loss: 0.2869 - val_categorical_accuracy: 0.9396\n",
            "Epoch 13/30\n",
            "22/22 [==============================] - 6s 287ms/step - loss: 1.4435e-04 - categorical_accuracy: 1.0000 - val_loss: 0.3001 - val_categorical_accuracy: 0.9374\n",
            "Epoch 14/30\n",
            "22/22 [==============================] - 6s 289ms/step - loss: 9.4148e-05 - categorical_accuracy: 1.0000 - val_loss: 0.3312 - val_categorical_accuracy: 0.9385\n",
            "Epoch 15/30\n",
            "22/22 [==============================] - 6s 288ms/step - loss: 5.5011e-05 - categorical_accuracy: 1.0000 - val_loss: 0.3528 - val_categorical_accuracy: 0.9385\n",
            "Epoch 16/30\n",
            "22/22 [==============================] - 6s 287ms/step - loss: 3.8458e-05 - categorical_accuracy: 1.0000 - val_loss: 0.4021 - val_categorical_accuracy: 0.9418\n",
            "Epoch 17/30\n",
            "22/22 [==============================] - 6s 288ms/step - loss: 3.4901e-05 - categorical_accuracy: 1.0000 - val_loss: 0.4074 - val_categorical_accuracy: 0.9374\n",
            "Epoch 18/30\n",
            "22/22 [==============================] - 6s 287ms/step - loss: 1.7289e-05 - categorical_accuracy: 1.0000 - val_loss: 0.4275 - val_categorical_accuracy: 0.9330\n",
            "Epoch 19/30\n",
            "22/22 [==============================] - 6s 288ms/step - loss: 1.2518e-05 - categorical_accuracy: 1.0000 - val_loss: 0.4502 - val_categorical_accuracy: 0.9352\n",
            "Epoch 20/30\n",
            "22/22 [==============================] - 6s 287ms/step - loss: 8.4911e-06 - categorical_accuracy: 1.0000 - val_loss: 0.4669 - val_categorical_accuracy: 0.9385\n",
            "Epoch 21/30\n",
            "22/22 [==============================] - 6s 287ms/step - loss: 6.7129e-06 - categorical_accuracy: 1.0000 - val_loss: 0.4849 - val_categorical_accuracy: 0.9374\n",
            "Epoch 22/30\n",
            "22/22 [==============================] - 6s 288ms/step - loss: 5.1560e-06 - categorical_accuracy: 1.0000 - val_loss: 0.4971 - val_categorical_accuracy: 0.9330\n",
            "Epoch 23/30\n",
            "22/22 [==============================] - 6s 288ms/step - loss: 4.2104e-06 - categorical_accuracy: 1.0000 - val_loss: 0.5178 - val_categorical_accuracy: 0.9341\n",
            "Epoch 24/30\n",
            "22/22 [==============================] - 6s 288ms/step - loss: 3.7849e-06 - categorical_accuracy: 1.0000 - val_loss: 0.5370 - val_categorical_accuracy: 0.9352\n",
            "Epoch 25/30\n",
            "22/22 [==============================] - 6s 287ms/step - loss: 3.3149e-06 - categorical_accuracy: 1.0000 - val_loss: 0.5541 - val_categorical_accuracy: 0.9341\n",
            "Epoch 26/30\n",
            "22/22 [==============================] - 6s 287ms/step - loss: 2.7818e-06 - categorical_accuracy: 1.0000 - val_loss: 0.5632 - val_categorical_accuracy: 0.9319\n",
            "Epoch 27/30\n",
            "22/22 [==============================] - 7s 313ms/step - loss: 2.3375e-06 - categorical_accuracy: 1.0000 - val_loss: 0.5701 - val_categorical_accuracy: 0.9319\n",
            "Epoch 28/30\n",
            "22/22 [==============================] - 6s 287ms/step - loss: 2.0529e-06 - categorical_accuracy: 1.0000 - val_loss: 0.5790 - val_categorical_accuracy: 0.9297\n",
            "Epoch 29/30\n",
            "22/22 [==============================] - 6s 288ms/step - loss: 1.7643e-06 - categorical_accuracy: 1.0000 - val_loss: 0.5859 - val_categorical_accuracy: 0.9319\n",
            "Epoch 30/30\n",
            "22/22 [==============================] - 6s 287ms/step - loss: 1.7005e-06 - categorical_accuracy: 1.0000 - val_loss: 0.5961 - val_categorical_accuracy: 0.9297\n",
            "BatchSize :  300\n",
            "Epoch 1/30\n",
            "15/15 [==============================] - 12s 422ms/step - loss: 0.9610 - categorical_accuracy: 0.6166 - val_loss: 0.6806 - val_categorical_accuracy: 0.7066\n",
            "Epoch 2/30\n",
            "15/15 [==============================] - 6s 393ms/step - loss: 0.5326 - categorical_accuracy: 0.7767 - val_loss: 0.5105 - val_categorical_accuracy: 0.7747\n",
            "Epoch 3/30\n",
            "15/15 [==============================] - 6s 394ms/step - loss: 0.4186 - categorical_accuracy: 0.8177 - val_loss: 0.4545 - val_categorical_accuracy: 0.8099\n",
            "Epoch 4/30\n",
            "15/15 [==============================] - 6s 394ms/step - loss: 0.3194 - categorical_accuracy: 0.8698 - val_loss: 0.3960 - val_categorical_accuracy: 0.8374\n",
            "Epoch 5/30\n",
            "15/15 [==============================] - 6s 396ms/step - loss: 0.2342 - categorical_accuracy: 0.9063 - val_loss: 0.4135 - val_categorical_accuracy: 0.8154\n",
            "Epoch 6/30\n",
            "15/15 [==============================] - 6s 394ms/step - loss: 0.1704 - categorical_accuracy: 0.9376 - val_loss: 0.3511 - val_categorical_accuracy: 0.8582\n",
            "Epoch 7/30\n",
            "15/15 [==============================] - 6s 395ms/step - loss: 0.1155 - categorical_accuracy: 0.9581 - val_loss: 0.3042 - val_categorical_accuracy: 0.8813\n",
            "Epoch 8/30\n",
            "15/15 [==============================] - 6s 396ms/step - loss: 0.0713 - categorical_accuracy: 0.9812 - val_loss: 0.3417 - val_categorical_accuracy: 0.8648\n",
            "Epoch 9/30\n",
            "15/15 [==============================] - 6s 395ms/step - loss: 0.0378 - categorical_accuracy: 0.9925 - val_loss: 0.2613 - val_categorical_accuracy: 0.9154\n",
            "Epoch 10/30\n",
            "15/15 [==============================] - 6s 395ms/step - loss: 0.0173 - categorical_accuracy: 0.9974 - val_loss: 0.2849 - val_categorical_accuracy: 0.9033\n",
            "Epoch 11/30\n",
            "15/15 [==============================] - 6s 396ms/step - loss: 0.0076 - categorical_accuracy: 0.9988 - val_loss: 0.2788 - val_categorical_accuracy: 0.9143\n",
            "Epoch 12/30\n",
            "15/15 [==============================] - 6s 433ms/step - loss: 0.0051 - categorical_accuracy: 0.9995 - val_loss: 0.3297 - val_categorical_accuracy: 0.9000\n",
            "Epoch 13/30\n",
            "15/15 [==============================] - 6s 395ms/step - loss: 0.0020 - categorical_accuracy: 1.0000 - val_loss: 0.3098 - val_categorical_accuracy: 0.9121\n",
            "Epoch 14/30\n",
            "15/15 [==============================] - 6s 396ms/step - loss: 8.4764e-04 - categorical_accuracy: 1.0000 - val_loss: 0.3520 - val_categorical_accuracy: 0.9132\n",
            "Epoch 15/30\n",
            "15/15 [==============================] - 6s 396ms/step - loss: 4.6951e-04 - categorical_accuracy: 1.0000 - val_loss: 0.3137 - val_categorical_accuracy: 0.9374\n",
            "Epoch 16/30\n",
            "15/15 [==============================] - 6s 397ms/step - loss: 3.2511e-04 - categorical_accuracy: 1.0000 - val_loss: 0.3355 - val_categorical_accuracy: 0.9341\n",
            "Epoch 17/30\n",
            "15/15 [==============================] - 6s 396ms/step - loss: 1.8627e-04 - categorical_accuracy: 1.0000 - val_loss: 0.3462 - val_categorical_accuracy: 0.9374\n",
            "Epoch 18/30\n",
            "15/15 [==============================] - 6s 396ms/step - loss: 1.6153e-04 - categorical_accuracy: 1.0000 - val_loss: 0.3497 - val_categorical_accuracy: 0.9385\n",
            "Epoch 19/30\n",
            "15/15 [==============================] - 6s 394ms/step - loss: 1.4495e-04 - categorical_accuracy: 1.0000 - val_loss: 0.3791 - val_categorical_accuracy: 0.9330\n",
            "Epoch 20/30\n",
            "15/15 [==============================] - 6s 394ms/step - loss: 1.1372e-04 - categorical_accuracy: 1.0000 - val_loss: 0.3694 - val_categorical_accuracy: 0.9330\n",
            "Epoch 21/30\n",
            "15/15 [==============================] - 6s 395ms/step - loss: 7.9813e-05 - categorical_accuracy: 1.0000 - val_loss: 0.4005 - val_categorical_accuracy: 0.9341\n",
            "Epoch 22/30\n",
            "15/15 [==============================] - 6s 395ms/step - loss: 5.6240e-05 - categorical_accuracy: 1.0000 - val_loss: 0.4032 - val_categorical_accuracy: 0.9352\n",
            "Epoch 23/30\n",
            "15/15 [==============================] - 6s 394ms/step - loss: 4.9731e-05 - categorical_accuracy: 1.0000 - val_loss: 0.4052 - val_categorical_accuracy: 0.9363\n",
            "Epoch 24/30\n",
            "15/15 [==============================] - 6s 396ms/step - loss: 3.5074e-05 - categorical_accuracy: 1.0000 - val_loss: 0.4215 - val_categorical_accuracy: 0.9363\n",
            "Epoch 25/30\n",
            "15/15 [==============================] - 6s 397ms/step - loss: 2.5366e-04 - categorical_accuracy: 0.9998 - val_loss: 0.5045 - val_categorical_accuracy: 0.9088\n",
            "Epoch 26/30\n",
            "15/15 [==============================] - 6s 396ms/step - loss: 0.0422 - categorical_accuracy: 0.9852 - val_loss: 0.5698 - val_categorical_accuracy: 0.9066\n",
            "Epoch 27/30\n",
            "15/15 [==============================] - 6s 394ms/step - loss: 0.0749 - categorical_accuracy: 0.9755 - val_loss: 0.3821 - val_categorical_accuracy: 0.9187\n",
            "Epoch 28/30\n",
            "15/15 [==============================] - 6s 395ms/step - loss: 0.0515 - categorical_accuracy: 0.9816 - val_loss: 0.4825 - val_categorical_accuracy: 0.9033\n",
            "Epoch 29/30\n",
            "15/15 [==============================] - 6s 396ms/step - loss: 0.0389 - categorical_accuracy: 0.9870 - val_loss: 0.4206 - val_categorical_accuracy: 0.9275\n",
            "Epoch 30/30\n",
            "15/15 [==============================] - 6s 394ms/step - loss: 0.0271 - categorical_accuracy: 0.9922 - val_loss: 0.4664 - val_categorical_accuracy: 0.9044\n"
          ]
        }
      ]
    },
    {
      "cell_type": "code",
      "metadata": {
        "colab": {
          "base_uri": "https://localhost:8080/",
          "height": 318
        },
        "id": "KL1UpMqAxMg9",
        "outputId": "74343b84-57b9-4939-8466-8224965699f8"
      },
      "source": [
        "#For Loss Plotting\n",
        "\n",
        "x = [i for i in range(1,numEpochs+1)]\n",
        "print(x)\n",
        "yTrainLoss = trainLoss\n",
        "#Train Loss\n",
        "for i in range(len(batchSizes)):\n",
        "  currBatchSize = batchSizes[i]\n",
        "  labelName = \"Batch Size \" + str(currBatchSize)\n",
        "  pyplot.plot(x, yTrainLoss[i],label=labelName)\n",
        "#pyplot.xlim([1,2])\n",
        "pyplot.legend()\n",
        "pyplot.xlabel(\"Number of Epochs\")\n",
        "pyplot.ylabel(\"Train Loss\")\n",
        "pyplot.show()"
      ],
      "execution_count": null,
      "outputs": [
        {
          "output_type": "stream",
          "name": "stdout",
          "text": [
            "[1, 2, 3, 4, 5, 6, 7, 8, 9, 10, 11, 12, 13, 14, 15, 16, 17, 18, 19, 20, 21, 22, 23, 24, 25, 26, 27, 28, 29, 30]\n"
          ]
        },
        {
          "output_type": "display_data",
          "data": {
            "image/png": "[encoded data removed]",
            "text/plain": [
              "<Figure size 432x288 with 1 Axes>"
            ]
          },
          "metadata": {
            "needs_background": "light"
          }
        }
      ]
    },
    {
      "cell_type": "code",
      "metadata": {
        "colab": {
          "base_uri": "https://localhost:8080/",
          "height": 318
        },
        "id": "VNGML6L6xTOO",
        "outputId": "d9b56f9b-18c8-4ed6-9d6c-01c16dfb0373"
      },
      "source": [
        "#For Loss Plotting\n",
        "\n",
        "x = [i for i in range(1,numEpochs+1)]\n",
        "print(x)\n",
        "yValLoss = valLoss\n",
        "#Val Loss\n",
        "for i in range(len(batchSizes)):\n",
        "  currBatchSize = batchSizes[i]\n",
        "  labelName = \"Batch Size \" + str(currBatchSize)\n",
        "  pyplot.plot(x, yValLoss[i],label=labelName)\n",
        "#pyplot.xlim([1, 2])\n",
        "pyplot.legend()\n",
        "pyplot.xlabel(\"Number of Epochs\")\n",
        "pyplot.ylabel(\"Val Loss\")\n",
        "pyplot.show()"
      ],
      "execution_count": null,
      "outputs": [
        {
          "output_type": "stream",
          "name": "stdout",
          "text": [
            "[1, 2, 3, 4, 5, 6, 7, 8, 9, 10, 11, 12, 13, 14, 15, 16, 17, 18, 19, 20, 21, 22, 23, 24, 25, 26, 27, 28, 29, 30]\n"
          ]
        },
        {
          "output_type": "display_data",
          "data": {
            "image/png": "[encoded data removed]",
            "text/plain": [
              "<Figure size 432x288 with 1 Axes>"
            ]
          },
          "metadata": {
            "needs_background": "light"
          }
        }
      ]
    },
    {
      "cell_type": "code",
      "metadata": {
        "id": "pep4zX1sxUgq"
      },
      "source": [
        "#For Accuracy Plotting\n",
        "\n",
        "x = [i for i in range(1,numEpochs+1)]\n",
        "print(x)\n",
        "yValAcc = valAccuracy\n",
        "#Val Accuracies\n",
        "for i in range(len(batchSizes)):\n",
        "  currBatchSize = batchSizes[i]\n",
        "  labelName = \"Batch Size \" + str(currBatchSize)\n",
        "  pyplot.plot(x, yValAcc[i],label=labelName)\n",
        "\n",
        "#pyplot.ylim([0.6,1])\n",
        "pyplot.legend()\n",
        "pyplot.xlabel(\"Number of Epochs\")\n",
        "pyplot.ylabel(\"Val Accuracy\")\n",
        "pyplot.show()"
      ],
      "execution_count": null,
      "outputs": []
    },
    {
      "cell_type": "code",
      "metadata": {
        "id": "nUlRubKnxV5i"
      },
      "source": [
        "#For Loss Plotting\n",
        "\n",
        "x = [i for i in range(1,numEpochs+1)]\n",
        "print(x)\n",
        "yValLoss = valLoss\n",
        "for i in range(len(batchSizes)):\n",
        "  currBatchSize = batchSizes[i]\n",
        "  labelName = \"Batch Size \" + str(currBatchSize)\n",
        "  pyplot.plot(x, yValLoss[i],label=\"Val\"+str(currBatchSize))\n",
        "  pyplot.plot(x, yTrainLoss[i],label=\"Train\"+str(currBatchSize))\n",
        "\n",
        "pyplot.xlim([1,5])\n",
        "#pyplot.ylim([0,2])\n",
        "pyplot.legend()\n",
        "pyplot.xlabel(\"Number of Epochs\")\n",
        "pyplot.ylabel(\"Loss\")\n",
        "pyplot.show()"
      ],
      "execution_count": null,
      "outputs": []
    },
    {
      "cell_type": "code",
      "metadata": {
        "id": "h3XNtp0DxXZs"
      },
      "source": [
        "bestEpochs = 9\n",
        "bestBatchSize = 200"
      ],
      "execution_count": null,
      "outputs": []
    },
    {
      "cell_type": "code",
      "metadata": {
        "colab": {
          "base_uri": "https://localhost:8080/"
        },
        "id": "9iLXUr_fxZdJ",
        "outputId": "3d30e025-9164-45ba-afea-88b44bc29a95"
      },
      "source": [
        "loadedBestModel = load_model(pathToModels+\"bestBinaryCNNModel.h5\")\n",
        "for layer in loadedBestModel.layers[:6]:\n",
        "  layer.trainable = False\n",
        "bestmodel = Sequential()\n",
        "for layer in loadedBestModel.layers[:-1]:\n",
        "  bestmodel.add(layer)\n",
        "\n",
        "bestmodel.add(Dense(3, activation='softmax'))\n",
        "bestmodel.compile(loss='categorical_crossentropy', optimizer='adam', metrics=['categorical_accuracy'])\n",
        "bestmodel.fit(X_train, y_train, epochs=bestEpochs, batch_size=bestBatchSize, validation_data = (X_dev, y_dev))"
      ],
      "execution_count": null,
      "outputs": [
        {
          "output_type": "stream",
          "name": "stdout",
          "text": [
            "Epoch 1/9\n",
            "22/22 [==============================] - 60s 303ms/step - loss: 0.6601 - categorical_accuracy: 0.7317 - val_loss: 0.5258 - val_categorical_accuracy: 0.7582\n",
            "Epoch 2/9\n",
            "22/22 [==============================] - 6s 283ms/step - loss: 0.4287 - categorical_accuracy: 0.8161 - val_loss: 0.5674 - val_categorical_accuracy: 0.7297\n",
            "Epoch 3/9\n",
            "22/22 [==============================] - 6s 282ms/step - loss: 0.3084 - categorical_accuracy: 0.8719 - val_loss: 0.4829 - val_categorical_accuracy: 0.7956\n",
            "Epoch 4/9\n",
            "22/22 [==============================] - 6s 284ms/step - loss: 0.1933 - categorical_accuracy: 0.9279 - val_loss: 0.3614 - val_categorical_accuracy: 0.8692\n",
            "Epoch 5/9\n",
            "22/22 [==============================] - 6s 284ms/step - loss: 0.1063 - categorical_accuracy: 0.9659 - val_loss: 0.4219 - val_categorical_accuracy: 0.8538\n",
            "Epoch 6/9\n",
            "22/22 [==============================] - 6s 284ms/step - loss: 0.0561 - categorical_accuracy: 0.9814 - val_loss: 0.3550 - val_categorical_accuracy: 0.8846\n",
            "Epoch 7/9\n",
            "22/22 [==============================] - 6s 286ms/step - loss: 0.0368 - categorical_accuracy: 0.9911 - val_loss: 0.3088 - val_categorical_accuracy: 0.9066\n",
            "Epoch 8/9\n",
            "22/22 [==============================] - 6s 286ms/step - loss: 0.0169 - categorical_accuracy: 0.9962 - val_loss: 0.2282 - val_categorical_accuracy: 0.9407\n",
            "Epoch 9/9\n",
            "22/22 [==============================] - 6s 286ms/step - loss: 0.0044 - categorical_accuracy: 0.9998 - val_loss: 0.2745 - val_categorical_accuracy: 0.9451\n"
          ]
        },
        {
          "output_type": "execute_result",
          "data": {
            "text/plain": [
              "<keras.callbacks.History at 0x7fe727119590>"
            ]
          },
          "metadata": {},
          "execution_count": 33
        }
      ]
    },
    {
      "cell_type": "code",
      "metadata": {
        "colab": {
          "base_uri": "https://localhost:8080/"
        },
        "id": "CqJfptNrxdMw",
        "outputId": "2bfaf932-00f1-453d-e8b8-14712ba72832"
      },
      "source": [
        "predictions = bestmodel.predict(X_test)\n",
        "#print(predictions)\n",
        "#print(y_test)\n",
        "yTestNew = y_test.argmax(axis=1)\n",
        "yPredNew = predictions.argmax(axis=1)\n",
        "print(yTestNew)\n",
        "print(yPredNew)"
      ],
      "execution_count": null,
      "outputs": [
        {
          "output_type": "stream",
          "name": "stdout",
          "text": [
            "[1 0 0 0 2 1 1 0 1 1 2 0 1 1 1 0 0 1 2 2 0 0 2 0 1 0 0 2 2 1 0 1 2 0 1 0 0\n",
            " 0 0 0 1 1 1 2 1 2 1 2 1 2 0 1 1 1 1 1 0 1 1 0 1 2 0 1 0 0 1 0 1 2 2 1 2 1\n",
            " 1 1 1 1 1 1 1 2 2 1 1 1 1 2 2 1 0 2 1 1 1 1 1 0 2 1 2 1 1 1 0 0 1 1 0 1 0\n",
            " 0 2 1 1 1 1 0 2 0 0 0 2 0 1 1 1 0 0 1 1 0 1 1 1 1 0 1 2 2 1 2 1 0 0 0 0 0\n",
            " 1 1 1 1 1 1 1 2 1 0 2 1 0 2 1 0 1 0 0 0 2 1 1 1 2 1 1 1 1 0 1 1 1 1 1 0 0\n",
            " 1 0 2 1 0 2 0 2 1 2 2 2 2 1 1 1 0 1 1 0 1 0 1 1 1 1 1 1 1 0 0 0 0 0 1 0 0\n",
            " 2 0 0 1 0 1 2 1 1 1 1 0 0 2 1 1 1 2 2 0 1 0 1 0 1 2 1 0 1 1 0 0 2 0 1 1 1\n",
            " 1 2 1 0 1 1 0 1 1 1 1 1 0 1 2 2 2 1 0 2 2 1 0 1 1 1 2 2 1 0 0 2 0 1 2 2 1\n",
            " 2 1 1 0 2 2 1 2 0 1 1 1 1 1 0 1 0 0 1 0 2 0 0 1 1 2 1 0 2 0 1 1 0 0 1 1 2\n",
            " 2 0 1 1 0 1 1 1 0 0 1 1 0 1 0 2 1 0 2 1 1 1 1 1 0 1 2 1 1 1 0 1 1 1 2 0 2\n",
            " 0 0 0 1 2 2 2 1 1 1 1 0 1 0 0 2 1 1 1 1 1 0 1 1 2 0 0 2 0 1 0 1 1 2 0 0 1\n",
            " 1 0 1 2 2 0 2 0 2 2 1 1 1 1 1 2 2 0 2 0 0 1 0 0 1 0 0 2 2 0 0 1 0 1 1 0 0\n",
            " 1 0 1 1 1 0 2 0 1 0 1 0 1 0 1 0 1 2 2 0 0 0 1 1 2 0 1 0 0 1 2 1 0 0 2 1 2\n",
            " 1 1 0 1 1 0 2 0 1 0 1 0 0 0 2 2 1 0 0 0 0 1 0 1 1 1 1 2 0 2 2 0 1 0 1 1 0\n",
            " 0 2 2 0 1 0 2 0 2 2 2 1 0 1 1 2 0 1 2 0 0 0 0 0 2 0 1 1 2 1 1 2 0 2 1 1 0\n",
            " 0 1 0 1 2 2 1 0 1 0 0 1 1 1 1 2 0 2 2 1 1 2 1 0 2 2 1 1 2 0 1 0 1 0 1 1 1\n",
            " 1 0 1 1 2 1 2 1 0 1 0 1 1 2 2 1 0 2 2 0 2 0 1 0 1 2 0 2 1 0 1 0 1 1 0 0 0\n",
            " 0 1 1 0 1 2 1 1 2 1 1 0 1 1 1 1 0 1 0 2 1 0 1 0 0 0 1 0 2 0 1 1 1 1 2 1 1\n",
            " 1 0 0 1 1 0 1 1 1 0 1 0 0 0 0 0 0 0 1 1 0 0 1 0 1 0 0 0 1 1 2 1 0 0 0 0 1\n",
            " 0 1 1 1 1 2 1 1 1 1 1 1 0 1 2 1 2 1 1 1 2 2 0 0 0 1 0 2 1 1 0 1 2 1 1 0 0\n",
            " 0 1 2 0 1 1 0 2 0 1 1 1 0 1 1 0 2 0 1 1 1 1 1 0 1 1 0 1 1 0 0 1 0 0 2 2 0\n",
            " 1 0 0 0 2 1 0 0 0 0 0 1 0 1 0 0 0 0 1 0 1 0 1 0 1 2 2 1 1 1 0 1 0 1 1 0 0\n",
            " 0 1 2 0 0 1 1 1 1 0 2 2 1 0 1 1 0 1 0 0 0 1 0 1 0 1 1 1 1 0 1 0 1 2 0 0 1\n",
            " 0 2 0 1 1 1 1 0 1 0 1 0 1 0 2 0 0 2 1 1 1 0 0 1 1 1 0 1 2 1 0 1 0 1 1 1 1\n",
            " 1 0 1 2 2 2 0 1 0 1 1 1 1 2 1 2 2 1 1 1 0 1]\n",
            "[1 0 0 1 2 1 1 0 1 1 1 0 1 1 1 0 0 1 2 2 0 0 2 0 1 0 0 2 1 0 0 1 2 0 1 0 0\n",
            " 0 0 0 1 1 1 2 1 2 1 2 1 2 0 1 1 1 1 1 0 1 1 0 1 1 0 1 0 0 1 0 1 2 2 1 2 1\n",
            " 1 1 1 1 1 1 1 2 2 1 1 1 1 2 2 1 0 1 1 1 2 1 1 0 2 0 2 1 1 1 0 0 1 1 0 1 0\n",
            " 0 1 1 1 1 1 0 2 0 1 0 1 0 1 1 2 0 0 1 0 0 1 1 1 1 0 1 2 1 1 1 1 0 0 0 0 0\n",
            " 1 1 1 1 1 1 1 2 1 0 2 1 0 2 1 0 1 0 0 0 1 1 1 1 1 1 1 1 1 0 1 1 1 1 1 1 0\n",
            " 1 0 2 1 0 2 0 2 1 2 2 2 2 1 1 1 0 1 1 0 0 0 1 1 1 1 1 1 1 0 0 0 0 0 1 0 0\n",
            " 2 0 0 1 0 1 2 1 1 1 1 0 0 2 1 0 0 2 2 0 1 0 1 0 1 2 1 0 1 1 0 1 2 0 1 1 1\n",
            " 1 2 1 0 1 1 0 1 2 1 1 1 0 1 1 2 2 1 0 2 2 1 0 1 1 2 2 1 1 0 0 2 0 0 2 2 1\n",
            " 2 1 1 0 2 2 1 2 0 1 1 1 1 1 1 1 0 0 1 0 1 0 0 1 1 2 1 0 2 0 1 1 0 0 1 1 2\n",
            " 1 0 1 1 1 1 1 1 0 0 1 1 0 1 0 2 1 0 2 1 1 1 1 1 0 1 2 1 1 1 0 1 2 1 2 0 2\n",
            " 0 0 1 1 2 2 2 1 1 1 1 0 1 1 0 2 1 1 1 1 1 0 1 1 2 0 0 1 0 1 0 1 1 2 0 0 1\n",
            " 1 0 1 2 1 0 2 1 2 2 1 1 1 1 1 2 2 0 2 0 1 1 0 0 1 0 0 2 1 0 1 1 0 1 1 0 0\n",
            " 1 0 1 1 1 0 2 0 1 0 1 0 1 0 1 0 1 1 2 0 0 0 1 1 2 0 1 1 0 1 2 1 0 0 2 1 2\n",
            " 1 1 0 1 1 0 2 0 1 0 1 0 0 0 1 2 1 1 0 0 0 1 0 1 1 1 1 1 0 1 1 0 0 0 1 1 0\n",
            " 1 2 2 0 1 0 2 0 2 2 2 1 0 1 1 2 0 1 2 0 0 0 0 0 2 1 1 1 2 1 1 2 0 2 1 1 0\n",
            " 0 1 0 1 2 2 0 0 1 0 0 1 1 1 1 2 0 2 2 1 1 2 1 0 2 2 1 1 2 1 1 0 1 0 1 1 1\n",
            " 1 0 1 1 2 1 1 1 0 1 0 1 1 2 2 1 0 2 2 0 2 0 1 0 1 2 0 1 2 0 1 0 1 1 0 0 0\n",
            " 0 1 1 0 1 2 1 1 2 1 1 0 1 1 1 1 0 1 0 1 1 0 1 0 0 0 1 0 2 0 1 1 1 1 2 1 1\n",
            " 2 0 0 1 1 0 1 1 2 0 1 1 1 0 1 0 0 1 1 1 0 0 1 1 1 0 0 0 1 1 1 1 0 0 0 0 1\n",
            " 0 1 1 1 1 2 1 1 1 1 1 1 0 1 2 1 2 1 1 1 2 2 0 0 0 1 0 2 1 1 0 1 2 1 1 0 0\n",
            " 0 1 2 0 1 1 0 0 0 2 1 1 0 1 1 0 2 0 1 1 1 0 1 0 1 1 0 1 1 0 0 1 0 0 1 2 1\n",
            " 1 0 0 0 2 1 0 0 0 0 0 1 0 2 0 0 0 0 1 0 1 0 1 0 1 2 2 1 1 1 0 1 0 1 1 0 0\n",
            " 0 1 2 1 0 1 1 1 1 0 2 2 1 0 1 0 0 1 0 0 0 1 0 2 0 1 1 1 1 0 1 0 1 2 0 0 1\n",
            " 0 2 1 1 1 1 1 0 1 0 1 0 1 1 2 0 0 1 1 1 1 0 0 1 1 1 0 1 2 1 0 1 0 1 1 1 1\n",
            " 1 0 1 2 2 1 0 1 0 1 1 1 1 2 1 2 1 1 0 1 0 1]\n"
          ]
        }
      ]
    },
    {
      "cell_type": "code",
      "metadata": {
        "colab": {
          "base_uri": "https://localhost:8080/",
          "height": 298
        },
        "id": "J7au6u3jxf2U",
        "outputId": "e99d0bd0-5434-408b-9925-8d5b018c28ed"
      },
      "source": [
        "from sklearn.metrics import confusion_matrix, ConfusionMatrixDisplay, f1_score\n",
        "\n",
        "cM = confusion_matrix(yTestNew,yPredNew)\n",
        "\n",
        "displayClasses = [i for i in range(3)]\n",
        "\n",
        "print(f1_score(yTestNew, yPredNew, average='macro'))\n",
        "\n",
        "disp = ConfusionMatrixDisplay(confusion_matrix=cM, display_labels=displayClasses)\n",
        "disp.plot()\n",
        "pyplot.show()"
      ],
      "execution_count": null,
      "outputs": [
        {
          "output_type": "stream",
          "name": "stdout",
          "text": [
            "0.9058541526895958\n"
          ]
        },
        {
          "output_type": "display_data",
          "data": {
            "image/png": "[encoded data removed]",
            "text/plain": [
              "<Figure size 432x288 with 2 Axes>"
            ]
          },
          "metadata": {
            "needs_background": "light"
          }
        }
      ]
    }
  ]
}
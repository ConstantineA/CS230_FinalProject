{
  "nbformat": 4,
  "nbformat_minor": 0,
  "metadata": {
    "colab": {
      "name": "Baseline_Multi.ipynb",
      "provenance": []
    },
    "kernelspec": {
      "name": "python3",
      "display_name": "Python 3"
    },
    "language_info": {
      "name": "python"
    },
    "accelerator": "GPU"
  },
  "cells": [
    {
      "cell_type": "code",
      "metadata": {
        "id": "vwxLv2-JZkKb"
      },
      "source": [
        "# first neural network with keras tutorial\n",
        "#from numpy import loadtxt\n",
        "from keras.models import Sequential\n",
        "from keras.layers import Dense\n",
        "from matplotlib import image\n",
        "from matplotlib import pyplot\n",
        "import os\n",
        "import shutil\n",
        "import numpy as np\n",
        "from PIL import Image\n",
        "import pickle\n",
        "from sklearn.preprocessing import MultiLabelBinarizer\n"
      ],
      "execution_count": null,
      "outputs": []
    },
    {
      "cell_type": "code",
      "metadata": {
        "colab": {
          "base_uri": "https://localhost:8080/"
        },
        "id": "cH7pHKGviiEU",
        "outputId": "9e182573-9f0e-45e1-cdd6-4161b5a593fb"
      },
      "source": [
        "mlb = MultiLabelBinarizer()\n",
        "# load the train dataset\n",
        "X_trainUnflat = pickle.load(open(\"train_X.p\", 'rb'))\n",
        "y_trainUnflat = pickle.load(open(\"train_Y.p\", 'rb'))\n",
        "\n",
        "print(X_trainUnflat.shape)\n",
        "print(y_trainUnflat.shape)\n",
        "\n",
        "X_train = X_trainUnflat.reshape(X_trainUnflat.shape[0],-1)\n",
        "y_train = y_trainUnflat.reshape(y_trainUnflat.shape[0],-1)\n",
        "y_train = mlb.fit_transform(y_train)\n",
        "\n",
        "print(X_train.shape)\n",
        "print(y_train.shape)\n",
        "\n",
        "# load the dev dataset\n",
        "X_devUnflat = pickle.load(open(\"dev_X.p\", 'rb'))\n",
        "y_devUnflat = pickle.load(open(\"dev_Y.p\", 'rb'))\n",
        "\n",
        "print(X_devUnflat.shape)\n",
        "print(y_devUnflat.shape)\n",
        "\n",
        "X_dev = X_devUnflat.reshape(X_devUnflat.shape[0],-1)\n",
        "y_dev = y_devUnflat.reshape(y_devUnflat.shape[0],-1)\n",
        "y_dev = mlb.fit_transform(y_dev)\n",
        "\n",
        "print(X_dev.shape)\n",
        "print(y_dev.shape)\n",
        "\n",
        "# load the test dataset\n",
        "X_testUnflat = pickle.load(open(\"test_X.p\", 'rb'))\n",
        "y_testUnflat = pickle.load(open(\"test_Y.p\", 'rb'))\n",
        "\n",
        "print(X_testUnflat.shape)\n",
        "print(y_testUnflat.shape)\n",
        "\n",
        "X_test = X_testUnflat.reshape(X_testUnflat.shape[0],-1)\n",
        "y_test = y_testUnflat.reshape(y_testUnflat.shape[0],-1)\n",
        "y_test = mlb.fit_transform(y_test)\n",
        "\n",
        "print(X_test.shape)\n",
        "print(y_test.shape)\n",
        "\n"
      ],
      "execution_count": null,
      "outputs": [
        {
          "output_type": "stream",
          "name": "stdout",
          "text": [
            "(433, 208, 160, 3)\n",
            "(433,)\n",
            "(433, 99840)\n",
            "(433, 3)\n",
            "(93, 208, 160, 3)\n",
            "(93,)\n",
            "(93, 99840)\n",
            "(93, 3)\n",
            "(93, 208, 160, 3)\n",
            "(93,)\n",
            "(93, 99840)\n",
            "(93, 3)\n"
          ]
        }
      ]
    },
    {
      "cell_type": "code",
      "metadata": {
        "colab": {
          "base_uri": "https://localhost:8080/"
        },
        "id": "UjtTikMEj0kQ",
        "outputId": "44870af7-3090-4f7a-f889-7d6abba68bcb"
      },
      "source": [
        "numDims = X_train.shape[1]\n",
        "numExamples = X_train.shape[0]\n",
        "# neurons1 = int(numDims/2)\n",
        "# neurons2 = int(numDims/4)\n",
        "# neurons3 = int(numDims/8)\n",
        "# neurons4 = int(numDims/120)\n",
        "# neurons5 = int(numDims/240)\n",
        "# neurons6 = int(numDims/480)\n",
        "neurons1 = int(numDims/240)\n",
        "neurons2 = int(numDims/480)\n",
        "neurons3 = int(numDims/960)\n",
        "neurons4 = int(numDims/1920)\n",
        "neurons5 = int(numDims/3840)\n",
        "neurons6 = int(numDims/7680)\n",
        "\n",
        "print(neurons1)\n",
        "print(neurons2)\n",
        "print(neurons3)\n",
        "print(neurons4)\n",
        "print(neurons5)\n",
        "print(neurons6)"
      ],
      "execution_count": null,
      "outputs": [
        {
          "output_type": "stream",
          "name": "stdout",
          "text": [
            "416\n",
            "208\n",
            "104\n",
            "52\n",
            "26\n",
            "13\n"
          ]
        }
      ]
    },
    {
      "cell_type": "code",
      "metadata": {
        "colab": {
          "base_uri": "https://localhost:8080/"
        },
        "id": "FMa8byYBimxw",
        "outputId": "76318101-aa2c-4017-82c2-e0d7dbf11677"
      },
      "source": [
        "#HYPERPARAMETER SEARCH OVER EPOCH NUMBER\n",
        "#We keep number of layers, neuron per layer, activation in each layer constant, batch size of 10 100? full?\n",
        "batchSizes = [5,10,50,100,numExamples]\n",
        "#batchSizes = [100]\n",
        "#batchSize = numExamples #100 #10\n",
        "#numEpochsToTest = [i for i in range(5,31)]\n",
        "#numEpochsToTest = [i for i in range(10,20)]\n",
        "\n",
        "#print(numEpochsToTest)\n",
        "print(batchSizes)"
      ],
      "execution_count": null,
      "outputs": [
        {
          "output_type": "stream",
          "name": "stdout",
          "text": [
            "[5, 10, 50, 100, 433]\n"
          ]
        }
      ]
    },
    {
      "cell_type": "code",
      "metadata": {
        "colab": {
          "base_uri": "https://localhost:8080/"
        },
        "id": "gIBjYGp-ioh0",
        "outputId": "9affb3fb-576d-4002-a6db-a1aae80f6fe4"
      },
      "source": [
        "trainAccuracy = []\n",
        "valAccuracy = []\n",
        "trainLoss = []\n",
        "valLoss = []\n",
        "\n",
        "for batchSize in batchSizes:\n",
        "  print(\"BatchSize : \", batchSize)\n",
        "  model = Sequential()\n",
        "  model.add(Dense(neurons1, input_dim=numDims, activation='relu'))\n",
        "  model.add(Dense(neurons5, activation='relu'))\n",
        "  model.add(Dense(neurons6, activation='relu'))\n",
        "  model.add(Dense(3, activation='softmax'))\n",
        "  # compile the keras model\n",
        "  model.compile(loss='categorical_crossentropy', optimizer='adam', metrics=['categorical_accuracy'])\n",
        "  history = model.fit(X_train, y_train, epochs=5, batch_size=batchSize, validation_data = (X_dev, y_dev))\n",
        "  historyDict = history.history\n",
        "  #print(historyDict.keys())\n",
        "  #trainAccuracy.append(historyDict[\"accuracy\"])\n",
        "  #valAccuracy.append(historyDict[\"val_accuracy\"])\n",
        "  trainLoss.append(historyDict['loss'])\n",
        "  valLoss.append(historyDict['val_loss'])"
      ],
      "execution_count": null,
      "outputs": [
        {
          "output_type": "stream",
          "name": "stdout",
          "text": [
            "BatchSize :  5\n",
            "Epoch 1/5\n",
            "87/87 [==============================] - 2s 21ms/step - loss: 766.1573 - categorical_accuracy: 0.4134 - val_loss: 143.6840 - val_categorical_accuracy: 0.4839\n",
            "Epoch 2/5\n",
            "87/87 [==============================] - 2s 18ms/step - loss: 382.8867 - categorical_accuracy: 0.4573 - val_loss: 156.4720 - val_categorical_accuracy: 0.4624\n",
            "Epoch 3/5\n",
            "87/87 [==============================] - 2s 18ms/step - loss: 250.4879 - categorical_accuracy: 0.5058 - val_loss: 297.2818 - val_categorical_accuracy: 0.4731\n",
            "Epoch 4/5\n",
            "87/87 [==============================] - 2s 18ms/step - loss: 102.2799 - categorical_accuracy: 0.5820 - val_loss: 126.9133 - val_categorical_accuracy: 0.4731\n",
            "Epoch 5/5\n",
            "87/87 [==============================] - 2s 18ms/step - loss: 136.6599 - categorical_accuracy: 0.6212 - val_loss: 255.3095 - val_categorical_accuracy: 0.5484\n",
            "BatchSize :  10\n",
            "Epoch 1/5\n",
            "44/44 [==============================] - 2s 28ms/step - loss: 1026.7327 - categorical_accuracy: 0.4111 - val_loss: 81.5136 - val_categorical_accuracy: 0.3871\n",
            "Epoch 2/5\n",
            "44/44 [==============================] - 1s 21ms/step - loss: 24.4064 - categorical_accuracy: 0.4157 - val_loss: 1.0912 - val_categorical_accuracy: 0.4731\n",
            "Epoch 3/5\n",
            "44/44 [==============================] - 1s 22ms/step - loss: 1.0889 - categorical_accuracy: 0.4088 - val_loss: 1.0788 - val_categorical_accuracy: 0.4731\n",
            "Epoch 4/5\n",
            "44/44 [==============================] - 1s 22ms/step - loss: 1.0795 - categorical_accuracy: 0.4088 - val_loss: 1.0673 - val_categorical_accuracy: 0.4731\n",
            "Epoch 5/5\n",
            "44/44 [==============================] - 1s 22ms/step - loss: 1.0713 - categorical_accuracy: 0.4088 - val_loss: 1.0575 - val_categorical_accuracy: 0.4731\n",
            "BatchSize :  50\n",
            "Epoch 1/5\n",
            "9/9 [==============================] - 1s 50ms/step - loss: 2010.4641 - categorical_accuracy: 0.3441 - val_loss: 577.8750 - val_categorical_accuracy: 0.3441\n",
            "Epoch 2/5\n",
            "9/9 [==============================] - 0s 33ms/step - loss: 403.2269 - categorical_accuracy: 0.3857 - val_loss: 97.7341 - val_categorical_accuracy: 0.4409\n",
            "Epoch 3/5\n",
            "9/9 [==============================] - 0s 32ms/step - loss: 99.8873 - categorical_accuracy: 0.4411 - val_loss: 74.7040 - val_categorical_accuracy: 0.4301\n",
            "Epoch 4/5\n",
            "9/9 [==============================] - 0s 31ms/step - loss: 36.0965 - categorical_accuracy: 0.5127 - val_loss: 34.1091 - val_categorical_accuracy: 0.4409\n",
            "Epoch 5/5\n",
            "9/9 [==============================] - 0s 29ms/step - loss: 28.1330 - categorical_accuracy: 0.5266 - val_loss: 16.4624 - val_categorical_accuracy: 0.5699\n",
            "BatchSize :  100\n",
            "Epoch 1/5\n",
            "5/5 [==============================] - 1s 83ms/step - loss: 596.6285 - categorical_accuracy: 0.3949 - val_loss: 347.4370 - val_categorical_accuracy: 0.4301\n",
            "Epoch 2/5\n",
            "5/5 [==============================] - 0s 41ms/step - loss: 108.5450 - categorical_accuracy: 0.2979 - val_loss: 1.0991 - val_categorical_accuracy: 0.0968\n",
            "Epoch 3/5\n",
            "5/5 [==============================] - 0s 40ms/step - loss: 1.0977 - categorical_accuracy: 0.1455 - val_loss: 67.8684 - val_categorical_accuracy: 0.3118\n",
            "Epoch 4/5\n",
            "5/5 [==============================] - 0s 42ms/step - loss: 11.8126 - categorical_accuracy: 0.3880 - val_loss: 1.0975 - val_categorical_accuracy: 0.4301\n",
            "Epoch 5/5\n",
            "5/5 [==============================] - 0s 40ms/step - loss: 1.0973 - categorical_accuracy: 0.4457 - val_loss: 1.0962 - val_categorical_accuracy: 0.4301\n",
            "BatchSize :  433\n",
            "Epoch 1/5\n",
            "1/1 [==============================] - 1s 709ms/step - loss: 45.8428 - categorical_accuracy: 0.4411 - val_loss: 2383.9058 - val_categorical_accuracy: 0.0968\n",
            "Epoch 2/5\n",
            "1/1 [==============================] - 0s 115ms/step - loss: 2201.4558 - categorical_accuracy: 0.1455 - val_loss: 1597.4652 - val_categorical_accuracy: 0.4301\n",
            "Epoch 3/5\n",
            "1/1 [==============================] - 0s 104ms/step - loss: 1953.9290 - categorical_accuracy: 0.4457 - val_loss: 6032.4263 - val_categorical_accuracy: 0.4731\n",
            "Epoch 4/5\n",
            "1/1 [==============================] - 0s 98ms/step - loss: 7189.0923 - categorical_accuracy: 0.4088 - val_loss: 4731.3291 - val_categorical_accuracy: 0.4731\n",
            "Epoch 5/5\n",
            "1/1 [==============================] - 0s 101ms/step - loss: 5712.7954 - categorical_accuracy: 0.4088 - val_loss: 1876.4125 - val_categorical_accuracy: 0.4731\n"
          ]
        }
      ]
    },
    {
      "cell_type": "code",
      "metadata": {
        "colab": {
          "base_uri": "https://localhost:8080/",
          "height": 296
        },
        "id": "olJtaPSLoIAt",
        "outputId": "940ddcee-353b-4355-cb3b-207ebef755f1"
      },
      "source": [
        "#For Loss Plotting\n",
        "\n",
        "x = [i for i in range(1,6)]\n",
        "print(x)\n",
        "yTrainLoss = trainLoss\n",
        "#Train Loss\n",
        "for i in range(len(batchSizes)-1):\n",
        "  currBatchSize = batchSizes[i]\n",
        "  labelName = \"Batch Size \" + str(currBatchSize)\n",
        "  pyplot.plot(x, yTrainLoss[i],label=labelName)\n",
        "\n",
        "pyplot.legend()\n",
        "pyplot.xlabel(\"Number of Epochs\")\n",
        "pyplot.ylabel(\"Train Loss\")\n",
        "pyplot.show()"
      ],
      "execution_count": null,
      "outputs": [
        {
          "output_type": "stream",
          "name": "stdout",
          "text": [
            "[1, 2, 3, 4, 5]\n"
          ]
        },
        {
          "output_type": "display_data",
          "data": {
            "image/png": "[encoded data removed]",
            "text/plain": [
              "<Figure size 432x288 with 1 Axes>"
            ]
          },
          "metadata": {
            "needs_background": "light"
          }
        }
      ]
    },
    {
      "cell_type": "code",
      "metadata": {
        "colab": {
          "base_uri": "https://localhost:8080/",
          "height": 298
        },
        "id": "hfcw6cD0oImf",
        "outputId": "3df66a93-1d54-4dbd-b239-ecdae733bd49"
      },
      "source": [
        "#For Loss Plotting\n",
        "\n",
        "x = [i for i in range(1,6)]\n",
        "print(x)\n",
        "yValLoss = valLoss\n",
        "#Val Loss\n",
        "for i in range(len(batchSizes)-1):\n",
        "  currBatchSize = batchSizes[i]\n",
        "  labelName = \"Batch Size \" + str(currBatchSize)\n",
        "  pyplot.plot(x, yValLoss[i],label=labelName)\n",
        "\n",
        "pyplot.legend()\n",
        "pyplot.xlabel(\"Number of Epochs\")\n",
        "pyplot.ylabel(\"Val Loss\")\n",
        "pyplot.show()"
      ],
      "execution_count": null,
      "outputs": [
        {
          "output_type": "stream",
          "name": "stdout",
          "text": [
            "[1, 2, 3, 4, 5]\n"
          ]
        },
        {
          "output_type": "display_data",
          "data": {
            "image/png": "[encoded data removed]",
            "text/plain": [
              "<Figure size 432x288 with 1 Axes>"
            ]
          },
          "metadata": {
            "needs_background": "light"
          }
        }
      ]
    },
    {
      "cell_type": "code",
      "metadata": {
        "colab": {
          "base_uri": "https://localhost:8080/"
        },
        "id": "Q0vJlDpaip0_",
        "outputId": "0c0d0c45-6921-4b61-bfbb-4f0ba1d3937b"
      },
      "source": [
        "bestEpoch = 3\n",
        "bestBatchSize = 5\n",
        "bestmodel = Sequential()\n",
        "bestmodel.add(Dense(neurons1, input_dim=numDims, activation='relu'))\n",
        "bestmodel.add(Dense(neurons5, activation='relu'))\n",
        "bestmodel.add(Dense(neurons6, activation='relu'))\n",
        "bestmodel.add(Dense(3, activation='softmax'))\n",
        "# compile the keras model\n",
        "bestmodel.compile(loss='categorical_crossentropy', optimizer='adam', metrics=[\"categorical_accuracy\"])\n",
        "bestmodel.fit(X_train, y_train, epochs=bestEpoch, batch_size=bestBatchSize, validation_data = (X_dev, y_dev))\n",
        "\n",
        "\n",
        "\n",
        "# evaluate the keras model on test data\n",
        "predictions = bestmodel.predict(X_test)\n",
        "print(predictions)\n",
        "#print(y_test)"
      ],
      "execution_count": null,
      "outputs": [
        {
          "output_type": "stream",
          "name": "stdout",
          "text": [
            "Epoch 1/3\n",
            "87/87 [==============================] - 2s 20ms/step - loss: 610.9398 - categorical_accuracy: 0.4457 - val_loss: 509.0786 - val_categorical_accuracy: 0.4301\n",
            "Epoch 2/3\n",
            "87/87 [==============================] - 2s 19ms/step - loss: 168.4758 - categorical_accuracy: 0.5058 - val_loss: 84.7087 - val_categorical_accuracy: 0.4731\n",
            "Epoch 3/3\n",
            "87/87 [==============================] - 2s 17ms/step - loss: 70.0739 - categorical_accuracy: 0.5266 - val_loss: 53.3556 - val_categorical_accuracy: 0.4839\n",
            "[[1.0000000e+00 0.0000000e+00 0.0000000e+00]\n",
            " [1.0000000e+00 0.0000000e+00 0.0000000e+00]\n",
            " [1.0000000e+00 0.0000000e+00 0.0000000e+00]\n",
            " [1.0000000e+00 0.0000000e+00 0.0000000e+00]\n",
            " [1.0000000e+00 0.0000000e+00 0.0000000e+00]\n",
            " [1.0000000e+00 7.7677373e-25 1.1229255e-28]\n",
            " [1.0000000e+00 3.4003824e-31 1.0204403e-28]\n",
            " [1.0000000e+00 0.0000000e+00 1.5397148e-33]\n",
            " [1.0000000e+00 2.2531003e-34 3.8932747e-27]\n",
            " [1.0000000e+00 3.4988206e-23 8.1625239e-20]\n",
            " [1.0000000e+00 0.0000000e+00 0.0000000e+00]\n",
            " [1.0000000e+00 0.0000000e+00 5.6350207e-36]\n",
            " [1.0000000e+00 0.0000000e+00 0.0000000e+00]\n",
            " [1.0000000e+00 0.0000000e+00 0.0000000e+00]\n",
            " [1.0000000e+00 0.0000000e+00 0.0000000e+00]\n",
            " [1.0000000e+00 0.0000000e+00 0.0000000e+00]\n",
            " [1.0000000e+00 0.0000000e+00 8.7145626e-33]\n",
            " [2.3291079e-08 1.0000000e+00 7.2588152e-21]\n",
            " [1.0000000e+00 0.0000000e+00 4.6095372e-34]\n",
            " [1.0000000e+00 0.0000000e+00 0.0000000e+00]\n",
            " [1.0000000e+00 0.0000000e+00 5.5247576e-31]\n",
            " [1.0000000e+00 0.0000000e+00 0.0000000e+00]\n",
            " [1.0000000e+00 0.0000000e+00 0.0000000e+00]\n",
            " [1.0000000e+00 0.0000000e+00 2.7647150e-37]\n",
            " [1.0000000e+00 5.6950294e-37 7.7218277e-32]\n",
            " [1.0000000e+00 0.0000000e+00 0.0000000e+00]\n",
            " [1.0000000e+00 4.2849251e-26 2.2108412e-30]\n",
            " [1.0000000e+00 0.0000000e+00 0.0000000e+00]\n",
            " [1.0000000e+00 0.0000000e+00 0.0000000e+00]\n",
            " [1.0000000e+00 0.0000000e+00 0.0000000e+00]\n",
            " [6.6508532e-02 9.3349147e-01 2.0787204e-21]\n",
            " [1.0000000e+00 0.0000000e+00 5.5272326e-28]\n",
            " [1.0000000e+00 0.0000000e+00 0.0000000e+00]\n",
            " [1.0000000e+00 0.0000000e+00 0.0000000e+00]\n",
            " [2.8119933e-15 1.0000000e+00 4.0192599e-23]\n",
            " [1.0000000e+00 0.0000000e+00 0.0000000e+00]\n",
            " [1.0000000e+00 1.0653292e-34 1.8239241e-30]\n",
            " [1.0000000e+00 0.0000000e+00 4.6702016e-38]\n",
            " [1.0000000e+00 0.0000000e+00 0.0000000e+00]\n",
            " [1.0000000e+00 0.0000000e+00 7.3433758e-35]\n",
            " [1.0000000e+00 0.0000000e+00 0.0000000e+00]\n",
            " [1.0000000e+00 3.4988206e-23 8.1625239e-20]\n",
            " [2.1995335e-04 9.9978000e-01 3.8877239e-22]\n",
            " [1.0000000e+00 2.2412472e-17 1.2587438e-22]\n",
            " [8.1154898e-02 9.1884506e-01 3.1984781e-18]\n",
            " [1.0000000e+00 0.0000000e+00 0.0000000e+00]\n",
            " [1.0000000e+00 0.0000000e+00 3.3894226e-33]\n",
            " [1.0000000e+00 6.4165698e-36 1.5028036e-32]\n",
            " [1.0000000e+00 0.0000000e+00 0.0000000e+00]\n",
            " [1.0000000e+00 8.9695201e-23 2.9163633e-26]\n",
            " [1.0000000e+00 0.0000000e+00 0.0000000e+00]\n",
            " [1.0000000e+00 6.4960029e-19 7.2262001e-25]\n",
            " [1.0000000e+00 0.0000000e+00 0.0000000e+00]\n",
            " [3.5675400e-17 1.0000000e+00 3.7845625e-27]\n",
            " [1.0000000e+00 0.0000000e+00 2.9089353e-30]\n",
            " [9.9999952e-01 5.2239375e-07 4.4099824e-23]\n",
            " [1.0000000e+00 0.0000000e+00 4.7022364e-38]\n",
            " [1.0000000e+00 2.4926367e-31 5.6062829e-31]\n",
            " [1.0000000e+00 0.0000000e+00 0.0000000e+00]\n",
            " [1.0000000e+00 0.0000000e+00 0.0000000e+00]\n",
            " [1.0000000e+00 0.0000000e+00 2.9039276e-35]\n",
            " [1.0000000e+00 0.0000000e+00 0.0000000e+00]\n",
            " [1.0000000e+00 0.0000000e+00 0.0000000e+00]\n",
            " [1.0000000e+00 4.5805555e-37 6.4464938e-31]\n",
            " [1.0000000e+00 8.1240795e-32 1.4610587e-31]\n",
            " [1.0000000e+00 0.0000000e+00 0.0000000e+00]\n",
            " [1.0000000e+00 0.0000000e+00 0.0000000e+00]\n",
            " [3.4466339e-19 1.0000000e+00 6.9551204e-26]\n",
            " [2.6055422e-09 1.0000000e+00 3.3366051e-27]\n",
            " [1.0000000e+00 0.0000000e+00 0.0000000e+00]\n",
            " [1.0000000e+00 1.8615876e-37 6.0459082e-29]\n",
            " [1.0000000e+00 0.0000000e+00 7.5583096e-38]\n",
            " [1.0000000e+00 0.0000000e+00 0.0000000e+00]\n",
            " [1.0000000e+00 0.0000000e+00 0.0000000e+00]\n",
            " [1.0000000e+00 0.0000000e+00 0.0000000e+00]\n",
            " [1.0000000e+00 0.0000000e+00 0.0000000e+00]\n",
            " [1.0000000e+00 9.4851395e-28 2.9551854e-29]\n",
            " [1.0000000e+00 0.0000000e+00 0.0000000e+00]\n",
            " [1.0000000e+00 0.0000000e+00 0.0000000e+00]\n",
            " [1.0000000e+00 0.0000000e+00 0.0000000e+00]\n",
            " [1.0000000e+00 0.0000000e+00 0.0000000e+00]\n",
            " [1.0000000e+00 0.0000000e+00 0.0000000e+00]\n",
            " [1.0000000e+00 0.0000000e+00 5.8309538e-36]\n",
            " [1.0000000e+00 2.5082363e-35 1.0756968e-28]\n",
            " [1.0000000e+00 0.0000000e+00 0.0000000e+00]\n",
            " [1.0000000e+00 0.0000000e+00 0.0000000e+00]\n",
            " [1.0000000e+00 0.0000000e+00 1.8477786e-28]\n",
            " [1.0691263e-03 9.9893087e-01 2.1143027e-21]\n",
            " [1.0000000e+00 0.0000000e+00 0.0000000e+00]\n",
            " [1.0000000e+00 0.0000000e+00 0.0000000e+00]\n",
            " [1.0000000e+00 0.0000000e+00 0.0000000e+00]\n",
            " [1.0000000e+00 0.0000000e+00 7.5282338e-32]\n",
            " [1.0000000e+00 0.0000000e+00 0.0000000e+00]]\n"
          ]
        }
      ]
    },
    {
      "cell_type": "code",
      "metadata": {
        "colab": {
          "base_uri": "https://localhost:8080/"
        },
        "id": "dDJnp1mHwxlC",
        "outputId": "89d62a27-6c9f-43bf-b162-a8b27f048015"
      },
      "source": [
        "yTestNew = y_test.argmax(axis=1)\n",
        "yPredNew = predictions.argmax(axis=1)\n",
        "\n",
        "print(yTestNew)\n",
        "print(yPredNew)"
      ],
      "execution_count": null,
      "outputs": [
        {
          "output_type": "stream",
          "name": "stdout",
          "text": [
            "[0 0 0 1 0 1 2 0 1 1 0 2 0 1 0 1 1 1 0 0 1 0 0 0 0 1 1 1 0 1 1 1 0 1 1 0 1\n",
            " 2 0 0 0 1 1 0 0 1 0 0 0 1 0 0 0 1 0 1 1 1 0 0 1 0 2 1 1 2 0 2 1 0 2 2 0 1\n",
            " 0 0 1 1 0 1 1 0 0 1 0 1 1 1 1 0 1 0 0]\n",
            "[0 0 0 0 0 0 0 0 0 0 0 0 0 0 0 0 0 1 0 0 0 0 0 0 0 0 0 0 0 0 1 0 0 0 1 0 0\n",
            " 0 0 0 0 0 1 0 1 0 0 0 0 0 0 0 0 1 0 0 0 0 0 0 0 0 0 0 0 0 0 1 1 0 0 0 0 0\n",
            " 0 0 0 0 0 0 0 0 0 0 0 0 0 1 0 0 0 0 0]\n"
          ]
        }
      ]
    },
    {
      "cell_type": "code",
      "metadata": {
        "colab": {
          "base_uri": "https://localhost:8080/",
          "height": 296
        },
        "id": "kZ4gr1SEvWjl",
        "outputId": "0098116b-ceae-47d5-b3a0-0f799c92cfa4"
      },
      "source": [
        "from sklearn.metrics import confusion_matrix, ConfusionMatrixDisplay, f1_score\n",
        "#\n",
        "#invY = mlb.inverse_transform(y_test)\n",
        "#print(invY)\n",
        "\n",
        "cM = confusion_matrix(yTestNew,yPredNew)\n",
        "#print(cM)\n",
        "\n",
        "displayClasses = [i for i in range(3)]\n",
        "#displayClasses = [i for i in range(2)]\n",
        "#print(displayClasses)\n",
        "\n",
        "print(f1_score(yTestNew, yPredNew, average='macro'))\n",
        "\n",
        "disp = ConfusionMatrixDisplay(confusion_matrix=cM, display_labels=displayClasses)\n",
        "disp.plot()\n",
        "pyplot.show()"
      ],
      "execution_count": null,
      "outputs": [
        {
          "output_type": "stream",
          "name": "stdout",
          "text": [
            "0.3172916666666666\n"
          ]
        },
        {
          "output_type": "display_data",
          "data": {
            "image/png": "[encoded data removed]",
            "text/plain": [
              "<Figure size 432x288 with 2 Axes>"
            ]
          },
          "metadata": {
            "needs_background": "light"
          }
        }
      ]
    }
  ]
}
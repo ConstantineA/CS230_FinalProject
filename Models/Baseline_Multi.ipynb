{
  "nbformat": 4,
  "nbformat_minor": 0,
  "metadata": {
    "colab": {
      "name": "Baseline_Multi.ipynb",
      "provenance": [],
      "collapsed_sections": []
    },
    "kernelspec": {
      "name": "python3",
      "display_name": "Python 3"
    },
    "language_info": {
      "name": "python"
    },
    "accelerator": "GPU"
  },
  "cells": [
    {
      "cell_type": "code",
      "metadata": {
        "id": "vwxLv2-JZkKb"
      },
      "source": [
        "# first neural network with keras tutorial\n",
        "#from numpy import loadtxt\n",
        "from keras.models import Sequential\n",
        "from keras.layers import Dense\n",
        "from keras.initializers import HeNormal\n",
        "from matplotlib import image\n",
        "from matplotlib import pyplot\n",
        "import os\n",
        "import shutil\n",
        "import numpy as np\n",
        "from PIL import Image\n",
        "import pickle\n",
        "from sklearn.preprocessing import MultiLabelBinarizer\n"
      ],
      "execution_count": 1,
      "outputs": []
    },
    {
      "cell_type": "code",
      "metadata": {
        "colab": {
          "base_uri": "https://localhost:8080/"
        },
        "id": "cH7pHKGviiEU",
        "outputId": "e745fa5a-0c9d-4c90-b65f-fc5b84b00714"
      },
      "source": [
        "mlb = MultiLabelBinarizer()\n",
        "# load the train dataset\n",
        "X_trainUnflat = pickle.load(open(\"train_X.p\", 'rb'))\n",
        "y_trainUnflat = pickle.load(open(\"train_Y.p\", 'rb'))\n",
        "\n",
        "print(X_trainUnflat.shape)\n",
        "print(y_trainUnflat.shape)\n",
        "\n",
        "X_train = X_trainUnflat.reshape(X_trainUnflat.shape[0],-1)\n",
        "y_train = y_trainUnflat.reshape(y_trainUnflat.shape[0],-1)\n",
        "y_train = mlb.fit_transform(y_train)\n",
        "\n",
        "print(X_train.shape)\n",
        "print(y_train.shape)\n",
        "\n",
        "# load the dev dataset\n",
        "X_devUnflat = pickle.load(open(\"dev_X.p\", 'rb'))\n",
        "y_devUnflat = pickle.load(open(\"dev_Y.p\", 'rb'))\n",
        "\n",
        "print(X_devUnflat.shape)\n",
        "print(y_devUnflat.shape)\n",
        "\n",
        "X_dev = X_devUnflat.reshape(X_devUnflat.shape[0],-1)\n",
        "y_dev = y_devUnflat.reshape(y_devUnflat.shape[0],-1)\n",
        "y_dev = mlb.fit_transform(y_dev)\n",
        "\n",
        "print(X_dev.shape)\n",
        "print(y_dev.shape)\n",
        "\n",
        "# load the test dataset\n",
        "X_testUnflat = pickle.load(open(\"test_X.p\", 'rb'))\n",
        "y_testUnflat = pickle.load(open(\"test_Y.p\", 'rb'))\n",
        "\n",
        "print(X_testUnflat.shape)\n",
        "print(y_testUnflat.shape)\n",
        "\n",
        "X_test = X_testUnflat.reshape(X_testUnflat.shape[0],-1)\n",
        "y_test = y_testUnflat.reshape(y_testUnflat.shape[0],-1)\n",
        "y_test = mlb.fit_transform(y_test)\n",
        "\n",
        "print(X_test.shape)\n",
        "print(y_test.shape)\n",
        "\n"
      ],
      "execution_count": 2,
      "outputs": [
        {
          "output_type": "stream",
          "name": "stdout",
          "text": [
            "(433, 208, 160, 3)\n",
            "(433,)\n",
            "(433, 99840)\n",
            "(433, 3)\n",
            "(93, 208, 160, 3)\n",
            "(93,)\n",
            "(93, 99840)\n",
            "(93, 3)\n",
            "(93, 208, 160, 3)\n",
            "(93,)\n",
            "(93, 99840)\n",
            "(93, 3)\n"
          ]
        }
      ]
    },
    {
      "cell_type": "code",
      "metadata": {
        "colab": {
          "base_uri": "https://localhost:8080/"
        },
        "id": "UjtTikMEj0kQ",
        "outputId": "98ee974a-d2c2-43b2-90a8-b251f6498600"
      },
      "source": [
        "numDims = X_train.shape[1]\n",
        "numExamples = X_train.shape[0]\n",
        "# neurons1 = int(numDims/2)\n",
        "# neurons2 = int(numDims/4)\n",
        "# neurons3 = int(numDims/8)\n",
        "# neurons4 = int(numDims/120)\n",
        "# neurons5 = int(numDims/240)\n",
        "# neurons6 = int(numDims/480)\n",
        "neurons1 = int(numDims/240)\n",
        "neurons2 = int(numDims/480)\n",
        "neurons3 = int(numDims/960)\n",
        "neurons4 = int(numDims/1920)\n",
        "neurons5 = int(numDims/3840)\n",
        "neurons6 = int(numDims/7680)\n",
        "\n",
        "print(neurons1)\n",
        "print(neurons2)\n",
        "print(neurons3)\n",
        "print(neurons4)\n",
        "print(neurons5)\n",
        "print(neurons6)"
      ],
      "execution_count": 3,
      "outputs": [
        {
          "output_type": "stream",
          "name": "stdout",
          "text": [
            "416\n",
            "208\n",
            "104\n",
            "52\n",
            "26\n",
            "13\n"
          ]
        }
      ]
    },
    {
      "cell_type": "code",
      "metadata": {
        "colab": {
          "base_uri": "https://localhost:8080/"
        },
        "id": "FMa8byYBimxw",
        "outputId": "21ba63f4-cde1-4d39-bf71-e1002930db12"
      },
      "source": [
        "#HYPERPARAMETER SEARCH OVER EPOCH NUMBER\n",
        "#We keep number of layers, neuron per layer, activation in each layer constant, batch size of 10 100? full?\n",
        "batchSizes = [5,10,50,100,200]\n",
        "#batchSizes = [numExamples, numExamples, numExamples, numExamples, numExamples, numExamples, numExamples]\n",
        "#batchSizes = [100]\n",
        "#batchSize = numExamples #100 #10\n",
        "#numEpochsToTest = [i for i in range(5,31)]\n",
        "#numEpochsToTest = [i for i in range(10,20)]\n",
        "\n",
        "#print(numEpochsToTest)\n",
        "print(batchSizes)"
      ],
      "execution_count": 4,
      "outputs": [
        {
          "output_type": "stream",
          "name": "stdout",
          "text": [
            "[5, 10, 50, 100, 200]\n"
          ]
        }
      ]
    },
    {
      "cell_type": "code",
      "metadata": {
        "colab": {
          "base_uri": "https://localhost:8080/",
          "height": 1000
        },
        "id": "gIBjYGp-ioh0",
        "outputId": "7452312c-2794-4dc2-b974-480aa170c163"
      },
      "source": [
        "trainAccuracy = []\n",
        "valAccuracy = []\n",
        "trainLoss = []\n",
        "valLoss = []\n",
        "num_epochs = 50\n",
        "\n",
        "for batchSize in batchSizes:\n",
        "  print(\"BatchSize : \", batchSize)\n",
        "  model = Sequential()\n",
        "  model.add(Dense(neurons1, input_dim=numDims, activation='relu', kernel_initializer=HeNormal()))\n",
        "  model.add(Dense(neurons5, activation='relu', kernel_initializer=HeNormal()))\n",
        "  model.add(Dense(neurons6, activation='relu', kernel_initializer=HeNormal()))\n",
        "  model.add(Dense(3, activation='softmax'))\n",
        "  # compile the keras model\n",
        "  model.compile(loss='categorical_crossentropy', optimizer='adam', metrics=['categorical_accuracy'])\n",
        "  history = model.fit(X_train, y_train, epochs=num_epochs, batch_size=batchSize, validation_data = (X_dev, y_dev))\n",
        "  historyDict = history.history\n",
        "  #print(historyDict.keys())\n",
        "  #trainAccuracy.append(historyDict[\"accuracy\"])\n",
        "  #valAccuracy.append(historyDict[\"val_accuracy\"])\n",
        "  trainLoss.append(historyDict['loss'])\n",
        "  valLoss.append(historyDict['val_loss'])\n",
        "\n",
        "  labelName = \"Batch Size \" + str(batchSize)\n",
        "  pyplot.plot([i for i in range(1,num_epochs+1)], historyDict['loss'],label=labelName)\n",
        "\n",
        "  pyplot.legend()\n",
        "  pyplot.xlabel(\"Number of Epochs\")\n",
        "  pyplot.ylabel(\"Train Loss\")\n",
        "  pyplot.show()"
      ],
      "execution_count": 5,
      "outputs": [
        {
          "output_type": "stream",
          "name": "stdout",
          "text": [
            "BatchSize :  5\n",
            "Epoch 1/50\n",
            "87/87 [==============================] - 5s 22ms/step - loss: 753.3745 - categorical_accuracy: 0.4111 - val_loss: 1.1099 - val_categorical_accuracy: 0.4301\n",
            "Epoch 2/50\n",
            "87/87 [==============================] - 2s 20ms/step - loss: 2.2773 - categorical_accuracy: 0.4365 - val_loss: 1.0920 - val_categorical_accuracy: 0.4301\n",
            "Epoch 3/50\n",
            "87/87 [==============================] - 2s 19ms/step - loss: 1.1115 - categorical_accuracy: 0.4457 - val_loss: 1.0732 - val_categorical_accuracy: 0.4301\n",
            "Epoch 4/50\n",
            "87/87 [==============================] - 2s 18ms/step - loss: 1.0674 - categorical_accuracy: 0.4457 - val_loss: 1.0579 - val_categorical_accuracy: 0.4301\n",
            "Epoch 5/50\n",
            "87/87 [==============================] - 2s 18ms/step - loss: 1.0563 - categorical_accuracy: 0.4457 - val_loss: 1.0440 - val_categorical_accuracy: 0.4301\n",
            "Epoch 6/50\n",
            "87/87 [==============================] - 2s 19ms/step - loss: 1.0472 - categorical_accuracy: 0.4457 - val_loss: 1.0321 - val_categorical_accuracy: 0.4301\n",
            "Epoch 7/50\n",
            "87/87 [==============================] - 2s 20ms/step - loss: 1.0397 - categorical_accuracy: 0.4457 - val_loss: 1.0226 - val_categorical_accuracy: 0.4301\n",
            "Epoch 8/50\n",
            "87/87 [==============================] - 2s 20ms/step - loss: 1.0336 - categorical_accuracy: 0.4457 - val_loss: 1.0139 - val_categorical_accuracy: 0.4301\n",
            "Epoch 9/50\n",
            "87/87 [==============================] - 2s 19ms/step - loss: 1.0286 - categorical_accuracy: 0.4457 - val_loss: 1.0066 - val_categorical_accuracy: 0.4301\n",
            "Epoch 10/50\n",
            "87/87 [==============================] - 2s 19ms/step - loss: 1.0243 - categorical_accuracy: 0.4457 - val_loss: 1.0007 - val_categorical_accuracy: 0.4301\n",
            "Epoch 11/50\n",
            "87/87 [==============================] - 2s 20ms/step - loss: 1.0209 - categorical_accuracy: 0.4457 - val_loss: 0.9950 - val_categorical_accuracy: 0.4301\n",
            "Epoch 12/50\n",
            "87/87 [==============================] - 2s 19ms/step - loss: 1.0181 - categorical_accuracy: 0.4457 - val_loss: 0.9910 - val_categorical_accuracy: 0.4301\n",
            "Epoch 13/50\n",
            "87/87 [==============================] - 2s 19ms/step - loss: 1.0157 - categorical_accuracy: 0.4457 - val_loss: 0.9868 - val_categorical_accuracy: 0.4301\n",
            "Epoch 14/50\n",
            "87/87 [==============================] - 2s 19ms/step - loss: 1.0137 - categorical_accuracy: 0.4457 - val_loss: 0.9830 - val_categorical_accuracy: 0.4301\n",
            "Epoch 15/50\n",
            "87/87 [==============================] - 2s 19ms/step - loss: 1.0121 - categorical_accuracy: 0.4457 - val_loss: 0.9799 - val_categorical_accuracy: 0.4301\n",
            "Epoch 16/50\n",
            "87/87 [==============================] - 2s 20ms/step - loss: 1.0109 - categorical_accuracy: 0.4457 - val_loss: 0.9779 - val_categorical_accuracy: 0.4301\n",
            "Epoch 17/50\n",
            "87/87 [==============================] - 2s 19ms/step - loss: 1.0098 - categorical_accuracy: 0.4457 - val_loss: 0.9755 - val_categorical_accuracy: 0.4301\n",
            "Epoch 18/50\n",
            "87/87 [==============================] - 2s 19ms/step - loss: 1.0090 - categorical_accuracy: 0.4457 - val_loss: 0.9735 - val_categorical_accuracy: 0.4301\n",
            "Epoch 19/50\n",
            "87/87 [==============================] - 2s 20ms/step - loss: 1.0082 - categorical_accuracy: 0.4457 - val_loss: 0.9717 - val_categorical_accuracy: 0.4301\n",
            "Epoch 20/50\n",
            "87/87 [==============================] - 2s 20ms/step - loss: 1.0076 - categorical_accuracy: 0.4457 - val_loss: 0.9701 - val_categorical_accuracy: 0.4301\n",
            "Epoch 21/50\n",
            "87/87 [==============================] - 2s 19ms/step - loss: 1.0072 - categorical_accuracy: 0.4457 - val_loss: 0.9689 - val_categorical_accuracy: 0.4301\n",
            "Epoch 22/50\n",
            "87/87 [==============================] - 2s 20ms/step - loss: 1.0066 - categorical_accuracy: 0.4457 - val_loss: 0.9679 - val_categorical_accuracy: 0.4301\n",
            "Epoch 23/50\n",
            "87/87 [==============================] - 2s 19ms/step - loss: 1.0064 - categorical_accuracy: 0.4457 - val_loss: 0.9668 - val_categorical_accuracy: 0.4301\n",
            "Epoch 24/50\n",
            "87/87 [==============================] - 2s 19ms/step - loss: 1.0060 - categorical_accuracy: 0.4457 - val_loss: 0.9655 - val_categorical_accuracy: 0.4301\n",
            "Epoch 25/50\n",
            "87/87 [==============================] - 2s 19ms/step - loss: 1.0058 - categorical_accuracy: 0.4457 - val_loss: 0.9647 - val_categorical_accuracy: 0.4301\n",
            "Epoch 26/50\n",
            "87/87 [==============================] - 2s 18ms/step - loss: 1.0057 - categorical_accuracy: 0.4457 - val_loss: 0.9641 - val_categorical_accuracy: 0.4301\n",
            "Epoch 27/50\n",
            "87/87 [==============================] - 2s 19ms/step - loss: 1.0055 - categorical_accuracy: 0.4457 - val_loss: 0.9632 - val_categorical_accuracy: 0.4301\n",
            "Epoch 28/50\n",
            "87/87 [==============================] - 2s 18ms/step - loss: 1.0053 - categorical_accuracy: 0.4457 - val_loss: 0.9626 - val_categorical_accuracy: 0.4301\n",
            "Epoch 29/50\n",
            "87/87 [==============================] - 2s 18ms/step - loss: 1.0051 - categorical_accuracy: 0.4457 - val_loss: 0.9621 - val_categorical_accuracy: 0.4301\n",
            "Epoch 30/50\n",
            "87/87 [==============================] - 2s 18ms/step - loss: 1.0051 - categorical_accuracy: 0.4457 - val_loss: 0.9617 - val_categorical_accuracy: 0.4301\n",
            "Epoch 31/50\n",
            "87/87 [==============================] - 2s 18ms/step - loss: 1.0050 - categorical_accuracy: 0.4457 - val_loss: 0.9610 - val_categorical_accuracy: 0.4301\n",
            "Epoch 32/50\n",
            "87/87 [==============================] - 2s 18ms/step - loss: 1.0049 - categorical_accuracy: 0.4457 - val_loss: 0.9606 - val_categorical_accuracy: 0.4301\n",
            "Epoch 33/50\n",
            "87/87 [==============================] - 2s 19ms/step - loss: 1.0049 - categorical_accuracy: 0.4457 - val_loss: 0.9608 - val_categorical_accuracy: 0.4301\n",
            "Epoch 34/50\n",
            "87/87 [==============================] - 2s 19ms/step - loss: 1.0050 - categorical_accuracy: 0.4457 - val_loss: 0.9599 - val_categorical_accuracy: 0.4301\n",
            "Epoch 35/50\n",
            "87/87 [==============================] - 2s 18ms/step - loss: 1.0049 - categorical_accuracy: 0.4457 - val_loss: 0.9599 - val_categorical_accuracy: 0.4301\n",
            "Epoch 36/50\n",
            "87/87 [==============================] - 2s 18ms/step - loss: 1.0048 - categorical_accuracy: 0.4457 - val_loss: 0.9597 - val_categorical_accuracy: 0.4301\n",
            "Epoch 37/50\n",
            "87/87 [==============================] - 2s 18ms/step - loss: 1.0048 - categorical_accuracy: 0.4457 - val_loss: 0.9593 - val_categorical_accuracy: 0.4301\n",
            "Epoch 38/50\n",
            "87/87 [==============================] - 2s 18ms/step - loss: 1.0050 - categorical_accuracy: 0.4457 - val_loss: 0.9590 - val_categorical_accuracy: 0.4301\n",
            "Epoch 39/50\n",
            "87/87 [==============================] - 2s 18ms/step - loss: 1.0047 - categorical_accuracy: 0.4457 - val_loss: 0.9592 - val_categorical_accuracy: 0.4301\n",
            "Epoch 40/50\n",
            "87/87 [==============================] - 2s 19ms/step - loss: 1.0048 - categorical_accuracy: 0.4457 - val_loss: 0.9591 - val_categorical_accuracy: 0.4301\n",
            "Epoch 41/50\n",
            "87/87 [==============================] - 2s 17ms/step - loss: 1.0047 - categorical_accuracy: 0.4457 - val_loss: 0.9588 - val_categorical_accuracy: 0.4301\n",
            "Epoch 42/50\n",
            "87/87 [==============================] - 2s 19ms/step - loss: 1.0047 - categorical_accuracy: 0.4457 - val_loss: 0.9584 - val_categorical_accuracy: 0.4301\n",
            "Epoch 43/50\n",
            "87/87 [==============================] - 2s 18ms/step - loss: 1.0047 - categorical_accuracy: 0.4457 - val_loss: 0.9585 - val_categorical_accuracy: 0.4301\n",
            "Epoch 44/50\n",
            "87/87 [==============================] - 2s 19ms/step - loss: 1.0047 - categorical_accuracy: 0.4457 - val_loss: 0.9584 - val_categorical_accuracy: 0.4301\n",
            "Epoch 45/50\n",
            "87/87 [==============================] - 2s 17ms/step - loss: 1.0049 - categorical_accuracy: 0.4457 - val_loss: 0.9580 - val_categorical_accuracy: 0.4301\n",
            "Epoch 46/50\n",
            "87/87 [==============================] - 2s 18ms/step - loss: 1.0048 - categorical_accuracy: 0.4457 - val_loss: 0.9584 - val_categorical_accuracy: 0.4301\n",
            "Epoch 47/50\n",
            "87/87 [==============================] - 2s 17ms/step - loss: 1.0047 - categorical_accuracy: 0.4457 - val_loss: 0.9578 - val_categorical_accuracy: 0.4301\n",
            "Epoch 48/50\n",
            "87/87 [==============================] - 2s 19ms/step - loss: 1.0046 - categorical_accuracy: 0.4457 - val_loss: 0.9580 - val_categorical_accuracy: 0.4301\n",
            "Epoch 49/50\n",
            "87/87 [==============================] - 2s 18ms/step - loss: 1.0047 - categorical_accuracy: 0.4457 - val_loss: 0.9580 - val_categorical_accuracy: 0.4301\n",
            "Epoch 50/50\n",
            "87/87 [==============================] - 2s 18ms/step - loss: 1.0047 - categorical_accuracy: 0.4457 - val_loss: 0.9579 - val_categorical_accuracy: 0.4301\n"
          ]
        },
        {
          "output_type": "display_data",
          "data": {
            "image/png": "[encoded data removed]",
            "text/plain": [
              "<Figure size 432x288 with 1 Axes>"
            ]
          },
          "metadata": {
            "needs_background": "light"
          }
        },
        {
          "output_type": "stream",
          "name": "stdout",
          "text": [
            "BatchSize :  10\n",
            "Epoch 1/50\n",
            "44/44 [==============================] - 2s 29ms/step - loss: 129.1108 - categorical_accuracy: 0.4065 - val_loss: 1.0872 - val_categorical_accuracy: 0.4301\n",
            "Epoch 2/50\n",
            "44/44 [==============================] - 1s 22ms/step - loss: 1.0860 - categorical_accuracy: 0.4457 - val_loss: 1.0780 - val_categorical_accuracy: 0.4301\n",
            "Epoch 3/50\n",
            "44/44 [==============================] - 1s 22ms/step - loss: 1.0787 - categorical_accuracy: 0.4457 - val_loss: 1.0687 - val_categorical_accuracy: 0.4301\n",
            "Epoch 4/50\n",
            "44/44 [==============================] - 1s 22ms/step - loss: 1.0716 - categorical_accuracy: 0.4457 - val_loss: 1.0602 - val_categorical_accuracy: 0.4301\n",
            "Epoch 5/50\n",
            "44/44 [==============================] - 1s 22ms/step - loss: 1.0649 - categorical_accuracy: 0.4457 - val_loss: 1.0513 - val_categorical_accuracy: 0.4301\n",
            "Epoch 6/50\n",
            "44/44 [==============================] - 1s 22ms/step - loss: 1.0584 - categorical_accuracy: 0.4457 - val_loss: 1.0437 - val_categorical_accuracy: 0.4301\n",
            "Epoch 7/50\n",
            "44/44 [==============================] - 1s 22ms/step - loss: 1.0528 - categorical_accuracy: 0.4457 - val_loss: 1.0369 - val_categorical_accuracy: 0.4301\n",
            "Epoch 8/50\n",
            "44/44 [==============================] - 1s 22ms/step - loss: 1.0480 - categorical_accuracy: 0.4457 - val_loss: 1.0303 - val_categorical_accuracy: 0.4301\n",
            "Epoch 9/50\n",
            "44/44 [==============================] - 1s 22ms/step - loss: 1.0437 - categorical_accuracy: 0.4457 - val_loss: 1.0247 - val_categorical_accuracy: 0.4301\n",
            "Epoch 10/50\n",
            "44/44 [==============================] - 1s 22ms/step - loss: 1.0398 - categorical_accuracy: 0.4457 - val_loss: 1.0192 - val_categorical_accuracy: 0.4301\n",
            "Epoch 11/50\n",
            "44/44 [==============================] - 1s 22ms/step - loss: 1.0361 - categorical_accuracy: 0.4457 - val_loss: 1.0148 - val_categorical_accuracy: 0.4301\n",
            "Epoch 12/50\n",
            "44/44 [==============================] - 1s 22ms/step - loss: 1.0331 - categorical_accuracy: 0.4457 - val_loss: 1.0098 - val_categorical_accuracy: 0.4301\n",
            "Epoch 13/50\n",
            "44/44 [==============================] - 1s 22ms/step - loss: 1.0302 - categorical_accuracy: 0.4457 - val_loss: 1.0061 - val_categorical_accuracy: 0.4301\n",
            "Epoch 14/50\n",
            "44/44 [==============================] - 1s 22ms/step - loss: 1.0277 - categorical_accuracy: 0.4457 - val_loss: 1.0021 - val_categorical_accuracy: 0.4301\n",
            "Epoch 15/50\n",
            "44/44 [==============================] - 1s 22ms/step - loss: 1.0253 - categorical_accuracy: 0.4457 - val_loss: 0.9986 - val_categorical_accuracy: 0.4301\n",
            "Epoch 16/50\n",
            "44/44 [==============================] - 1s 22ms/step - loss: 1.0231 - categorical_accuracy: 0.4457 - val_loss: 0.9950 - val_categorical_accuracy: 0.4301\n",
            "Epoch 17/50\n",
            "44/44 [==============================] - 1s 23ms/step - loss: 1.0213 - categorical_accuracy: 0.4457 - val_loss: 0.9925 - val_categorical_accuracy: 0.4301\n",
            "Epoch 18/50\n",
            "44/44 [==============================] - 1s 22ms/step - loss: 1.0200 - categorical_accuracy: 0.4457 - val_loss: 0.9904 - val_categorical_accuracy: 0.4301\n",
            "Epoch 19/50\n",
            "44/44 [==============================] - 1s 21ms/step - loss: 1.0185 - categorical_accuracy: 0.4457 - val_loss: 0.9882 - val_categorical_accuracy: 0.4301\n",
            "Epoch 20/50\n",
            "44/44 [==============================] - 1s 21ms/step - loss: 1.0173 - categorical_accuracy: 0.4457 - val_loss: 0.9854 - val_categorical_accuracy: 0.4301\n",
            "Epoch 21/50\n",
            "44/44 [==============================] - 1s 22ms/step - loss: 1.0160 - categorical_accuracy: 0.4457 - val_loss: 0.9836 - val_categorical_accuracy: 0.4301\n",
            "Epoch 22/50\n",
            "44/44 [==============================] - 1s 22ms/step - loss: 1.0148 - categorical_accuracy: 0.4457 - val_loss: 0.9815 - val_categorical_accuracy: 0.4301\n",
            "Epoch 23/50\n",
            "44/44 [==============================] - 1s 22ms/step - loss: 1.0140 - categorical_accuracy: 0.4457 - val_loss: 0.9791 - val_categorical_accuracy: 0.4301\n",
            "Epoch 24/50\n",
            "44/44 [==============================] - 1s 22ms/step - loss: 1.0129 - categorical_accuracy: 0.4457 - val_loss: 0.9779 - val_categorical_accuracy: 0.4301\n",
            "Epoch 25/50\n",
            "44/44 [==============================] - 1s 22ms/step - loss: 1.0122 - categorical_accuracy: 0.4457 - val_loss: 0.9762 - val_categorical_accuracy: 0.4301\n",
            "Epoch 26/50\n",
            "44/44 [==============================] - 1s 22ms/step - loss: 1.0115 - categorical_accuracy: 0.4457 - val_loss: 0.9745 - val_categorical_accuracy: 0.4301\n",
            "Epoch 27/50\n",
            "44/44 [==============================] - 1s 22ms/step - loss: 1.0109 - categorical_accuracy: 0.4457 - val_loss: 0.9732 - val_categorical_accuracy: 0.4301\n",
            "Epoch 28/50\n",
            "44/44 [==============================] - 1s 22ms/step - loss: 1.0104 - categorical_accuracy: 0.4457 - val_loss: 0.9721 - val_categorical_accuracy: 0.4301\n",
            "Epoch 29/50\n",
            "44/44 [==============================] - 1s 22ms/step - loss: 1.0099 - categorical_accuracy: 0.4457 - val_loss: 0.9708 - val_categorical_accuracy: 0.4301\n",
            "Epoch 30/50\n",
            "44/44 [==============================] - 1s 22ms/step - loss: 1.0095 - categorical_accuracy: 0.4457 - val_loss: 0.9704 - val_categorical_accuracy: 0.4301\n",
            "Epoch 31/50\n",
            "44/44 [==============================] - 1s 22ms/step - loss: 1.0092 - categorical_accuracy: 0.4457 - val_loss: 0.9698 - val_categorical_accuracy: 0.4301\n",
            "Epoch 32/50\n",
            "44/44 [==============================] - 1s 22ms/step - loss: 1.0088 - categorical_accuracy: 0.4457 - val_loss: 0.9690 - val_categorical_accuracy: 0.4301\n",
            "Epoch 33/50\n",
            "44/44 [==============================] - 1s 22ms/step - loss: 1.0086 - categorical_accuracy: 0.4457 - val_loss: 0.9679 - val_categorical_accuracy: 0.4301\n",
            "Epoch 34/50\n",
            "44/44 [==============================] - 1s 22ms/step - loss: 1.0084 - categorical_accuracy: 0.4457 - val_loss: 0.9673 - val_categorical_accuracy: 0.4301\n",
            "Epoch 35/50\n",
            "44/44 [==============================] - 1s 22ms/step - loss: 1.0081 - categorical_accuracy: 0.4457 - val_loss: 0.9667 - val_categorical_accuracy: 0.4301\n",
            "Epoch 36/50\n",
            "44/44 [==============================] - 1s 22ms/step - loss: 1.0079 - categorical_accuracy: 0.4457 - val_loss: 0.9657 - val_categorical_accuracy: 0.4301\n",
            "Epoch 37/50\n",
            "44/44 [==============================] - 1s 22ms/step - loss: 1.0077 - categorical_accuracy: 0.4457 - val_loss: 0.9652 - val_categorical_accuracy: 0.4301\n",
            "Epoch 38/50\n",
            "44/44 [==============================] - 1s 22ms/step - loss: 1.0076 - categorical_accuracy: 0.4457 - val_loss: 0.9648 - val_categorical_accuracy: 0.4301\n",
            "Epoch 39/50\n",
            "44/44 [==============================] - 1s 22ms/step - loss: 1.0074 - categorical_accuracy: 0.4457 - val_loss: 0.9643 - val_categorical_accuracy: 0.4301\n",
            "Epoch 40/50\n",
            "44/44 [==============================] - 1s 22ms/step - loss: 1.0073 - categorical_accuracy: 0.4457 - val_loss: 0.9634 - val_categorical_accuracy: 0.4301\n",
            "Epoch 41/50\n",
            "44/44 [==============================] - 1s 22ms/step - loss: 1.0072 - categorical_accuracy: 0.4457 - val_loss: 0.9636 - val_categorical_accuracy: 0.4301\n",
            "Epoch 42/50\n",
            "44/44 [==============================] - 1s 22ms/step - loss: 1.0072 - categorical_accuracy: 0.4457 - val_loss: 0.9633 - val_categorical_accuracy: 0.4301\n",
            "Epoch 43/50\n",
            "44/44 [==============================] - 1s 22ms/step - loss: 1.0071 - categorical_accuracy: 0.4457 - val_loss: 0.9629 - val_categorical_accuracy: 0.4301\n",
            "Epoch 44/50\n",
            "44/44 [==============================] - 1s 22ms/step - loss: 1.0070 - categorical_accuracy: 0.4457 - val_loss: 0.9624 - val_categorical_accuracy: 0.4301\n",
            "Epoch 45/50\n",
            "44/44 [==============================] - 1s 21ms/step - loss: 1.0069 - categorical_accuracy: 0.4457 - val_loss: 0.9619 - val_categorical_accuracy: 0.4301\n",
            "Epoch 46/50\n",
            "44/44 [==============================] - 1s 22ms/step - loss: 1.0069 - categorical_accuracy: 0.4457 - val_loss: 0.9615 - val_categorical_accuracy: 0.4301\n",
            "Epoch 47/50\n",
            "44/44 [==============================] - 1s 22ms/step - loss: 1.0069 - categorical_accuracy: 0.4457 - val_loss: 0.9613 - val_categorical_accuracy: 0.4301\n",
            "Epoch 48/50\n",
            "44/44 [==============================] - 1s 21ms/step - loss: 1.0069 - categorical_accuracy: 0.4457 - val_loss: 0.9608 - val_categorical_accuracy: 0.4301\n",
            "Epoch 49/50\n",
            "44/44 [==============================] - 1s 21ms/step - loss: 1.0068 - categorical_accuracy: 0.4457 - val_loss: 0.9604 - val_categorical_accuracy: 0.4301\n",
            "Epoch 50/50\n",
            "44/44 [==============================] - 1s 22ms/step - loss: 1.0068 - categorical_accuracy: 0.4457 - val_loss: 0.9605 - val_categorical_accuracy: 0.4301\n"
          ]
        },
        {
          "output_type": "display_data",
          "data": {
            "image/png": "[encoded data removed]",
            "text/plain": [
              "<Figure size 432x288 with 1 Axes>"
            ]
          },
          "metadata": {
            "needs_background": "light"
          }
        },
        {
          "output_type": "stream",
          "name": "stdout",
          "text": [
            "BatchSize :  50\n",
            "Epoch 1/50\n",
            "9/9 [==============================] - 1s 78ms/step - loss: 2512.1917 - categorical_accuracy: 0.3695 - val_loss: 2126.0508 - val_categorical_accuracy: 0.4301\n",
            "Epoch 2/50\n",
            "9/9 [==============================] - 0s 32ms/step - loss: 1458.6969 - categorical_accuracy: 0.4573 - val_loss: 989.5150 - val_categorical_accuracy: 0.3548\n",
            "Epoch 3/50\n",
            "9/9 [==============================] - 0s 34ms/step - loss: 589.9317 - categorical_accuracy: 0.4711 - val_loss: 272.8673 - val_categorical_accuracy: 0.4086\n",
            "Epoch 4/50\n",
            "9/9 [==============================] - 0s 33ms/step - loss: 249.8369 - categorical_accuracy: 0.5751 - val_loss: 256.2526 - val_categorical_accuracy: 0.4946\n",
            "Epoch 5/50\n",
            "9/9 [==============================] - 0s 31ms/step - loss: 120.6735 - categorical_accuracy: 0.6420 - val_loss: 200.8847 - val_categorical_accuracy: 0.5161\n",
            "Epoch 6/50\n",
            "9/9 [==============================] - 0s 31ms/step - loss: 146.8900 - categorical_accuracy: 0.6328 - val_loss: 344.8944 - val_categorical_accuracy: 0.5054\n",
            "Epoch 7/50\n",
            "9/9 [==============================] - 0s 31ms/step - loss: 127.4818 - categorical_accuracy: 0.6120 - val_loss: 220.3255 - val_categorical_accuracy: 0.5054\n",
            "Epoch 8/50\n",
            "9/9 [==============================] - 0s 32ms/step - loss: 71.1012 - categorical_accuracy: 0.7275 - val_loss: 318.2524 - val_categorical_accuracy: 0.4516\n",
            "Epoch 9/50\n",
            "9/9 [==============================] - 0s 32ms/step - loss: 52.3140 - categorical_accuracy: 0.7506 - val_loss: 240.3000 - val_categorical_accuracy: 0.5269\n",
            "Epoch 10/50\n",
            "9/9 [==============================] - 0s 38ms/step - loss: 51.7530 - categorical_accuracy: 0.7852 - val_loss: 219.4493 - val_categorical_accuracy: 0.5269\n",
            "Epoch 11/50\n",
            "9/9 [==============================] - 0s 33ms/step - loss: 21.6917 - categorical_accuracy: 0.8568 - val_loss: 148.9171 - val_categorical_accuracy: 0.5699\n",
            "Epoch 12/50\n",
            "9/9 [==============================] - 0s 33ms/step - loss: 21.0232 - categorical_accuracy: 0.8591 - val_loss: 203.7050 - val_categorical_accuracy: 0.4731\n",
            "Epoch 13/50\n",
            "9/9 [==============================] - 0s 32ms/step - loss: 12.9476 - categorical_accuracy: 0.9099 - val_loss: 171.6743 - val_categorical_accuracy: 0.5591\n",
            "Epoch 14/50\n",
            "9/9 [==============================] - 0s 32ms/step - loss: 9.0071 - categorical_accuracy: 0.9307 - val_loss: 161.8392 - val_categorical_accuracy: 0.5806\n",
            "Epoch 15/50\n",
            "9/9 [==============================] - 0s 31ms/step - loss: 14.4129 - categorical_accuracy: 0.8845 - val_loss: 186.9801 - val_categorical_accuracy: 0.5591\n",
            "Epoch 16/50\n",
            "9/9 [==============================] - 0s 33ms/step - loss: 4.3471 - categorical_accuracy: 0.9630 - val_loss: 182.0904 - val_categorical_accuracy: 0.5269\n",
            "Epoch 17/50\n",
            "9/9 [==============================] - 0s 30ms/step - loss: 13.8868 - categorical_accuracy: 0.9099 - val_loss: 167.8526 - val_categorical_accuracy: 0.6129\n",
            "Epoch 18/50\n",
            "9/9 [==============================] - 0s 32ms/step - loss: 17.2827 - categorical_accuracy: 0.8614 - val_loss: 250.8871 - val_categorical_accuracy: 0.4946\n",
            "Epoch 19/50\n",
            "9/9 [==============================] - 0s 32ms/step - loss: 29.8013 - categorical_accuracy: 0.8383 - val_loss: 275.8721 - val_categorical_accuracy: 0.4409\n",
            "Epoch 20/50\n",
            "9/9 [==============================] - 0s 32ms/step - loss: 18.7891 - categorical_accuracy: 0.8661 - val_loss: 182.9890 - val_categorical_accuracy: 0.6022\n",
            "Epoch 21/50\n",
            "9/9 [==============================] - 0s 33ms/step - loss: 48.9392 - categorical_accuracy: 0.7714 - val_loss: 598.3535 - val_categorical_accuracy: 0.3226\n",
            "Epoch 22/50\n",
            "9/9 [==============================] - 0s 30ms/step - loss: 195.9195 - categorical_accuracy: 0.6328 - val_loss: 426.1400 - val_categorical_accuracy: 0.5484\n",
            "Epoch 23/50\n",
            "9/9 [==============================] - 0s 30ms/step - loss: 105.5603 - categorical_accuracy: 0.7021 - val_loss: 334.4358 - val_categorical_accuracy: 0.5699\n",
            "Epoch 24/50\n",
            "9/9 [==============================] - 0s 33ms/step - loss: 59.5491 - categorical_accuracy: 0.8245 - val_loss: 247.2403 - val_categorical_accuracy: 0.6129\n",
            "Epoch 25/50\n",
            "9/9 [==============================] - 0s 32ms/step - loss: 34.7095 - categorical_accuracy: 0.8453 - val_loss: 340.4996 - val_categorical_accuracy: 0.5054\n",
            "Epoch 26/50\n",
            "9/9 [==============================] - 0s 31ms/step - loss: 17.6995 - categorical_accuracy: 0.9053 - val_loss: 302.8260 - val_categorical_accuracy: 0.5914\n",
            "Epoch 27/50\n",
            "9/9 [==============================] - 0s 33ms/step - loss: 23.0127 - categorical_accuracy: 0.8799 - val_loss: 273.4789 - val_categorical_accuracy: 0.5699\n",
            "Epoch 28/50\n",
            "9/9 [==============================] - 0s 31ms/step - loss: 12.4186 - categorical_accuracy: 0.9330 - val_loss: 238.4944 - val_categorical_accuracy: 0.5914\n",
            "Epoch 29/50\n",
            "9/9 [==============================] - 0s 32ms/step - loss: 26.5553 - categorical_accuracy: 0.8799 - val_loss: 273.2917 - val_categorical_accuracy: 0.4409\n",
            "Epoch 30/50\n",
            "9/9 [==============================] - 0s 32ms/step - loss: 23.7209 - categorical_accuracy: 0.8568 - val_loss: 295.6552 - val_categorical_accuracy: 0.5806\n",
            "Epoch 31/50\n",
            "9/9 [==============================] - 0s 32ms/step - loss: 39.0375 - categorical_accuracy: 0.8360 - val_loss: 299.7677 - val_categorical_accuracy: 0.4624\n",
            "Epoch 32/50\n",
            "9/9 [==============================] - 0s 32ms/step - loss: 34.5498 - categorical_accuracy: 0.8891 - val_loss: 322.2682 - val_categorical_accuracy: 0.5806\n",
            "Epoch 33/50\n",
            "9/9 [==============================] - 0s 31ms/step - loss: 22.5884 - categorical_accuracy: 0.9192 - val_loss: 334.2104 - val_categorical_accuracy: 0.6022\n",
            "Epoch 34/50\n",
            "9/9 [==============================] - 0s 32ms/step - loss: 84.7818 - categorical_accuracy: 0.7644 - val_loss: 306.4904 - val_categorical_accuracy: 0.5484\n",
            "Epoch 35/50\n",
            "9/9 [==============================] - 0s 30ms/step - loss: 162.0805 - categorical_accuracy: 0.7298 - val_loss: 446.4193 - val_categorical_accuracy: 0.4839\n",
            "Epoch 36/50\n",
            "9/9 [==============================] - 0s 33ms/step - loss: 130.2876 - categorical_accuracy: 0.7667 - val_loss: 623.9527 - val_categorical_accuracy: 0.4516\n",
            "Epoch 37/50\n",
            "9/9 [==============================] - 0s 31ms/step - loss: 95.6364 - categorical_accuracy: 0.7783 - val_loss: 632.7161 - val_categorical_accuracy: 0.5269\n",
            "Epoch 38/50\n",
            "9/9 [==============================] - 0s 33ms/step - loss: 64.7554 - categorical_accuracy: 0.8268 - val_loss: 501.6168 - val_categorical_accuracy: 0.5269\n",
            "Epoch 39/50\n",
            "9/9 [==============================] - 0s 33ms/step - loss: 25.4111 - categorical_accuracy: 0.9076 - val_loss: 368.5266 - val_categorical_accuracy: 0.5806\n",
            "Epoch 40/50\n",
            "9/9 [==============================] - 0s 31ms/step - loss: 24.7569 - categorical_accuracy: 0.8961 - val_loss: 366.4615 - val_categorical_accuracy: 0.5914\n",
            "Epoch 41/50\n",
            "9/9 [==============================] - 0s 33ms/step - loss: 9.2191 - categorical_accuracy: 0.9538 - val_loss: 323.6961 - val_categorical_accuracy: 0.5269\n",
            "Epoch 42/50\n",
            "9/9 [==============================] - 0s 33ms/step - loss: 0.4797 - categorical_accuracy: 0.9908 - val_loss: 314.9554 - val_categorical_accuracy: 0.5484\n",
            "Epoch 43/50\n",
            "9/9 [==============================] - 0s 32ms/step - loss: 0.8829 - categorical_accuracy: 0.9931 - val_loss: 337.8450 - val_categorical_accuracy: 0.5484\n",
            "Epoch 44/50\n",
            "9/9 [==============================] - 0s 32ms/step - loss: 0.4544 - categorical_accuracy: 0.9931 - val_loss: 330.1173 - val_categorical_accuracy: 0.5376\n",
            "Epoch 45/50\n",
            "9/9 [==============================] - 0s 32ms/step - loss: 0.9009 - categorical_accuracy: 0.9908 - val_loss: 330.0698 - val_categorical_accuracy: 0.5591\n",
            "Epoch 46/50\n",
            "9/9 [==============================] - 0s 31ms/step - loss: 1.6180 - categorical_accuracy: 0.9769 - val_loss: 301.3259 - val_categorical_accuracy: 0.5806\n",
            "Epoch 47/50\n",
            "9/9 [==============================] - 0s 31ms/step - loss: 0.8424 - categorical_accuracy: 0.9861 - val_loss: 310.8546 - val_categorical_accuracy: 0.5484\n",
            "Epoch 48/50\n",
            "9/9 [==============================] - 0s 31ms/step - loss: 3.6760 - categorical_accuracy: 0.9723 - val_loss: 290.1477 - val_categorical_accuracy: 0.6237\n",
            "Epoch 49/50\n",
            "9/9 [==============================] - 0s 32ms/step - loss: 0.6370 - categorical_accuracy: 0.9908 - val_loss: 301.5717 - val_categorical_accuracy: 0.5699\n",
            "Epoch 50/50\n",
            "9/9 [==============================] - 0s 33ms/step - loss: 0.9003 - categorical_accuracy: 0.9931 - val_loss: 292.4093 - val_categorical_accuracy: 0.5591\n"
          ]
        },
        {
          "output_type": "display_data",
          "data": {
            "image/png": "[encoded data removed]",
            "text/plain": [
              "<Figure size 432x288 with 1 Axes>"
            ]
          },
          "metadata": {
            "needs_background": "light"
          }
        },
        {
          "output_type": "stream",
          "name": "stdout",
          "text": [
            "BatchSize :  100\n",
            "Epoch 1/50\n",
            "5/5 [==============================] - 1s 112ms/step - loss: 3364.4553 - categorical_accuracy: 0.3557 - val_loss: 4389.8330 - val_categorical_accuracy: 0.4301\n",
            "Epoch 2/50\n",
            "5/5 [==============================] - 0s 52ms/step - loss: 3124.8242 - categorical_accuracy: 0.3626 - val_loss: 1047.4795 - val_categorical_accuracy: 0.4301\n",
            "Epoch 3/50\n",
            "5/5 [==============================] - 0s 48ms/step - loss: 790.1637 - categorical_accuracy: 0.4134 - val_loss: 481.4296 - val_categorical_accuracy: 0.3548\n",
            "Epoch 4/50\n",
            "5/5 [==============================] - 0s 47ms/step - loss: 485.8326 - categorical_accuracy: 0.4527 - val_loss: 656.2937 - val_categorical_accuracy: 0.4194\n",
            "Epoch 5/50\n",
            "5/5 [==============================] - 0s 45ms/step - loss: 638.5818 - categorical_accuracy: 0.4550 - val_loss: 554.3379 - val_categorical_accuracy: 0.3978\n",
            "Epoch 6/50\n",
            "5/5 [==============================] - 0s 44ms/step - loss: 640.7050 - categorical_accuracy: 0.4411 - val_loss: 365.4606 - val_categorical_accuracy: 0.5161\n",
            "Epoch 7/50\n",
            "5/5 [==============================] - 0s 42ms/step - loss: 384.8681 - categorical_accuracy: 0.5658 - val_loss: 373.6213 - val_categorical_accuracy: 0.4516\n",
            "Epoch 8/50\n",
            "5/5 [==============================] - 0s 42ms/step - loss: 307.2167 - categorical_accuracy: 0.5335 - val_loss: 493.3004 - val_categorical_accuracy: 0.4839\n",
            "Epoch 9/50\n",
            "5/5 [==============================] - 0s 47ms/step - loss: 305.2456 - categorical_accuracy: 0.5497 - val_loss: 445.1512 - val_categorical_accuracy: 0.4301\n",
            "Epoch 10/50\n",
            "5/5 [==============================] - 0s 43ms/step - loss: 261.9039 - categorical_accuracy: 0.5635 - val_loss: 209.9234 - val_categorical_accuracy: 0.4946\n",
            "Epoch 11/50\n",
            "5/5 [==============================] - 0s 45ms/step - loss: 163.1347 - categorical_accuracy: 0.6212 - val_loss: 318.2056 - val_categorical_accuracy: 0.3978\n",
            "Epoch 12/50\n",
            "5/5 [==============================] - 0s 42ms/step - loss: 160.8918 - categorical_accuracy: 0.6120 - val_loss: 247.1790 - val_categorical_accuracy: 0.5054\n",
            "Epoch 13/50\n",
            "5/5 [==============================] - 0s 45ms/step - loss: 114.1504 - categorical_accuracy: 0.6882 - val_loss: 435.5463 - val_categorical_accuracy: 0.4194\n",
            "Epoch 14/50\n",
            "5/5 [==============================] - 0s 45ms/step - loss: 171.1717 - categorical_accuracy: 0.6212 - val_loss: 354.7135 - val_categorical_accuracy: 0.5699\n",
            "Epoch 15/50\n",
            "5/5 [==============================] - 0s 45ms/step - loss: 164.8474 - categorical_accuracy: 0.6328 - val_loss: 204.7881 - val_categorical_accuracy: 0.5699\n",
            "Epoch 16/50\n",
            "5/5 [==============================] - 0s 43ms/step - loss: 89.9559 - categorical_accuracy: 0.7229 - val_loss: 220.5207 - val_categorical_accuracy: 0.5484\n",
            "Epoch 17/50\n",
            "5/5 [==============================] - 0s 42ms/step - loss: 50.2212 - categorical_accuracy: 0.8152 - val_loss: 207.4788 - val_categorical_accuracy: 0.4731\n",
            "Epoch 18/50\n",
            "5/5 [==============================] - 0s 43ms/step - loss: 27.0205 - categorical_accuracy: 0.8591 - val_loss: 217.4316 - val_categorical_accuracy: 0.5591\n",
            "Epoch 19/50\n",
            "5/5 [==============================] - 0s 44ms/step - loss: 35.4340 - categorical_accuracy: 0.8406 - val_loss: 214.8453 - val_categorical_accuracy: 0.5484\n",
            "Epoch 20/50\n",
            "5/5 [==============================] - 0s 44ms/step - loss: 27.6423 - categorical_accuracy: 0.8545 - val_loss: 172.3572 - val_categorical_accuracy: 0.5699\n",
            "Epoch 21/50\n",
            "5/5 [==============================] - 0s 43ms/step - loss: 25.2341 - categorical_accuracy: 0.8614 - val_loss: 201.6812 - val_categorical_accuracy: 0.5269\n",
            "Epoch 22/50\n",
            "5/5 [==============================] - 0s 43ms/step - loss: 45.4753 - categorical_accuracy: 0.8476 - val_loss: 282.4849 - val_categorical_accuracy: 0.5269\n",
            "Epoch 23/50\n",
            "5/5 [==============================] - 0s 45ms/step - loss: 20.1431 - categorical_accuracy: 0.8961 - val_loss: 224.1294 - val_categorical_accuracy: 0.5914\n",
            "Epoch 24/50\n",
            "5/5 [==============================] - 0s 43ms/step - loss: 14.4897 - categorical_accuracy: 0.9099 - val_loss: 207.1944 - val_categorical_accuracy: 0.5484\n",
            "Epoch 25/50\n",
            "5/5 [==============================] - 0s 44ms/step - loss: 17.9085 - categorical_accuracy: 0.8868 - val_loss: 266.6881 - val_categorical_accuracy: 0.6022\n",
            "Epoch 26/50\n",
            "5/5 [==============================] - 0s 42ms/step - loss: 34.8373 - categorical_accuracy: 0.7991 - val_loss: 300.2570 - val_categorical_accuracy: 0.4516\n",
            "Epoch 27/50\n",
            "5/5 [==============================] - 0s 44ms/step - loss: 26.2587 - categorical_accuracy: 0.8406 - val_loss: 218.3237 - val_categorical_accuracy: 0.5484\n",
            "Epoch 28/50\n",
            "5/5 [==============================] - 0s 42ms/step - loss: 7.2770 - categorical_accuracy: 0.9353 - val_loss: 220.9817 - val_categorical_accuracy: 0.5161\n",
            "Epoch 29/50\n",
            "5/5 [==============================] - 0s 44ms/step - loss: 4.6333 - categorical_accuracy: 0.9561 - val_loss: 195.8953 - val_categorical_accuracy: 0.6022\n",
            "Epoch 30/50\n",
            "5/5 [==============================] - 0s 44ms/step - loss: 7.4541 - categorical_accuracy: 0.9353 - val_loss: 200.6250 - val_categorical_accuracy: 0.5591\n",
            "Epoch 31/50\n",
            "5/5 [==============================] - 0s 44ms/step - loss: 3.5057 - categorical_accuracy: 0.9538 - val_loss: 205.1174 - val_categorical_accuracy: 0.5376\n",
            "Epoch 32/50\n",
            "5/5 [==============================] - 0s 42ms/step - loss: 2.3476 - categorical_accuracy: 0.9607 - val_loss: 186.0223 - val_categorical_accuracy: 0.5914\n",
            "Epoch 33/50\n",
            "5/5 [==============================] - 0s 46ms/step - loss: 2.4824 - categorical_accuracy: 0.9700 - val_loss: 229.1749 - val_categorical_accuracy: 0.5591\n",
            "Epoch 34/50\n",
            "5/5 [==============================] - 0s 44ms/step - loss: 10.4119 - categorical_accuracy: 0.9076 - val_loss: 198.6197 - val_categorical_accuracy: 0.6237\n",
            "Epoch 35/50\n",
            "5/5 [==============================] - 0s 43ms/step - loss: 34.7897 - categorical_accuracy: 0.8314 - val_loss: 234.5843 - val_categorical_accuracy: 0.5806\n",
            "Epoch 36/50\n",
            "5/5 [==============================] - 0s 43ms/step - loss: 12.3878 - categorical_accuracy: 0.9169 - val_loss: 267.7067 - val_categorical_accuracy: 0.4946\n",
            "Epoch 37/50\n",
            "5/5 [==============================] - 0s 42ms/step - loss: 43.5862 - categorical_accuracy: 0.7506 - val_loss: 301.9530 - val_categorical_accuracy: 0.5161\n",
            "Epoch 38/50\n",
            "5/5 [==============================] - 0s 43ms/step - loss: 19.5832 - categorical_accuracy: 0.8614 - val_loss: 340.6149 - val_categorical_accuracy: 0.4839\n",
            "Epoch 39/50\n",
            "5/5 [==============================] - 0s 46ms/step - loss: 33.5563 - categorical_accuracy: 0.8268 - val_loss: 273.0885 - val_categorical_accuracy: 0.5161\n",
            "Epoch 40/50\n",
            "5/5 [==============================] - 0s 43ms/step - loss: 40.4289 - categorical_accuracy: 0.8383 - val_loss: 208.3057 - val_categorical_accuracy: 0.5806\n",
            "Epoch 41/50\n",
            "5/5 [==============================] - 0s 44ms/step - loss: 52.3313 - categorical_accuracy: 0.8152 - val_loss: 313.6084 - val_categorical_accuracy: 0.5806\n",
            "Epoch 42/50\n",
            "5/5 [==============================] - 0s 43ms/step - loss: 70.8522 - categorical_accuracy: 0.7898 - val_loss: 420.6789 - val_categorical_accuracy: 0.3763\n",
            "Epoch 43/50\n",
            "5/5 [==============================] - 0s 44ms/step - loss: 41.6974 - categorical_accuracy: 0.8245 - val_loss: 386.0155 - val_categorical_accuracy: 0.4516\n",
            "Epoch 44/50\n",
            "5/5 [==============================] - 0s 45ms/step - loss: 59.1074 - categorical_accuracy: 0.8037 - val_loss: 342.5053 - val_categorical_accuracy: 0.5591\n",
            "Epoch 45/50\n",
            "5/5 [==============================] - 0s 47ms/step - loss: 31.7737 - categorical_accuracy: 0.8915 - val_loss: 305.0531 - val_categorical_accuracy: 0.5161\n",
            "Epoch 46/50\n",
            "5/5 [==============================] - 0s 44ms/step - loss: 38.7513 - categorical_accuracy: 0.8845 - val_loss: 1187.3318 - val_categorical_accuracy: 0.3656\n",
            "Epoch 47/50\n",
            "5/5 [==============================] - 0s 44ms/step - loss: 422.7630 - categorical_accuracy: 0.7367 - val_loss: 479.5213 - val_categorical_accuracy: 0.5161\n",
            "Epoch 48/50\n",
            "5/5 [==============================] - 0s 43ms/step - loss: 278.5541 - categorical_accuracy: 0.7159 - val_loss: 418.0343 - val_categorical_accuracy: 0.5376\n",
            "Epoch 49/50\n",
            "5/5 [==============================] - 0s 44ms/step - loss: 147.9951 - categorical_accuracy: 0.7714 - val_loss: 806.9833 - val_categorical_accuracy: 0.5699\n",
            "Epoch 50/50\n",
            "5/5 [==============================] - 0s 43ms/step - loss: 379.8334 - categorical_accuracy: 0.6651 - val_loss: 575.9253 - val_categorical_accuracy: 0.5161\n"
          ]
        },
        {
          "output_type": "display_data",
          "data": {
            "image/png": "[encoded data removed]",
            "text/plain": [
              "<Figure size 432x288 with 1 Axes>"
            ]
          },
          "metadata": {
            "needs_background": "light"
          }
        },
        {
          "output_type": "stream",
          "name": "stdout",
          "text": [
            "BatchSize :  200\n",
            "Epoch 1/50\n",
            "3/3 [==============================] - 1s 146ms/step - loss: 4464.2949 - categorical_accuracy: 0.2633 - val_loss: 1271.9772 - val_categorical_accuracy: 0.4301\n",
            "Epoch 2/50\n",
            "3/3 [==============================] - 0s 60ms/step - loss: 1150.7238 - categorical_accuracy: 0.4319 - val_loss: 386.3359 - val_categorical_accuracy: 0.4731\n",
            "Epoch 3/50\n",
            "3/3 [==============================] - 0s 56ms/step - loss: 455.9118 - categorical_accuracy: 0.4088 - val_loss: 244.1216 - val_categorical_accuracy: 0.4731\n",
            "Epoch 4/50\n",
            "3/3 [==============================] - 0s 57ms/step - loss: 366.1661 - categorical_accuracy: 0.4088 - val_loss: 211.5627 - val_categorical_accuracy: 0.4731\n",
            "Epoch 5/50\n",
            "3/3 [==============================] - 0s 56ms/step - loss: 331.3762 - categorical_accuracy: 0.3718 - val_loss: 216.8530 - val_categorical_accuracy: 0.4301\n",
            "Epoch 6/50\n",
            "3/3 [==============================] - 0s 56ms/step - loss: 337.9498 - categorical_accuracy: 0.4457 - val_loss: 209.8633 - val_categorical_accuracy: 0.4301\n",
            "Epoch 7/50\n",
            "3/3 [==============================] - 0s 58ms/step - loss: 320.9396 - categorical_accuracy: 0.4457 - val_loss: 185.6502 - val_categorical_accuracy: 0.4301\n",
            "Epoch 8/50\n",
            "3/3 [==============================] - 0s 56ms/step - loss: 285.4513 - categorical_accuracy: 0.4342 - val_loss: 165.3653 - val_categorical_accuracy: 0.4731\n",
            "Epoch 9/50\n",
            "3/3 [==============================] - 0s 60ms/step - loss: 253.5299 - categorical_accuracy: 0.4088 - val_loss: 138.9276 - val_categorical_accuracy: 0.4731\n",
            "Epoch 10/50\n",
            "3/3 [==============================] - 0s 56ms/step - loss: 209.5533 - categorical_accuracy: 0.4088 - val_loss: 109.4160 - val_categorical_accuracy: 0.4301\n",
            "Epoch 11/50\n",
            "3/3 [==============================] - 0s 54ms/step - loss: 164.5223 - categorical_accuracy: 0.4457 - val_loss: 84.2160 - val_categorical_accuracy: 0.4301\n",
            "Epoch 12/50\n",
            "3/3 [==============================] - 0s 58ms/step - loss: 122.8438 - categorical_accuracy: 0.4411 - val_loss: 56.2884 - val_categorical_accuracy: 0.4301\n",
            "Epoch 13/50\n",
            "3/3 [==============================] - 0s 57ms/step - loss: 78.7488 - categorical_accuracy: 0.4457 - val_loss: 29.2032 - val_categorical_accuracy: 0.4516\n",
            "Epoch 14/50\n",
            "3/3 [==============================] - 0s 61ms/step - loss: 38.0116 - categorical_accuracy: 0.4180 - val_loss: 3.9923 - val_categorical_accuracy: 0.4301\n",
            "Epoch 15/50\n",
            "3/3 [==============================] - 0s 54ms/step - loss: 2.8978 - categorical_accuracy: 0.3834 - val_loss: 0.9837 - val_categorical_accuracy: 0.2581\n",
            "Epoch 16/50\n",
            "3/3 [==============================] - 0s 56ms/step - loss: 1.0442 - categorical_accuracy: 0.2194 - val_loss: 1.1049 - val_categorical_accuracy: 0.0968\n",
            "Epoch 17/50\n",
            "3/3 [==============================] - 0s 58ms/step - loss: 1.1034 - categorical_accuracy: 0.1455 - val_loss: 1.1048 - val_categorical_accuracy: 0.0968\n",
            "Epoch 18/50\n",
            "3/3 [==============================] - 0s 61ms/step - loss: 1.1033 - categorical_accuracy: 0.1455 - val_loss: 1.1045 - val_categorical_accuracy: 0.0968\n",
            "Epoch 19/50\n",
            "3/3 [==============================] - 0s 61ms/step - loss: 1.1030 - categorical_accuracy: 0.1455 - val_loss: 1.1041 - val_categorical_accuracy: 0.0968\n",
            "Epoch 20/50\n",
            "3/3 [==============================] - 0s 56ms/step - loss: 1.1026 - categorical_accuracy: 0.1455 - val_loss: 1.1035 - val_categorical_accuracy: 0.0968\n",
            "Epoch 21/50\n",
            "3/3 [==============================] - 0s 55ms/step - loss: 1.1021 - categorical_accuracy: 0.1455 - val_loss: 1.1028 - val_categorical_accuracy: 0.0968\n",
            "Epoch 22/50\n",
            "3/3 [==============================] - 0s 59ms/step - loss: 1.1016 - categorical_accuracy: 0.1455 - val_loss: 1.1021 - val_categorical_accuracy: 0.0968\n",
            "Epoch 23/50\n",
            "3/3 [==============================] - 0s 57ms/step - loss: 1.1010 - categorical_accuracy: 0.1455 - val_loss: 1.1013 - val_categorical_accuracy: 0.0968\n",
            "Epoch 24/50\n",
            "3/3 [==============================] - 0s 61ms/step - loss: 1.1004 - categorical_accuracy: 0.1455 - val_loss: 1.1006 - val_categorical_accuracy: 0.0968\n",
            "Epoch 25/50\n",
            "3/3 [==============================] - 0s 55ms/step - loss: 1.0998 - categorical_accuracy: 0.1455 - val_loss: 1.0998 - val_categorical_accuracy: 0.0968\n",
            "Epoch 26/50\n",
            "3/3 [==============================] - 0s 54ms/step - loss: 1.0991 - categorical_accuracy: 0.3187 - val_loss: 1.0989 - val_categorical_accuracy: 0.4301\n",
            "Epoch 27/50\n",
            "3/3 [==============================] - 0s 53ms/step - loss: 1.0984 - categorical_accuracy: 0.4457 - val_loss: 1.0980 - val_categorical_accuracy: 0.4301\n",
            "Epoch 28/50\n",
            "3/3 [==============================] - 0s 60ms/step - loss: 1.0977 - categorical_accuracy: 0.4457 - val_loss: 1.0972 - val_categorical_accuracy: 0.4301\n",
            "Epoch 29/50\n",
            "3/3 [==============================] - 0s 55ms/step - loss: 1.0970 - categorical_accuracy: 0.4457 - val_loss: 1.0963 - val_categorical_accuracy: 0.4301\n",
            "Epoch 30/50\n",
            "3/3 [==============================] - 0s 65ms/step - loss: 1.0963 - categorical_accuracy: 0.4457 - val_loss: 1.0954 - val_categorical_accuracy: 0.4301\n",
            "Epoch 31/50\n",
            "3/3 [==============================] - 0s 58ms/step - loss: 1.0956 - categorical_accuracy: 0.4457 - val_loss: 1.0946 - val_categorical_accuracy: 0.4301\n",
            "Epoch 32/50\n",
            "3/3 [==============================] - 0s 55ms/step - loss: 1.0949 - categorical_accuracy: 0.4457 - val_loss: 1.0937 - val_categorical_accuracy: 0.4301\n",
            "Epoch 33/50\n",
            "3/3 [==============================] - 0s 61ms/step - loss: 1.0942 - categorical_accuracy: 0.4457 - val_loss: 1.0928 - val_categorical_accuracy: 0.4301\n",
            "Epoch 34/50\n",
            "3/3 [==============================] - 0s 59ms/step - loss: 1.0935 - categorical_accuracy: 0.4457 - val_loss: 1.0919 - val_categorical_accuracy: 0.4301\n",
            "Epoch 35/50\n",
            "3/3 [==============================] - 0s 60ms/step - loss: 1.0928 - categorical_accuracy: 0.4457 - val_loss: 1.0911 - val_categorical_accuracy: 0.4301\n",
            "Epoch 36/50\n",
            "3/3 [==============================] - 0s 58ms/step - loss: 1.0922 - categorical_accuracy: 0.4457 - val_loss: 1.0903 - val_categorical_accuracy: 0.4301\n",
            "Epoch 37/50\n",
            "3/3 [==============================] - 0s 64ms/step - loss: 1.0915 - categorical_accuracy: 0.4457 - val_loss: 1.0896 - val_categorical_accuracy: 0.4301\n",
            "Epoch 38/50\n",
            "3/3 [==============================] - 0s 60ms/step - loss: 1.0909 - categorical_accuracy: 0.4457 - val_loss: 1.0887 - val_categorical_accuracy: 0.4301\n",
            "Epoch 39/50\n",
            "3/3 [==============================] - 0s 60ms/step - loss: 1.0902 - categorical_accuracy: 0.4457 - val_loss: 1.0879 - val_categorical_accuracy: 0.4301\n",
            "Epoch 40/50\n",
            "3/3 [==============================] - 0s 58ms/step - loss: 1.0896 - categorical_accuracy: 0.4457 - val_loss: 1.0871 - val_categorical_accuracy: 0.4301\n",
            "Epoch 41/50\n",
            "3/3 [==============================] - 0s 61ms/step - loss: 1.0889 - categorical_accuracy: 0.4457 - val_loss: 1.0863 - val_categorical_accuracy: 0.4301\n",
            "Epoch 42/50\n",
            "3/3 [==============================] - 0s 57ms/step - loss: 1.0883 - categorical_accuracy: 0.4457 - val_loss: 1.0855 - val_categorical_accuracy: 0.4301\n",
            "Epoch 43/50\n",
            "3/3 [==============================] - 0s 64ms/step - loss: 1.0876 - categorical_accuracy: 0.4457 - val_loss: 1.0847 - val_categorical_accuracy: 0.4301\n",
            "Epoch 44/50\n",
            "3/3 [==============================] - 0s 57ms/step - loss: 1.0870 - categorical_accuracy: 0.4457 - val_loss: 1.0838 - val_categorical_accuracy: 0.4301\n",
            "Epoch 45/50\n",
            "3/3 [==============================] - 0s 59ms/step - loss: 1.0863 - categorical_accuracy: 0.4457 - val_loss: 1.0830 - val_categorical_accuracy: 0.4301\n",
            "Epoch 46/50\n",
            "3/3 [==============================] - 0s 55ms/step - loss: 1.0857 - categorical_accuracy: 0.4457 - val_loss: 1.0822 - val_categorical_accuracy: 0.4301\n",
            "Epoch 47/50\n",
            "3/3 [==============================] - 0s 64ms/step - loss: 1.0850 - categorical_accuracy: 0.4457 - val_loss: 1.0814 - val_categorical_accuracy: 0.4301\n",
            "Epoch 48/50\n",
            "3/3 [==============================] - 0s 61ms/step - loss: 1.0844 - categorical_accuracy: 0.4457 - val_loss: 1.0806 - val_categorical_accuracy: 0.4301\n",
            "Epoch 49/50\n",
            "3/3 [==============================] - 0s 60ms/step - loss: 1.0838 - categorical_accuracy: 0.4457 - val_loss: 1.0798 - val_categorical_accuracy: 0.4301\n",
            "Epoch 50/50\n",
            "3/3 [==============================] - 0s 56ms/step - loss: 1.0831 - categorical_accuracy: 0.4457 - val_loss: 1.0790 - val_categorical_accuracy: 0.4301\n"
          ]
        },
        {
          "output_type": "display_data",
          "data": {
            "image/png": "[encoded data removed]",
            "text/plain": [
              "<Figure size 432x288 with 1 Axes>"
            ]
          },
          "metadata": {
            "needs_background": "light"
          }
        }
      ]
    },
    {
      "cell_type": "code",
      "metadata": {
        "colab": {
          "base_uri": "https://localhost:8080/",
          "height": 316
        },
        "id": "olJtaPSLoIAt",
        "outputId": "7ffac6a7-3d2c-41a8-aa48-24bbc4c2454f"
      },
      "source": [
        "#For Loss Plotting\n",
        "\n",
        "x = [i for i in range(1,51)]\n",
        "print(x)\n",
        "yTrainLoss = trainLoss\n",
        "#Train Loss\n",
        "for i in range(len(batchSizes)):\n",
        "  currBatchSize = batchSizes[i]\n",
        "  labelName = \"Batch Size \" + str(currBatchSize)\n",
        "  pyplot.plot(x, yTrainLoss[i],label=labelName)\n",
        "\n",
        "pyplot.legend()\n",
        "pyplot.xlabel(\"Number of Epochs\")\n",
        "pyplot.ylabel(\"Train Loss\")\n",
        "pyplot.show()"
      ],
      "execution_count": 9,
      "outputs": [
        {
          "output_type": "stream",
          "name": "stdout",
          "text": [
            "[1, 2, 3, 4, 5, 6, 7, 8, 9, 10, 11, 12, 13, 14, 15, 16, 17, 18, 19, 20, 21, 22, 23, 24, 25, 26, 27, 28, 29, 30, 31, 32, 33, 34, 35, 36, 37, 38, 39, 40, 41, 42, 43, 44, 45, 46, 47, 48, 49, 50]\n"
          ]
        },
        {
          "output_type": "display_data",
          "data": {
            "image/png": "[encoded data removed]",
            "text/plain": [
              "<Figure size 432x288 with 1 Axes>"
            ]
          },
          "metadata": {
            "needs_background": "light"
          }
        }
      ]
    },
    {
      "cell_type": "code",
      "metadata": {
        "colab": {
          "base_uri": "https://localhost:8080/",
          "height": 316
        },
        "id": "hfcw6cD0oImf",
        "outputId": "52bd042f-04c3-4fff-b729-af57958d3e0e"
      },
      "source": [
        "#For Loss Plotting\n",
        "\n",
        "x = [i for i in range(1,51)]\n",
        "print(x)\n",
        "yValLoss = valLoss\n",
        "#Val Loss\n",
        "for i in range(len(batchSizes)):\n",
        "  currBatchSize = batchSizes[i]\n",
        "  labelName = \"Batch Size \" + str(currBatchSize)\n",
        "  pyplot.plot(x, yValLoss[i],label=labelName)\n",
        "\n",
        "pyplot.legend()\n",
        "pyplot.xlabel(\"Number of Epochs\")\n",
        "pyplot.ylabel(\"Val Loss\")\n",
        "pyplot.show()"
      ],
      "execution_count": 10,
      "outputs": [
        {
          "output_type": "stream",
          "name": "stdout",
          "text": [
            "[1, 2, 3, 4, 5, 6, 7, 8, 9, 10, 11, 12, 13, 14, 15, 16, 17, 18, 19, 20, 21, 22, 23, 24, 25, 26, 27, 28, 29, 30, 31, 32, 33, 34, 35, 36, 37, 38, 39, 40, 41, 42, 43, 44, 45, 46, 47, 48, 49, 50]\n"
          ]
        },
        {
          "output_type": "display_data",
          "data": {
            "image/png": "[encoded data removed]",
            "text/plain": [
              "<Figure size 432x288 with 1 Axes>"
            ]
          },
          "metadata": {
            "needs_background": "light"
          }
        }
      ]
    },
    {
      "cell_type": "code",
      "metadata": {
        "colab": {
          "base_uri": "https://localhost:8080/"
        },
        "id": "pWtiwcfiWtQx",
        "outputId": "71aeedee-520e-4056-c023-5acf38a2b3aa"
      },
      "source": [
        "val50Loss = valLoss[2]\n",
        "\n",
        "\n",
        "print(val50Loss)\n",
        "print(min(val50Loss))\n",
        "print(val50Loss.index(min(val50Loss)))"
      ],
      "execution_count": 12,
      "outputs": [
        {
          "output_type": "stream",
          "name": "stdout",
          "text": [
            "[2126.05078125, 989.5149536132812, 272.8673095703125, 256.2525634765625, 200.88470458984375, 344.8944396972656, 220.32545471191406, 318.25244140625, 240.3000030517578, 219.44931030273438, 148.91714477539062, 203.7050323486328, 171.6742706298828, 161.8391571044922, 186.98011779785156, 182.0904083251953, 167.8525848388672, 250.88710021972656, 275.87213134765625, 182.9889678955078, 598.353515625, 426.1400451660156, 334.435791015625, 247.24029541015625, 340.49957275390625, 302.8260192871094, 273.4788818359375, 238.4944305419922, 273.29168701171875, 295.6551513671875, 299.7676696777344, 322.26824951171875, 334.21044921875, 306.49041748046875, 446.4192810058594, 623.9526977539062, 632.716064453125, 501.61676025390625, 368.5265808105469, 366.46148681640625, 323.6961364746094, 314.9554443359375, 337.8450012207031, 330.1172790527344, 330.06982421875, 301.32586669921875, 310.8546447753906, 290.1477355957031, 301.5716552734375, 292.4093017578125]\n",
            "148.91714477539062\n",
            "10\n"
          ]
        }
      ]
    },
    {
      "cell_type": "code",
      "metadata": {
        "colab": {
          "base_uri": "https://localhost:8080/"
        },
        "id": "Q0vJlDpaip0_",
        "outputId": "9499797f-15d5-4d4a-e071-bc0cfa69cb18"
      },
      "source": [
        "bestEpoch = 40\n",
        "bestBatchSize = 100\n",
        "\n",
        "\n",
        "bestmodel = Sequential()\n",
        "bestmodel.add(Dense(neurons1, input_dim=numDims, activation='relu', kernel_initializer=HeNormal()))\n",
        "bestmodel.add(Dense(neurons5, activation='relu',kernel_initializer=HeNormal()))\n",
        "bestmodel.add(Dense(neurons6, activation='relu',kernel_initializer=HeNormal()))\n",
        "bestmodel.add(Dense(3, activation='softmax'))\n",
        "bestmodel.compile(loss='categorical_crossentropy', optimizer='adam', metrics=[\"categorical_accuracy\"])\n",
        "bestmodel.fit(X_train, y_train, epochs=bestEpoch, batch_size=bestBatchSize, validation_data = (X_dev, y_dev))\n",
        "\n",
        "\n",
        "# evaluate the keras model on test data\n",
        "predictions = bestmodel.predict(X_test)\n",
        "#print(predictions)\n",
        "#print(y_test)"
      ],
      "execution_count": 53,
      "outputs": [
        {
          "output_type": "stream",
          "name": "stdout",
          "text": [
            "Epoch 1/40\n",
            "5/5 [==============================] - 1s 107ms/step - loss: 6958.4390 - categorical_accuracy: 0.3672 - val_loss: 3256.5723 - val_categorical_accuracy: 0.4731\n",
            "Epoch 2/40\n",
            "5/5 [==============================] - 0s 51ms/step - loss: 2232.3972 - categorical_accuracy: 0.3741 - val_loss: 2641.7334 - val_categorical_accuracy: 0.4301\n",
            "Epoch 3/40\n",
            "5/5 [==============================] - 0s 47ms/step - loss: 1863.1528 - categorical_accuracy: 0.3672 - val_loss: 1193.6793 - val_categorical_accuracy: 0.4301\n",
            "Epoch 4/40\n",
            "5/5 [==============================] - 0s 44ms/step - loss: 1414.1243 - categorical_accuracy: 0.4527 - val_loss: 665.8682 - val_categorical_accuracy: 0.4731\n",
            "Epoch 5/40\n",
            "5/5 [==============================] - 0s 42ms/step - loss: 678.5092 - categorical_accuracy: 0.4503 - val_loss: 617.1841 - val_categorical_accuracy: 0.3441\n",
            "Epoch 6/40\n",
            "5/5 [==============================] - 0s 42ms/step - loss: 389.0062 - categorical_accuracy: 0.4734 - val_loss: 511.8331 - val_categorical_accuracy: 0.4086\n",
            "Epoch 7/40\n",
            "5/5 [==============================] - 0s 42ms/step - loss: 346.2030 - categorical_accuracy: 0.5150 - val_loss: 363.3486 - val_categorical_accuracy: 0.3871\n",
            "Epoch 8/40\n",
            "5/5 [==============================] - 0s 44ms/step - loss: 216.2608 - categorical_accuracy: 0.5450 - val_loss: 209.3259 - val_categorical_accuracy: 0.4839\n",
            "Epoch 9/40\n",
            "5/5 [==============================] - 0s 43ms/step - loss: 141.0628 - categorical_accuracy: 0.5658 - val_loss: 195.2720 - val_categorical_accuracy: 0.5269\n",
            "Epoch 10/40\n",
            "5/5 [==============================] - 0s 43ms/step - loss: 138.4925 - categorical_accuracy: 0.6051 - val_loss: 200.1286 - val_categorical_accuracy: 0.4516\n",
            "Epoch 11/40\n",
            "5/5 [==============================] - 0s 43ms/step - loss: 134.2064 - categorical_accuracy: 0.5820 - val_loss: 125.9128 - val_categorical_accuracy: 0.5269\n",
            "Epoch 12/40\n",
            "5/5 [==============================] - 0s 42ms/step - loss: 77.3660 - categorical_accuracy: 0.6420 - val_loss: 255.4202 - val_categorical_accuracy: 0.4624\n",
            "Epoch 13/40\n",
            "5/5 [==============================] - 0s 42ms/step - loss: 90.8671 - categorical_accuracy: 0.6721 - val_loss: 212.0596 - val_categorical_accuracy: 0.4086\n",
            "Epoch 14/40\n",
            "5/5 [==============================] - 0s 42ms/step - loss: 117.8448 - categorical_accuracy: 0.6443 - val_loss: 173.4159 - val_categorical_accuracy: 0.5484\n",
            "Epoch 15/40\n",
            "5/5 [==============================] - 0s 43ms/step - loss: 56.9984 - categorical_accuracy: 0.7252 - val_loss: 113.3882 - val_categorical_accuracy: 0.5269\n",
            "Epoch 16/40\n",
            "5/5 [==============================] - 0s 41ms/step - loss: 47.5388 - categorical_accuracy: 0.7644 - val_loss: 109.4433 - val_categorical_accuracy: 0.5054\n",
            "Epoch 17/40\n",
            "5/5 [==============================] - 0s 46ms/step - loss: 40.9163 - categorical_accuracy: 0.7552 - val_loss: 139.8534 - val_categorical_accuracy: 0.5699\n",
            "Epoch 18/40\n",
            "5/5 [==============================] - 0s 43ms/step - loss: 18.0635 - categorical_accuracy: 0.8476 - val_loss: 147.4590 - val_categorical_accuracy: 0.4731\n",
            "Epoch 19/40\n",
            "5/5 [==============================] - 0s 42ms/step - loss: 26.6092 - categorical_accuracy: 0.7898 - val_loss: 136.9135 - val_categorical_accuracy: 0.5269\n",
            "Epoch 20/40\n",
            "5/5 [==============================] - 0s 44ms/step - loss: 23.6815 - categorical_accuracy: 0.8268 - val_loss: 109.6465 - val_categorical_accuracy: 0.5591\n",
            "Epoch 21/40\n",
            "5/5 [==============================] - 0s 44ms/step - loss: 10.2815 - categorical_accuracy: 0.8868 - val_loss: 95.6841 - val_categorical_accuracy: 0.5484\n",
            "Epoch 22/40\n",
            "5/5 [==============================] - 0s 42ms/step - loss: 10.1997 - categorical_accuracy: 0.8984 - val_loss: 128.6756 - val_categorical_accuracy: 0.5914\n",
            "Epoch 23/40\n",
            "5/5 [==============================] - 0s 41ms/step - loss: 3.8548 - categorical_accuracy: 0.9330 - val_loss: 140.9801 - val_categorical_accuracy: 0.4409\n",
            "Epoch 24/40\n",
            "5/5 [==============================] - 0s 41ms/step - loss: 21.7108 - categorical_accuracy: 0.7898 - val_loss: 110.7802 - val_categorical_accuracy: 0.5591\n",
            "Epoch 25/40\n",
            "5/5 [==============================] - 0s 44ms/step - loss: 32.6681 - categorical_accuracy: 0.7968 - val_loss: 190.0932 - val_categorical_accuracy: 0.5161\n",
            "Epoch 26/40\n",
            "5/5 [==============================] - 0s 42ms/step - loss: 36.3595 - categorical_accuracy: 0.7875 - val_loss: 167.2819 - val_categorical_accuracy: 0.4624\n",
            "Epoch 27/40\n",
            "5/5 [==============================] - 0s 43ms/step - loss: 55.4090 - categorical_accuracy: 0.6813 - val_loss: 177.3416 - val_categorical_accuracy: 0.5376\n",
            "Epoch 28/40\n",
            "5/5 [==============================] - 0s 41ms/step - loss: 50.7218 - categorical_accuracy: 0.7321 - val_loss: 142.4522 - val_categorical_accuracy: 0.4624\n",
            "Epoch 29/40\n",
            "5/5 [==============================] - 0s 43ms/step - loss: 32.4354 - categorical_accuracy: 0.8037 - val_loss: 142.3796 - val_categorical_accuracy: 0.5806\n",
            "Epoch 30/40\n",
            "5/5 [==============================] - 0s 42ms/step - loss: 9.9706 - categorical_accuracy: 0.9076 - val_loss: 112.4307 - val_categorical_accuracy: 0.5806\n",
            "Epoch 31/40\n",
            "5/5 [==============================] - 0s 42ms/step - loss: 6.9586 - categorical_accuracy: 0.9353 - val_loss: 128.0037 - val_categorical_accuracy: 0.5914\n",
            "Epoch 32/40\n",
            "5/5 [==============================] - 0s 43ms/step - loss: 5.4833 - categorical_accuracy: 0.9446 - val_loss: 122.5138 - val_categorical_accuracy: 0.4946\n",
            "Epoch 33/40\n",
            "5/5 [==============================] - 0s 41ms/step - loss: 5.8401 - categorical_accuracy: 0.9515 - val_loss: 112.0363 - val_categorical_accuracy: 0.5806\n",
            "Epoch 34/40\n",
            "5/5 [==============================] - 0s 41ms/step - loss: 2.5209 - categorical_accuracy: 0.9723 - val_loss: 111.8630 - val_categorical_accuracy: 0.5591\n",
            "Epoch 35/40\n",
            "5/5 [==============================] - 0s 41ms/step - loss: 2.0013 - categorical_accuracy: 0.9677 - val_loss: 107.0026 - val_categorical_accuracy: 0.5806\n",
            "Epoch 36/40\n",
            "5/5 [==============================] - 0s 43ms/step - loss: 0.8806 - categorical_accuracy: 0.9861 - val_loss: 110.2746 - val_categorical_accuracy: 0.5806\n",
            "Epoch 37/40\n",
            "5/5 [==============================] - 0s 43ms/step - loss: 0.1365 - categorical_accuracy: 0.9931 - val_loss: 102.2476 - val_categorical_accuracy: 0.5914\n",
            "Epoch 38/40\n",
            "5/5 [==============================] - 0s 42ms/step - loss: 0.3249 - categorical_accuracy: 0.9908 - val_loss: 97.8518 - val_categorical_accuracy: 0.6129\n",
            "Epoch 39/40\n",
            "5/5 [==============================] - 0s 46ms/step - loss: 0.0820 - categorical_accuracy: 0.9954 - val_loss: 97.4840 - val_categorical_accuracy: 0.5914\n",
            "Epoch 40/40\n",
            "5/5 [==============================] - 0s 42ms/step - loss: 0.0000e+00 - categorical_accuracy: 1.0000 - val_loss: 97.3997 - val_categorical_accuracy: 0.5806\n"
          ]
        }
      ]
    },
    {
      "cell_type": "code",
      "metadata": {
        "colab": {
          "base_uri": "https://localhost:8080/"
        },
        "id": "dDJnp1mHwxlC",
        "outputId": "03b1c371-88fa-4ae6-e7f9-17527630ed64"
      },
      "source": [
        "yTestNew = y_test.argmax(axis=1)\n",
        "yPredNew = predictions.argmax(axis=1)\n",
        "\n",
        "print(yTestNew)\n",
        "print(yPredNew)"
      ],
      "execution_count": 54,
      "outputs": [
        {
          "output_type": "stream",
          "name": "stdout",
          "text": [
            "[0 0 0 1 0 1 2 0 1 1 0 2 0 1 0 1 1 1 0 0 1 0 0 0 0 1 1 1 0 1 1 1 0 1 1 0 1\n",
            " 2 0 0 0 1 1 0 0 1 0 0 0 1 0 0 0 1 0 1 1 1 0 0 1 0 2 1 1 2 0 2 1 0 2 2 0 1\n",
            " 0 0 1 1 0 1 1 0 0 1 0 1 1 1 1 0 1 0 0]\n",
            "[0 0 0 1 0 1 2 0 1 1 0 2 1 1 0 0 0 1 0 1 1 1 0 0 1 1 1 2 2 0 1 1 1 0 1 0 0\n",
            " 2 0 1 0 1 1 2 1 2 0 1 2 1 0 0 0 1 1 1 0 1 1 1 1 0 2 1 1 1 0 2 1 1 2 2 0 0\n",
            " 1 1 0 0 0 0 0 1 2 2 0 0 2 1 0 0 1 1 2]\n"
          ]
        }
      ]
    },
    {
      "cell_type": "code",
      "metadata": {
        "colab": {
          "base_uri": "https://localhost:8080/",
          "height": 296
        },
        "id": "kZ4gr1SEvWjl",
        "outputId": "d5e41919-c183-4bca-e530-0fd88caf1653"
      },
      "source": [
        "from sklearn.metrics import confusion_matrix, ConfusionMatrixDisplay, f1_score\n",
        "#\n",
        "#invY = mlb.inverse_transform(y_test)\n",
        "#print(invY)\n",
        "\n",
        "cM = confusion_matrix(yTestNew,yPredNew)\n",
        "#print(cM)\n",
        "\n",
        "displayClasses = [i for i in range(3)]\n",
        "#displayClasses = [i for i in range(2)]\n",
        "#print(displayClasses)\n",
        "\n",
        "print(f1_score(yTestNew, yPredNew, average='macro'))\n",
        "\n",
        "disp = ConfusionMatrixDisplay(confusion_matrix=cM, display_labels=displayClasses)\n",
        "disp.plot()\n",
        "pyplot.show()"
      ],
      "execution_count": 55,
      "outputs": [
        {
          "output_type": "stream",
          "name": "stdout",
          "text": [
            "0.5812330623306233\n"
          ]
        },
        {
          "output_type": "display_data",
          "data": {
            "image/png": "[encoded data removed]",
            "text/plain": [
              "<Figure size 432x288 with 2 Axes>"
            ]
          },
          "metadata": {
            "needs_background": "light"
          }
        }
      ]
    }
  ]
}
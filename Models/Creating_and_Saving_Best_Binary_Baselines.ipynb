{
  "nbformat": 4,
  "nbformat_minor": 0,
  "metadata": {
    "colab": {
      "name": "Creating_and_Saving_Best_Binary_Baselines.ipynb",
      "provenance": [],
      "collapsed_sections": []
    },
    "kernelspec": {
      "name": "python3",
      "display_name": "Python 3"
    },
    "language_info": {
      "name": "python"
    },
    "accelerator": "GPU"
  },
  "cells": [
    {
      "cell_type": "code",
      "metadata": {
        "colab": {
          "base_uri": "https://localhost:8080/"
        },
        "id": "lUbp8-MVIYHv",
        "outputId": "24d294ee-16e6-48c2-cf21-d6c866bb77ad"
      },
      "source": [
        "from google.colab import drive\n",
        "drive.mount('/content/drive')"
      ],
      "execution_count": null,
      "outputs": [
        {
          "output_type": "stream",
          "name": "stdout",
          "text": [
            "Mounted at /content/drive\n"
          ]
        }
      ]
    },
    {
      "cell_type": "code",
      "metadata": {
        "id": "hEpQBx34_FqI"
      },
      "source": [
        "from keras.models import Sequential, load_model\n",
        "from keras.layers import Dense\n",
        "from keras.initializers import HeNormal\n",
        "from matplotlib import image\n",
        "from matplotlib import pyplot\n",
        "import os\n",
        "import shutil\n",
        "import numpy as np\n",
        "from PIL import Image\n",
        "import pickle\n"
      ],
      "execution_count": null,
      "outputs": []
    },
    {
      "cell_type": "markdown",
      "metadata": {
        "id": "rA23pJmlxK63"
      },
      "source": [
        "# **Binary Basic NN**"
      ]
    },
    {
      "cell_type": "code",
      "metadata": {
        "colab": {
          "base_uri": "https://localhost:8080/"
        },
        "id": "HipG1-3hJG_a",
        "outputId": "a6b45aed-82df-48f6-a293-c872fc76094e"
      },
      "source": [
        "ls \"drive/MyDrive/CS 230 Final Project/Final Data and CSVs/Final CSV Files and Data/Binary Split/\""
      ],
      "execution_count": null,
      "outputs": [
        {
          "output_type": "stream",
          "name": "stdout",
          "text": [
            "devSet.csv  dev_Y.p      test_X.p  trainSet.csv  train_Y.p\n",
            "dev_X.p     testSet.csv  test_Y.p  train_X.p\n"
          ]
        }
      ]
    },
    {
      "cell_type": "code",
      "metadata": {
        "colab": {
          "base_uri": "https://localhost:8080/"
        },
        "id": "diX-WnxEIj9q",
        "outputId": "54b9ac5a-db65-4a5c-8e27-8b48d7793ab2"
      },
      "source": [
        "pathToData = \"drive/MyDrive/CS 230 Final Project/Final Data and CSVs/Final CSV Files and Data/Binary Split/\"\n",
        "print(pathToData + \"train_X.p\")"
      ],
      "execution_count": null,
      "outputs": [
        {
          "output_type": "stream",
          "name": "stdout",
          "text": [
            "drive/MyDrive/CS 230 Final Project/Final Data and CSVs/Final CSV Files and Data/Binary Split/train_X.p\n"
          ]
        }
      ]
    },
    {
      "cell_type": "code",
      "metadata": {
        "colab": {
          "base_uri": "https://localhost:8080/"
        },
        "id": "J89iEqLK_5w1",
        "outputId": "84aed464-64bd-4b23-ac4c-e6f2b40f460d"
      },
      "source": [
        "# load the train dataset\n",
        "X_trainUnflat = pickle.load(open(pathToData+\"train_X.p\", 'rb'))\n",
        "y_trainUnflat = pickle.load(open(pathToData+\"train_Y.p\", 'rb'))\n",
        "\n",
        "print(X_trainUnflat.shape)\n",
        "print(y_trainUnflat.shape)\n",
        "\n",
        "X_train = X_trainUnflat.reshape(X_trainUnflat.shape[0],-1)\n",
        "y_train = y_trainUnflat.reshape(y_trainUnflat.shape[0],-1)\n",
        "\n",
        "print(X_train.shape)\n",
        "print(y_train.shape)\n",
        "\n",
        "# load the dev dataset\n",
        "X_devUnflat = pickle.load(open(pathToData+\"dev_X.p\", 'rb'))\n",
        "y_devUnflat = pickle.load(open(pathToData+\"dev_Y.p\", 'rb'))\n",
        "\n",
        "print(X_devUnflat.shape)\n",
        "print(y_devUnflat.shape)\n",
        "\n",
        "X_dev = X_devUnflat.reshape(X_devUnflat.shape[0],-1)\n",
        "y_dev = y_devUnflat.reshape(y_devUnflat.shape[0],-1)\n",
        "\n",
        "print(X_dev.shape)\n",
        "print(y_dev.shape)\n",
        "\n",
        "# load the test dataset\n",
        "X_testUnflat = pickle.load(open(pathToData+\"test_X.p\", 'rb'))\n",
        "y_testUnflat = pickle.load(open(pathToData+\"test_Y.p\", 'rb'))\n",
        "\n",
        "print(X_testUnflat.shape)\n",
        "print(y_testUnflat.shape)\n",
        "\n",
        "X_test = X_testUnflat.reshape(X_testUnflat.shape[0],-1)\n",
        "y_test = y_testUnflat.reshape(y_testUnflat.shape[0],-1)\n",
        "\n",
        "print(X_test.shape)\n",
        "print(y_test.shape)\n",
        "\n",
        "numDims = X_train.shape[1]\n",
        "numExamples = X_train.shape[0]\n",
        "\n",
        "neurons1 = int(numDims/240)\n",
        "neurons2 = int(numDims/480)\n",
        "neurons3 = int(numDims/960)\n",
        "neurons4 = int(numDims/1920)\n",
        "neurons5 = int(numDims/3840)\n",
        "neurons6 = int(numDims/7680)\n",
        "\n",
        "print(neurons1)\n",
        "print(neurons2)\n",
        "print(neurons3)\n",
        "print(neurons4)\n",
        "print(neurons5)\n",
        "print(neurons6)\n"
      ],
      "execution_count": null,
      "outputs": [
        {
          "output_type": "stream",
          "name": "stdout",
          "text": [
            "(4246, 208, 160, 3)\n",
            "(4246,)\n",
            "(4246, 99840)\n",
            "(4246, 1)\n",
            "(910, 208, 160, 3)\n",
            "(910,)\n",
            "(910, 99840)\n",
            "(910, 1)\n",
            "(910, 208, 160, 3)\n",
            "(910,)\n",
            "(910, 99840)\n",
            "(910, 1)\n",
            "416\n",
            "208\n",
            "104\n",
            "52\n",
            "26\n",
            "13\n"
          ]
        }
      ]
    },
    {
      "cell_type": "code",
      "metadata": {
        "colab": {
          "base_uri": "https://localhost:8080/"
        },
        "id": "QEMTIBocuMTe",
        "outputId": "73062b16-075e-4bf8-d009-51b1aa4367a4"
      },
      "source": [
        "bestEpoch = 27\n",
        "bestBatchSize = 50\n",
        "bestmodel = Sequential()\n",
        "bestmodel.add(Dense(neurons1, input_dim=numDims, activation='relu', kernel_initializer=HeNormal()))\n",
        "bestmodel.add(Dense(neurons2, activation='relu', kernel_initializer=HeNormal()))\n",
        "bestmodel.add(Dense(neurons3, activation='relu', kernel_initializer=HeNormal()))\n",
        "bestmodel.add(Dense(neurons4, activation='relu', kernel_initializer=HeNormal()))\n",
        "bestmodel.add(Dense(neurons5, activation='relu', kernel_initializer=HeNormal()))\n",
        "bestmodel.add(Dense(neurons6, activation='relu', kernel_initializer=HeNormal()))\n",
        "bestmodel.add(Dense(1, activation='sigmoid'))\n",
        "bestmodel.compile(loss='binary_crossentropy', optimizer='adam', metrics=['accuracy'])\n",
        "bestmodel.fit(X_train, y_train, epochs=bestEpoch, batch_size=bestBatchSize, validation_data = (X_dev, y_dev))"
      ],
      "execution_count": null,
      "outputs": [
        {
          "output_type": "stream",
          "name": "stdout",
          "text": [
            "Epoch 1/27\n",
            "85/85 [==============================] - 4s 34ms/step - loss: 474.7179 - accuracy: 0.5466 - val_loss: 19.8763 - val_accuracy: 0.6044\n",
            "Epoch 2/27\n",
            "85/85 [==============================] - 3s 30ms/step - loss: 65.2129 - accuracy: 0.6008 - val_loss: 15.7544 - val_accuracy: 0.6593\n",
            "Epoch 3/27\n",
            "85/85 [==============================] - 3s 30ms/step - loss: 36.6639 - accuracy: 0.6441 - val_loss: 68.9735 - val_accuracy: 0.3462\n",
            "Epoch 4/27\n",
            "85/85 [==============================] - 2s 29ms/step - loss: 52.1490 - accuracy: 0.6291 - val_loss: 23.8036 - val_accuracy: 0.6835\n",
            "Epoch 5/27\n",
            "85/85 [==============================] - 3s 31ms/step - loss: 10.7762 - accuracy: 0.7148 - val_loss: 4.8877 - val_accuracy: 0.7648\n",
            "Epoch 6/27\n",
            "85/85 [==============================] - 3s 30ms/step - loss: 10.3919 - accuracy: 0.6912 - val_loss: 10.2361 - val_accuracy: 0.5758\n",
            "Epoch 7/27\n",
            "85/85 [==============================] - 3s 30ms/step - loss: 18.7156 - accuracy: 0.6531 - val_loss: 6.9495 - val_accuracy: 0.7538\n",
            "Epoch 8/27\n",
            "85/85 [==============================] - 3s 30ms/step - loss: 4.1587 - accuracy: 0.7852 - val_loss: 3.8315 - val_accuracy: 0.8000\n",
            "Epoch 9/27\n",
            "85/85 [==============================] - 3s 30ms/step - loss: 4.7077 - accuracy: 0.7675 - val_loss: 11.3711 - val_accuracy: 0.5011\n",
            "Epoch 10/27\n",
            "85/85 [==============================] - 3s 30ms/step - loss: 2.8984 - accuracy: 0.7956 - val_loss: 4.9406 - val_accuracy: 0.6176\n",
            "Epoch 11/27\n",
            "85/85 [==============================] - 3s 30ms/step - loss: 3.7193 - accuracy: 0.7675 - val_loss: 2.7318 - val_accuracy: 0.7385\n",
            "Epoch 12/27\n",
            "85/85 [==============================] - 3s 31ms/step - loss: 3.7528 - accuracy: 0.7640 - val_loss: 2.2877 - val_accuracy: 0.8253\n",
            "Epoch 13/27\n",
            "85/85 [==============================] - 3s 30ms/step - loss: 1.1693 - accuracy: 0.8639 - val_loss: 1.7294 - val_accuracy: 0.8330\n",
            "Epoch 14/27\n",
            "85/85 [==============================] - 3s 32ms/step - loss: 2.3253 - accuracy: 0.7911 - val_loss: 2.2244 - val_accuracy: 0.7802\n",
            "Epoch 15/27\n",
            "85/85 [==============================] - 3s 30ms/step - loss: 1.7381 - accuracy: 0.8274 - val_loss: 2.0441 - val_accuracy: 0.8264\n",
            "Epoch 16/27\n",
            "85/85 [==============================] - 3s 31ms/step - loss: 1.2454 - accuracy: 0.8431 - val_loss: 1.2335 - val_accuracy: 0.8659\n",
            "Epoch 17/27\n",
            "85/85 [==============================] - 3s 30ms/step - loss: 1.2544 - accuracy: 0.8464 - val_loss: 1.8954 - val_accuracy: 0.8396\n",
            "Epoch 18/27\n",
            "85/85 [==============================] - 3s 30ms/step - loss: 1.0466 - accuracy: 0.8660 - val_loss: 5.4374 - val_accuracy: 0.5462\n",
            "Epoch 19/27\n",
            "85/85 [==============================] - 3s 30ms/step - loss: 0.9217 - accuracy: 0.8712 - val_loss: 1.2753 - val_accuracy: 0.8538\n",
            "Epoch 20/27\n",
            "85/85 [==============================] - 3s 30ms/step - loss: 0.7835 - accuracy: 0.8855 - val_loss: 1.1639 - val_accuracy: 0.8736\n",
            "Epoch 21/27\n",
            "85/85 [==============================] - 3s 30ms/step - loss: 0.6144 - accuracy: 0.9051 - val_loss: 1.0066 - val_accuracy: 0.8670\n",
            "Epoch 22/27\n",
            "85/85 [==============================] - 3s 32ms/step - loss: 0.3175 - accuracy: 0.9329 - val_loss: 0.9506 - val_accuracy: 0.8890\n",
            "Epoch 23/27\n",
            "85/85 [==============================] - 3s 30ms/step - loss: 0.7021 - accuracy: 0.8990 - val_loss: 1.2348 - val_accuracy: 0.8571\n",
            "Epoch 24/27\n",
            "85/85 [==============================] - 3s 30ms/step - loss: 0.3307 - accuracy: 0.9324 - val_loss: 1.8271 - val_accuracy: 0.7110\n",
            "Epoch 25/27\n",
            "85/85 [==============================] - 2s 29ms/step - loss: 2.0974 - accuracy: 0.8045 - val_loss: 10.5336 - val_accuracy: 0.6813\n",
            "Epoch 26/27\n",
            "85/85 [==============================] - 3s 30ms/step - loss: 1.8636 - accuracy: 0.8024 - val_loss: 1.1147 - val_accuracy: 0.8549\n",
            "Epoch 27/27\n",
            "85/85 [==============================] - 3s 30ms/step - loss: 0.7276 - accuracy: 0.8740 - val_loss: 1.2124 - val_accuracy: 0.8253\n"
          ]
        },
        {
          "output_type": "execute_result",
          "data": {
            "text/plain": [
              "<keras.callbacks.History at 0x7f974f13f490>"
            ]
          },
          "metadata": {},
          "execution_count": 10
        }
      ]
    },
    {
      "cell_type": "code",
      "metadata": {
        "colab": {
          "base_uri": "https://localhost:8080/"
        },
        "id": "mcopsbk6sJeH",
        "outputId": "147a1ac4-f02e-4352-9c11-88309345f760"
      },
      "source": [
        "_, accuracy = bestmodel.evaluate(X_test, y_test)\n",
        "print('Test Accuracy: %.2f' % (accuracy*100))"
      ],
      "execution_count": null,
      "outputs": [
        {
          "output_type": "stream",
          "name": "stdout",
          "text": [
            "29/29 [==============================] - 0s 9ms/step - loss: 1.4191 - accuracy: 0.8077\n",
            "Test Accuracy: 80.77\n"
          ]
        }
      ]
    },
    {
      "cell_type": "code",
      "metadata": {
        "colab": {
          "base_uri": "https://localhost:8080/"
        },
        "id": "OwsCxKZWuxax",
        "outputId": "950368aa-a98f-4363-fd61-7d15e668d3cf"
      },
      "source": [
        "pathToModels = \"drive/MyDrive/CS 230 Final Project/Models/\"\n",
        "print(pathToData+\"bestBinaryNNModel.h5\")\n"
      ],
      "execution_count": null,
      "outputs": [
        {
          "output_type": "stream",
          "name": "stdout",
          "text": [
            "drive/MyDrive/CS 230 Final Project/Final Data and CSVs/Final CSV Files and Data/Binary Split/bestBinaryNNModel.h5\n"
          ]
        }
      ]
    },
    {
      "cell_type": "code",
      "metadata": {
        "id": "pxmy-4FMsREo"
      },
      "source": [
        "bestmodel.save(pathToModels+\"bestBinaryNNModel.h5\")\n"
      ],
      "execution_count": null,
      "outputs": []
    },
    {
      "cell_type": "code",
      "metadata": {
        "id": "zQyirpTmwbdW"
      },
      "source": [
        "loadedBestModel = load_model(pathToModels+\"bestBinaryNNModel.h5\")"
      ],
      "execution_count": null,
      "outputs": []
    },
    {
      "cell_type": "code",
      "metadata": {
        "colab": {
          "base_uri": "https://localhost:8080/"
        },
        "id": "voG-xs7HxBvJ",
        "outputId": "401dab71-40a3-4a25-b1e7-007307e3fb1c"
      },
      "source": [
        "_, accuracy = loadedBestModel.evaluate(X_test, y_test)\n",
        "print('Test Accuracy: %.2f' % (accuracy*100))"
      ],
      "execution_count": null,
      "outputs": [
        {
          "output_type": "stream",
          "name": "stdout",
          "text": [
            "29/29 [==============================] - 0s 9ms/step - loss: 1.4191 - accuracy: 0.8077\n",
            "Test Accuracy: 80.77\n"
          ]
        }
      ]
    },
    {
      "cell_type": "markdown",
      "metadata": {
        "id": "ZmpCQpylxObc"
      },
      "source": [
        "# **Binary CNN**"
      ]
    },
    {
      "cell_type": "code",
      "metadata": {
        "id": "g_KaTobjxc7e"
      },
      "source": [
        "from keras.models import Sequential\n",
        "from keras.layers import Dense, Conv2D, Flatten, MaxPooling2D, AveragePooling2D, BatchNormalization\n",
        "from matplotlib import image\n",
        "from matplotlib import pyplot\n",
        "import os\n",
        "import shutil\n",
        "import numpy as np\n",
        "from PIL import Image\n",
        "import pickle"
      ],
      "execution_count": null,
      "outputs": []
    },
    {
      "cell_type": "code",
      "metadata": {
        "colab": {
          "base_uri": "https://localhost:8080/"
        },
        "id": "KqadxjSlxf-L",
        "outputId": "6c8c5222-34b7-4e9a-caad-11521e6e69af"
      },
      "source": [
        "pathToData = \"drive/MyDrive/CS 230 Final Project/Final Data and CSVs/Final CSV Files and Data/Binary Split/\"\n",
        "print(pathToData + \"train_X.p\")"
      ],
      "execution_count": null,
      "outputs": [
        {
          "output_type": "stream",
          "name": "stdout",
          "text": [
            "drive/MyDrive/CS 230 Final Project/Final Data and CSVs/Final CSV Files and Data/Binary Split/train_X.p\n"
          ]
        }
      ]
    },
    {
      "cell_type": "code",
      "metadata": {
        "colab": {
          "base_uri": "https://localhost:8080/"
        },
        "id": "MeDfDYfyxipL",
        "outputId": "97e60933-a70d-492d-95a9-1ecc9508a0b2"
      },
      "source": [
        "# load the train dataset\n",
        "X_train = pickle.load(open(pathToData+\"train_X.p\", 'rb'))\n",
        "y_train = pickle.load(open(pathToData+\"train_Y.p\", 'rb'))\n",
        "#y_train = y_train.reshape(y_train.shape[0],-1)\n",
        "\n",
        "print(X_train.shape)\n",
        "print(y_train.shape)\n",
        "\n",
        "\n",
        "# load the dev dataset\n",
        "X_dev = pickle.load(open(pathToData+\"dev_X.p\", 'rb'))\n",
        "y_dev = pickle.load(open(pathToData+\"dev_Y.p\", 'rb'))\n",
        "#y_dev = y_dev.reshape(y_dev.shape[0],-1)\n",
        "\n",
        "print(X_dev.shape)\n",
        "print(y_dev.shape)\n",
        "\n",
        "# load the test dataset\n",
        "X_test = pickle.load(open(pathToData+\"test_X.p\", 'rb'))\n",
        "y_test = pickle.load(open(pathToData+\"test_Y.p\", 'rb'))\n",
        "#y_test= y_test.reshape(y_test.shape[0],-1)\n",
        "\n",
        "print(X_test.shape)\n",
        "print(y_test.shape)\n",
        "\n",
        "print(X_train.shape[1:])"
      ],
      "execution_count": null,
      "outputs": [
        {
          "output_type": "stream",
          "name": "stdout",
          "text": [
            "(4246, 208, 160, 3)\n",
            "(4246,)\n",
            "(910, 208, 160, 3)\n",
            "(910,)\n",
            "(910, 208, 160, 3)\n",
            "(910,)\n",
            "(208, 160, 3)\n"
          ]
        }
      ]
    },
    {
      "cell_type": "code",
      "metadata": {
        "colab": {
          "base_uri": "https://localhost:8080/"
        },
        "id": "NwRvfwNExjq6",
        "outputId": "cde5541c-4f7f-4743-f41e-5d62afdd9d2d"
      },
      "source": [
        "numExamples = X_train.shape[0]\n",
        "print(numExamples)"
      ],
      "execution_count": null,
      "outputs": [
        {
          "output_type": "stream",
          "name": "stdout",
          "text": [
            "4246\n"
          ]
        }
      ]
    },
    {
      "cell_type": "code",
      "metadata": {
        "id": "VYYNL7tvxmsH"
      },
      "source": [
        "bestEpochs = 13\n",
        "bestBatchSize = 5"
      ],
      "execution_count": null,
      "outputs": []
    },
    {
      "cell_type": "code",
      "metadata": {
        "colab": {
          "base_uri": "https://localhost:8080/"
        },
        "id": "_djeTzS40acP",
        "outputId": "5dc2ce13-7f75-46b7-a66a-59b8d255d83c"
      },
      "source": [
        "bestmodelCNN = Sequential()\n",
        "\n",
        "bestmodelCNN.add(Conv2D(32, kernel_size=5, padding=\"same\", input_shape= X_train.shape[1:], activation = \"relu\"))\n",
        "bestmodelCNN.add(BatchNormalization())\n",
        "bestmodelCNN.add(MaxPooling2D(pool_size=3, padding=\"valid\", strides=(2,2)))\n",
        "\n",
        "bestmodelCNN.add(Conv2D(64, kernel_size=5, padding=\"same\", activation = \"relu\"))\n",
        "bestmodelCNN.add(BatchNormalization())\n",
        "bestmodelCNN.add(MaxPooling2D(pool_size=3, padding=\"valid\", strides=(2,2)))\n",
        "\n",
        "bestmodelCNN.add(Conv2D(64, kernel_size=5, padding=\"same\", activation = \"relu\"))\n",
        "bestmodelCNN.add(BatchNormalization())\n",
        "bestmodelCNN.add(MaxPooling2D(pool_size=3, padding=\"valid\", strides=(2,2)))\n",
        "\n",
        "bestmodelCNN.add(Conv2D(128, kernel_size=5, padding=\"same\", activation = \"relu\"))\n",
        "bestmodelCNN.add(BatchNormalization())\n",
        "bestmodelCNN.add(MaxPooling2D(pool_size=3, padding=\"valid\", strides=(2,2)))\n",
        "\n",
        "bestmodelCNN.add(Conv2D(256, kernel_size=5, padding=\"same\", activation = \"relu\"))\n",
        "bestmodelCNN.add(BatchNormalization())\n",
        "bestmodelCNN.add(MaxPooling2D(pool_size=3, padding=\"valid\", strides=(2,2)))\n",
        "\n",
        "bestmodelCNN.add(Flatten())\n",
        "\n",
        "bestmodelCNN.add(Dense(5120, activation=\"relu\"))\n",
        "bestmodelCNN.add(Dense(1, activation='sigmoid'))\n",
        "\n",
        "\n",
        "bestmodelCNN.compile(loss='binary_crossentropy', optimizer='adam', metrics=['accuracy'])\n",
        "bestmodelCNN.fit(X_train, y_train, epochs=bestEpochs, batch_size=bestBatchSize, validation_data = (X_dev, y_dev))"
      ],
      "execution_count": null,
      "outputs": [
        {
          "output_type": "stream",
          "name": "stdout",
          "text": [
            "Epoch 1/13\n",
            "850/850 [==============================] - 42s 49ms/step - loss: 1.1891 - accuracy: 0.6394 - val_loss: 0.6415 - val_accuracy: 0.6703\n",
            "Epoch 2/13\n",
            "850/850 [==============================] - 41s 48ms/step - loss: 0.6411 - accuracy: 0.6679 - val_loss: 0.6041 - val_accuracy: 0.6890\n",
            "Epoch 3/13\n",
            "850/850 [==============================] - 41s 48ms/step - loss: 0.6106 - accuracy: 0.6764 - val_loss: 0.5843 - val_accuracy: 0.7165\n",
            "Epoch 4/13\n",
            "850/850 [==============================] - 40s 47ms/step - loss: 0.5978 - accuracy: 0.6722 - val_loss: 0.5747 - val_accuracy: 0.7000\n",
            "Epoch 5/13\n",
            "850/850 [==============================] - 41s 48ms/step - loss: 0.5959 - accuracy: 0.6842 - val_loss: 0.6825 - val_accuracy: 0.5407\n",
            "Epoch 6/13\n",
            "850/850 [==============================] - 40s 48ms/step - loss: 0.5716 - accuracy: 0.7009 - val_loss: 0.5522 - val_accuracy: 0.7527\n",
            "Epoch 7/13\n",
            "850/850 [==============================] - 41s 48ms/step - loss: 0.5502 - accuracy: 0.7148 - val_loss: 0.7175 - val_accuracy: 0.6956\n",
            "Epoch 8/13\n",
            "850/850 [==============================] - 41s 48ms/step - loss: 0.5185 - accuracy: 0.7412 - val_loss: 0.8347 - val_accuracy: 0.6912\n",
            "Epoch 9/13\n",
            "850/850 [==============================] - 41s 48ms/step - loss: 0.5610 - accuracy: 0.7190 - val_loss: 0.5054 - val_accuracy: 0.7703\n",
            "Epoch 10/13\n",
            "850/850 [==============================] - 41s 48ms/step - loss: 0.4727 - accuracy: 0.7812 - val_loss: 0.4564 - val_accuracy: 0.7769\n",
            "Epoch 11/13\n",
            "850/850 [==============================] - 40s 47ms/step - loss: 0.4011 - accuracy: 0.8146 - val_loss: 0.4087 - val_accuracy: 0.8253\n",
            "Epoch 12/13\n",
            "850/850 [==============================] - 40s 47ms/step - loss: 0.3278 - accuracy: 0.8625 - val_loss: 0.4984 - val_accuracy: 0.7582\n",
            "Epoch 13/13\n",
            "850/850 [==============================] - 41s 48ms/step - loss: 0.2721 - accuracy: 0.8898 - val_loss: 0.3381 - val_accuracy: 0.8637\n"
          ]
        },
        {
          "output_type": "execute_result",
          "data": {
            "text/plain": [
              "<keras.callbacks.History at 0x7f974cde8050>"
            ]
          },
          "metadata": {},
          "execution_count": 36
        }
      ]
    },
    {
      "cell_type": "code",
      "metadata": {
        "colab": {
          "base_uri": "https://localhost:8080/"
        },
        "id": "gManGoXLxqGU",
        "outputId": "45c5d74a-331f-44f2-9393-4326dca989b9"
      },
      "source": [
        "_, accuracy = bestmodelCNN.evaluate(X_test, y_test)\n",
        "print('Test Accuracy: %.2f' % (accuracy*100))"
      ],
      "execution_count": null,
      "outputs": [
        {
          "output_type": "stream",
          "name": "stdout",
          "text": [
            "29/29 [==============================] - 1s 39ms/step - loss: 0.3227 - accuracy: 0.8681\n",
            "Test Accuracy: 86.81\n"
          ]
        }
      ]
    },
    {
      "cell_type": "code",
      "metadata": {
        "colab": {
          "base_uri": "https://localhost:8080/"
        },
        "id": "p1vUtd7hx9dt",
        "outputId": "3d066355-1eb7-46bd-fc0b-0ac8442fb7a3"
      },
      "source": [
        "pathToModels = \"drive/MyDrive/CS 230 Final Project/Models/\"\n",
        "print(pathToModels+\"bestBinaryCNNModel.h5\")\n"
      ],
      "execution_count": null,
      "outputs": [
        {
          "output_type": "stream",
          "name": "stdout",
          "text": [
            "drive/MyDrive/CS 230 Final Project/Models/bestBinaryCNNModel.h5\n"
          ]
        }
      ]
    },
    {
      "cell_type": "code",
      "metadata": {
        "id": "ZrZSo3whx9du"
      },
      "source": [
        "bestmodelCNN.save(pathToModels+\"bestBinaryCNNModel.h5\")\n"
      ],
      "execution_count": null,
      "outputs": []
    },
    {
      "cell_type": "code",
      "metadata": {
        "id": "XYEx_1jVx9du"
      },
      "source": [
        "loadedBestCNNModel = load_model(pathToModels+\"bestBinaryCNNModel.h5\")"
      ],
      "execution_count": null,
      "outputs": []
    },
    {
      "cell_type": "code",
      "metadata": {
        "colab": {
          "base_uri": "https://localhost:8080/"
        },
        "id": "8S4T4t03x9du",
        "outputId": "ab216cef-5729-4dde-bac3-2161fd6be5ad"
      },
      "source": [
        "_, accuracy = loadedBestCNNModel.evaluate(X_test, y_test)\n",
        "print('Test Accuracy: %.2f' % (accuracy*100))"
      ],
      "execution_count": null,
      "outputs": [
        {
          "output_type": "stream",
          "name": "stdout",
          "text": [
            "29/29 [==============================] - 1s 38ms/step - loss: 0.3227 - accuracy: 0.8681\n",
            "Test Accuracy: 86.81\n"
          ]
        }
      ]
    }
  ]
}
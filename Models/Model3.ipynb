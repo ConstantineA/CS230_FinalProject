{
  "nbformat": 4,
  "nbformat_minor": 0,
  "metadata": {
    "colab": {
      "name": "Model3.ipynb",
      "provenance": [],
      "collapsed_sections": []
    },
    "kernelspec": {
      "name": "python3",
      "display_name": "Python 3"
    },
    "language_info": {
      "name": "python"
    },
    "accelerator": "GPU"
  },
  "cells": [
    {
      "cell_type": "code",
      "metadata": {
        "colab": {
          "base_uri": "https://localhost:8080/"
        },
        "id": "PtJE_MvFVRzt",
        "outputId": "4837bd61-e98f-4bb9-bc7a-6eba6f4074f9"
      },
      "source": [
        "from google.colab import drive\n",
        "drive.mount('/content/drive')"
      ],
      "execution_count": null,
      "outputs": [
        {
          "output_type": "stream",
          "name": "stdout",
          "text": [
            "Mounted at /content/drive\n"
          ]
        }
      ]
    },
    {
      "cell_type": "code",
      "metadata": {
        "id": "vwxLv2-JZkKb"
      },
      "source": [
        "from keras.models import Sequential\n",
        "from keras.layers import Dense\n",
        "from keras.initializers import HeNormal\n",
        "from matplotlib import image\n",
        "from matplotlib import pyplot\n",
        "import os\n",
        "import shutil\n",
        "import numpy as np\n",
        "from PIL import Image\n",
        "import pickle\n",
        "from sklearn.preprocessing import MultiLabelBinarizer\n"
      ],
      "execution_count": null,
      "outputs": []
    },
    {
      "cell_type": "code",
      "metadata": {
        "colab": {
          "base_uri": "https://localhost:8080/"
        },
        "id": "BrB8NYfIVfBo",
        "outputId": "7cf77ea3-58b0-4f0b-e22f-9a810b44ea50"
      },
      "source": [
        "ls \"drive/MyDrive/CS 230 Final Project/Final Data and CSVs/Final CSV Files and Data/Multi Split/\""
      ],
      "execution_count": null,
      "outputs": [
        {
          "output_type": "stream",
          "name": "stdout",
          "text": [
            "devSet.csv  dev_Y.p      test_X.p  trainSet.csv  train_Y.p\n",
            "dev_X.p     testSet.csv  test_Y.p  train_X.p\n"
          ]
        }
      ]
    },
    {
      "cell_type": "code",
      "metadata": {
        "colab": {
          "base_uri": "https://localhost:8080/"
        },
        "id": "Zzg3NvdFVmPu",
        "outputId": "62d0baa4-cb60-4241-c5d2-ca4240bd8d2d"
      },
      "source": [
        "pathToData = \"drive/MyDrive/CS 230 Final Project/Final Data and CSVs/Final CSV Files and Data/Multi Split/\"\n",
        "print(pathToData + \"train_X.p\")"
      ],
      "execution_count": null,
      "outputs": [
        {
          "output_type": "stream",
          "name": "stdout",
          "text": [
            "drive/MyDrive/CS 230 Final Project/Final Data and CSVs/Final CSV Files and Data/Multi Split/train_X.p\n"
          ]
        }
      ]
    },
    {
      "cell_type": "code",
      "metadata": {
        "colab": {
          "base_uri": "https://localhost:8080/"
        },
        "id": "cH7pHKGviiEU",
        "outputId": "0901fa64-af41-40f9-86f7-ddf362d710c2"
      },
      "source": [
        "mlb = MultiLabelBinarizer()\n",
        "# load the train dataset\n",
        "X_trainUnflat = pickle.load(open(pathToData+\"train_X.p\", 'rb'))\n",
        "y_trainUnflat = pickle.load(open(pathToData+\"train_Y.p\", 'rb'))\n",
        "\n",
        "print(X_trainUnflat.shape)\n",
        "print(y_trainUnflat.shape)\n",
        "\n",
        "X_train = X_trainUnflat.reshape(X_trainUnflat.shape[0],-1)\n",
        "y_train = y_trainUnflat.reshape(y_trainUnflat.shape[0],-1)\n",
        "y_train = mlb.fit_transform(y_train)\n",
        "\n",
        "print(X_train.shape)\n",
        "print(y_train.shape)\n",
        "\n",
        "# load the dev dataset\n",
        "X_devUnflat = pickle.load(open(pathToData+\"dev_X.p\", 'rb'))\n",
        "y_devUnflat = pickle.load(open(pathToData+\"dev_Y.p\", 'rb'))\n",
        "\n",
        "print(X_devUnflat.shape)\n",
        "print(y_devUnflat.shape)\n",
        "\n",
        "X_dev = X_devUnflat.reshape(X_devUnflat.shape[0],-1)\n",
        "y_dev = y_devUnflat.reshape(y_devUnflat.shape[0],-1)\n",
        "y_dev = mlb.fit_transform(y_dev)\n",
        "\n",
        "print(X_dev.shape)\n",
        "print(y_dev.shape)\n",
        "\n",
        "# load the test dataset\n",
        "X_testUnflat = pickle.load(open(pathToData+\"test_X.p\", 'rb'))\n",
        "y_testUnflat = pickle.load(open(pathToData+\"test_Y.p\", 'rb'))\n",
        "\n",
        "print(X_testUnflat.shape)\n",
        "print(y_testUnflat.shape)\n",
        "\n",
        "X_test = X_testUnflat.reshape(X_testUnflat.shape[0],-1)\n",
        "y_test = y_testUnflat.reshape(y_testUnflat.shape[0],-1)\n",
        "y_test = mlb.fit_transform(y_test)\n",
        "\n",
        "print(X_test.shape)\n",
        "print(y_test.shape)\n",
        "\n"
      ],
      "execution_count": null,
      "outputs": [
        {
          "output_type": "stream",
          "name": "stdout",
          "text": [
            "(4246, 208, 160, 3)\n",
            "(4246,)\n",
            "(4246, 99840)\n",
            "(4246, 3)\n",
            "(910, 208, 160, 3)\n",
            "(910,)\n",
            "(910, 99840)\n",
            "(910, 3)\n",
            "(910, 208, 160, 3)\n",
            "(910,)\n",
            "(910, 99840)\n",
            "(910, 3)\n"
          ]
        }
      ]
    },
    {
      "cell_type": "code",
      "metadata": {
        "colab": {
          "base_uri": "https://localhost:8080/"
        },
        "id": "UjtTikMEj0kQ",
        "outputId": "c7b410bc-6427-40b8-f4be-540c2e3e5817"
      },
      "source": [
        "numDims = X_train.shape[1]\n",
        "numExamples = X_train.shape[0]\n",
        "\n",
        "neurons1 = int(numDims/240)\n",
        "neurons2 = int(numDims/480)\n",
        "neurons3 = int(numDims/960)\n",
        "neurons4 = int(numDims/1920)\n",
        "neurons5 = int(numDims/3840)\n",
        "neurons6 = int(numDims/7680)\n",
        "\n",
        "print(neurons1)\n",
        "print(neurons2)\n",
        "print(neurons3)\n",
        "print(neurons4)\n",
        "print(neurons5)\n",
        "print(neurons6)"
      ],
      "execution_count": null,
      "outputs": [
        {
          "output_type": "stream",
          "name": "stdout",
          "text": [
            "416\n",
            "208\n",
            "104\n",
            "52\n",
            "26\n",
            "13\n"
          ]
        }
      ]
    },
    {
      "cell_type": "code",
      "metadata": {
        "colab": {
          "base_uri": "https://localhost:8080/"
        },
        "id": "FMa8byYBimxw",
        "outputId": "aa2a1f45-6aff-4c9e-f477-d7d6a34eee43"
      },
      "source": [
        "#HYPERPARAMETER SEARCH OVER EPOCH NUMBER\n",
        "#We keep number of layers, neuron per layer, activation in each layer constant\n",
        "batchSizes = [100,200,300]\n",
        "\n",
        "print(batchSizes)\n",
        "num_epochs = 50"
      ],
      "execution_count": null,
      "outputs": [
        {
          "output_type": "stream",
          "name": "stdout",
          "text": [
            "[100, 200, 300]\n"
          ]
        }
      ]
    },
    {
      "cell_type": "code",
      "metadata": {
        "colab": {
          "base_uri": "https://localhost:8080/",
          "height": 1000
        },
        "id": "gIBjYGp-ioh0",
        "outputId": "00d4631c-2b61-4b5c-fa6d-26039c7b05db"
      },
      "source": [
        "trainAccuracy = []\n",
        "valAccuracy = []\n",
        "trainLoss = []\n",
        "valLoss = []\n",
        "\n",
        "for batchSize in batchSizes:\n",
        "  print(\"BatchSize : \", batchSize)\n",
        "  model = Sequential()\n",
        "  model.add(Dense(neurons1, input_dim=numDims, activation='relu', kernel_initializer=HeNormal()))\n",
        "  model.add(Dense(neurons5, activation='relu', kernel_initializer=HeNormal()))\n",
        "  model.add(Dense(neurons6, activation='relu', kernel_initializer=HeNormal()))\n",
        "  model.add(Dense(3, activation='softmax'))\n",
        "\n",
        "  model.compile(loss='categorical_crossentropy', optimizer='adam', metrics=['categorical_accuracy'])\n",
        "  history = model.fit(X_train, y_train, epochs=num_epochs, batch_size=batchSize, validation_data = (X_dev, y_dev))\n",
        "  historyDict = history.history\n",
        "  #print(historyDict.keys())\n",
        "  #trainAccuracy.append(historyDict[\"accuracy\"])\n",
        "  #valAccuracy.append(historyDict[\"val_accuracy\"])\n",
        "  trainLoss.append(historyDict['loss'])\n",
        "  valLoss.append(historyDict['val_loss'])\n",
        "\n",
        "  labelName = \"Batch Size \" + str(batchSize)\n",
        "  pyplot.plot([i for i in range(1,num_epochs+1)], historyDict['loss'],label=labelName)\n",
        "\n",
        "  pyplot.legend()\n",
        "  pyplot.xlabel(\"Number of Epochs\")\n",
        "  pyplot.ylabel(\"Train Loss\")\n",
        "  pyplot.show()"
      ],
      "execution_count": null,
      "outputs": [
        {
          "output_type": "stream",
          "name": "stdout",
          "text": [
            "BatchSize :  100\n",
            "Epoch 1/50\n",
            "43/43 [==============================] - 3s 51ms/step - loss: 863.6332 - categorical_accuracy: 0.3144 - val_loss: 118.4690 - val_categorical_accuracy: 0.4956\n",
            "Epoch 2/50\n",
            "43/43 [==============================] - 2s 42ms/step - loss: 27.6215 - categorical_accuracy: 0.4880 - val_loss: 1.0804 - val_categorical_accuracy: 0.4747\n",
            "Epoch 3/50\n",
            "43/43 [==============================] - 2s 41ms/step - loss: 1.0712 - categorical_accuracy: 0.4936 - val_loss: 1.0697 - val_categorical_accuracy: 0.4747\n",
            "Epoch 4/50\n",
            "43/43 [==============================] - 2s 45ms/step - loss: 1.0605 - categorical_accuracy: 0.4936 - val_loss: 1.0626 - val_categorical_accuracy: 0.4747\n",
            "Epoch 5/50\n",
            "43/43 [==============================] - 2s 41ms/step - loss: 1.0525 - categorical_accuracy: 0.4936 - val_loss: 1.0573 - val_categorical_accuracy: 0.4747\n",
            "Epoch 6/50\n",
            "43/43 [==============================] - 2s 41ms/step - loss: 1.0464 - categorical_accuracy: 0.4936 - val_loss: 1.0534 - val_categorical_accuracy: 0.4747\n",
            "Epoch 7/50\n",
            "43/43 [==============================] - 2s 42ms/step - loss: 1.0416 - categorical_accuracy: 0.4936 - val_loss: 1.0505 - val_categorical_accuracy: 0.4747\n",
            "Epoch 8/50\n",
            "43/43 [==============================] - 2s 42ms/step - loss: 1.0379 - categorical_accuracy: 0.4936 - val_loss: 1.0481 - val_categorical_accuracy: 0.4747\n",
            "Epoch 9/50\n",
            "43/43 [==============================] - 2s 41ms/step - loss: 1.0349 - categorical_accuracy: 0.4936 - val_loss: 1.0464 - val_categorical_accuracy: 0.4747\n",
            "Epoch 10/50\n",
            "43/43 [==============================] - 2s 41ms/step - loss: 1.0324 - categorical_accuracy: 0.4936 - val_loss: 1.0449 - val_categorical_accuracy: 0.4747\n",
            "Epoch 11/50\n",
            "43/43 [==============================] - 2s 45ms/step - loss: 1.0304 - categorical_accuracy: 0.4936 - val_loss: 1.0441 - val_categorical_accuracy: 0.4747\n",
            "Epoch 12/50\n",
            "43/43 [==============================] - 2s 45ms/step - loss: 1.0289 - categorical_accuracy: 0.4936 - val_loss: 1.0434 - val_categorical_accuracy: 0.4747\n",
            "Epoch 13/50\n",
            "43/43 [==============================] - 2s 42ms/step - loss: 1.0278 - categorical_accuracy: 0.4936 - val_loss: 1.0430 - val_categorical_accuracy: 0.4747\n",
            "Epoch 14/50\n",
            "43/43 [==============================] - 2s 44ms/step - loss: 1.0268 - categorical_accuracy: 0.4936 - val_loss: 1.0426 - val_categorical_accuracy: 0.4747\n",
            "Epoch 15/50\n",
            "43/43 [==============================] - 2s 41ms/step - loss: 1.0262 - categorical_accuracy: 0.4936 - val_loss: 1.0425 - val_categorical_accuracy: 0.4747\n",
            "Epoch 16/50\n",
            "43/43 [==============================] - 2s 45ms/step - loss: 1.0257 - categorical_accuracy: 0.4936 - val_loss: 1.0425 - val_categorical_accuracy: 0.4747\n",
            "Epoch 17/50\n",
            "43/43 [==============================] - 2s 41ms/step - loss: 1.0254 - categorical_accuracy: 0.4936 - val_loss: 1.0423 - val_categorical_accuracy: 0.4747\n",
            "Epoch 18/50\n",
            "43/43 [==============================] - 2s 41ms/step - loss: 1.0251 - categorical_accuracy: 0.4936 - val_loss: 1.0426 - val_categorical_accuracy: 0.4747\n",
            "Epoch 19/50\n",
            "43/43 [==============================] - 2s 41ms/step - loss: 1.0249 - categorical_accuracy: 0.4936 - val_loss: 1.0427 - val_categorical_accuracy: 0.4747\n",
            "Epoch 20/50\n",
            "43/43 [==============================] - 2s 41ms/step - loss: 1.0248 - categorical_accuracy: 0.4936 - val_loss: 1.0426 - val_categorical_accuracy: 0.4747\n",
            "Epoch 21/50\n",
            "43/43 [==============================] - 2s 45ms/step - loss: 1.0248 - categorical_accuracy: 0.4936 - val_loss: 1.0428 - val_categorical_accuracy: 0.4747\n",
            "Epoch 22/50\n",
            "43/43 [==============================] - 2s 41ms/step - loss: 1.0248 - categorical_accuracy: 0.4936 - val_loss: 1.0430 - val_categorical_accuracy: 0.4747\n",
            "Epoch 23/50\n",
            "43/43 [==============================] - 2s 42ms/step - loss: 1.0247 - categorical_accuracy: 0.4936 - val_loss: 1.0429 - val_categorical_accuracy: 0.4747\n",
            "Epoch 24/50\n",
            "43/43 [==============================] - 2s 42ms/step - loss: 1.0247 - categorical_accuracy: 0.4936 - val_loss: 1.0429 - val_categorical_accuracy: 0.4747\n",
            "Epoch 25/50\n",
            "43/43 [==============================] - 2s 45ms/step - loss: 1.0247 - categorical_accuracy: 0.4936 - val_loss: 1.0431 - val_categorical_accuracy: 0.4747\n",
            "Epoch 26/50\n",
            "43/43 [==============================] - 2s 41ms/step - loss: 1.0247 - categorical_accuracy: 0.4936 - val_loss: 1.0431 - val_categorical_accuracy: 0.4747\n",
            "Epoch 27/50\n",
            "43/43 [==============================] - 2s 41ms/step - loss: 1.0247 - categorical_accuracy: 0.4936 - val_loss: 1.0430 - val_categorical_accuracy: 0.4747\n",
            "Epoch 28/50\n",
            "43/43 [==============================] - 2s 45ms/step - loss: 1.0247 - categorical_accuracy: 0.4936 - val_loss: 1.0433 - val_categorical_accuracy: 0.4747\n",
            "Epoch 29/50\n",
            "43/43 [==============================] - 2s 44ms/step - loss: 1.0247 - categorical_accuracy: 0.4936 - val_loss: 1.0431 - val_categorical_accuracy: 0.4747\n",
            "Epoch 30/50\n",
            "43/43 [==============================] - 2s 45ms/step - loss: 1.0247 - categorical_accuracy: 0.4936 - val_loss: 1.0432 - val_categorical_accuracy: 0.4747\n",
            "Epoch 31/50\n",
            "43/43 [==============================] - 2s 41ms/step - loss: 1.0247 - categorical_accuracy: 0.4936 - val_loss: 1.0431 - val_categorical_accuracy: 0.4747\n",
            "Epoch 32/50\n",
            "43/43 [==============================] - 2s 41ms/step - loss: 1.0247 - categorical_accuracy: 0.4936 - val_loss: 1.0432 - val_categorical_accuracy: 0.4747\n",
            "Epoch 33/50\n",
            "43/43 [==============================] - 2s 41ms/step - loss: 1.0248 - categorical_accuracy: 0.4936 - val_loss: 1.0434 - val_categorical_accuracy: 0.4747\n",
            "Epoch 34/50\n",
            "43/43 [==============================] - 2s 44ms/step - loss: 1.0248 - categorical_accuracy: 0.4936 - val_loss: 1.0431 - val_categorical_accuracy: 0.4747\n",
            "Epoch 35/50\n",
            "43/43 [==============================] - 2s 42ms/step - loss: 1.0247 - categorical_accuracy: 0.4936 - val_loss: 1.0433 - val_categorical_accuracy: 0.4747\n",
            "Epoch 36/50\n",
            "43/43 [==============================] - 2s 41ms/step - loss: 1.0248 - categorical_accuracy: 0.4936 - val_loss: 1.0432 - val_categorical_accuracy: 0.4747\n",
            "Epoch 37/50\n",
            "43/43 [==============================] - 2s 41ms/step - loss: 1.0246 - categorical_accuracy: 0.4936 - val_loss: 1.0431 - val_categorical_accuracy: 0.4747\n",
            "Epoch 38/50\n",
            "43/43 [==============================] - 2s 41ms/step - loss: 1.0248 - categorical_accuracy: 0.4936 - val_loss: 1.0431 - val_categorical_accuracy: 0.4747\n",
            "Epoch 39/50\n",
            "43/43 [==============================] - 2s 41ms/step - loss: 1.0247 - categorical_accuracy: 0.4936 - val_loss: 1.0432 - val_categorical_accuracy: 0.4747\n",
            "Epoch 40/50\n",
            "43/43 [==============================] - 2s 41ms/step - loss: 1.0247 - categorical_accuracy: 0.4936 - val_loss: 1.0434 - val_categorical_accuracy: 0.4747\n",
            "Epoch 41/50\n",
            "43/43 [==============================] - 2s 44ms/step - loss: 1.0247 - categorical_accuracy: 0.4936 - val_loss: 1.0433 - val_categorical_accuracy: 0.4747\n",
            "Epoch 42/50\n",
            "43/43 [==============================] - 2s 41ms/step - loss: 1.0248 - categorical_accuracy: 0.4936 - val_loss: 1.0433 - val_categorical_accuracy: 0.4747\n",
            "Epoch 43/50\n",
            "43/43 [==============================] - 2s 41ms/step - loss: 1.0247 - categorical_accuracy: 0.4936 - val_loss: 1.0433 - val_categorical_accuracy: 0.4747\n",
            "Epoch 44/50\n",
            "43/43 [==============================] - 2s 41ms/step - loss: 1.0247 - categorical_accuracy: 0.4936 - val_loss: 1.0431 - val_categorical_accuracy: 0.4747\n",
            "Epoch 45/50\n",
            "43/43 [==============================] - 2s 41ms/step - loss: 1.0247 - categorical_accuracy: 0.4936 - val_loss: 1.0432 - val_categorical_accuracy: 0.4747\n",
            "Epoch 46/50\n",
            "43/43 [==============================] - 2s 41ms/step - loss: 1.0247 - categorical_accuracy: 0.4936 - val_loss: 1.0431 - val_categorical_accuracy: 0.4747\n",
            "Epoch 47/50\n",
            "43/43 [==============================] - 2s 42ms/step - loss: 1.0247 - categorical_accuracy: 0.4936 - val_loss: 1.0433 - val_categorical_accuracy: 0.4747\n",
            "Epoch 48/50\n",
            "43/43 [==============================] - 2s 42ms/step - loss: 1.0247 - categorical_accuracy: 0.4936 - val_loss: 1.0432 - val_categorical_accuracy: 0.4747\n",
            "Epoch 49/50\n",
            "43/43 [==============================] - 2s 41ms/step - loss: 1.0247 - categorical_accuracy: 0.4936 - val_loss: 1.0431 - val_categorical_accuracy: 0.4747\n",
            "Epoch 50/50\n",
            "43/43 [==============================] - 2s 42ms/step - loss: 1.0247 - categorical_accuracy: 0.4936 - val_loss: 1.0433 - val_categorical_accuracy: 0.4747\n"
          ]
        },
        {
          "output_type": "display_data",
          "data": {
            "image/png": "[encoded data removed]",
            "text/plain": [
              "<Figure size 432x288 with 1 Axes>"
            ]
          },
          "metadata": {
            "needs_background": "light"
          }
        },
        {
          "output_type": "stream",
          "name": "stdout",
          "text": [
            "BatchSize :  200\n",
            "Epoch 1/50\n",
            "22/22 [==============================] - 2s 78ms/step - loss: 2075.9233 - categorical_accuracy: 0.3848 - val_loss: 877.1316 - val_categorical_accuracy: 0.3231\n",
            "Epoch 2/50\n",
            "22/22 [==============================] - 1s 61ms/step - loss: 405.3596 - categorical_accuracy: 0.4510 - val_loss: 121.4630 - val_categorical_accuracy: 0.4868\n",
            "Epoch 3/50\n",
            "22/22 [==============================] - 1s 60ms/step - loss: 169.5724 - categorical_accuracy: 0.4482 - val_loss: 326.0805 - val_categorical_accuracy: 0.3824\n",
            "Epoch 4/50\n",
            "22/22 [==============================] - 1s 61ms/step - loss: 285.6884 - categorical_accuracy: 0.4480 - val_loss: 415.9528 - val_categorical_accuracy: 0.3429\n",
            "Epoch 5/50\n",
            "22/22 [==============================] - 1s 58ms/step - loss: 152.2865 - categorical_accuracy: 0.5007 - val_loss: 77.4154 - val_categorical_accuracy: 0.5527\n",
            "Epoch 6/50\n",
            "22/22 [==============================] - 1s 58ms/step - loss: 88.8372 - categorical_accuracy: 0.5523 - val_loss: 137.5523 - val_categorical_accuracy: 0.4429\n",
            "Epoch 7/50\n",
            "22/22 [==============================] - 1s 59ms/step - loss: 58.5523 - categorical_accuracy: 0.6010 - val_loss: 88.3836 - val_categorical_accuracy: 0.4209\n",
            "Epoch 8/50\n",
            "22/22 [==============================] - 1s 60ms/step - loss: 133.2206 - categorical_accuracy: 0.4899 - val_loss: 53.8738 - val_categorical_accuracy: 0.5934\n",
            "Epoch 9/50\n",
            "22/22 [==============================] - 1s 60ms/step - loss: 58.4862 - categorical_accuracy: 0.6154 - val_loss: 142.6213 - val_categorical_accuracy: 0.4912\n",
            "Epoch 10/50\n",
            "22/22 [==============================] - 1s 61ms/step - loss: 79.7778 - categorical_accuracy: 0.5582 - val_loss: 44.9559 - val_categorical_accuracy: 0.6055\n",
            "Epoch 11/50\n",
            "22/22 [==============================] - 1s 59ms/step - loss: 35.3928 - categorical_accuracy: 0.6597 - val_loss: 154.6035 - val_categorical_accuracy: 0.5253\n",
            "Epoch 12/50\n",
            "22/22 [==============================] - 1s 61ms/step - loss: 34.9332 - categorical_accuracy: 0.6919 - val_loss: 66.5695 - val_categorical_accuracy: 0.5736\n",
            "Epoch 13/50\n",
            "22/22 [==============================] - 1s 60ms/step - loss: 108.5393 - categorical_accuracy: 0.5346 - val_loss: 132.6305 - val_categorical_accuracy: 0.3484\n",
            "Epoch 14/50\n",
            "22/22 [==============================] - 1s 59ms/step - loss: 84.9872 - categorical_accuracy: 0.6168 - val_loss: 42.3014 - val_categorical_accuracy: 0.5802\n",
            "Epoch 15/50\n",
            "22/22 [==============================] - 1s 61ms/step - loss: 50.2266 - categorical_accuracy: 0.6331 - val_loss: 40.1612 - val_categorical_accuracy: 0.6670\n",
            "Epoch 16/50\n",
            "22/22 [==============================] - 1s 58ms/step - loss: 17.9288 - categorical_accuracy: 0.7591 - val_loss: 67.6679 - val_categorical_accuracy: 0.5670\n",
            "Epoch 17/50\n",
            "22/22 [==============================] - 1s 62ms/step - loss: 18.1970 - categorical_accuracy: 0.7671 - val_loss: 57.8129 - val_categorical_accuracy: 0.5582\n",
            "Epoch 18/50\n",
            "22/22 [==============================] - 1s 58ms/step - loss: 61.8153 - categorical_accuracy: 0.6503 - val_loss: 251.6354 - val_categorical_accuracy: 0.4758\n",
            "Epoch 19/50\n",
            "22/22 [==============================] - 1s 58ms/step - loss: 457.9899 - categorical_accuracy: 0.4348 - val_loss: 203.2252 - val_categorical_accuracy: 0.3758\n",
            "Epoch 20/50\n",
            "22/22 [==============================] - 1s 59ms/step - loss: 200.3304 - categorical_accuracy: 0.4590 - val_loss: 57.2093 - val_categorical_accuracy: 0.4956\n",
            "Epoch 21/50\n",
            "22/22 [==============================] - 1s 59ms/step - loss: 155.4522 - categorical_accuracy: 0.5181 - val_loss: 77.3497 - val_categorical_accuracy: 0.4835\n",
            "Epoch 22/50\n",
            "22/22 [==============================] - 1s 59ms/step - loss: 62.9425 - categorical_accuracy: 0.5838 - val_loss: 96.9789 - val_categorical_accuracy: 0.3209\n",
            "Epoch 23/50\n",
            "22/22 [==============================] - 1s 60ms/step - loss: 51.6818 - categorical_accuracy: 0.5495 - val_loss: 50.3369 - val_categorical_accuracy: 0.5286\n",
            "Epoch 24/50\n",
            "22/22 [==============================] - 1s 59ms/step - loss: 26.4618 - categorical_accuracy: 0.6561 - val_loss: 38.4514 - val_categorical_accuracy: 0.4571\n",
            "Epoch 25/50\n",
            "22/22 [==============================] - 1s 60ms/step - loss: 16.8554 - categorical_accuracy: 0.7146 - val_loss: 17.1609 - val_categorical_accuracy: 0.6560\n",
            "Epoch 26/50\n",
            "22/22 [==============================] - 1s 59ms/step - loss: 64.5105 - categorical_accuracy: 0.5744 - val_loss: 142.4280 - val_categorical_accuracy: 0.5044\n",
            "Epoch 27/50\n",
            "22/22 [==============================] - 1s 60ms/step - loss: 116.4087 - categorical_accuracy: 0.4899 - val_loss: 53.2560 - val_categorical_accuracy: 0.5703\n",
            "Epoch 28/50\n",
            "22/22 [==============================] - 1s 60ms/step - loss: 48.9078 - categorical_accuracy: 0.5944 - val_loss: 53.9067 - val_categorical_accuracy: 0.5780\n",
            "Epoch 29/50\n",
            "22/22 [==============================] - 1s 60ms/step - loss: 34.2577 - categorical_accuracy: 0.6258 - val_loss: 31.7514 - val_categorical_accuracy: 0.6341\n",
            "Epoch 30/50\n",
            "22/22 [==============================] - 1s 61ms/step - loss: 16.5728 - categorical_accuracy: 0.7386 - val_loss: 19.5811 - val_categorical_accuracy: 0.6484\n",
            "Epoch 31/50\n",
            "22/22 [==============================] - 1s 61ms/step - loss: 6.7330 - categorical_accuracy: 0.8281 - val_loss: 20.6714 - val_categorical_accuracy: 0.6264\n",
            "Epoch 32/50\n",
            "22/22 [==============================] - 1s 61ms/step - loss: 8.4052 - categorical_accuracy: 0.7939 - val_loss: 20.5692 - val_categorical_accuracy: 0.6956\n",
            "Epoch 33/50\n",
            "22/22 [==============================] - 1s 60ms/step - loss: 8.6542 - categorical_accuracy: 0.7800 - val_loss: 37.8069 - val_categorical_accuracy: 0.5747\n",
            "Epoch 34/50\n",
            "22/22 [==============================] - 1s 60ms/step - loss: 28.1415 - categorical_accuracy: 0.6382 - val_loss: 61.8253 - val_categorical_accuracy: 0.4396\n",
            "Epoch 35/50\n",
            "22/22 [==============================] - 1s 61ms/step - loss: 40.2395 - categorical_accuracy: 0.6055 - val_loss: 23.9026 - val_categorical_accuracy: 0.6549\n",
            "Epoch 36/50\n",
            "22/22 [==============================] - 1s 60ms/step - loss: 10.3334 - categorical_accuracy: 0.7817 - val_loss: 25.1556 - val_categorical_accuracy: 0.5824\n",
            "Epoch 37/50\n",
            "22/22 [==============================] - 1s 61ms/step - loss: 33.2126 - categorical_accuracy: 0.6314 - val_loss: 79.8024 - val_categorical_accuracy: 0.4462\n",
            "Epoch 38/50\n",
            "22/22 [==============================] - 1s 61ms/step - loss: 23.2739 - categorical_accuracy: 0.6870 - val_loss: 23.0821 - val_categorical_accuracy: 0.6648\n",
            "Epoch 39/50\n",
            "22/22 [==============================] - 1s 60ms/step - loss: 8.7474 - categorical_accuracy: 0.7944 - val_loss: 33.2466 - val_categorical_accuracy: 0.5967\n",
            "Epoch 40/50\n",
            "22/22 [==============================] - 1s 59ms/step - loss: 11.0582 - categorical_accuracy: 0.7619 - val_loss: 18.1461 - val_categorical_accuracy: 0.7516\n",
            "Epoch 41/50\n",
            "22/22 [==============================] - 1s 62ms/step - loss: 8.8724 - categorical_accuracy: 0.8008 - val_loss: 79.1857 - val_categorical_accuracy: 0.4890\n",
            "Epoch 42/50\n",
            "22/22 [==============================] - 1s 61ms/step - loss: 29.6010 - categorical_accuracy: 0.6262 - val_loss: 25.4671 - val_categorical_accuracy: 0.6626\n",
            "Epoch 43/50\n",
            "22/22 [==============================] - 1s 60ms/step - loss: 5.1613 - categorical_accuracy: 0.8523 - val_loss: 16.2335 - val_categorical_accuracy: 0.7582\n",
            "Epoch 44/50\n",
            "22/22 [==============================] - 1s 60ms/step - loss: 3.6009 - categorical_accuracy: 0.8789 - val_loss: 15.4759 - val_categorical_accuracy: 0.7011\n",
            "Epoch 45/50\n",
            "22/22 [==============================] - 1s 61ms/step - loss: 3.2625 - categorical_accuracy: 0.8832 - val_loss: 17.2904 - val_categorical_accuracy: 0.7363\n",
            "Epoch 46/50\n",
            "22/22 [==============================] - 1s 60ms/step - loss: 2.8529 - categorical_accuracy: 0.8917 - val_loss: 14.0701 - val_categorical_accuracy: 0.7352\n",
            "Epoch 47/50\n",
            "22/22 [==============================] - 1s 61ms/step - loss: 7.9731 - categorical_accuracy: 0.7814 - val_loss: 36.2461 - val_categorical_accuracy: 0.5341\n",
            "Epoch 48/50\n",
            "22/22 [==============================] - 1s 61ms/step - loss: 9.5317 - categorical_accuracy: 0.7704 - val_loss: 22.5004 - val_categorical_accuracy: 0.6681\n",
            "Epoch 49/50\n",
            "22/22 [==============================] - 1s 61ms/step - loss: 8.0764 - categorical_accuracy: 0.7939 - val_loss: 14.5169 - val_categorical_accuracy: 0.7758\n",
            "Epoch 50/50\n",
            "22/22 [==============================] - 1s 61ms/step - loss: 10.1149 - categorical_accuracy: 0.7748 - val_loss: 19.7496 - val_categorical_accuracy: 0.7000\n"
          ]
        },
        {
          "output_type": "display_data",
          "data": {
            "image/png": "[encoded data removed]",
            "text/plain": [
              "<Figure size 432x288 with 1 Axes>"
            ]
          },
          "metadata": {
            "needs_background": "light"
          }
        },
        {
          "output_type": "stream",
          "name": "stdout",
          "text": [
            "BatchSize :  300\n",
            "Epoch 1/50\n",
            "15/15 [==============================] - 2s 86ms/step - loss: 3980.5474 - categorical_accuracy: 0.4110 - val_loss: 3244.4866 - val_categorical_accuracy: 0.3231\n",
            "Epoch 2/50\n",
            "15/15 [==============================] - 1s 69ms/step - loss: 1830.9778 - categorical_accuracy: 0.3646 - val_loss: 1297.8015 - val_categorical_accuracy: 0.4747\n",
            "Epoch 3/50\n",
            "15/15 [==============================] - 1s 68ms/step - loss: 755.2819 - categorical_accuracy: 0.4072 - val_loss: 153.1975 - val_categorical_accuracy: 0.4396\n",
            "Epoch 4/50\n",
            "15/15 [==============================] - 1s 71ms/step - loss: 236.6091 - categorical_accuracy: 0.4498 - val_loss: 238.6530 - val_categorical_accuracy: 0.3044\n",
            "Epoch 5/50\n",
            "15/15 [==============================] - 1s 70ms/step - loss: 148.8176 - categorical_accuracy: 0.4437 - val_loss: 116.7109 - val_categorical_accuracy: 0.3835\n",
            "Epoch 6/50\n",
            "15/15 [==============================] - 1s 65ms/step - loss: 55.5890 - categorical_accuracy: 0.5403 - val_loss: 78.3451 - val_categorical_accuracy: 0.4099\n",
            "Epoch 7/50\n",
            "15/15 [==============================] - 1s 69ms/step - loss: 50.1454 - categorical_accuracy: 0.5231 - val_loss: 23.7672 - val_categorical_accuracy: 0.5868\n",
            "Epoch 8/50\n",
            "15/15 [==============================] - 1s 68ms/step - loss: 148.5835 - categorical_accuracy: 0.4896 - val_loss: 198.0337 - val_categorical_accuracy: 0.4824\n",
            "Epoch 9/50\n",
            "15/15 [==============================] - 1s 70ms/step - loss: 215.6949 - categorical_accuracy: 0.4395 - val_loss: 582.8848 - val_categorical_accuracy: 0.2143\n",
            "Epoch 10/50\n",
            "15/15 [==============================] - 1s 68ms/step - loss: 176.3979 - categorical_accuracy: 0.4793 - val_loss: 66.7098 - val_categorical_accuracy: 0.4868\n",
            "Epoch 11/50\n",
            "15/15 [==============================] - 1s 69ms/step - loss: 31.1563 - categorical_accuracy: 0.6281 - val_loss: 61.0644 - val_categorical_accuracy: 0.5352\n",
            "Epoch 12/50\n",
            "15/15 [==============================] - 1s 69ms/step - loss: 23.4195 - categorical_accuracy: 0.6564 - val_loss: 28.2094 - val_categorical_accuracy: 0.6275\n",
            "Epoch 13/50\n",
            "15/15 [==============================] - 1s 70ms/step - loss: 12.2256 - categorical_accuracy: 0.7249 - val_loss: 18.4725 - val_categorical_accuracy: 0.6593\n",
            "Epoch 14/50\n",
            "15/15 [==============================] - 1s 69ms/step - loss: 116.0529 - categorical_accuracy: 0.5393 - val_loss: 159.0133 - val_categorical_accuracy: 0.3725\n",
            "Epoch 15/50\n",
            "15/15 [==============================] - 1s 73ms/step - loss: 188.5841 - categorical_accuracy: 0.4515 - val_loss: 110.6477 - val_categorical_accuracy: 0.5220\n",
            "Epoch 16/50\n",
            "15/15 [==============================] - 1s 69ms/step - loss: 80.5632 - categorical_accuracy: 0.5535 - val_loss: 216.1249 - val_categorical_accuracy: 0.2714\n",
            "Epoch 17/50\n",
            "15/15 [==============================] - 1s 72ms/step - loss: 181.3732 - categorical_accuracy: 0.4531 - val_loss: 135.5170 - val_categorical_accuracy: 0.4989\n",
            "Epoch 18/50\n",
            "15/15 [==============================] - 1s 69ms/step - loss: 174.9398 - categorical_accuracy: 0.5297 - val_loss: 314.8860 - val_categorical_accuracy: 0.2604\n",
            "Epoch 19/50\n",
            "15/15 [==============================] - 1s 69ms/step - loss: 191.0262 - categorical_accuracy: 0.4854 - val_loss: 92.0453 - val_categorical_accuracy: 0.6000\n",
            "Epoch 20/50\n",
            "15/15 [==============================] - 1s 68ms/step - loss: 42.5480 - categorical_accuracy: 0.6032 - val_loss: 58.4030 - val_categorical_accuracy: 0.5769\n",
            "Epoch 21/50\n",
            "15/15 [==============================] - 1s 72ms/step - loss: 18.6034 - categorical_accuracy: 0.7320 - val_loss: 25.3861 - val_categorical_accuracy: 0.6626\n",
            "Epoch 22/50\n",
            "15/15 [==============================] - 1s 69ms/step - loss: 12.0627 - categorical_accuracy: 0.7631 - val_loss: 23.4004 - val_categorical_accuracy: 0.6901\n",
            "Epoch 23/50\n",
            "15/15 [==============================] - 1s 70ms/step - loss: 9.0857 - categorical_accuracy: 0.7857 - val_loss: 17.9595 - val_categorical_accuracy: 0.7099\n",
            "Epoch 24/50\n",
            "15/15 [==============================] - 1s 71ms/step - loss: 7.8944 - categorical_accuracy: 0.7897 - val_loss: 19.5556 - val_categorical_accuracy: 0.7033\n",
            "Epoch 25/50\n",
            "15/15 [==============================] - 1s 69ms/step - loss: 6.0553 - categorical_accuracy: 0.7986 - val_loss: 23.5660 - val_categorical_accuracy: 0.6549\n",
            "Epoch 26/50\n",
            "15/15 [==============================] - 1s 69ms/step - loss: 5.2219 - categorical_accuracy: 0.8325 - val_loss: 14.4890 - val_categorical_accuracy: 0.7209\n",
            "Epoch 27/50\n",
            "15/15 [==============================] - 1s 70ms/step - loss: 3.8578 - categorical_accuracy: 0.8568 - val_loss: 44.3999 - val_categorical_accuracy: 0.6374\n",
            "Epoch 28/50\n",
            "15/15 [==============================] - 1s 67ms/step - loss: 100.5168 - categorical_accuracy: 0.5794 - val_loss: 43.9256 - val_categorical_accuracy: 0.6143\n",
            "Epoch 29/50\n",
            "15/15 [==============================] - 1s 68ms/step - loss: 160.2588 - categorical_accuracy: 0.5257 - val_loss: 142.1846 - val_categorical_accuracy: 0.5769\n",
            "Epoch 30/50\n",
            "15/15 [==============================] - 1s 68ms/step - loss: 173.1853 - categorical_accuracy: 0.4706 - val_loss: 64.2787 - val_categorical_accuracy: 0.4835\n",
            "Epoch 31/50\n",
            "15/15 [==============================] - 1s 71ms/step - loss: 78.9988 - categorical_accuracy: 0.6189 - val_loss: 62.8333 - val_categorical_accuracy: 0.6516\n",
            "Epoch 32/50\n",
            "15/15 [==============================] - 1s 71ms/step - loss: 60.4216 - categorical_accuracy: 0.6571 - val_loss: 82.7797 - val_categorical_accuracy: 0.6011\n",
            "Epoch 33/50\n",
            "15/15 [==============================] - 1s 70ms/step - loss: 22.4959 - categorical_accuracy: 0.7113 - val_loss: 38.6533 - val_categorical_accuracy: 0.6703\n",
            "Epoch 34/50\n",
            "15/15 [==============================] - 1s 69ms/step - loss: 9.7424 - categorical_accuracy: 0.7395 - val_loss: 23.7548 - val_categorical_accuracy: 0.6692\n",
            "Epoch 35/50\n",
            "15/15 [==============================] - 1s 72ms/step - loss: 11.3550 - categorical_accuracy: 0.8099 - val_loss: 65.7067 - val_categorical_accuracy: 0.5835\n",
            "Epoch 36/50\n",
            "15/15 [==============================] - 1s 72ms/step - loss: 97.6639 - categorical_accuracy: 0.5518 - val_loss: 168.2960 - val_categorical_accuracy: 0.4868\n",
            "Epoch 37/50\n",
            "15/15 [==============================] - 1s 71ms/step - loss: 71.6199 - categorical_accuracy: 0.5389 - val_loss: 34.8736 - val_categorical_accuracy: 0.5231\n",
            "Epoch 38/50\n",
            "15/15 [==============================] - 1s 71ms/step - loss: 22.1968 - categorical_accuracy: 0.6806 - val_loss: 36.1652 - val_categorical_accuracy: 0.6451\n",
            "Epoch 39/50\n",
            "15/15 [==============================] - 1s 73ms/step - loss: 10.5963 - categorical_accuracy: 0.7574 - val_loss: 23.2535 - val_categorical_accuracy: 0.7055\n",
            "Epoch 40/50\n",
            "15/15 [==============================] - 1s 74ms/step - loss: 13.7145 - categorical_accuracy: 0.7315 - val_loss: 81.7204 - val_categorical_accuracy: 0.5418\n",
            "Epoch 41/50\n",
            "15/15 [==============================] - 1s 70ms/step - loss: 55.3145 - categorical_accuracy: 0.6959 - val_loss: 49.1637 - val_categorical_accuracy: 0.6890\n",
            "Epoch 42/50\n",
            "15/15 [==============================] - 1s 73ms/step - loss: 10.6141 - categorical_accuracy: 0.8509 - val_loss: 17.8983 - val_categorical_accuracy: 0.7407\n",
            "Epoch 43/50\n",
            "15/15 [==============================] - 1s 73ms/step - loss: 4.2751 - categorical_accuracy: 0.8912 - val_loss: 29.3527 - val_categorical_accuracy: 0.7396\n",
            "Epoch 44/50\n",
            "15/15 [==============================] - 1s 74ms/step - loss: 6.0848 - categorical_accuracy: 0.8554 - val_loss: 23.4530 - val_categorical_accuracy: 0.7319\n",
            "Epoch 45/50\n",
            "15/15 [==============================] - 1s 72ms/step - loss: 7.7741 - categorical_accuracy: 0.8521 - val_loss: 17.9795 - val_categorical_accuracy: 0.7297\n",
            "Epoch 46/50\n",
            "15/15 [==============================] - 1s 68ms/step - loss: 3.5956 - categorical_accuracy: 0.8987 - val_loss: 28.1933 - val_categorical_accuracy: 0.7495\n",
            "Epoch 47/50\n",
            "15/15 [==============================] - 1s 68ms/step - loss: 3.0130 - categorical_accuracy: 0.9223 - val_loss: 15.6151 - val_categorical_accuracy: 0.7549\n",
            "Epoch 48/50\n",
            "15/15 [==============================] - 1s 72ms/step - loss: 2.3251 - categorical_accuracy: 0.9152 - val_loss: 13.5019 - val_categorical_accuracy: 0.7802\n",
            "Epoch 49/50\n",
            "15/15 [==============================] - 1s 71ms/step - loss: 1.3882 - categorical_accuracy: 0.9388 - val_loss: 13.0103 - val_categorical_accuracy: 0.8033\n",
            "Epoch 50/50\n",
            "15/15 [==============================] - 1s 69ms/step - loss: 1.0562 - categorical_accuracy: 0.9395 - val_loss: 12.8190 - val_categorical_accuracy: 0.7824\n"
          ]
        },
        {
          "output_type": "display_data",
          "data": {
            "image/png": "[encoded data removed]",
            "text/plain": [
              "<Figure size 432x288 with 1 Axes>"
            ]
          },
          "metadata": {
            "needs_background": "light"
          }
        }
      ]
    },
    {
      "cell_type": "code",
      "metadata": {
        "colab": {
          "base_uri": "https://localhost:8080/",
          "height": 316
        },
        "id": "olJtaPSLoIAt",
        "outputId": "b138fccd-e9a0-4295-d25f-b2714097c697"
      },
      "source": [
        "#For Loss Plotting\n",
        "\n",
        "x = [i for i in range(1,num_epochs+1)]\n",
        "print(x)\n",
        "yTrainLoss = trainLoss\n",
        "#Train Loss\n",
        "for i in range(len(batchSizes)):\n",
        "  currBatchSize = batchSizes[i]\n",
        "  labelName = \"Batch Size \" + str(currBatchSize)\n",
        "  pyplot.plot(x, yTrainLoss[i],label=labelName)\n",
        "\n",
        "pyplot.legend()\n",
        "pyplot.xlabel(\"Number of Epochs\")\n",
        "pyplot.ylabel(\"Train Loss\")\n",
        "pyplot.show()"
      ],
      "execution_count": null,
      "outputs": [
        {
          "output_type": "stream",
          "name": "stdout",
          "text": [
            "[1, 2, 3, 4, 5, 6, 7, 8, 9, 10, 11, 12, 13, 14, 15, 16, 17, 18, 19, 20, 21, 22, 23, 24, 25, 26, 27, 28, 29, 30, 31, 32, 33, 34, 35, 36, 37, 38, 39, 40, 41, 42, 43, 44, 45, 46, 47, 48, 49, 50]\n"
          ]
        },
        {
          "output_type": "display_data",
          "data": {
            "image/png": "[encoded data removed]",
            "text/plain": [
              "<Figure size 432x288 with 1 Axes>"
            ]
          },
          "metadata": {
            "needs_background": "light"
          }
        }
      ]
    },
    {
      "cell_type": "code",
      "metadata": {
        "colab": {
          "base_uri": "https://localhost:8080/",
          "height": 316
        },
        "id": "hfcw6cD0oImf",
        "outputId": "dbc42f03-6ee5-40cb-8022-4f963778d627"
      },
      "source": [
        "#For Loss Plotting\n",
        "\n",
        "x = [i for i in range(1,num_epochs+1)]\n",
        "print(x)\n",
        "yValLoss = valLoss\n",
        "#Val Loss\n",
        "for i in range(len(batchSizes)):\n",
        "  currBatchSize = batchSizes[i]\n",
        "  labelName = \"Batch Size \" + str(currBatchSize)\n",
        "  pyplot.plot(x, yValLoss[i],label=labelName)\n",
        "\n",
        "pyplot.legend()\n",
        "pyplot.xlabel(\"Number of Epochs\")\n",
        "pyplot.ylabel(\"Val Loss\")\n",
        "pyplot.show()"
      ],
      "execution_count": null,
      "outputs": [
        {
          "output_type": "stream",
          "name": "stdout",
          "text": [
            "[1, 2, 3, 4, 5, 6, 7, 8, 9, 10, 11, 12, 13, 14, 15, 16, 17, 18, 19, 20, 21, 22, 23, 24, 25, 26, 27, 28, 29, 30, 31, 32, 33, 34, 35, 36, 37, 38, 39, 40, 41, 42, 43, 44, 45, 46, 47, 48, 49, 50]\n"
          ]
        },
        {
          "output_type": "display_data",
          "data": {
            "image/png": "[encoded data removed]",
            "text/plain": [
              "<Figure size 432x288 with 1 Axes>"
            ]
          },
          "metadata": {
            "needs_background": "light"
          }
        }
      ]
    },
    {
      "cell_type": "code",
      "metadata": {
        "colab": {
          "base_uri": "https://localhost:8080/"
        },
        "id": "Bpe1ezz3Wekb",
        "outputId": "f2504d6c-f07d-4831-b020-274096bea47a"
      },
      "source": [
        "bestBatchSize = 300 #must decide based on graphs\n",
        "bestIndexBS = batchSizes.index(bestBatchSize)\n",
        "\n",
        "bestValLoss = valLoss[bestIndexBS]\n",
        "#bestValAccuracy = valAccuracy[bestIndexBS]\n",
        "\n",
        "print(bestValLoss)\n",
        "print(min(bestValLoss))\n",
        "print(bestValLoss.index(min(bestValLoss)))\n",
        "bestEpoch = bestValLoss.index(min(bestValLoss))"
      ],
      "execution_count": null,
      "outputs": [
        {
          "output_type": "stream",
          "name": "stdout",
          "text": [
            "[3244.486572265625, 1297.801513671875, 153.19752502441406, 238.65298461914062, 116.71092224121094, 78.34514617919922, 23.767169952392578, 198.03366088867188, 582.884765625, 66.70978546142578, 61.064361572265625, 28.20936393737793, 18.47246551513672, 159.0133056640625, 110.6476821899414, 216.12490844726562, 135.5169677734375, 314.885986328125, 92.04530334472656, 58.40297317504883, 25.386064529418945, 23.400362014770508, 17.959482192993164, 19.55559539794922, 23.56601905822754, 14.488950729370117, 44.399932861328125, 43.92564010620117, 142.18460083007812, 64.27870178222656, 62.83330154418945, 82.77969360351562, 38.65332794189453, 23.754838943481445, 65.70668029785156, 168.29603576660156, 34.87358093261719, 36.16520309448242, 23.253475189208984, 81.72042083740234, 49.16366195678711, 17.898324966430664, 29.352712631225586, 23.45301628112793, 17.979459762573242, 28.193330764770508, 15.615104675292969, 13.501884460449219, 13.010345458984375, 12.81895637512207]\n",
            "12.81895637512207\n",
            "49\n"
          ]
        }
      ]
    },
    {
      "cell_type": "code",
      "metadata": {
        "colab": {
          "base_uri": "https://localhost:8080/"
        },
        "id": "Q0vJlDpaip0_",
        "outputId": "b137a7c8-b11e-481f-8eb6-466caf043666"
      },
      "source": [
        "bestmodel = Sequential()\n",
        "bestmodel.add(Dense(neurons1, input_dim=numDims, activation='relu', kernel_initializer=HeNormal()))\n",
        "bestmodel.add(Dense(neurons5, activation='relu',kernel_initializer=HeNormal()))\n",
        "bestmodel.add(Dense(neurons6, activation='relu',kernel_initializer=HeNormal()))\n",
        "bestmodel.add(Dense(3, activation='softmax'))\n",
        "bestmodel.compile(loss='categorical_crossentropy', optimizer='adam', metrics=[\"categorical_accuracy\"])\n",
        "bestmodel.fit(X_train, y_train, epochs=bestEpoch, batch_size=bestBatchSize, validation_data = (X_dev, y_dev))\n",
        "\n",
        "\n"
      ],
      "execution_count": null,
      "outputs": [
        {
          "output_type": "stream",
          "name": "stdout",
          "text": [
            "Epoch 1/49\n",
            "15/15 [==============================] - 2s 97ms/step - loss: 649.9974 - categorical_accuracy: 0.3457 - val_loss: 80.8100 - val_categorical_accuracy: 0.3440\n",
            "Epoch 2/49\n",
            "15/15 [==============================] - 1s 72ms/step - loss: 154.5407 - categorical_accuracy: 0.3851 - val_loss: 265.1071 - val_categorical_accuracy: 0.4747\n",
            "Epoch 3/49\n",
            "15/15 [==============================] - 1s 70ms/step - loss: 147.9393 - categorical_accuracy: 0.4381 - val_loss: 98.8170 - val_categorical_accuracy: 0.4989\n",
            "Epoch 4/49\n",
            "15/15 [==============================] - 1s 69ms/step - loss: 82.3902 - categorical_accuracy: 0.4628 - val_loss: 78.0460 - val_categorical_accuracy: 0.5066\n",
            "Epoch 5/49\n",
            "15/15 [==============================] - 1s 69ms/step - loss: 49.0343 - categorical_accuracy: 0.5000 - val_loss: 33.7563 - val_categorical_accuracy: 0.4407\n",
            "Epoch 6/49\n",
            "15/15 [==============================] - 1s 70ms/step - loss: 46.1595 - categorical_accuracy: 0.4986 - val_loss: 254.5788 - val_categorical_accuracy: 0.3286\n",
            "Epoch 7/49\n",
            "15/15 [==============================] - 1s 71ms/step - loss: 116.7886 - categorical_accuracy: 0.4319 - val_loss: 150.2470 - val_categorical_accuracy: 0.5088\n",
            "Epoch 8/49\n",
            "15/15 [==============================] - 1s 73ms/step - loss: 127.1822 - categorical_accuracy: 0.4675 - val_loss: 61.3955 - val_categorical_accuracy: 0.4044\n",
            "Epoch 9/49\n",
            "15/15 [==============================] - 1s 69ms/step - loss: 136.4631 - categorical_accuracy: 0.4491 - val_loss: 49.8828 - val_categorical_accuracy: 0.5516\n",
            "Epoch 10/49\n",
            "15/15 [==============================] - 1s 69ms/step - loss: 105.7355 - categorical_accuracy: 0.4694 - val_loss: 56.3079 - val_categorical_accuracy: 0.5176\n",
            "Epoch 11/49\n",
            "15/15 [==============================] - 1s 69ms/step - loss: 39.9805 - categorical_accuracy: 0.5883 - val_loss: 29.3850 - val_categorical_accuracy: 0.5451\n",
            "Epoch 12/49\n",
            "15/15 [==============================] - 1s 72ms/step - loss: 20.3320 - categorical_accuracy: 0.6627 - val_loss: 39.0468 - val_categorical_accuracy: 0.5945\n",
            "Epoch 13/49\n",
            "15/15 [==============================] - 1s 69ms/step - loss: 79.7567 - categorical_accuracy: 0.4951 - val_loss: 59.1633 - val_categorical_accuracy: 0.5363\n",
            "Epoch 14/49\n",
            "15/15 [==============================] - 1s 70ms/step - loss: 27.8471 - categorical_accuracy: 0.6173 - val_loss: 19.3921 - val_categorical_accuracy: 0.6484\n",
            "Epoch 15/49\n",
            "15/15 [==============================] - 1s 71ms/step - loss: 17.3902 - categorical_accuracy: 0.6717 - val_loss: 37.3468 - val_categorical_accuracy: 0.5571\n",
            "Epoch 16/49\n",
            "15/15 [==============================] - 1s 71ms/step - loss: 41.5208 - categorical_accuracy: 0.6088 - val_loss: 41.6639 - val_categorical_accuracy: 0.4769\n",
            "Epoch 17/49\n",
            "15/15 [==============================] - 1s 70ms/step - loss: 42.6341 - categorical_accuracy: 0.5874 - val_loss: 85.4579 - val_categorical_accuracy: 0.3363\n",
            "Epoch 18/49\n",
            "15/15 [==============================] - 1s 69ms/step - loss: 90.7238 - categorical_accuracy: 0.5292 - val_loss: 101.8199 - val_categorical_accuracy: 0.5143\n",
            "Epoch 19/49\n",
            "15/15 [==============================] - 1s 68ms/step - loss: 60.9582 - categorical_accuracy: 0.5370 - val_loss: 52.2969 - val_categorical_accuracy: 0.5604\n",
            "Epoch 20/49\n",
            "15/15 [==============================] - 1s 70ms/step - loss: 44.2781 - categorical_accuracy: 0.6093 - val_loss: 48.9530 - val_categorical_accuracy: 0.5099\n",
            "Epoch 21/49\n",
            "15/15 [==============================] - 1s 71ms/step - loss: 56.9877 - categorical_accuracy: 0.5770 - val_loss: 36.8310 - val_categorical_accuracy: 0.5989\n",
            "Epoch 22/49\n",
            "15/15 [==============================] - 1s 69ms/step - loss: 43.7375 - categorical_accuracy: 0.6041 - val_loss: 91.0099 - val_categorical_accuracy: 0.5000\n",
            "Epoch 23/49\n",
            "15/15 [==============================] - 1s 67ms/step - loss: 67.2541 - categorical_accuracy: 0.5518 - val_loss: 146.8262 - val_categorical_accuracy: 0.5341\n",
            "Epoch 24/49\n",
            "15/15 [==============================] - 1s 69ms/step - loss: 71.3546 - categorical_accuracy: 0.5530 - val_loss: 26.0390 - val_categorical_accuracy: 0.6736\n",
            "Epoch 25/49\n",
            "15/15 [==============================] - 1s 68ms/step - loss: 22.6022 - categorical_accuracy: 0.6816 - val_loss: 26.0616 - val_categorical_accuracy: 0.6703\n",
            "Epoch 26/49\n",
            "15/15 [==============================] - 1s 67ms/step - loss: 11.9467 - categorical_accuracy: 0.7508 - val_loss: 19.6058 - val_categorical_accuracy: 0.6923\n",
            "Epoch 27/49\n",
            "15/15 [==============================] - 1s 69ms/step - loss: 6.7519 - categorical_accuracy: 0.8187 - val_loss: 15.5573 - val_categorical_accuracy: 0.7099\n",
            "Epoch 28/49\n",
            "15/15 [==============================] - 1s 73ms/step - loss: 4.9973 - categorical_accuracy: 0.8436 - val_loss: 22.6683 - val_categorical_accuracy: 0.6780\n",
            "Epoch 29/49\n",
            "15/15 [==============================] - 1s 70ms/step - loss: 10.1781 - categorical_accuracy: 0.7628 - val_loss: 23.5456 - val_categorical_accuracy: 0.6143\n",
            "Epoch 30/49\n",
            "15/15 [==============================] - 1s 71ms/step - loss: 5.3184 - categorical_accuracy: 0.8269 - val_loss: 11.5221 - val_categorical_accuracy: 0.7571\n",
            "Epoch 31/49\n",
            "15/15 [==============================] - 1s 68ms/step - loss: 5.4247 - categorical_accuracy: 0.8229 - val_loss: 11.6617 - val_categorical_accuracy: 0.7308\n",
            "Epoch 32/49\n",
            "15/15 [==============================] - 1s 70ms/step - loss: 5.4226 - categorical_accuracy: 0.8243 - val_loss: 22.6912 - val_categorical_accuracy: 0.6132\n",
            "Epoch 33/49\n",
            "15/15 [==============================] - 1s 69ms/step - loss: 17.1428 - categorical_accuracy: 0.6945 - val_loss: 126.7477 - val_categorical_accuracy: 0.4780\n",
            "Epoch 34/49\n",
            "15/15 [==============================] - 1s 73ms/step - loss: 73.8148 - categorical_accuracy: 0.5690 - val_loss: 286.8677 - val_categorical_accuracy: 0.2132\n",
            "Epoch 35/49\n",
            "15/15 [==============================] - 1s 71ms/step - loss: 175.8546 - categorical_accuracy: 0.4489 - val_loss: 88.4146 - val_categorical_accuracy: 0.4681\n",
            "Epoch 36/49\n",
            "15/15 [==============================] - 1s 68ms/step - loss: 53.0834 - categorical_accuracy: 0.6062 - val_loss: 44.2132 - val_categorical_accuracy: 0.5571\n",
            "Epoch 37/49\n",
            "15/15 [==============================] - 1s 71ms/step - loss: 77.9004 - categorical_accuracy: 0.5855 - val_loss: 254.8181 - val_categorical_accuracy: 0.4747\n",
            "Epoch 38/49\n",
            "15/15 [==============================] - 1s 71ms/step - loss: 153.0525 - categorical_accuracy: 0.4790 - val_loss: 59.8957 - val_categorical_accuracy: 0.6121\n",
            "Epoch 39/49\n",
            "15/15 [==============================] - 1s 72ms/step - loss: 107.3365 - categorical_accuracy: 0.5177 - val_loss: 60.9724 - val_categorical_accuracy: 0.5736\n",
            "Epoch 40/49\n",
            "15/15 [==============================] - 1s 70ms/step - loss: 42.6833 - categorical_accuracy: 0.6578 - val_loss: 48.0487 - val_categorical_accuracy: 0.6198\n",
            "Epoch 41/49\n",
            "15/15 [==============================] - 1s 71ms/step - loss: 12.7692 - categorical_accuracy: 0.7935 - val_loss: 20.6942 - val_categorical_accuracy: 0.7143\n",
            "Epoch 42/49\n",
            "15/15 [==============================] - 1s 69ms/step - loss: 6.7035 - categorical_accuracy: 0.8481 - val_loss: 17.8519 - val_categorical_accuracy: 0.7319\n",
            "Epoch 43/49\n",
            "15/15 [==============================] - 1s 72ms/step - loss: 4.7928 - categorical_accuracy: 0.8749 - val_loss: 20.0014 - val_categorical_accuracy: 0.7143\n",
            "Epoch 44/49\n",
            "15/15 [==============================] - 1s 70ms/step - loss: 4.7550 - categorical_accuracy: 0.8655 - val_loss: 19.6907 - val_categorical_accuracy: 0.7429\n",
            "Epoch 45/49\n",
            "15/15 [==============================] - 1s 70ms/step - loss: 3.6617 - categorical_accuracy: 0.8964 - val_loss: 14.9509 - val_categorical_accuracy: 0.7703\n",
            "Epoch 46/49\n",
            "15/15 [==============================] - 1s 70ms/step - loss: 3.0301 - categorical_accuracy: 0.8933 - val_loss: 13.3802 - val_categorical_accuracy: 0.7681\n",
            "Epoch 47/49\n",
            "15/15 [==============================] - 1s 69ms/step - loss: 2.1480 - categorical_accuracy: 0.9197 - val_loss: 14.0540 - val_categorical_accuracy: 0.7791\n",
            "Epoch 48/49\n",
            "15/15 [==============================] - 1s 69ms/step - loss: 1.8538 - categorical_accuracy: 0.9253 - val_loss: 14.0744 - val_categorical_accuracy: 0.7516\n",
            "Epoch 49/49\n",
            "15/15 [==============================] - 1s 70ms/step - loss: 1.5351 - categorical_accuracy: 0.9284 - val_loss: 13.3340 - val_categorical_accuracy: 0.7593\n"
          ]
        },
        {
          "output_type": "execute_result",
          "data": {
            "text/plain": [
              "<keras.callbacks.History at 0x7fd93d0bb690>"
            ]
          },
          "metadata": {},
          "execution_count": 16
        }
      ]
    },
    {
      "cell_type": "code",
      "metadata": {
        "id": "MINneAxuWqoV"
      },
      "source": [
        "predictions = bestmodel.predict(X_test)\n"
      ],
      "execution_count": null,
      "outputs": []
    },
    {
      "cell_type": "code",
      "metadata": {
        "colab": {
          "base_uri": "https://localhost:8080/"
        },
        "id": "dDJnp1mHwxlC",
        "outputId": "65ee5cb1-6a53-46dc-f07b-19d6fb49f13e"
      },
      "source": [
        "yTestNew = y_test.argmax(axis=1)\n",
        "yPredNew = predictions.argmax(axis=1)\n",
        "\n",
        "print(yTestNew)\n",
        "print(yPredNew)"
      ],
      "execution_count": null,
      "outputs": [
        {
          "output_type": "stream",
          "name": "stdout",
          "text": [
            "[1 0 0 0 2 1 1 0 1 1 2 0 1 1 1 0 0 1 2 2 0 0 2 0 1 0 0 2 2 1 0 1 2 0 1 0 0\n",
            " 0 0 0 1 1 1 2 1 2 1 2 1 2 0 1 1 1 1 1 0 1 1 0 1 2 0 1 0 0 1 0 1 2 2 1 2 1\n",
            " 1 1 1 1 1 1 1 2 2 1 1 1 1 2 2 1 0 2 1 1 1 1 1 0 2 1 2 1 1 1 0 0 1 1 0 1 0\n",
            " 0 2 1 1 1 1 0 2 0 0 0 2 0 1 1 1 0 0 1 1 0 1 1 1 1 0 1 2 2 1 2 1 0 0 0 0 0\n",
            " 1 1 1 1 1 1 1 2 1 0 2 1 0 2 1 0 1 0 0 0 2 1 1 1 2 1 1 1 1 0 1 1 1 1 1 0 0\n",
            " 1 0 2 1 0 2 0 2 1 2 2 2 2 1 1 1 0 1 1 0 1 0 1 1 1 1 1 1 1 0 0 0 0 0 1 0 0\n",
            " 2 0 0 1 0 1 2 1 1 1 1 0 0 2 1 1 1 2 2 0 1 0 1 0 1 2 1 0 1 1 0 0 2 0 1 1 1\n",
            " 1 2 1 0 1 1 0 1 1 1 1 1 0 1 2 2 2 1 0 2 2 1 0 1 1 1 2 2 1 0 0 2 0 1 2 2 1\n",
            " 2 1 1 0 2 2 1 2 0 1 1 1 1 1 0 1 0 0 1 0 2 0 0 1 1 2 1 0 2 0 1 1 0 0 1 1 2\n",
            " 2 0 1 1 0 1 1 1 0 0 1 1 0 1 0 2 1 0 2 1 1 1 1 1 0 1 2 1 1 1 0 1 1 1 2 0 2\n",
            " 0 0 0 1 2 2 2 1 1 1 1 0 1 0 0 2 1 1 1 1 1 0 1 1 2 0 0 2 0 1 0 1 1 2 0 0 1\n",
            " 1 0 1 2 2 0 2 0 2 2 1 1 1 1 1 2 2 0 2 0 0 1 0 0 1 0 0 2 2 0 0 1 0 1 1 0 0\n",
            " 1 0 1 1 1 0 2 0 1 0 1 0 1 0 1 0 1 2 2 0 0 0 1 1 2 0 1 0 0 1 2 1 0 0 2 1 2\n",
            " 1 1 0 1 1 0 2 0 1 0 1 0 0 0 2 2 1 0 0 0 0 1 0 1 1 1 1 2 0 2 2 0 1 0 1 1 0\n",
            " 0 2 2 0 1 0 2 0 2 2 2 1 0 1 1 2 0 1 2 0 0 0 0 0 2 0 1 1 2 1 1 2 0 2 1 1 0\n",
            " 0 1 0 1 2 2 1 0 1 0 0 1 1 1 1 2 0 2 2 1 1 2 1 0 2 2 1 1 2 0 1 0 1 0 1 1 1\n",
            " 1 0 1 1 2 1 2 1 0 1 0 1 1 2 2 1 0 2 2 0 2 0 1 0 1 2 0 2 1 0 1 0 1 1 0 0 0\n",
            " 0 1 1 0 1 2 1 1 2 1 1 0 1 1 1 1 0 1 0 2 1 0 1 0 0 0 1 0 2 0 1 1 1 1 2 1 1\n",
            " 1 0 0 1 1 0 1 1 1 0 1 0 0 0 0 0 0 0 1 1 0 0 1 0 1 0 0 0 1 1 2 1 0 0 0 0 1\n",
            " 0 1 1 1 1 2 1 1 1 1 1 1 0 1 2 1 2 1 1 1 2 2 0 0 0 1 0 2 1 1 0 1 2 1 1 0 0\n",
            " 0 1 2 0 1 1 0 2 0 1 1 1 0 1 1 0 2 0 1 1 1 1 1 0 1 1 0 1 1 0 0 1 0 0 2 2 0\n",
            " 1 0 0 0 2 1 0 0 0 0 0 1 0 1 0 0 0 0 1 0 1 0 1 0 1 2 2 1 1 1 0 1 0 1 1 0 0\n",
            " 0 1 2 0 0 1 1 1 1 0 2 2 1 0 1 1 0 1 0 0 0 1 0 1 0 1 1 1 1 0 1 0 1 2 0 0 1\n",
            " 0 2 0 1 1 1 1 0 1 0 1 0 1 0 2 0 0 2 1 1 1 0 0 1 1 1 0 1 2 1 0 1 0 1 1 1 1\n",
            " 1 0 1 2 2 2 0 1 0 1 1 1 1 2 1 2 2 1 1 1 0 1]\n",
            "[1 0 1 1 1 2 1 0 1 1 1 0 1 1 1 1 1 1 2 2 1 0 2 0 1 0 0 2 0 2 0 1 2 1 1 0 1\n",
            " 0 0 0 1 1 1 2 1 2 1 2 1 2 0 1 2 1 1 1 0 1 1 1 1 1 1 1 0 2 1 1 1 2 2 1 2 1\n",
            " 1 1 1 1 1 1 1 2 2 1 1 1 1 2 2 1 0 1 1 1 2 1 2 0 2 1 2 1 1 2 2 1 1 1 0 1 1\n",
            " 0 1 1 1 1 1 1 2 1 0 1 0 0 1 1 2 1 1 1 2 0 1 1 1 1 0 1 2 1 1 1 1 2 0 0 0 0\n",
            " 1 1 1 1 1 0 1 2 1 1 2 1 0 1 1 0 1 1 1 0 2 1 1 1 1 1 1 1 1 1 1 1 0 1 1 2 1\n",
            " 1 1 2 1 1 0 0 2 1 2 2 2 2 1 1 1 0 1 0 0 1 0 1 2 1 1 1 2 1 1 0 1 0 0 0 0 0\n",
            " 2 0 1 1 1 2 2 1 1 1 1 1 0 2 1 2 0 2 2 0 1 0 1 1 1 2 1 0 1 1 0 1 2 1 0 1 1\n",
            " 1 2 1 0 2 1 2 1 2 1 1 1 0 0 0 2 2 1 0 2 2 1 0 1 2 1 2 2 1 0 1 2 1 2 1 2 1\n",
            " 2 1 1 1 2 2 1 2 0 1 2 1 2 1 1 1 0 0 1 0 2 1 1 1 1 2 1 0 2 1 1 1 1 1 1 1 2\n",
            " 0 0 1 1 1 1 1 1 1 0 0 1 0 0 0 2 1 0 0 1 2 1 1 1 0 2 1 1 1 1 0 1 2 0 2 1 2\n",
            " 0 0 1 1 2 2 2 1 1 1 1 0 1 0 0 2 1 1 1 1 1 0 1 1 2 0 1 2 0 1 0 1 1 2 0 1 1\n",
            " 1 0 1 2 0 0 2 1 2 2 1 1 1 1 1 2 2 0 2 1 1 1 0 0 1 1 0 2 2 0 1 1 0 1 1 1 2\n",
            " 1 0 1 0 1 2 2 1 1 0 1 0 1 1 1 0 1 0 2 1 0 0 1 1 2 0 1 0 0 1 2 1 0 2 2 1 2\n",
            " 1 1 0 1 1 0 2 1 2 0 1 0 0 0 2 2 1 2 1 1 0 1 0 1 1 1 1 2 1 2 1 1 0 2 2 1 0\n",
            " 1 2 2 0 1 1 2 0 2 2 2 1 1 1 1 2 0 1 2 1 0 1 1 0 2 1 1 1 2 1 1 2 0 2 1 1 0\n",
            " 0 1 0 1 2 2 2 0 1 0 0 1 1 1 1 2 0 2 2 1 1 2 1 2 0 2 1 1 2 2 1 0 1 0 1 2 0\n",
            " 1 1 1 1 2 1 2 1 1 1 2 1 2 2 2 0 0 2 2 1 1 0 1 1 1 2 0 2 1 0 1 0 1 0 1 1 0\n",
            " 0 1 0 0 1 2 1 1 2 1 1 1 1 1 1 1 0 0 0 1 1 0 2 1 0 0 2 0 2 0 1 1 1 0 2 0 1\n",
            " 1 2 1 1 1 0 0 1 1 0 1 0 1 2 1 1 1 1 1 1 0 1 1 2 1 0 1 1 1 1 0 1 1 1 0 0 1\n",
            " 0 1 1 1 1 2 1 1 1 1 0 1 1 1 2 1 2 1 2 1 2 0 0 0 1 0 0 2 0 2 0 1 2 1 1 0 1\n",
            " 0 1 2 0 1 1 1 2 0 2 1 1 1 2 1 0 2 1 1 2 2 1 1 0 1 1 0 1 1 1 1 1 1 1 1 2 1\n",
            " 1 0 0 0 2 2 1 1 0 0 1 2 0 1 1 0 0 0 1 1 2 0 1 1 1 2 2 0 1 1 1 1 1 1 1 0 1\n",
            " 1 1 2 0 1 1 1 1 1 0 2 2 1 1 1 0 1 1 0 0 0 1 0 2 0 1 1 0 1 0 1 0 1 2 0 0 1\n",
            " 1 2 1 1 1 1 1 0 1 2 2 0 1 1 2 0 1 0 1 1 1 0 0 1 2 1 0 1 2 1 2 1 2 1 1 1 1\n",
            " 1 0 1 2 2 2 2 1 1 1 1 1 1 2 1 2 1 1 1 1 0 1]\n"
          ]
        }
      ]
    },
    {
      "cell_type": "code",
      "metadata": {
        "colab": {
          "base_uri": "https://localhost:8080/",
          "height": 296
        },
        "id": "kZ4gr1SEvWjl",
        "outputId": "1c9aa3ca-b396-49ab-8499-4e05f6c4ce8c"
      },
      "source": [
        "from sklearn.metrics import confusion_matrix, ConfusionMatrixDisplay, f1_score\n",
        "\n",
        "cM = confusion_matrix(yTestNew,yPredNew)\n",
        "\n",
        "displayClasses = [i for i in range(3)]\n",
        "\n",
        "\n",
        "print(f1_score(yTestNew, yPredNew, average='macro'))\n",
        "\n",
        "disp = ConfusionMatrixDisplay(confusion_matrix=cM, display_labels=displayClasses)\n",
        "disp.plot()\n",
        "pyplot.show()"
      ],
      "execution_count": null,
      "outputs": [
        {
          "output_type": "stream",
          "name": "stdout",
          "text": [
            "0.7392723787085299\n"
          ]
        },
        {
          "output_type": "display_data",
          "data": {
            "image/png": "[encoded data removed]",
            "text/plain": [
              "<Figure size 432x288 with 2 Axes>"
            ]
          },
          "metadata": {
            "needs_background": "light"
          }
        }
      ]
    }
  ]
}
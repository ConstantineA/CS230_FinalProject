{
  "nbformat": 4,
  "nbformat_minor": 0,
  "metadata": {
    "colab": {
      "name": "HypSearch_Model2.ipynb",
      "provenance": [],
      "collapsed_sections": []
    },
    "kernelspec": {
      "name": "python3",
      "display_name": "Python 3"
    },
    "language_info": {
      "name": "python"
    },
    "accelerator": "GPU"
  },
  "cells": [
    {
      "cell_type": "code",
      "metadata": {
        "colab": {
          "base_uri": "https://localhost:8080/"
        },
        "id": "R1i2sbli4m1q",
        "outputId": "58407d49-d670-48c8-ccc0-cb5dbdd717a4"
      },
      "source": [
        "from google.colab import drive\n",
        "drive.mount('/content/drive')"
      ],
      "execution_count": null,
      "outputs": [
        {
          "output_type": "stream",
          "name": "stdout",
          "text": [
            "Mounted at /content/drive\n"
          ]
        }
      ]
    },
    {
      "cell_type": "code",
      "metadata": {
        "colab": {
          "base_uri": "https://localhost:8080/",
          "height": 35
        },
        "id": "wEOn3xWIgn6H",
        "outputId": "2f980fa0-b248-4eb5-c9d4-5d9cd2ff3ee6"
      },
      "source": [
        "import tensorflow as tf\n",
        "tf.test.gpu_device_name()"
      ],
      "execution_count": null,
      "outputs": [
        {
          "output_type": "execute_result",
          "data": {
            "application/vnd.google.colaboratory.intrinsic+json": {
              "type": "string"
            },
            "text/plain": [
              "'/device:GPU:0'"
            ]
          },
          "metadata": {},
          "execution_count": 7
        }
      ]
    },
    {
      "cell_type": "code",
      "metadata": {
        "id": "zp8Wfl7u80zY"
      },
      "source": [
        "from keras.models import Sequential\n",
        "from keras.layers import Dense, Conv2D, Flatten, MaxPooling2D, AveragePooling2D, BatchNormalization\n",
        "from matplotlib import image\n",
        "from matplotlib import pyplot\n",
        "import os\n",
        "import shutil\n",
        "import numpy as np\n",
        "from PIL import Image\n",
        "import pickle\n",
        "\n"
      ],
      "execution_count": null,
      "outputs": []
    },
    {
      "cell_type": "code",
      "metadata": {
        "colab": {
          "base_uri": "https://localhost:8080/"
        },
        "id": "edig5vqz5jSQ",
        "outputId": "80ca3ada-7515-4456-e44d-5fbbf932b726"
      },
      "source": [
        "pathToData = \"drive/MyDrive/CS 230 Final Project/Final Data and CSVs/Final CSV Files and Data/Binary Split/\"\n",
        "print(pathToData + \"train_X.p\")"
      ],
      "execution_count": null,
      "outputs": [
        {
          "output_type": "stream",
          "name": "stdout",
          "text": [
            "drive/MyDrive/CS 230 Final Project/Final Data and CSVs/Final CSV Files and Data/Binary Split/train_X.p\n"
          ]
        }
      ]
    },
    {
      "cell_type": "code",
      "metadata": {
        "colab": {
          "base_uri": "https://localhost:8080/"
        },
        "id": "hl-HIMyK3q5l",
        "outputId": "ccea73cc-7b7d-4bc2-873f-7f9af104567a"
      },
      "source": [
        "# load the train dataset\n",
        "X_train = pickle.load(open(pathToData+\"train_X.p\", 'rb'))\n",
        "y_train = pickle.load(open(pathToData+\"train_Y.p\", 'rb'))\n",
        "#y_train = y_train.reshape(y_train.shape[0],-1)\n",
        "\n",
        "print(X_train.shape)\n",
        "print(y_train.shape)\n",
        "\n",
        "\n",
        "# load the dev dataset\n",
        "X_dev = pickle.load(open(pathToData+\"dev_X.p\", 'rb'))\n",
        "y_dev = pickle.load(open(pathToData+\"dev_Y.p\", 'rb'))\n",
        "#y_dev = y_dev.reshape(y_dev.shape[0],-1)\n",
        "\n",
        "print(X_dev.shape)\n",
        "print(y_dev.shape)\n",
        "\n",
        "# load the test dataset\n",
        "X_test = pickle.load(open(pathToData+\"test_X.p\", 'rb'))\n",
        "y_test = pickle.load(open(pathToData+\"test_Y.p\", 'rb'))\n",
        "#y_test= y_test.reshape(y_test.shape[0],-1)\n",
        "\n",
        "print(X_test.shape)\n",
        "print(y_test.shape)\n",
        "\n",
        "print(X_train.shape[1:])\n"
      ],
      "execution_count": null,
      "outputs": [
        {
          "output_type": "stream",
          "name": "stdout",
          "text": [
            "(4246, 208, 160, 3)\n",
            "(4246,)\n",
            "(910, 208, 160, 3)\n",
            "(910,)\n",
            "(910, 208, 160, 3)\n",
            "(910,)\n",
            "(208, 160, 3)\n"
          ]
        }
      ]
    },
    {
      "cell_type": "code",
      "metadata": {
        "colab": {
          "base_uri": "https://localhost:8080/"
        },
        "id": "fNZMfA8Y36cw",
        "outputId": "a086c235-ea09-4465-9dbf-6f3966f099ea"
      },
      "source": [
        "numExamples = X_train.shape[0]\n",
        "print(numExamples)"
      ],
      "execution_count": null,
      "outputs": [
        {
          "output_type": "stream",
          "name": "stdout",
          "text": [
            "4246\n"
          ]
        }
      ]
    },
    {
      "cell_type": "code",
      "metadata": {
        "id": "Ey9jAxeSb-rL"
      },
      "source": [
        "print(y_test)"
      ],
      "execution_count": null,
      "outputs": []
    },
    {
      "cell_type": "code",
      "metadata": {
        "colab": {
          "base_uri": "https://localhost:8080/"
        },
        "id": "1qvVnv5B39aF",
        "outputId": "7f2f07e7-3d22-426c-b439-6c568520858e"
      },
      "source": [
        "#HYPERPARAMETER SEARCH OVER EPOCH NUMBER and BATCH SIZE\n",
        "#We keep number of layers, neuron per layer, activation in each layer constant\n",
        "batchSizes = [5,10,50,100,200]\n",
        "\n",
        "print(batchSizes)\n",
        "numEpochs = 30"
      ],
      "execution_count": null,
      "outputs": [
        {
          "output_type": "stream",
          "name": "stdout",
          "text": [
            "[5, 10, 50, 100, 200]\n"
          ]
        }
      ]
    },
    {
      "cell_type": "code",
      "metadata": {
        "colab": {
          "base_uri": "https://localhost:8080/"
        },
        "id": "pU66yvr84B_i",
        "outputId": "14486121-f9c4-49d0-868d-3540fe2eec2f"
      },
      "source": [
        "trainAccuracy = []\n",
        "valAccuracy = []\n",
        "trainLoss = []\n",
        "valLoss = []\n",
        "\n",
        "for batchSize in batchSizes:\n",
        "  print(\"BatchSize : \", batchSize)\n",
        "  model = Sequential()\n",
        "\n",
        "  model.add(Conv2D(32, kernel_size=5, padding=\"same\", input_shape= X_train.shape[1:], activation = \"relu\"))\n",
        "  model.add(BatchNormalization())\n",
        "  model.add(MaxPooling2D(pool_size=3, padding=\"valid\", strides=(2,2)))\n",
        "\n",
        "  model.add(Conv2D(64, kernel_size=5, padding=\"same\", activation = \"relu\"))\n",
        "  model.add(BatchNormalization())\n",
        "  model.add(MaxPooling2D(pool_size=3, padding=\"valid\", strides=(2,2)))\n",
        "\n",
        "  model.add(Conv2D(64, kernel_size=5, padding=\"same\", activation = \"relu\"))\n",
        "  model.add(BatchNormalization())\n",
        "  model.add(MaxPooling2D(pool_size=3, padding=\"valid\", strides=(2,2)))\n",
        "\n",
        "  model.add(Conv2D(128, kernel_size=5, padding=\"same\", activation = \"relu\"))\n",
        "  model.add(BatchNormalization())\n",
        "  model.add(MaxPooling2D(pool_size=3, padding=\"valid\", strides=(2,2)))\n",
        "\n",
        "  model.add(Conv2D(256, kernel_size=5, padding=\"same\", activation = \"relu\"))\n",
        "  model.add(BatchNormalization())\n",
        "  model.add(MaxPooling2D(pool_size=3, padding=\"valid\", strides=(2,2)))\n",
        "\n",
        "  model.add(Flatten())\n",
        "\n",
        "  model.add(Dense(5120, activation=\"relu\"))\n",
        "  model.add(Dense(1, activation='sigmoid'))\n",
        "\n",
        "  \n",
        "  model.compile(loss='binary_crossentropy', optimizer='adam', metrics=['accuracy'])\n",
        "  history = model.fit(X_train, y_train, epochs=numEpochs, batch_size=batchSize, validation_data = (X_dev, y_dev))\n",
        "  historyDict = history.history\n",
        "  trainAccuracy.append(historyDict[\"accuracy\"])\n",
        "  valAccuracy.append(historyDict[\"val_accuracy\"])\n",
        "  trainLoss.append(historyDict['loss'])\n",
        "  valLoss.append(historyDict['val_loss'])"
      ],
      "execution_count": null,
      "outputs": [
        {
          "output_type": "stream",
          "name": "stdout",
          "text": [
            "BatchSize :  5\n",
            "Epoch 1/30\n",
            "850/850 [==============================] - 74s 51ms/step - loss: 1.3113 - accuracy: 0.6345 - val_loss: 0.6382 - val_accuracy: 0.6835\n",
            "Epoch 2/30\n",
            "850/850 [==============================] - 43s 51ms/step - loss: 0.6583 - accuracy: 0.6547 - val_loss: 0.5857 - val_accuracy: 0.6868\n",
            "Epoch 3/30\n",
            "850/850 [==============================] - 42s 50ms/step - loss: 0.5927 - accuracy: 0.6976 - val_loss: 0.6601 - val_accuracy: 0.6846\n",
            "Epoch 4/30\n",
            "850/850 [==============================] - 43s 50ms/step - loss: 0.5854 - accuracy: 0.7080 - val_loss: 0.5320 - val_accuracy: 0.7297\n",
            "Epoch 5/30\n",
            "850/850 [==============================] - 43s 50ms/step - loss: 0.5739 - accuracy: 0.7068 - val_loss: 0.5778 - val_accuracy: 0.6879\n",
            "Epoch 6/30\n",
            "850/850 [==============================] - 43s 51ms/step - loss: 0.5587 - accuracy: 0.7252 - val_loss: 0.4781 - val_accuracy: 0.7714\n",
            "Epoch 7/30\n",
            "850/850 [==============================] - 43s 50ms/step - loss: 0.4957 - accuracy: 0.7701 - val_loss: 0.8472 - val_accuracy: 0.5088\n",
            "Epoch 8/30\n",
            "850/850 [==============================] - 43s 50ms/step - loss: 0.4718 - accuracy: 0.7866 - val_loss: 0.4431 - val_accuracy: 0.7846\n",
            "Epoch 9/30\n",
            "850/850 [==============================] - 42s 50ms/step - loss: 0.4172 - accuracy: 0.8165 - val_loss: 0.3684 - val_accuracy: 0.8396\n",
            "Epoch 10/30\n",
            "850/850 [==============================] - 42s 50ms/step - loss: 0.3513 - accuracy: 0.8585 - val_loss: 0.9837 - val_accuracy: 0.7000\n",
            "Epoch 11/30\n",
            "850/850 [==============================] - 42s 50ms/step - loss: 0.3233 - accuracy: 0.8726 - val_loss: 0.7517 - val_accuracy: 0.6363\n",
            "Epoch 12/30\n",
            "850/850 [==============================] - 42s 50ms/step - loss: 0.2494 - accuracy: 0.8994 - val_loss: 0.4637 - val_accuracy: 0.8176\n",
            "Epoch 13/30\n",
            "850/850 [==============================] - 42s 50ms/step - loss: 0.1827 - accuracy: 0.9293 - val_loss: 0.1997 - val_accuracy: 0.9242\n",
            "Epoch 14/30\n",
            "850/850 [==============================] - 42s 50ms/step - loss: 0.1338 - accuracy: 0.9472 - val_loss: 0.2178 - val_accuracy: 0.9209\n",
            "Epoch 15/30\n",
            "850/850 [==============================] - 42s 50ms/step - loss: 0.1369 - accuracy: 0.9489 - val_loss: 0.2675 - val_accuracy: 0.9242\n",
            "Epoch 16/30\n",
            "850/850 [==============================] - 43s 50ms/step - loss: 0.1367 - accuracy: 0.9515 - val_loss: 0.4902 - val_accuracy: 0.8429\n",
            "Epoch 17/30\n",
            "850/850 [==============================] - 43s 50ms/step - loss: 0.0807 - accuracy: 0.9701 - val_loss: 0.2368 - val_accuracy: 0.9242\n",
            "Epoch 18/30\n",
            "850/850 [==============================] - 43s 51ms/step - loss: 0.0945 - accuracy: 0.9663 - val_loss: 1.1732 - val_accuracy: 0.8231\n",
            "Epoch 19/30\n",
            "850/850 [==============================] - 43s 50ms/step - loss: 0.1133 - accuracy: 0.9609 - val_loss: 0.5566 - val_accuracy: 0.8429\n",
            "Epoch 20/30\n",
            "850/850 [==============================] - 43s 50ms/step - loss: 0.0740 - accuracy: 0.9757 - val_loss: 0.3311 - val_accuracy: 0.9286\n",
            "Epoch 21/30\n",
            "850/850 [==============================] - 43s 51ms/step - loss: 0.0505 - accuracy: 0.9845 - val_loss: 0.2675 - val_accuracy: 0.9429\n",
            "Epoch 22/30\n",
            "850/850 [==============================] - 43s 51ms/step - loss: 0.0836 - accuracy: 0.9746 - val_loss: 0.2382 - val_accuracy: 0.9352\n",
            "Epoch 23/30\n",
            "850/850 [==============================] - 42s 50ms/step - loss: 0.0583 - accuracy: 0.9790 - val_loss: 0.2200 - val_accuracy: 0.9484\n",
            "Epoch 24/30\n",
            "850/850 [==============================] - 42s 50ms/step - loss: 0.0469 - accuracy: 0.9849 - val_loss: 0.2708 - val_accuracy: 0.9495\n",
            "Epoch 25/30\n",
            "850/850 [==============================] - 42s 50ms/step - loss: 0.0634 - accuracy: 0.9790 - val_loss: 0.2962 - val_accuracy: 0.9341\n",
            "Epoch 26/30\n",
            "850/850 [==============================] - 42s 50ms/step - loss: 0.0442 - accuracy: 0.9852 - val_loss: 0.3661 - val_accuracy: 0.9198\n",
            "Epoch 27/30\n",
            "850/850 [==============================] - 43s 50ms/step - loss: 0.0423 - accuracy: 0.9870 - val_loss: 0.3404 - val_accuracy: 0.9132\n",
            "Epoch 28/30\n",
            "850/850 [==============================] - 43s 50ms/step - loss: 0.0394 - accuracy: 0.9861 - val_loss: 0.3362 - val_accuracy: 0.9264\n",
            "Epoch 29/30\n",
            "850/850 [==============================] - 43s 50ms/step - loss: 0.0351 - accuracy: 0.9894 - val_loss: 0.3121 - val_accuracy: 0.9429\n",
            "Epoch 30/30\n",
            "850/850 [==============================] - 43s 50ms/step - loss: 0.0640 - accuracy: 0.9772 - val_loss: 0.3654 - val_accuracy: 0.9231\n",
            "BatchSize :  10\n",
            "Epoch 1/30\n",
            "425/425 [==============================] - 34s 76ms/step - loss: 1.5007 - accuracy: 0.6298 - val_loss: 0.6066 - val_accuracy: 0.6967\n",
            "Epoch 2/30\n",
            "425/425 [==============================] - 32s 75ms/step - loss: 0.6460 - accuracy: 0.6547 - val_loss: 0.5990 - val_accuracy: 0.6956\n",
            "Epoch 3/30\n",
            "425/425 [==============================] - 31s 73ms/step - loss: 0.6097 - accuracy: 0.6797 - val_loss: 0.6496 - val_accuracy: 0.6956\n",
            "Epoch 4/30\n",
            "425/425 [==============================] - 31s 72ms/step - loss: 0.5917 - accuracy: 0.6931 - val_loss: 0.6289 - val_accuracy: 0.6637\n",
            "Epoch 5/30\n",
            "425/425 [==============================] - 32s 75ms/step - loss: 0.5626 - accuracy: 0.7169 - val_loss: 0.6713 - val_accuracy: 0.5407\n",
            "Epoch 6/30\n",
            "425/425 [==============================] - 32s 75ms/step - loss: 0.5287 - accuracy: 0.7449 - val_loss: 0.6002 - val_accuracy: 0.6923\n",
            "Epoch 7/30\n",
            "425/425 [==============================] - 32s 74ms/step - loss: 0.5175 - accuracy: 0.7494 - val_loss: 0.5044 - val_accuracy: 0.7549\n",
            "Epoch 8/30\n",
            "425/425 [==============================] - 32s 75ms/step - loss: 0.4720 - accuracy: 0.7786 - val_loss: 0.5380 - val_accuracy: 0.7538\n",
            "Epoch 9/30\n",
            "425/425 [==============================] - 31s 73ms/step - loss: 0.4258 - accuracy: 0.8029 - val_loss: 0.4069 - val_accuracy: 0.8176\n",
            "Epoch 10/30\n",
            "425/425 [==============================] - 32s 74ms/step - loss: 0.3731 - accuracy: 0.8349 - val_loss: 0.5983 - val_accuracy: 0.7462\n",
            "Epoch 11/30\n",
            "425/425 [==============================] - 32s 75ms/step - loss: 0.3221 - accuracy: 0.8608 - val_loss: 0.3284 - val_accuracy: 0.8725\n",
            "Epoch 12/30\n",
            "425/425 [==============================] - 31s 72ms/step - loss: 0.2437 - accuracy: 0.9041 - val_loss: 0.8769 - val_accuracy: 0.7659\n",
            "Epoch 13/30\n",
            "425/425 [==============================] - 31s 73ms/step - loss: 0.2124 - accuracy: 0.9159 - val_loss: 1.0104 - val_accuracy: 0.7220\n",
            "Epoch 14/30\n",
            "425/425 [==============================] - 31s 72ms/step - loss: 0.1610 - accuracy: 0.9416 - val_loss: 0.3009 - val_accuracy: 0.9011\n",
            "Epoch 15/30\n",
            "425/425 [==============================] - 31s 72ms/step - loss: 0.1327 - accuracy: 0.9465 - val_loss: 0.8769 - val_accuracy: 0.7747\n",
            "Epoch 16/30\n",
            "425/425 [==============================] - 31s 72ms/step - loss: 0.1174 - accuracy: 0.9550 - val_loss: 0.2991 - val_accuracy: 0.9077\n",
            "Epoch 17/30\n",
            "425/425 [==============================] - 31s 72ms/step - loss: 0.1002 - accuracy: 0.9609 - val_loss: 0.5823 - val_accuracy: 0.8802\n",
            "Epoch 18/30\n",
            "425/425 [==============================] - 31s 72ms/step - loss: 0.0979 - accuracy: 0.9626 - val_loss: 0.2144 - val_accuracy: 0.9231\n",
            "Epoch 19/30\n",
            "425/425 [==============================] - 31s 72ms/step - loss: 0.0639 - accuracy: 0.9753 - val_loss: 0.7576 - val_accuracy: 0.7297\n",
            "Epoch 20/30\n",
            "425/425 [==============================] - 32s 74ms/step - loss: 0.0840 - accuracy: 0.9694 - val_loss: 0.2575 - val_accuracy: 0.9242\n",
            "Epoch 21/30\n",
            "425/425 [==============================] - 31s 73ms/step - loss: 0.0623 - accuracy: 0.9772 - val_loss: 0.3710 - val_accuracy: 0.9143\n",
            "Epoch 22/30\n",
            "425/425 [==============================] - 31s 74ms/step - loss: 0.0537 - accuracy: 0.9797 - val_loss: 0.2667 - val_accuracy: 0.9187\n",
            "Epoch 23/30\n",
            "425/425 [==============================] - 31s 74ms/step - loss: 0.0526 - accuracy: 0.9816 - val_loss: 0.3726 - val_accuracy: 0.9330\n",
            "Epoch 24/30\n",
            "425/425 [==============================] - 31s 74ms/step - loss: 0.0466 - accuracy: 0.9856 - val_loss: 0.6209 - val_accuracy: 0.8868\n",
            "Epoch 25/30\n",
            "425/425 [==============================] - 31s 74ms/step - loss: 0.0408 - accuracy: 0.9861 - val_loss: 0.2681 - val_accuracy: 0.9143\n",
            "Epoch 26/30\n",
            "425/425 [==============================] - 32s 74ms/step - loss: 0.0417 - accuracy: 0.9870 - val_loss: 1.6724 - val_accuracy: 0.7593\n",
            "Epoch 27/30\n",
            "425/425 [==============================] - 31s 72ms/step - loss: 0.0589 - accuracy: 0.9783 - val_loss: 0.3602 - val_accuracy: 0.9242\n",
            "Epoch 28/30\n",
            "425/425 [==============================] - 32s 74ms/step - loss: 0.0618 - accuracy: 0.9809 - val_loss: 0.2985 - val_accuracy: 0.9308\n",
            "Epoch 29/30\n",
            "425/425 [==============================] - 32s 74ms/step - loss: 0.0562 - accuracy: 0.9821 - val_loss: 0.2413 - val_accuracy: 0.9209\n",
            "Epoch 30/30\n",
            "425/425 [==============================] - 32s 74ms/step - loss: 0.0555 - accuracy: 0.9807 - val_loss: 0.3716 - val_accuracy: 0.9242\n",
            "BatchSize :  50\n",
            "Epoch 1/30\n",
            "85/85 [==============================] - 21s 206ms/step - loss: 2.2568 - accuracy: 0.6335 - val_loss: 3.5891 - val_accuracy: 0.3176\n",
            "Epoch 2/30\n",
            "85/85 [==============================] - 15s 176ms/step - loss: 0.6123 - accuracy: 0.6733 - val_loss: 0.6107 - val_accuracy: 0.6890\n",
            "Epoch 3/30\n",
            "85/85 [==============================] - 15s 177ms/step - loss: 0.5854 - accuracy: 0.6955 - val_loss: 0.9885 - val_accuracy: 0.6857\n",
            "Epoch 4/30\n",
            "85/85 [==============================] - 15s 176ms/step - loss: 0.5538 - accuracy: 0.7200 - val_loss: 0.5835 - val_accuracy: 0.7209\n",
            "Epoch 5/30\n",
            "85/85 [==============================] - 15s 176ms/step - loss: 0.5011 - accuracy: 0.7532 - val_loss: 0.7320 - val_accuracy: 0.6978\n",
            "Epoch 6/30\n",
            "85/85 [==============================] - 15s 177ms/step - loss: 0.4905 - accuracy: 0.7675 - val_loss: 0.6169 - val_accuracy: 0.7231\n",
            "Epoch 7/30\n",
            "85/85 [==============================] - 15s 177ms/step - loss: 0.4806 - accuracy: 0.7772 - val_loss: 0.4995 - val_accuracy: 0.7538\n",
            "Epoch 8/30\n",
            "85/85 [==============================] - 15s 177ms/step - loss: 0.4591 - accuracy: 0.7845 - val_loss: 0.5190 - val_accuracy: 0.7659\n",
            "Epoch 9/30\n",
            "85/85 [==============================] - 15s 177ms/step - loss: 0.3788 - accuracy: 0.8311 - val_loss: 0.6601 - val_accuracy: 0.7121\n",
            "Epoch 10/30\n",
            "85/85 [==============================] - 15s 177ms/step - loss: 0.3739 - accuracy: 0.8384 - val_loss: 0.4892 - val_accuracy: 0.7890\n",
            "Epoch 11/30\n",
            "85/85 [==============================] - 15s 176ms/step - loss: 0.3191 - accuracy: 0.8648 - val_loss: 1.3575 - val_accuracy: 0.7154\n",
            "Epoch 12/30\n",
            "85/85 [==============================] - 15s 182ms/step - loss: 0.2654 - accuracy: 0.8874 - val_loss: 0.3597 - val_accuracy: 0.8549\n",
            "Epoch 13/30\n",
            "85/85 [==============================] - 15s 177ms/step - loss: 0.2213 - accuracy: 0.9072 - val_loss: 0.3542 - val_accuracy: 0.8527\n",
            "Epoch 14/30\n",
            "85/85 [==============================] - 15s 177ms/step - loss: 0.1711 - accuracy: 0.9317 - val_loss: 0.6159 - val_accuracy: 0.7934\n",
            "Epoch 15/30\n",
            "85/85 [==============================] - 15s 177ms/step - loss: 0.1572 - accuracy: 0.9355 - val_loss: 0.3254 - val_accuracy: 0.8648\n",
            "Epoch 16/30\n",
            "85/85 [==============================] - 15s 177ms/step - loss: 0.1330 - accuracy: 0.9524 - val_loss: 0.4245 - val_accuracy: 0.8648\n",
            "Epoch 17/30\n",
            "85/85 [==============================] - 15s 181ms/step - loss: 0.0999 - accuracy: 0.9623 - val_loss: 0.2452 - val_accuracy: 0.9121\n",
            "Epoch 18/30\n",
            "85/85 [==============================] - 15s 182ms/step - loss: 0.1197 - accuracy: 0.9560 - val_loss: 1.1519 - val_accuracy: 0.7473\n",
            "Epoch 19/30\n",
            "85/85 [==============================] - 15s 182ms/step - loss: 0.0807 - accuracy: 0.9696 - val_loss: 0.4007 - val_accuracy: 0.8495\n",
            "Epoch 20/30\n",
            "85/85 [==============================] - 15s 177ms/step - loss: 0.0524 - accuracy: 0.9776 - val_loss: 0.3490 - val_accuracy: 0.8736\n",
            "Epoch 21/30\n",
            "85/85 [==============================] - 15s 177ms/step - loss: 0.0880 - accuracy: 0.9659 - val_loss: 0.8802 - val_accuracy: 0.6758\n",
            "Epoch 22/30\n",
            "85/85 [==============================] - 15s 177ms/step - loss: 0.1096 - accuracy: 0.9555 - val_loss: 0.5644 - val_accuracy: 0.8670\n",
            "Epoch 23/30\n",
            "85/85 [==============================] - 15s 176ms/step - loss: 0.0357 - accuracy: 0.9859 - val_loss: 0.4163 - val_accuracy: 0.9033\n",
            "Epoch 24/30\n",
            "85/85 [==============================] - 15s 177ms/step - loss: 0.0468 - accuracy: 0.9809 - val_loss: 0.2487 - val_accuracy: 0.9209\n",
            "Epoch 25/30\n",
            "85/85 [==============================] - 15s 177ms/step - loss: 0.0686 - accuracy: 0.9750 - val_loss: 0.4102 - val_accuracy: 0.8758\n",
            "Epoch 26/30\n",
            "85/85 [==============================] - 15s 177ms/step - loss: 0.0549 - accuracy: 0.9790 - val_loss: 0.3609 - val_accuracy: 0.8868\n",
            "Epoch 27/30\n",
            "85/85 [==============================] - 15s 176ms/step - loss: 0.0354 - accuracy: 0.9866 - val_loss: 0.3468 - val_accuracy: 0.9132\n",
            "Epoch 28/30\n",
            "85/85 [==============================] - 15s 177ms/step - loss: 0.0190 - accuracy: 0.9922 - val_loss: 0.5545 - val_accuracy: 0.8901\n",
            "Epoch 29/30\n",
            "85/85 [==============================] - 15s 176ms/step - loss: 0.0097 - accuracy: 0.9967 - val_loss: 0.2801 - val_accuracy: 0.9319\n",
            "Epoch 30/30\n",
            "85/85 [==============================] - 15s 176ms/step - loss: 0.0193 - accuracy: 0.9922 - val_loss: 0.4559 - val_accuracy: 0.9033\n",
            "BatchSize :  100\n",
            "Epoch 1/30\n",
            "43/43 [==============================] - 19s 323ms/step - loss: 3.5202 - accuracy: 0.6227 - val_loss: 10.0271 - val_accuracy: 0.6824\n",
            "Epoch 2/30\n",
            "43/43 [==============================] - 14s 316ms/step - loss: 0.6101 - accuracy: 0.6717 - val_loss: 1.3807 - val_accuracy: 0.6802\n",
            "Epoch 3/30\n",
            "43/43 [==============================] - 14s 327ms/step - loss: 0.5895 - accuracy: 0.6875 - val_loss: 0.6785 - val_accuracy: 0.5374\n",
            "Epoch 4/30\n",
            "43/43 [==============================] - 14s 316ms/step - loss: 0.5696 - accuracy: 0.7098 - val_loss: 0.8209 - val_accuracy: 0.4066\n",
            "Epoch 5/30\n",
            "43/43 [==============================] - 14s 317ms/step - loss: 0.5282 - accuracy: 0.7372 - val_loss: 0.7024 - val_accuracy: 0.5275\n",
            "Epoch 6/30\n",
            "43/43 [==============================] - 14s 316ms/step - loss: 0.5167 - accuracy: 0.7468 - val_loss: 0.5813 - val_accuracy: 0.6703\n",
            "Epoch 7/30\n",
            "43/43 [==============================] - 14s 316ms/step - loss: 0.4875 - accuracy: 0.7617 - val_loss: 0.5970 - val_accuracy: 0.7132\n",
            "Epoch 8/30\n",
            "43/43 [==============================] - 14s 316ms/step - loss: 0.4467 - accuracy: 0.7925 - val_loss: 2.9670 - val_accuracy: 0.6978\n",
            "Epoch 9/30\n",
            "43/43 [==============================] - 14s 316ms/step - loss: 0.4155 - accuracy: 0.8083 - val_loss: 0.5199 - val_accuracy: 0.7319\n",
            "Epoch 10/30\n",
            "43/43 [==============================] - 14s 316ms/step - loss: 0.4765 - accuracy: 0.7756 - val_loss: 0.8110 - val_accuracy: 0.7000\n",
            "Epoch 11/30\n",
            "43/43 [==============================] - 14s 316ms/step - loss: 0.4257 - accuracy: 0.7979 - val_loss: 2.6904 - val_accuracy: 0.6934\n",
            "Epoch 12/30\n",
            "43/43 [==============================] - 14s 316ms/step - loss: 0.3800 - accuracy: 0.8337 - val_loss: 0.4518 - val_accuracy: 0.7802\n",
            "Epoch 13/30\n",
            "43/43 [==============================] - 14s 328ms/step - loss: 0.3026 - accuracy: 0.8695 - val_loss: 8.2921 - val_accuracy: 0.6945\n",
            "Epoch 14/30\n",
            "43/43 [==============================] - 14s 315ms/step - loss: 0.2815 - accuracy: 0.8839 - val_loss: 1.8746 - val_accuracy: 0.7110\n",
            "Epoch 15/30\n",
            "43/43 [==============================] - 14s 316ms/step - loss: 0.2182 - accuracy: 0.9129 - val_loss: 0.9502 - val_accuracy: 0.7451\n",
            "Epoch 16/30\n",
            "43/43 [==============================] - 14s 316ms/step - loss: 0.1979 - accuracy: 0.9178 - val_loss: 0.4664 - val_accuracy: 0.7813\n",
            "Epoch 17/30\n",
            "43/43 [==============================] - 14s 327ms/step - loss: 0.2165 - accuracy: 0.9136 - val_loss: 1.8332 - val_accuracy: 0.7297\n",
            "Epoch 18/30\n",
            "43/43 [==============================] - 14s 317ms/step - loss: 0.1694 - accuracy: 0.9348 - val_loss: 0.9996 - val_accuracy: 0.7429\n",
            "Epoch 19/30\n",
            "43/43 [==============================] - 14s 316ms/step - loss: 0.1271 - accuracy: 0.9510 - val_loss: 1.2621 - val_accuracy: 0.7901\n",
            "Epoch 20/30\n",
            "43/43 [==============================] - 14s 316ms/step - loss: 0.1023 - accuracy: 0.9578 - val_loss: 0.4144 - val_accuracy: 0.8681\n",
            "Epoch 21/30\n",
            "43/43 [==============================] - 14s 316ms/step - loss: 0.1095 - accuracy: 0.9588 - val_loss: 0.4468 - val_accuracy: 0.8714\n",
            "Epoch 22/30\n",
            "43/43 [==============================] - 14s 316ms/step - loss: 0.1107 - accuracy: 0.9569 - val_loss: 2.1043 - val_accuracy: 0.8154\n",
            "Epoch 23/30\n",
            "43/43 [==============================] - 14s 316ms/step - loss: 0.1138 - accuracy: 0.9578 - val_loss: 1.5153 - val_accuracy: 0.7352\n",
            "Epoch 24/30\n",
            "43/43 [==============================] - 14s 316ms/step - loss: 0.1066 - accuracy: 0.9562 - val_loss: 0.2898 - val_accuracy: 0.8846\n",
            "Epoch 25/30\n",
            "43/43 [==============================] - 14s 316ms/step - loss: 0.0614 - accuracy: 0.9779 - val_loss: 0.7983 - val_accuracy: 0.8088\n",
            "Epoch 26/30\n",
            "43/43 [==============================] - 14s 316ms/step - loss: 0.0484 - accuracy: 0.9823 - val_loss: 1.0792 - val_accuracy: 0.8363\n",
            "Epoch 27/30\n",
            "43/43 [==============================] - 14s 316ms/step - loss: 0.0493 - accuracy: 0.9797 - val_loss: 0.4808 - val_accuracy: 0.9011\n",
            "Epoch 28/30\n",
            "43/43 [==============================] - 14s 317ms/step - loss: 0.0293 - accuracy: 0.9894 - val_loss: 0.3672 - val_accuracy: 0.9220\n",
            "Epoch 29/30\n",
            "43/43 [==============================] - 14s 316ms/step - loss: 0.0256 - accuracy: 0.9911 - val_loss: 0.2578 - val_accuracy: 0.9242\n",
            "Epoch 30/30\n",
            "43/43 [==============================] - 14s 316ms/step - loss: 0.0248 - accuracy: 0.9927 - val_loss: 1.9940 - val_accuracy: 0.7560\n",
            "BatchSize :  200\n",
            "Epoch 1/30\n",
            "22/22 [==============================] - 24s 765ms/step - loss: 6.0637 - accuracy: 0.5820 - val_loss: 44.8060 - val_accuracy: 0.3176\n",
            "Epoch 2/30\n",
            "22/22 [==============================] - 13s 598ms/step - loss: 0.6252 - accuracy: 0.6776 - val_loss: 7.7780 - val_accuracy: 0.3176\n",
            "Epoch 3/30\n",
            "22/22 [==============================] - 13s 596ms/step - loss: 0.6112 - accuracy: 0.6755 - val_loss: 1.2836 - val_accuracy: 0.3242\n",
            "Epoch 4/30\n",
            "22/22 [==============================] - 13s 596ms/step - loss: 0.6028 - accuracy: 0.6813 - val_loss: 0.6461 - val_accuracy: 0.6560\n",
            "Epoch 5/30\n",
            "22/22 [==============================] - 13s 597ms/step - loss: 0.5935 - accuracy: 0.6877 - val_loss: 0.6260 - val_accuracy: 0.6956\n",
            "Epoch 6/30\n",
            "22/22 [==============================] - 13s 596ms/step - loss: 0.5803 - accuracy: 0.6957 - val_loss: 0.6325 - val_accuracy: 0.6462\n",
            "Epoch 7/30\n",
            "22/22 [==============================] - 13s 596ms/step - loss: 0.5735 - accuracy: 0.7042 - val_loss: 0.6144 - val_accuracy: 0.6824\n",
            "Epoch 8/30\n",
            "22/22 [==============================] - 13s 597ms/step - loss: 0.5497 - accuracy: 0.7204 - val_loss: 0.5702 - val_accuracy: 0.7154\n",
            "Epoch 9/30\n",
            "22/22 [==============================] - 13s 598ms/step - loss: 0.5181 - accuracy: 0.7445 - val_loss: 0.5748 - val_accuracy: 0.7253\n",
            "Epoch 10/30\n",
            "22/22 [==============================] - 13s 597ms/step - loss: 0.4823 - accuracy: 0.7654 - val_loss: 0.5891 - val_accuracy: 0.7000\n",
            "Epoch 11/30\n",
            "22/22 [==============================] - 13s 597ms/step - loss: 0.4682 - accuracy: 0.7781 - val_loss: 0.7591 - val_accuracy: 0.6857\n",
            "Epoch 12/30\n",
            "22/22 [==============================] - 13s 596ms/step - loss: 0.4506 - accuracy: 0.7774 - val_loss: 0.6275 - val_accuracy: 0.7110\n",
            "Epoch 13/30\n",
            "22/22 [==============================] - 13s 597ms/step - loss: 0.3847 - accuracy: 0.8330 - val_loss: 0.8886 - val_accuracy: 0.6571\n",
            "Epoch 14/30\n",
            "22/22 [==============================] - 13s 597ms/step - loss: 0.4110 - accuracy: 0.8083 - val_loss: 0.7464 - val_accuracy: 0.6967\n",
            "Epoch 15/30\n",
            "22/22 [==============================] - 13s 596ms/step - loss: 0.3773 - accuracy: 0.8290 - val_loss: 0.8902 - val_accuracy: 0.6978\n",
            "Epoch 16/30\n",
            "22/22 [==============================] - 13s 596ms/step - loss: 0.3385 - accuracy: 0.8497 - val_loss: 0.7551 - val_accuracy: 0.7220\n",
            "Epoch 17/30\n",
            "22/22 [==============================] - 13s 599ms/step - loss: 0.2830 - accuracy: 0.8815 - val_loss: 1.0840 - val_accuracy: 0.7209\n",
            "Epoch 18/30\n",
            "22/22 [==============================] - 13s 597ms/step - loss: 0.2591 - accuracy: 0.8947 - val_loss: 0.6156 - val_accuracy: 0.7659\n",
            "Epoch 19/30\n",
            "22/22 [==============================] - 13s 599ms/step - loss: 0.2614 - accuracy: 0.8926 - val_loss: 0.5399 - val_accuracy: 0.7978\n",
            "Epoch 20/30\n",
            "22/22 [==============================] - 13s 595ms/step - loss: 0.2068 - accuracy: 0.9171 - val_loss: 1.0106 - val_accuracy: 0.7242\n",
            "Epoch 21/30\n",
            "22/22 [==============================] - 13s 598ms/step - loss: 0.1616 - accuracy: 0.9374 - val_loss: 0.7422 - val_accuracy: 0.7538\n",
            "Epoch 22/30\n",
            "22/22 [==============================] - 13s 599ms/step - loss: 0.1215 - accuracy: 0.9520 - val_loss: 2.4871 - val_accuracy: 0.7176\n",
            "Epoch 23/30\n",
            "22/22 [==============================] - 13s 597ms/step - loss: 0.0966 - accuracy: 0.9642 - val_loss: 0.9868 - val_accuracy: 0.7912\n",
            "Epoch 24/30\n",
            "22/22 [==============================] - 13s 596ms/step - loss: 0.0954 - accuracy: 0.9616 - val_loss: 3.0960 - val_accuracy: 0.7088\n",
            "Epoch 25/30\n",
            "22/22 [==============================] - 13s 595ms/step - loss: 0.1589 - accuracy: 0.9378 - val_loss: 0.6136 - val_accuracy: 0.7791\n",
            "Epoch 26/30\n",
            "22/22 [==============================] - 13s 596ms/step - loss: 0.1184 - accuracy: 0.9538 - val_loss: 0.3951 - val_accuracy: 0.8220\n",
            "Epoch 27/30\n",
            "22/22 [==============================] - 13s 597ms/step - loss: 0.0888 - accuracy: 0.9637 - val_loss: 0.4357 - val_accuracy: 0.8165\n",
            "Epoch 28/30\n",
            "22/22 [==============================] - 13s 597ms/step - loss: 0.0732 - accuracy: 0.9715 - val_loss: 1.9245 - val_accuracy: 0.7703\n",
            "Epoch 29/30\n",
            "22/22 [==============================] - 13s 598ms/step - loss: 0.0531 - accuracy: 0.9797 - val_loss: 0.7820 - val_accuracy: 0.7868\n",
            "Epoch 30/30\n",
            "22/22 [==============================] - 13s 595ms/step - loss: 0.0739 - accuracy: 0.9720 - val_loss: 1.3021 - val_accuracy: 0.7637\n"
          ]
        }
      ]
    },
    {
      "cell_type": "code",
      "metadata": {
        "colab": {
          "base_uri": "https://localhost:8080/",
          "height": 296
        },
        "id": "VPFcjUiaolZA",
        "outputId": "c0b91a27-ae61-43d1-b48f-871cc3c133bb"
      },
      "source": [
        "#For Accuracy Plotting\n",
        "\n",
        "x = [i for i in range(1,numEpochs+1)]\n",
        "print(x)\n",
        "yTrainAcc = trainAccuracy\n",
        "#Train Accuracies\n",
        "for i in range(len(batchSizes)):\n",
        "  currBatchSize = batchSizes[i]\n",
        "  labelName = \"Batch Size \" + str(currBatchSize)\n",
        "  pyplot.plot(x, yTrainAcc[i],label=labelName)\n",
        "\n",
        "pyplot.legend()\n",
        "pyplot.xlabel(\"Number of Epochs\")\n",
        "pyplot.ylabel(\"Train Accuracy\")\n",
        "pyplot.show()\n"
      ],
      "execution_count": null,
      "outputs": [
        {
          "output_type": "stream",
          "name": "stdout",
          "text": [
            "[1, 2, 3, 4, 5, 6, 7, 8, 9, 10, 11, 12, 13, 14, 15, 16, 17, 18, 19, 20, 21, 22, 23, 24, 25, 26, 27, 28, 29, 30]\n"
          ]
        },
        {
          "output_type": "display_data",
          "data": {
            "image/png": "[encoded data removed]",
            "text/plain": [
              "<Figure size 432x288 with 1 Axes>"
            ]
          },
          "metadata": {
            "needs_background": "light"
          }
        }
      ]
    },
    {
      "cell_type": "code",
      "metadata": {
        "colab": {
          "base_uri": "https://localhost:8080/"
        },
        "id": "LiJuK7LVScPk",
        "outputId": "69faf535-2384-4d4b-cec9-86b860eeb40b"
      },
      "source": [
        "#batchSizes = [5,10,50,100,200]\n",
        "batchSizes = [5]#,10,50]\n",
        "print(batchSizes)"
      ],
      "execution_count": null,
      "outputs": [
        {
          "output_type": "stream",
          "name": "stdout",
          "text": [
            "[5]\n"
          ]
        }
      ]
    },
    {
      "cell_type": "code",
      "metadata": {
        "colab": {
          "base_uri": "https://localhost:8080/",
          "height": 300
        },
        "id": "XE369rbnooql",
        "outputId": "befea68e-2949-4922-a655-3f9e2ca3b8a4"
      },
      "source": [
        "#For Accuracy Plotting\n",
        "\n",
        "x = [i for i in range(1,numEpochs+1)]\n",
        "print(x)\n",
        "yValAcc = valAccuracy\n",
        "#Val Accuracies\n",
        "for i in range(len(batchSizes)):\n",
        "  currBatchSize = batchSizes[i]\n",
        "  labelName = \"Batch Size \" + str(currBatchSize)\n",
        "  pyplot.plot(x, yValAcc[i],label=labelName)\n",
        "\n",
        "pyplot.ylim([0.6,1])\n",
        "pyplot.legend()\n",
        "pyplot.xlabel(\"Number of Epochs\")\n",
        "pyplot.ylabel(\"Val Accuracy\")\n",
        "pyplot.show()"
      ],
      "execution_count": null,
      "outputs": [
        {
          "output_type": "stream",
          "name": "stdout",
          "text": [
            "[1, 2, 3, 4, 5, 6, 7, 8, 9, 10, 11, 12, 13, 14, 15, 16, 17, 18, 19, 20, 21, 22, 23, 24, 25, 26, 27, 28, 29, 30]\n"
          ]
        },
        {
          "output_type": "display_data",
          "data": {
            "image/png": "[encoded data removed]",
            "text/plain": [
              "<Figure size 432x288 with 1 Axes>"
            ]
          },
          "metadata": {
            "needs_background": "light"
          }
        }
      ]
    },
    {
      "cell_type": "code",
      "metadata": {
        "id": "XWiYclzEoqqB"
      },
      "source": [
        "#For Loss Plotting\n",
        "\n",
        "x = [i for i in range(1,numEpochs+1)]\n",
        "print(x)\n",
        "yTrainLoss = trainLoss\n",
        "for i in range(len(batchSizes)):\n",
        "  currBatchSize = batchSizes[i]\n",
        "  labelName = \"Batch Size \" + str(currBatchSize)\n",
        "  pyplot.plot(x, yTrainLoss[i],label=labelName)\n",
        "\n",
        "pyplot.legend()\n",
        "pyplot.xlabel(\"Number of Epochs\")\n",
        "pyplot.ylabel(\"Train Loss\")\n",
        "pyplot.show()"
      ],
      "execution_count": null,
      "outputs": []
    },
    {
      "cell_type": "code",
      "metadata": {
        "id": "siap1hC7osPN"
      },
      "source": [
        "#For Loss Plotting\n",
        "\n",
        "x = [i for i in range(1,numEpochs+1)]\n",
        "print(x)\n",
        "yValLoss = valLoss\n",
        "for i in range(len(batchSizes)):\n",
        "  currBatchSize = batchSizes[i]\n",
        "  labelName = \"Batch Size \" + str(currBatchSize)\n",
        "  pyplot.plot(x, yValLoss[i],label=labelName)\n",
        "\n",
        "pyplot.legend()\n",
        "pyplot.xlabel(\"Number of Epochs\")\n",
        "pyplot.ylabel(\"Val Loss\")\n",
        "pyplot.show()"
      ],
      "execution_count": null,
      "outputs": []
    },
    {
      "cell_type": "code",
      "metadata": {
        "id": "oLg8M-oso3zO"
      },
      "source": [
        "#For Loss Plotting\n",
        "\n",
        "x = [i for i in range(1,numEpochs+1)]\n",
        "print(x)\n",
        "yValLoss = valLoss\n",
        "for i in range(len(batchSizes)):\n",
        "  currBatchSize = batchSizes[i]\n",
        "  labelName = \"Batch Size \" + str(currBatchSize)\n",
        "  #pyplot.plot(x, yValLoss[i],label=\"Val\")\n",
        "  #pyplot.plot(x, yTrainLoss[i],label=\"Train\")\n",
        "  pyplot.plot(x, yValAcc[i],label=\"Val\")\n",
        "  pyplot.plot(x, yTrainAcc[i],label=\"Train\")\n",
        "#pyplot.xlim([2,7])\n",
        "#pyplot.ylim([0,2])\n",
        "pyplot.legend()\n",
        "pyplot.xlabel(\"Number of Epochs\")\n",
        "#pyplot.ylabel(\"Loss\")\n",
        "pyplot.ylabel(\"Accuracy\")\n",
        "pyplot.show()"
      ],
      "execution_count": null,
      "outputs": []
    },
    {
      "cell_type": "code",
      "metadata": {
        "colab": {
          "base_uri": "https://localhost:8080/",
          "height": 300
        },
        "id": "uhh7fmbJqh6H",
        "outputId": "d2c3af86-850c-4447-f299-0ecdc472b6a7"
      },
      "source": [
        "#For Loss Plotting\n",
        "\n",
        "x = [i for i in range(1,numEpochs+1)]\n",
        "print(x)\n",
        "yValLoss = valLoss\n",
        "for i in range(len(batchSizes)):\n",
        "  currBatchSize = batchSizes[i]\n",
        "  labelName = \"Batch Size \" + str(currBatchSize)\n",
        "  pyplot.plot(x, yValLoss[i],label=\"Val\"+str(currBatchSize))\n",
        "  pyplot.plot(x, yTrainLoss[i],label=\"Train\"+str(currBatchSize))\n",
        "\n",
        "pyplot.xlim([5,30])\n",
        "pyplot.ylim([0,2])\n",
        "pyplot.legend()\n",
        "pyplot.xlabel(\"Number of Epochs\")\n",
        "pyplot.ylabel(\"Loss\")\n",
        "pyplot.show()"
      ],
      "execution_count": null,
      "outputs": [
        {
          "output_type": "stream",
          "name": "stdout",
          "text": [
            "[1, 2, 3, 4, 5, 6, 7, 8, 9, 10, 11, 12, 13, 14, 15, 16, 17, 18, 19, 20, 21, 22, 23, 24, 25, 26, 27, 28, 29, 30]\n"
          ]
        },
        {
          "output_type": "display_data",
          "data": {
            "image/png": "[encoded data removed]",
            "text/plain": [
              "<Figure size 432x288 with 1 Axes>"
            ]
          },
          "metadata": {
            "needs_background": "light"
          }
        }
      ]
    },
    {
      "cell_type": "code",
      "metadata": {
        "id": "E6cdC0VHp-tG"
      },
      "source": [
        "bestEpochs = 13\n",
        "bestBatchSize = 5"
      ],
      "execution_count": null,
      "outputs": []
    }
  ]
}
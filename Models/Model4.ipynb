{
  "nbformat": 4,
  "nbformat_minor": 0,
  "metadata": {
    "colab": {
      "name": "Model4.ipynb",
      "provenance": [],
      "collapsed_sections": []
    },
    "kernelspec": {
      "name": "python3",
      "display_name": "Python 3"
    },
    "language_info": {
      "name": "python"
    },
    "accelerator": "GPU"
  },
  "cells": [
    {
      "cell_type": "code",
      "metadata": {
        "colab": {
          "base_uri": "https://localhost:8080/"
        },
        "id": "R1i2sbli4m1q",
        "outputId": "c79b16e1-bdb0-4845-f761-1c5a8f464c1d"
      },
      "source": [
        "from google.colab import drive\n",
        "drive.mount('/content/drive',force_remount=True)"
      ],
      "execution_count": null,
      "outputs": [
        {
          "output_type": "stream",
          "name": "stdout",
          "text": [
            "Mounted at /content/drive\n"
          ]
        }
      ]
    },
    {
      "cell_type": "code",
      "metadata": {
        "id": "zp8Wfl7u80zY"
      },
      "source": [
        "from keras.models import Sequential\n",
        "from keras.layers import Dense, Conv2D, Flatten, MaxPooling2D, AveragePooling2D, BatchNormalization\n",
        "from matplotlib import image\n",
        "from matplotlib import pyplot\n",
        "import os\n",
        "import shutil\n",
        "import numpy as np\n",
        "from PIL import Image\n",
        "import pickle\n",
        "from sklearn.preprocessing import MultiLabelBinarizer\n",
        "\n"
      ],
      "execution_count": null,
      "outputs": []
    },
    {
      "cell_type": "code",
      "metadata": {
        "colab": {
          "base_uri": "https://localhost:8080/"
        },
        "id": "edig5vqz5jSQ",
        "outputId": "3664366b-d1c2-4329-b395-5dfc3f7b727a"
      },
      "source": [
        "pathToData = \"drive/MyDrive/CS 230 Final Project/Final Data and CSVs/Final CSV Files and Data/Multi Split/\"\n",
        "print(pathToData + \"train_X.p\")"
      ],
      "execution_count": null,
      "outputs": [
        {
          "output_type": "stream",
          "name": "stdout",
          "text": [
            "drive/MyDrive/CS 230 Final Project/Final Data and CSVs/Final CSV Files and Data/Multi Split/train_X.p\n"
          ]
        }
      ]
    },
    {
      "cell_type": "code",
      "metadata": {
        "colab": {
          "base_uri": "https://localhost:8080/"
        },
        "id": "XtikjjeA9DJE",
        "outputId": "2b6496da-57d2-48f9-e007-149405bdef4d"
      },
      "source": [
        "mlb = MultiLabelBinarizer()\n",
        "# load the train dataset\n",
        "X_train = pickle.load(open(pathToData+\"train_X.p\", 'rb'))\n",
        "y_trainUnflat = pickle.load(open(pathToData+\"train_Y.p\", 'rb'))\n",
        "y_train = y_trainUnflat.reshape(y_trainUnflat.shape[0],-1)\n",
        "y_train = mlb.fit_transform(y_train)\n",
        "\n",
        "print(X_train.shape)\n",
        "print(y_train.shape)\n",
        "\n",
        "# load the dev dataset\n",
        "X_dev = pickle.load(open(pathToData+\"dev_X.p\", 'rb'))\n",
        "y_devUnflat = pickle.load(open(pathToData+\"dev_Y.p\", 'rb'))\n",
        "y_dev = y_devUnflat.reshape(y_devUnflat.shape[0],-1)\n",
        "y_dev = mlb.fit_transform(y_dev)\n",
        "\n",
        "print(X_dev.shape)\n",
        "print(y_dev.shape)\n",
        "\n",
        "# load the test dataset\n",
        "X_test = pickle.load(open(pathToData+\"test_X.p\", 'rb'))\n",
        "y_testUnflat = pickle.load(open(pathToData+\"test_Y.p\", 'rb'))\n",
        "y_test = y_testUnflat.reshape(y_testUnflat.shape[0],-1)\n",
        "y_test = mlb.fit_transform(y_test)\n",
        "\n",
        "print(X_test.shape)\n",
        "print(y_test.shape)\n"
      ],
      "execution_count": null,
      "outputs": [
        {
          "output_type": "stream",
          "name": "stdout",
          "text": [
            "(4246, 208, 160, 3)\n",
            "(4246, 3)\n",
            "(910, 208, 160, 3)\n",
            "(910, 3)\n",
            "(910, 208, 160, 3)\n",
            "(910, 3)\n"
          ]
        }
      ]
    },
    {
      "cell_type": "code",
      "metadata": {
        "colab": {
          "base_uri": "https://localhost:8080/"
        },
        "id": "PDN3ebu8cMyI",
        "outputId": "c116b63b-4df5-46e4-d879-fcb338007e84"
      },
      "source": [
        "print(y_trainUnflat)"
      ],
      "execution_count": null,
      "outputs": [
        {
          "output_type": "stream",
          "name": "stdout",
          "text": [
            "[0 2 1 ... 0 1 0]\n"
          ]
        }
      ]
    },
    {
      "cell_type": "code",
      "metadata": {
        "colab": {
          "base_uri": "https://localhost:8080/"
        },
        "id": "fNZMfA8Y36cw",
        "outputId": "4324235b-936e-4d17-cba8-c14a5a9a0f80"
      },
      "source": [
        "numExamples = X_train.shape[0]\n",
        "print(numExamples)"
      ],
      "execution_count": null,
      "outputs": [
        {
          "output_type": "stream",
          "name": "stdout",
          "text": [
            "4246\n"
          ]
        }
      ]
    },
    {
      "cell_type": "code",
      "metadata": {
        "colab": {
          "base_uri": "https://localhost:8080/"
        },
        "id": "xQzQGckubqeh",
        "outputId": "240102d4-4653-44d9-982e-9b0495400a91"
      },
      "source": [
        "print(X_train.shape[1:])"
      ],
      "execution_count": null,
      "outputs": [
        {
          "output_type": "stream",
          "name": "stdout",
          "text": [
            "(208, 160, 3)\n"
          ]
        }
      ]
    },
    {
      "cell_type": "code",
      "metadata": {
        "id": "-OvMTnMQb6OH",
        "colab": {
          "base_uri": "https://localhost:8080/"
        },
        "outputId": "f56818b6-d12f-4beb-deb9-a8f9dc90356b"
      },
      "source": [
        "print(y_test)"
      ],
      "execution_count": null,
      "outputs": [
        {
          "output_type": "stream",
          "name": "stdout",
          "text": [
            "[[0 1 0]\n",
            " [1 0 0]\n",
            " [1 0 0]\n",
            " ...\n",
            " [0 1 0]\n",
            " [1 0 0]\n",
            " [0 1 0]]\n"
          ]
        }
      ]
    },
    {
      "cell_type": "code",
      "metadata": {
        "colab": {
          "base_uri": "https://localhost:8080/"
        },
        "id": "1qvVnv5B39aF",
        "outputId": "39c69910-19f3-4e1e-9a56-2800f8c1f6fe"
      },
      "source": [
        "#HYPERPARAMETER SEARCH OVER EPOCH NUMBER and BATCH SIZE\n",
        "#We keep number of layers, neuron per layer, activation in each layer constant\n",
        "batchSizes = [100,200,300]\n",
        "\n",
        "print(batchSizes)\n",
        "numEpochs = 30"
      ],
      "execution_count": null,
      "outputs": [
        {
          "output_type": "stream",
          "name": "stdout",
          "text": [
            "[100, 200, 300]\n"
          ]
        }
      ]
    },
    {
      "cell_type": "code",
      "metadata": {
        "colab": {
          "base_uri": "https://localhost:8080/"
        },
        "id": "pU66yvr84B_i",
        "outputId": "7bd7fc4e-20a3-4423-ee5a-1b67121de825"
      },
      "source": [
        "trainAccuracy = []\n",
        "valAccuracy = []\n",
        "trainLoss = []\n",
        "valLoss = []\n",
        "\n",
        "for batchSize in batchSizes:\n",
        "  print(\"BatchSize : \", batchSize)\n",
        "  model = Sequential()\n",
        "\n",
        "  model.add(Conv2D(32, kernel_size=5, padding=\"same\", input_shape= X_train.shape[1:], activation = \"relu\"))\n",
        "  model.add(BatchNormalization())\n",
        "  model.add(MaxPooling2D(pool_size=3, padding=\"valid\", strides=(2,2)))\n",
        "\n",
        "  model.add(Conv2D(64, kernel_size=5, padding=\"same\", activation = \"relu\"))\n",
        "  model.add(BatchNormalization())\n",
        "  model.add(MaxPooling2D(pool_size=3, padding=\"valid\", strides=(2,2)))\n",
        "\n",
        "  model.add(Conv2D(64, kernel_size=5, padding=\"same\", activation = \"relu\"))\n",
        "  model.add(BatchNormalization())\n",
        "  model.add(MaxPooling2D(pool_size=3, padding=\"valid\", strides=(2,2)))\n",
        "\n",
        "  model.add(Conv2D(128, kernel_size=5, padding=\"same\", activation = \"relu\"))\n",
        "  model.add(BatchNormalization())\n",
        "  model.add(MaxPooling2D(pool_size=3, padding=\"valid\", strides=(2,2)))\n",
        "\n",
        "  model.add(Conv2D(256, kernel_size=5, padding=\"same\", activation = \"relu\"))\n",
        "  model.add(BatchNormalization())\n",
        "  model.add(MaxPooling2D(pool_size=3, padding=\"valid\", strides=(2,2)))\n",
        "\n",
        "  model.add(Flatten())\n",
        "\n",
        "  model.add(Dense(5120, activation=\"relu\"))\n",
        "  model.add(Dense(3, activation='softmax'))\n",
        "  model.compile(loss='categorical_crossentropy', optimizer='adam', metrics=['categorical_accuracy'])\n",
        "  history = model.fit(X_train, y_train, epochs=numEpochs, batch_size=batchSize, validation_data = (X_dev, y_dev))\n",
        "  historyDict = history.history\n",
        "  #print(historyDict)\n",
        "  trainAccuracy.append(historyDict['categorical_accuracy'])\n",
        "  valAccuracy.append(historyDict['val_categorical_accuracy'])\n",
        "  trainLoss.append(historyDict['loss'])\n",
        "  valLoss.append(historyDict['val_loss'])\n",
        "  \n",
        "\n"
      ],
      "execution_count": null,
      "outputs": [
        {
          "output_type": "stream",
          "name": "stdout",
          "text": [
            "BatchSize :  100\n",
            "Epoch 1/30\n",
            "43/43 [==============================] - 30s 353ms/step - loss: 6.4814 - categorical_accuracy: 0.4560 - val_loss: 18.9118 - val_categorical_accuracy: 0.2022\n",
            "Epoch 2/30\n",
            "43/43 [==============================] - 13s 292ms/step - loss: 1.0176 - categorical_accuracy: 0.5094 - val_loss: 1.4979 - val_categorical_accuracy: 0.3099\n",
            "Epoch 3/30\n",
            "43/43 [==============================] - 13s 293ms/step - loss: 0.9573 - categorical_accuracy: 0.5433 - val_loss: 1.1653 - val_categorical_accuracy: 0.4802\n",
            "Epoch 4/30\n",
            "43/43 [==============================] - 13s 294ms/step - loss: 0.9336 - categorical_accuracy: 0.5445 - val_loss: 1.0251 - val_categorical_accuracy: 0.5308\n",
            "Epoch 5/30\n",
            "43/43 [==============================] - 13s 295ms/step - loss: 0.8969 - categorical_accuracy: 0.5784 - val_loss: 1.0068 - val_categorical_accuracy: 0.5022\n",
            "Epoch 6/30\n",
            "43/43 [==============================] - 13s 297ms/step - loss: 0.8403 - categorical_accuracy: 0.6138 - val_loss: 0.8994 - val_categorical_accuracy: 0.5692\n",
            "Epoch 7/30\n",
            "43/43 [==============================] - 13s 309ms/step - loss: 0.7977 - categorical_accuracy: 0.6453 - val_loss: 1.0400 - val_categorical_accuracy: 0.5033\n",
            "Epoch 8/30\n",
            "43/43 [==============================] - 13s 299ms/step - loss: 0.7197 - categorical_accuracy: 0.6875 - val_loss: 0.8529 - val_categorical_accuracy: 0.5802\n",
            "Epoch 9/30\n",
            "43/43 [==============================] - 13s 299ms/step - loss: 0.6776 - categorical_accuracy: 0.7016 - val_loss: 0.9341 - val_categorical_accuracy: 0.5879\n",
            "Epoch 10/30\n",
            "43/43 [==============================] - 13s 300ms/step - loss: 0.5823 - categorical_accuracy: 0.7650 - val_loss: 1.5283 - val_categorical_accuracy: 0.5011\n",
            "Epoch 11/30\n",
            "43/43 [==============================] - 13s 300ms/step - loss: 0.5509 - categorical_accuracy: 0.7814 - val_loss: 0.9801 - val_categorical_accuracy: 0.5681\n",
            "Epoch 12/30\n",
            "43/43 [==============================] - 13s 301ms/step - loss: 0.4502 - categorical_accuracy: 0.8257 - val_loss: 2.1313 - val_categorical_accuracy: 0.5253\n",
            "Epoch 13/30\n",
            "43/43 [==============================] - 13s 304ms/step - loss: 0.3977 - categorical_accuracy: 0.8396 - val_loss: 1.7506 - val_categorical_accuracy: 0.4275\n",
            "Epoch 14/30\n",
            "43/43 [==============================] - 13s 301ms/step - loss: 0.3192 - categorical_accuracy: 0.8804 - val_loss: 1.6710 - val_categorical_accuracy: 0.5890\n",
            "Epoch 15/30\n",
            "43/43 [==============================] - 13s 298ms/step - loss: 0.3207 - categorical_accuracy: 0.8728 - val_loss: 1.2747 - val_categorical_accuracy: 0.6176\n",
            "Epoch 16/30\n",
            "43/43 [==============================] - 13s 296ms/step - loss: 0.2718 - categorical_accuracy: 0.8905 - val_loss: 0.8898 - val_categorical_accuracy: 0.7363\n",
            "Epoch 17/30\n",
            "43/43 [==============================] - 13s 308ms/step - loss: 0.1880 - categorical_accuracy: 0.9303 - val_loss: 1.0976 - val_categorical_accuracy: 0.6912\n",
            "Epoch 18/30\n",
            "43/43 [==============================] - 13s 296ms/step - loss: 0.1911 - categorical_accuracy: 0.9293 - val_loss: 0.8665 - val_categorical_accuracy: 0.6813\n",
            "Epoch 19/30\n",
            "43/43 [==============================] - 13s 296ms/step - loss: 0.1531 - categorical_accuracy: 0.9409 - val_loss: 0.7844 - val_categorical_accuracy: 0.8011\n",
            "Epoch 20/30\n",
            "43/43 [==============================] - 13s 294ms/step - loss: 0.0907 - categorical_accuracy: 0.9689 - val_loss: 0.6812 - val_categorical_accuracy: 0.7934\n",
            "Epoch 21/30\n",
            "43/43 [==============================] - 13s 295ms/step - loss: 0.1251 - categorical_accuracy: 0.9538 - val_loss: 0.5673 - val_categorical_accuracy: 0.8297\n",
            "Epoch 22/30\n",
            "43/43 [==============================] - 13s 297ms/step - loss: 0.1090 - categorical_accuracy: 0.9602 - val_loss: 0.8268 - val_categorical_accuracy: 0.8143\n",
            "Epoch 23/30\n",
            "43/43 [==============================] - 13s 296ms/step - loss: 0.0627 - categorical_accuracy: 0.9764 - val_loss: 0.6661 - val_categorical_accuracy: 0.8802\n",
            "Epoch 24/30\n",
            "43/43 [==============================] - 13s 296ms/step - loss: 0.0705 - categorical_accuracy: 0.9764 - val_loss: 0.8779 - val_categorical_accuracy: 0.7495\n",
            "Epoch 25/30\n",
            "43/43 [==============================] - 13s 296ms/step - loss: 0.1109 - categorical_accuracy: 0.9621 - val_loss: 0.9461 - val_categorical_accuracy: 0.7714\n",
            "Epoch 26/30\n",
            "43/43 [==============================] - 13s 295ms/step - loss: 0.0789 - categorical_accuracy: 0.9720 - val_loss: 0.7211 - val_categorical_accuracy: 0.8286\n",
            "Epoch 27/30\n",
            "43/43 [==============================] - 13s 295ms/step - loss: 0.0454 - categorical_accuracy: 0.9828 - val_loss: 0.4795 - val_categorical_accuracy: 0.8989\n",
            "Epoch 28/30\n",
            "43/43 [==============================] - 13s 295ms/step - loss: 0.0375 - categorical_accuracy: 0.9866 - val_loss: 0.5927 - val_categorical_accuracy: 0.8879\n",
            "Epoch 29/30\n",
            "43/43 [==============================] - 13s 296ms/step - loss: 0.0346 - categorical_accuracy: 0.9878 - val_loss: 1.4359 - val_categorical_accuracy: 0.7462\n",
            "Epoch 30/30\n",
            "43/43 [==============================] - 13s 305ms/step - loss: 0.0447 - categorical_accuracy: 0.9845 - val_loss: 0.4708 - val_categorical_accuracy: 0.8967\n",
            "BatchSize :  200\n",
            "Epoch 1/30\n",
            "22/22 [==============================] - 22s 710ms/step - loss: 12.0660 - categorical_accuracy: 0.4114 - val_loss: 28.2225 - val_categorical_accuracy: 0.4747\n",
            "Epoch 2/30\n",
            "22/22 [==============================] - 12s 559ms/step - loss: 1.0005 - categorical_accuracy: 0.5059 - val_loss: 8.7497 - val_categorical_accuracy: 0.3220\n",
            "Epoch 3/30\n",
            "22/22 [==============================] - 12s 557ms/step - loss: 0.9593 - categorical_accuracy: 0.5462 - val_loss: 3.7806 - val_categorical_accuracy: 0.3231\n",
            "Epoch 4/30\n",
            "22/22 [==============================] - 12s 555ms/step - loss: 0.9424 - categorical_accuracy: 0.5525 - val_loss: 2.3159 - val_categorical_accuracy: 0.3176\n",
            "Epoch 5/30\n",
            "22/22 [==============================] - 12s 555ms/step - loss: 0.9103 - categorical_accuracy: 0.5709 - val_loss: 1.3520 - val_categorical_accuracy: 0.3198\n",
            "Epoch 6/30\n",
            "22/22 [==============================] - 12s 555ms/step - loss: 0.8845 - categorical_accuracy: 0.5893 - val_loss: 1.3097 - val_categorical_accuracy: 0.3363\n",
            "Epoch 7/30\n",
            "22/22 [==============================] - 12s 556ms/step - loss: 0.8779 - categorical_accuracy: 0.5947 - val_loss: 1.0211 - val_categorical_accuracy: 0.4582\n",
            "Epoch 8/30\n",
            "22/22 [==============================] - 12s 555ms/step - loss: 0.8113 - categorical_accuracy: 0.6347 - val_loss: 1.1758 - val_categorical_accuracy: 0.4231\n",
            "Epoch 9/30\n",
            "22/22 [==============================] - 12s 553ms/step - loss: 0.7464 - categorical_accuracy: 0.6750 - val_loss: 1.1335 - val_categorical_accuracy: 0.4385\n",
            "Epoch 10/30\n",
            "22/22 [==============================] - 12s 556ms/step - loss: 0.6903 - categorical_accuracy: 0.7087 - val_loss: 1.3248 - val_categorical_accuracy: 0.4220\n",
            "Epoch 11/30\n",
            "22/22 [==============================] - 12s 556ms/step - loss: 0.6872 - categorical_accuracy: 0.7091 - val_loss: 0.8461 - val_categorical_accuracy: 0.5890\n",
            "Epoch 12/30\n",
            "22/22 [==============================] - 12s 557ms/step - loss: 0.6035 - categorical_accuracy: 0.7442 - val_loss: 0.9957 - val_categorical_accuracy: 0.5484\n",
            "Epoch 13/30\n",
            "22/22 [==============================] - 12s 559ms/step - loss: 0.5300 - categorical_accuracy: 0.7880 - val_loss: 0.9400 - val_categorical_accuracy: 0.5846\n",
            "Epoch 14/30\n",
            "22/22 [==============================] - 12s 560ms/step - loss: 0.4554 - categorical_accuracy: 0.8224 - val_loss: 2.3090 - val_categorical_accuracy: 0.4956\n",
            "Epoch 15/30\n",
            "22/22 [==============================] - 12s 558ms/step - loss: 0.4347 - categorical_accuracy: 0.8293 - val_loss: 1.9773 - val_categorical_accuracy: 0.5066\n",
            "Epoch 16/30\n",
            "22/22 [==============================] - 12s 558ms/step - loss: 0.5266 - categorical_accuracy: 0.7843 - val_loss: 1.3296 - val_categorical_accuracy: 0.5604\n",
            "Epoch 17/30\n",
            "22/22 [==============================] - 12s 562ms/step - loss: 0.4623 - categorical_accuracy: 0.8142 - val_loss: 1.1613 - val_categorical_accuracy: 0.5813\n",
            "Epoch 18/30\n",
            "22/22 [==============================] - 12s 566ms/step - loss: 0.3461 - categorical_accuracy: 0.8695 - val_loss: 1.2546 - val_categorical_accuracy: 0.5560\n",
            "Epoch 19/30\n",
            "22/22 [==============================] - 12s 567ms/step - loss: 0.2713 - categorical_accuracy: 0.8987 - val_loss: 1.0314 - val_categorical_accuracy: 0.6352\n",
            "Epoch 20/30\n",
            "22/22 [==============================] - 13s 569ms/step - loss: 0.2562 - categorical_accuracy: 0.9046 - val_loss: 2.1796 - val_categorical_accuracy: 0.5462\n",
            "Epoch 21/30\n",
            "22/22 [==============================] - 13s 569ms/step - loss: 0.1717 - categorical_accuracy: 0.9416 - val_loss: 0.5580 - val_categorical_accuracy: 0.8066\n",
            "Epoch 22/30\n",
            "22/22 [==============================] - 13s 569ms/step - loss: 0.1032 - categorical_accuracy: 0.9654 - val_loss: 1.3007 - val_categorical_accuracy: 0.6440\n",
            "Epoch 23/30\n",
            "22/22 [==============================] - 13s 570ms/step - loss: 0.0841 - categorical_accuracy: 0.9710 - val_loss: 0.8367 - val_categorical_accuracy: 0.7319\n",
            "Epoch 24/30\n",
            "22/22 [==============================] - 13s 596ms/step - loss: 0.0564 - categorical_accuracy: 0.9814 - val_loss: 0.9372 - val_categorical_accuracy: 0.6934\n",
            "Epoch 25/30\n",
            "22/22 [==============================] - 13s 595ms/step - loss: 0.0900 - categorical_accuracy: 0.9659 - val_loss: 0.5271 - val_categorical_accuracy: 0.8154\n",
            "Epoch 26/30\n",
            "22/22 [==============================] - 13s 570ms/step - loss: 0.1114 - categorical_accuracy: 0.9560 - val_loss: 3.9497 - val_categorical_accuracy: 0.4758\n",
            "Epoch 27/30\n",
            "22/22 [==============================] - 13s 570ms/step - loss: 0.1522 - categorical_accuracy: 0.9461 - val_loss: 2.7014 - val_categorical_accuracy: 0.5659\n",
            "Epoch 28/30\n",
            "22/22 [==============================] - 13s 570ms/step - loss: 0.1216 - categorical_accuracy: 0.9574 - val_loss: 0.6831 - val_categorical_accuracy: 0.7692\n",
            "Epoch 29/30\n",
            "22/22 [==============================] - 13s 570ms/step - loss: 0.0818 - categorical_accuracy: 0.9713 - val_loss: 0.9083 - val_categorical_accuracy: 0.7330\n",
            "Epoch 30/30\n",
            "22/22 [==============================] - 13s 569ms/step - loss: 0.0565 - categorical_accuracy: 0.9802 - val_loss: 0.6357 - val_categorical_accuracy: 0.8418\n",
            "BatchSize :  300\n",
            "Epoch 1/30\n",
            "15/15 [==============================] - 21s 817ms/step - loss: 23.3377 - categorical_accuracy: 0.3695 - val_loss: 157.4957 - val_categorical_accuracy: 0.4747\n",
            "Epoch 2/30\n",
            "15/15 [==============================] - 12s 797ms/step - loss: 1.2752 - categorical_accuracy: 0.4407 - val_loss: 41.3597 - val_categorical_accuracy: 0.4747\n",
            "Epoch 3/30\n",
            "15/15 [==============================] - 12s 794ms/step - loss: 1.0563 - categorical_accuracy: 0.4727 - val_loss: 12.2537 - val_categorical_accuracy: 0.4747\n",
            "Epoch 4/30\n",
            "15/15 [==============================] - 12s 799ms/step - loss: 1.0212 - categorical_accuracy: 0.4927 - val_loss: 4.5575 - val_categorical_accuracy: 0.4747\n",
            "Epoch 5/30\n",
            "15/15 [==============================] - 12s 797ms/step - loss: 1.0101 - categorical_accuracy: 0.5073 - val_loss: 2.3813 - val_categorical_accuracy: 0.4758\n",
            "Epoch 6/30\n",
            "15/15 [==============================] - 12s 790ms/step - loss: 0.9830 - categorical_accuracy: 0.5231 - val_loss: 1.5452 - val_categorical_accuracy: 0.4637\n",
            "Epoch 7/30\n",
            "15/15 [==============================] - 12s 784ms/step - loss: 0.9506 - categorical_accuracy: 0.5346 - val_loss: 1.2834 - val_categorical_accuracy: 0.3967\n",
            "Epoch 8/30\n",
            "15/15 [==============================] - 12s 783ms/step - loss: 0.9410 - categorical_accuracy: 0.5464 - val_loss: 1.0641 - val_categorical_accuracy: 0.4681\n",
            "Epoch 9/30\n",
            "15/15 [==============================] - 12s 820ms/step - loss: 0.8652 - categorical_accuracy: 0.5940 - val_loss: 1.1497 - val_categorical_accuracy: 0.4253\n",
            "Epoch 10/30\n",
            "15/15 [==============================] - 12s 780ms/step - loss: 0.8530 - categorical_accuracy: 0.5966 - val_loss: 1.0860 - val_categorical_accuracy: 0.4418\n",
            "Epoch 11/30\n",
            "15/15 [==============================] - 12s 775ms/step - loss: 0.8325 - categorical_accuracy: 0.6114 - val_loss: 0.9639 - val_categorical_accuracy: 0.5319\n",
            "Epoch 12/30\n",
            "15/15 [==============================] - 12s 774ms/step - loss: 0.7871 - categorical_accuracy: 0.6357 - val_loss: 0.9650 - val_categorical_accuracy: 0.5264\n",
            "Epoch 13/30\n",
            "15/15 [==============================] - 12s 786ms/step - loss: 0.7581 - categorical_accuracy: 0.6545 - val_loss: 1.0769 - val_categorical_accuracy: 0.4681\n",
            "Epoch 14/30\n",
            "15/15 [==============================] - 12s 786ms/step - loss: 0.7425 - categorical_accuracy: 0.6649 - val_loss: 1.1490 - val_categorical_accuracy: 0.5088\n",
            "Epoch 15/30\n",
            "15/15 [==============================] - 12s 783ms/step - loss: 0.6983 - categorical_accuracy: 0.6978 - val_loss: 2.6668 - val_categorical_accuracy: 0.4297\n",
            "Epoch 16/30\n",
            "15/15 [==============================] - 12s 781ms/step - loss: 0.6714 - categorical_accuracy: 0.7016 - val_loss: 1.2545 - val_categorical_accuracy: 0.5011\n",
            "Epoch 17/30\n",
            "15/15 [==============================] - 12s 821ms/step - loss: 0.5773 - categorical_accuracy: 0.7602 - val_loss: 1.4159 - val_categorical_accuracy: 0.4462\n",
            "Epoch 18/30\n",
            "15/15 [==============================] - 12s 780ms/step - loss: 0.5970 - categorical_accuracy: 0.7454 - val_loss: 2.3178 - val_categorical_accuracy: 0.4033\n",
            "Epoch 19/30\n",
            "15/15 [==============================] - 12s 776ms/step - loss: 0.5146 - categorical_accuracy: 0.7883 - val_loss: 2.6483 - val_categorical_accuracy: 0.4626\n",
            "Epoch 20/30\n",
            "15/15 [==============================] - 12s 774ms/step - loss: 0.5333 - categorical_accuracy: 0.7777 - val_loss: 1.6970 - val_categorical_accuracy: 0.4824\n",
            "Epoch 21/30\n",
            "15/15 [==============================] - 12s 784ms/step - loss: 0.4872 - categorical_accuracy: 0.7960 - val_loss: 4.2433 - val_categorical_accuracy: 0.4187\n",
            "Epoch 22/30\n",
            "15/15 [==============================] - 12s 783ms/step - loss: 0.4432 - categorical_accuracy: 0.8224 - val_loss: 2.2400 - val_categorical_accuracy: 0.4176\n",
            "Epoch 23/30\n",
            "15/15 [==============================] - 12s 784ms/step - loss: 0.3548 - categorical_accuracy: 0.8672 - val_loss: 12.3685 - val_categorical_accuracy: 0.3286\n",
            "Epoch 24/30\n",
            "15/15 [==============================] - 12s 782ms/step - loss: 0.2880 - categorical_accuracy: 0.8940 - val_loss: 1.9904 - val_categorical_accuracy: 0.4857\n",
            "Epoch 25/30\n",
            "15/15 [==============================] - 12s 782ms/step - loss: 0.2776 - categorical_accuracy: 0.8987 - val_loss: 4.0019 - val_categorical_accuracy: 0.3154\n",
            "Epoch 26/30\n",
            "15/15 [==============================] - 12s 784ms/step - loss: 0.2387 - categorical_accuracy: 0.9169 - val_loss: 6.1637 - val_categorical_accuracy: 0.3703\n",
            "Epoch 27/30\n",
            "15/15 [==============================] - 12s 775ms/step - loss: 0.2742 - categorical_accuracy: 0.8940 - val_loss: 5.3419 - val_categorical_accuracy: 0.4132\n",
            "Epoch 28/30\n",
            "15/15 [==============================] - 12s 774ms/step - loss: 0.2542 - categorical_accuracy: 0.9018 - val_loss: 1.5721 - val_categorical_accuracy: 0.5374\n",
            "Epoch 29/30\n",
            "15/15 [==============================] - 12s 778ms/step - loss: 0.2501 - categorical_accuracy: 0.9046 - val_loss: 3.2440 - val_categorical_accuracy: 0.4912\n",
            "Epoch 30/30\n",
            "15/15 [==============================] - 12s 780ms/step - loss: 0.2511 - categorical_accuracy: 0.8980 - val_loss: 2.6411 - val_categorical_accuracy: 0.5286\n"
          ]
        }
      ]
    },
    {
      "cell_type": "code",
      "metadata": {
        "colab": {
          "base_uri": "https://localhost:8080/",
          "height": 296
        },
        "id": "NRvEc_lNJHjk",
        "outputId": "4629adac-31e9-4ba0-9176-522826b704ea"
      },
      "source": [
        "#For Loss Plotting\n",
        "\n",
        "x = [i for i in range(1,numEpochs+1)]\n",
        "print(x)\n",
        "yTrainLoss = trainLoss\n",
        "#Train Loss\n",
        "for i in range(len(batchSizes)):\n",
        "  currBatchSize = batchSizes[i]\n",
        "  labelName = \"Batch Size \" + str(currBatchSize)\n",
        "  pyplot.plot(x, yTrainLoss[i],label=labelName)\n",
        "#pyplot.xlim([1,2])\n",
        "pyplot.legend()\n",
        "pyplot.xlabel(\"Number of Epochs\")\n",
        "pyplot.ylabel(\"Train Loss\")\n",
        "pyplot.show()"
      ],
      "execution_count": null,
      "outputs": [
        {
          "output_type": "stream",
          "name": "stdout",
          "text": [
            "[1, 2, 3, 4, 5, 6, 7, 8, 9, 10, 11, 12, 13, 14, 15, 16, 17, 18, 19, 20, 21, 22, 23, 24, 25, 26, 27, 28, 29, 30]\n"
          ]
        },
        {
          "output_type": "display_data",
          "data": {
            "image/png": "[encoded data removed]",
            "text/plain": [
              "<Figure size 432x288 with 1 Axes>"
            ]
          },
          "metadata": {
            "needs_background": "light"
          }
        }
      ]
    },
    {
      "cell_type": "code",
      "metadata": {
        "id": "I_vN0km9CKKc",
        "colab": {
          "base_uri": "https://localhost:8080/",
          "height": 296
        },
        "outputId": "338da92c-aadf-46c6-9516-8a556e10b148"
      },
      "source": [
        "#For Loss Plotting\n",
        "\n",
        "x = [i for i in range(1,numEpochs+1)]\n",
        "print(x)\n",
        "yValLoss = valLoss\n",
        "#Val Loss\n",
        "for i in range(len(batchSizes)):\n",
        "  currBatchSize = batchSizes[i]\n",
        "  labelName = \"Batch Size \" + str(currBatchSize)\n",
        "  pyplot.plot(x, yValLoss[i],label=labelName)\n",
        "#pyplot.xlim([1, 2])\n",
        "pyplot.legend()\n",
        "pyplot.xlabel(\"Number of Epochs\")\n",
        "pyplot.ylabel(\"Val Loss\")\n",
        "pyplot.show()"
      ],
      "execution_count": null,
      "outputs": [
        {
          "output_type": "stream",
          "name": "stdout",
          "text": [
            "[1, 2, 3, 4, 5, 6, 7, 8, 9, 10, 11, 12, 13, 14, 15, 16, 17, 18, 19, 20, 21, 22, 23, 24, 25, 26, 27, 28, 29, 30]\n"
          ]
        },
        {
          "output_type": "display_data",
          "data": {
            "image/png": "[encoded data removed]",
            "text/plain": [
              "<Figure size 432x288 with 1 Axes>"
            ]
          },
          "metadata": {
            "needs_background": "light"
          }
        }
      ]
    },
    {
      "cell_type": "code",
      "metadata": {
        "colab": {
          "base_uri": "https://localhost:8080/",
          "height": 296
        },
        "id": "CyI_qdl4393D",
        "outputId": "64adb28d-230c-4b44-b50a-3b3a84606851"
      },
      "source": [
        "#For Accuracy Plotting\n",
        "\n",
        "x = [i for i in range(1,numEpochs+1)]\n",
        "print(x)\n",
        "yValAcc = valAccuracy\n",
        "#Val Accuracies\n",
        "for i in range(len(batchSizes)):\n",
        "  currBatchSize = batchSizes[i]\n",
        "  labelName = \"Batch Size \" + str(currBatchSize)\n",
        "  pyplot.plot(x, yValAcc[i],label=labelName)\n",
        "\n",
        "#pyplot.ylim([0.6,1])\n",
        "pyplot.legend()\n",
        "pyplot.xlabel(\"Number of Epochs\")\n",
        "pyplot.ylabel(\"Val Accuracy\")\n",
        "pyplot.show()"
      ],
      "execution_count": null,
      "outputs": [
        {
          "output_type": "stream",
          "name": "stdout",
          "text": [
            "[1, 2, 3, 4, 5, 6, 7, 8, 9, 10, 11, 12, 13, 14, 15, 16, 17, 18, 19, 20, 21, 22, 23, 24, 25, 26, 27, 28, 29, 30]\n"
          ]
        },
        {
          "output_type": "display_data",
          "data": {
            "image/png": "[encoded data removed]",
            "text/plain": [
              "<Figure size 432x288 with 1 Axes>"
            ]
          },
          "metadata": {
            "needs_background": "light"
          }
        }
      ]
    },
    {
      "cell_type": "code",
      "metadata": {
        "colab": {
          "base_uri": "https://localhost:8080/",
          "height": 296
        },
        "id": "_xglXq574ET8",
        "outputId": "ddf27eb3-54be-447e-9887-f0bc8e007c6a"
      },
      "source": [
        "#For Loss Plotting\n",
        "\n",
        "x = [i for i in range(1,numEpochs+1)]\n",
        "print(x)\n",
        "yValLoss = valLoss\n",
        "for i in range(len(batchSizes)):\n",
        "  currBatchSize = batchSizes[i]\n",
        "  labelName = \"Batch Size \" + str(currBatchSize)\n",
        "  pyplot.plot(x, yValLoss[i],label=\"Val\"+str(currBatchSize))\n",
        "  pyplot.plot(x, yTrainLoss[i],label=\"Train\"+str(currBatchSize))\n",
        "\n",
        "#pyplot.xlim([5,30])\n",
        "#pyplot.ylim([0,2])\n",
        "pyplot.legend()\n",
        "pyplot.xlabel(\"Number of Epochs\")\n",
        "pyplot.ylabel(\"Loss\")\n",
        "pyplot.show()"
      ],
      "execution_count": null,
      "outputs": [
        {
          "output_type": "stream",
          "name": "stdout",
          "text": [
            "[1, 2, 3, 4, 5, 6, 7, 8, 9, 10, 11, 12, 13, 14, 15, 16, 17, 18, 19, 20, 21, 22, 23, 24, 25, 26, 27, 28, 29, 30]\n"
          ]
        },
        {
          "output_type": "display_data",
          "data": {
            "image/png": "[encoded data removed]",
            "text/plain": [
              "<Figure size 432x288 with 1 Axes>"
            ]
          },
          "metadata": {
            "needs_background": "light"
          }
        }
      ]
    },
    {
      "cell_type": "code",
      "metadata": {
        "colab": {
          "base_uri": "https://localhost:8080/"
        },
        "id": "WXy0bYWxw17G",
        "outputId": "ef63dbc4-e6f8-4f98-95cd-18c6f1a3ca44"
      },
      "source": [
        "print(len(yValLoss))\n",
        "#batch 100 is index 0\n",
        "yValLoss100 = yValLoss[0]\n",
        "print(len(yValLoss100))\n",
        "\n",
        "print(len(yTrainLoss))\n",
        "#batch 100 is index 0\n",
        "yTrainLoss100 = yTrainLoss[0]\n",
        "print(len(yTrainLoss100))"
      ],
      "execution_count": null,
      "outputs": [
        {
          "output_type": "stream",
          "name": "stdout",
          "text": [
            "3\n",
            "30\n",
            "3\n",
            "30\n"
          ]
        }
      ]
    },
    {
      "cell_type": "code",
      "metadata": {
        "colab": {
          "base_uri": "https://localhost:8080/",
          "height": 300
        },
        "id": "VFbEO8QfxLab",
        "outputId": "3eed3af9-6dd4-4c5d-855a-e8a0c4e6ea4c"
      },
      "source": [
        "x = [i for i in range(1,numEpochs+1)]\n",
        "print(x)\n",
        "yValLoss = valLoss\n",
        "\n",
        "currBatchSize = batchSizes[0]\n",
        "labelName = \"Batch Size \" + str(currBatchSize)\n",
        "pyplot.plot(x, yValLoss100,label=\"Val\"+str(currBatchSize))\n",
        "pyplot.plot(x, yTrainLoss100,label=\"Train\"+str(currBatchSize))\n",
        "\n",
        "pyplot.xlim([2,31])\n",
        "pyplot.ylim([0,3])\n",
        "pyplot.legend()\n",
        "pyplot.xlabel(\"Number of Epochs\")\n",
        "pyplot.ylabel(\"Loss\")\n",
        "pyplot.show()"
      ],
      "execution_count": null,
      "outputs": [
        {
          "output_type": "stream",
          "name": "stdout",
          "text": [
            "[1, 2, 3, 4, 5, 6, 7, 8, 9, 10, 11, 12, 13, 14, 15, 16, 17, 18, 19, 20, 21, 22, 23, 24, 25, 26, 27, 28, 29, 30]\n"
          ]
        },
        {
          "output_type": "display_data",
          "data": {
            "image/png": "[encoded data removed]",
            "text/plain": [
              "<Figure size 432x288 with 1 Axes>"
            ]
          },
          "metadata": {
            "needs_background": "light"
          }
        }
      ]
    },
    {
      "cell_type": "code",
      "metadata": {
        "colab": {
          "base_uri": "https://localhost:8080/"
        },
        "id": "f5h_aVOKx2AE",
        "outputId": "8b2de4f2-eefd-42b8-a0ca-90cb30e1a49f"
      },
      "source": [
        "print(yValLoss100[25])\n",
        "print(yValLoss100[26])\n",
        "print(yValLoss100[27])\n",
        "print(yValLoss100[28])\n",
        "print(yValLoss100[29])"
      ],
      "execution_count": null,
      "outputs": [
        {
          "output_type": "stream",
          "name": "stdout",
          "text": [
            "0.7210714817047119\n",
            "0.47949936985969543\n",
            "0.5927301645278931\n",
            "1.43586266040802\n",
            "0.4708038866519928\n"
          ]
        }
      ]
    },
    {
      "cell_type": "code",
      "metadata": {
        "id": "Zp9AgZKH4fX3"
      },
      "source": [
        "\n",
        "bestEpochs = 26\n",
        "bestBatchSize = 100"
      ],
      "execution_count": null,
      "outputs": []
    },
    {
      "cell_type": "code",
      "metadata": {
        "colab": {
          "base_uri": "https://localhost:8080/"
        },
        "id": "b4QWd_nI5iC1",
        "outputId": "b6d22fcb-d4c2-4f7d-a07d-2f76b3605234"
      },
      "source": [
        "bestmodel = Sequential()\n",
        "\n",
        "bestmodel.add(Conv2D(32, kernel_size=5, padding=\"same\", input_shape= X_train.shape[1:], activation = \"relu\"))\n",
        "bestmodel.add(BatchNormalization())\n",
        "bestmodel.add(MaxPooling2D(pool_size=3, padding=\"valid\", strides=(2,2)))\n",
        "\n",
        "bestmodel.add(Conv2D(64, kernel_size=5, padding=\"same\", activation = \"relu\"))\n",
        "bestmodel.add(BatchNormalization())\n",
        "bestmodel.add(MaxPooling2D(pool_size=3, padding=\"valid\", strides=(2,2)))\n",
        "\n",
        "bestmodel.add(Conv2D(64, kernel_size=5, padding=\"same\", activation = \"relu\"))\n",
        "bestmodel.add(BatchNormalization())\n",
        "bestmodel.add(MaxPooling2D(pool_size=3, padding=\"valid\", strides=(2,2)))\n",
        "\n",
        "bestmodel.add(Conv2D(128, kernel_size=5, padding=\"same\", activation = \"relu\"))\n",
        "bestmodel.add(BatchNormalization())\n",
        "bestmodel.add(MaxPooling2D(pool_size=3, padding=\"valid\", strides=(2,2)))\n",
        "\n",
        "bestmodel.add(Conv2D(256, kernel_size=5, padding=\"same\", activation = \"relu\"))\n",
        "bestmodel.add(BatchNormalization())\n",
        "bestmodel.add(MaxPooling2D(pool_size=3, padding=\"valid\", strides=(2,2)))\n",
        "\n",
        "bestmodel.add(Flatten())\n",
        "\n",
        "bestmodel.add(Dense(5120, activation=\"relu\"))\n",
        "bestmodel.add(Dense(3, activation='softmax'))\n",
        "bestmodel.compile(loss='categorical_crossentropy', optimizer='adam', metrics=['categorical_accuracy'])\n",
        "bestmodel.fit(X_train, y_train, epochs=bestEpochs, batch_size=bestBatchSize, validation_data = (X_dev, y_dev))"
      ],
      "execution_count": null,
      "outputs": [
        {
          "output_type": "stream",
          "name": "stdout",
          "text": [
            "Epoch 1/26\n",
            "43/43 [==============================] - 14s 305ms/step - loss: 7.3382 - categorical_accuracy: 0.4482 - val_loss: 7.1159 - val_categorical_accuracy: 0.4571\n",
            "Epoch 2/26\n",
            "43/43 [==============================] - 13s 298ms/step - loss: 0.9511 - categorical_accuracy: 0.5374 - val_loss: 1.4942 - val_categorical_accuracy: 0.3363\n",
            "Epoch 3/26\n",
            "43/43 [==============================] - 13s 299ms/step - loss: 0.9205 - categorical_accuracy: 0.5568 - val_loss: 1.0371 - val_categorical_accuracy: 0.5088\n",
            "Epoch 4/26\n",
            "43/43 [==============================] - 13s 311ms/step - loss: 0.8729 - categorical_accuracy: 0.5900 - val_loss: 1.0536 - val_categorical_accuracy: 0.5176\n",
            "Epoch 5/26\n",
            "43/43 [==============================] - 13s 298ms/step - loss: 0.8217 - categorical_accuracy: 0.6220 - val_loss: 1.0547 - val_categorical_accuracy: 0.5319\n",
            "Epoch 6/26\n",
            "43/43 [==============================] - 13s 298ms/step - loss: 0.7920 - categorical_accuracy: 0.6458 - val_loss: 0.9605 - val_categorical_accuracy: 0.5462\n",
            "Epoch 7/26\n",
            "43/43 [==============================] - 13s 297ms/step - loss: 0.7376 - categorical_accuracy: 0.6724 - val_loss: 1.2672 - val_categorical_accuracy: 0.5297\n",
            "Epoch 8/26\n",
            "43/43 [==============================] - 13s 296ms/step - loss: 0.6807 - categorical_accuracy: 0.6964 - val_loss: 1.5122 - val_categorical_accuracy: 0.5242\n",
            "Epoch 9/26\n",
            "43/43 [==============================] - 13s 307ms/step - loss: 0.6721 - categorical_accuracy: 0.7096 - val_loss: 2.3052 - val_categorical_accuracy: 0.4879\n",
            "Epoch 10/26\n",
            "43/43 [==============================] - 13s 296ms/step - loss: 0.5675 - categorical_accuracy: 0.7598 - val_loss: 1.4188 - val_categorical_accuracy: 0.5352\n",
            "Epoch 11/26\n",
            "43/43 [==============================] - 13s 296ms/step - loss: 0.4746 - categorical_accuracy: 0.8066 - val_loss: 1.4597 - val_categorical_accuracy: 0.5835\n",
            "Epoch 12/26\n",
            "43/43 [==============================] - 13s 296ms/step - loss: 0.4691 - categorical_accuracy: 0.8052 - val_loss: 0.9741 - val_categorical_accuracy: 0.5802\n",
            "Epoch 13/26\n",
            "43/43 [==============================] - 13s 296ms/step - loss: 0.4317 - categorical_accuracy: 0.8278 - val_loss: 1.2954 - val_categorical_accuracy: 0.5681\n",
            "Epoch 14/26\n",
            "43/43 [==============================] - 13s 297ms/step - loss: 0.3449 - categorical_accuracy: 0.8724 - val_loss: 2.4238 - val_categorical_accuracy: 0.5615\n",
            "Epoch 15/26\n",
            "43/43 [==============================] - 13s 296ms/step - loss: 0.2687 - categorical_accuracy: 0.8997 - val_loss: 2.9769 - val_categorical_accuracy: 0.4912\n",
            "Epoch 16/26\n",
            "43/43 [==============================] - 13s 297ms/step - loss: 0.2427 - categorical_accuracy: 0.9114 - val_loss: 0.7110 - val_categorical_accuracy: 0.7560\n",
            "Epoch 17/26\n",
            "43/43 [==============================] - 13s 296ms/step - loss: 0.1701 - categorical_accuracy: 0.9374 - val_loss: 1.0685 - val_categorical_accuracy: 0.7429\n",
            "Epoch 18/26\n",
            "43/43 [==============================] - 13s 297ms/step - loss: 0.2274 - categorical_accuracy: 0.9173 - val_loss: 1.2916 - val_categorical_accuracy: 0.6538\n",
            "Epoch 19/26\n",
            "43/43 [==============================] - 13s 298ms/step - loss: 0.1425 - categorical_accuracy: 0.9496 - val_loss: 0.9172 - val_categorical_accuracy: 0.7495\n",
            "Epoch 20/26\n",
            "43/43 [==============================] - 13s 297ms/step - loss: 0.1018 - categorical_accuracy: 0.9651 - val_loss: 1.6573 - val_categorical_accuracy: 0.7088\n",
            "Epoch 21/26\n",
            "43/43 [==============================] - 13s 297ms/step - loss: 0.1122 - categorical_accuracy: 0.9602 - val_loss: 1.1400 - val_categorical_accuracy: 0.6956\n",
            "Epoch 22/26\n",
            "43/43 [==============================] - 13s 296ms/step - loss: 0.1146 - categorical_accuracy: 0.9609 - val_loss: 0.5691 - val_categorical_accuracy: 0.8264\n",
            "Epoch 23/26\n",
            "43/43 [==============================] - 13s 297ms/step - loss: 0.1005 - categorical_accuracy: 0.9626 - val_loss: 0.7092 - val_categorical_accuracy: 0.7912\n",
            "Epoch 24/26\n",
            "43/43 [==============================] - 13s 297ms/step - loss: 0.0927 - categorical_accuracy: 0.9682 - val_loss: 1.1207 - val_categorical_accuracy: 0.7330\n",
            "Epoch 25/26\n",
            "43/43 [==============================] - 13s 297ms/step - loss: 0.0743 - categorical_accuracy: 0.9736 - val_loss: 1.1905 - val_categorical_accuracy: 0.7659\n",
            "Epoch 26/26\n",
            "43/43 [==============================] - 13s 296ms/step - loss: 0.0553 - categorical_accuracy: 0.9807 - val_loss: 0.7226 - val_categorical_accuracy: 0.8187\n"
          ]
        },
        {
          "output_type": "execute_result",
          "data": {
            "text/plain": [
              "<keras.callbacks.History at 0x7fc7300c0310>"
            ]
          },
          "metadata": {},
          "execution_count": 44
        }
      ]
    },
    {
      "cell_type": "code",
      "metadata": {
        "id": "BOqxu0RC-hND"
      },
      "source": [
        "predictions = bestmodel.predict(X_test)\n"
      ],
      "execution_count": null,
      "outputs": []
    },
    {
      "cell_type": "code",
      "metadata": {
        "id": "Qvu6U7in-jgf"
      },
      "source": [
        "yTestNew = y_test.argmax(axis=1)\n",
        "yPredNew = predictions.argmax(axis=1)\n",
        "\n",
        "# print(yTestNew)\n",
        "# print(yPredNew)"
      ],
      "execution_count": null,
      "outputs": []
    },
    {
      "cell_type": "code",
      "metadata": {
        "id": "B_306f8T-k2X",
        "colab": {
          "base_uri": "https://localhost:8080/",
          "height": 296
        },
        "outputId": "04e91fa4-274b-4a95-cd3d-968564130201"
      },
      "source": [
        "from sklearn.metrics import confusion_matrix, ConfusionMatrixDisplay, f1_score\n",
        "\n",
        "cM = confusion_matrix(yTestNew,yPredNew)\n",
        "\n",
        "displayClasses = [i for i in range(3)]\n",
        "\n",
        "print(f1_score(yTestNew, yPredNew, average='macro'))\n",
        "\n",
        "disp = ConfusionMatrixDisplay(confusion_matrix=cM, display_labels=displayClasses)\n",
        "disp.plot()\n",
        "pyplot.show()"
      ],
      "execution_count": null,
      "outputs": [
        {
          "output_type": "stream",
          "name": "stdout",
          "text": [
            "0.7794282936393323\n"
          ]
        },
        {
          "output_type": "display_data",
          "data": {
            "image/png": "[encoded data removed]",
            "text/plain": [
              "<Figure size 432x288 with 2 Axes>"
            ]
          },
          "metadata": {
            "needs_background": "light"
          }
        }
      ]
    }
  ]
}